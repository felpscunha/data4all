{
  "nbformat": 4,
  "nbformat_minor": 0,
  "metadata": {
    "colab": {
      "provenance": []
    },
    "kernelspec": {
      "name": "python3",
      "display_name": "Python 3"
    },
    "language_info": {
      "name": "python"
    }
  },
  "cells": [
    {
      "cell_type": "markdown",
      "source": [
        "# Exercícios Aula 01 - Lógica de Programação - Data 4 All"
      ],
      "metadata": {
        "id": "kfSzSRsp9U1f"
      }
    },
    {
      "cell_type": "code",
      "execution_count": null,
      "metadata": {
        "id": "41554e73"
      },
      "outputs": [],
      "source": [
        "# Exercicios\n",
        "\n",
        "# 1. Seja nota_1 = 10,\n",
        "#         nota_2 = 9,\n",
        "#         nota_3 = 7,\n",
        "#         nota_4 = 6.\n",
        "# Crie uma variavel com o valor da expressao que calcula o valor da média aritmetica dessa 4 notas.\n",
        "\n",
        "\n",
        "# 2. Expressar o valor da formula de bhaskara: (-b + sqrt(b^2 - 4ac)) / 2*a\n",
        "# dado a = 2, b = 10 e c = 5 (receber essas variaveis via teclado)\n",
        "#\n",
        "# 2.1 Criar uma variavel `is_positive` booleana, com o valor True ou False usando um operador (\">\", \"<\") e a variavel\n",
        "# do valor calculado, que checa se o valor calculado é positivo.\n",
        "\n",
        "# 3. Crie um programa que leia dois números e printe na tela os valores das operações apos a descrição da operacao ex:\n",
        "#              a = 10\n",
        "#              b = 15\n",
        "#              Adicao: 10 + 15 = 35\n",
        "#              Subtracao: 10 - 15 = -5\n",
        "#              Multiplicaca: 10 * 15 = 150\n",
        "#              Resto modular: 10 % 15 = 10\n",
        "#\n",
        "# 4. Crie um programa para calcular a media de 5 valores, usando o input().\n",
        "# 5. Crie um programa para calcular o valor da formula de bhaskara usando o input().\n",
        "# 6. Crie um programa que calcule a media ponderada de 3 valores obtidos pelo input() com seus respectivos pesos(p1, p2 e p3)\n",
        "\n",
        "\n"
      ]
    },
    {
      "cell_type": "code",
      "source": [
        "# Questão 1\n",
        "\n",
        "nota_1 = 10\n",
        "nota_2 = 9\n",
        "nota_3 = 7\n",
        "nota_4 = 6\n",
        "\n",
        "media_aritmetica = (nota_1 + nota_2 + nota_3 + nota_4)/4\n",
        "print(f'Média aritmética calculada: {media_aritmetica}')"
      ],
      "metadata": {
        "colab": {
          "base_uri": "https://localhost:8080/"
        },
        "id": "Ha-QJg3z7jpL",
        "outputId": "81525a75-9fb9-4d79-c6cd-9d611bb8a099"
      },
      "execution_count": null,
      "outputs": [
        {
          "output_type": "execute_result",
          "data": {
            "text/plain": [
              "8.0"
            ]
          },
          "metadata": {},
          "execution_count": 2
        }
      ]
    },
    {
      "cell_type": "code",
      "source": [
        "# Questão 2 e 5\n",
        "print('Programa para calcular fórmula de Bhaskara! ')\n",
        "\n",
        "a = int(input('Digite o valor de a: '))\n",
        "b = int(input('Digite o valor de b: '))\n",
        "c = int(input('Digite o valor de c: '))\n",
        "\n",
        "bhaskara_1 = (-b + (b**2 - 4*a*c)**0.5) / 2*a\n",
        "bhaskara_2 = (-b - (b**2 - 4*a*c)**0.5) / 2*a\n",
        "\n",
        "print(f'Resultado: x1 = {bhaskara_1} e x2 = {bhaskara_2}')\n",
        "\n",
        "# Questão 2.1\n",
        "is_positive = True\n",
        "\n",
        "if bhaskara_1 > 0:\n",
        "  print(f'x1 é {is_positive}.')\n",
        "elif bhaskara_1 == 0:\n",
        "  print(f'x1 é zero.')\n",
        "else:\n",
        "  is_positive = False\n",
        "  print(f'x1 é {is_positive}')"
      ],
      "metadata": {
        "colab": {
          "base_uri": "https://localhost:8080/"
        },
        "id": "DdrVzS0k70zM",
        "outputId": "d9569993-464d-4bdd-ed98-8c95c9ad146a"
      },
      "execution_count": null,
      "outputs": [
        {
          "output_type": "stream",
          "name": "stdout",
          "text": [
            "Programa para calcular fórmula de Bhaskara! \n",
            "Digite o valor de a: 1\n",
            "Digite o valor de b: 6\n",
            "Digite o valor de c: 2\n",
            "Resultado: x1 = -0.3542486889354093 e x2 = -5.645751311064591\n",
            "x1 é False\n"
          ]
        }
      ]
    },
    {
      "cell_type": "code",
      "source": [
        "# Questão 3\n",
        "\n",
        "print('Programa para fazer as quatro operações básicas.')\n",
        "print('='*50)\n",
        "num1 = int(input('Digite um número inteiro: '))\n",
        "num2 = int(input('Digite outro número inteiro: '))\n",
        "print('='*50)\n",
        "print(f'Adição: {num1} + {num2} = {num1 + num2}')\n",
        "print(f'Subtração: {num1} - {num2} = {num1 - num2}')\n",
        "print(f'Multiplicação: {num1} x {num2} = {num1 * num2}')\n",
        "print(f'Divisão: {num1} / {num2} = {num1 / num2}')\n",
        "\n"
      ],
      "metadata": {
        "colab": {
          "base_uri": "https://localhost:8080/"
        },
        "id": "_gI5FmNI8eGI",
        "outputId": "301f6f6c-85b9-4e16-88d1-6ad70295b431"
      },
      "execution_count": null,
      "outputs": [
        {
          "output_type": "stream",
          "name": "stdout",
          "text": [
            "Programa para fazer as quatro operações básicas.\n",
            "==================================================\n",
            "Digite um número inteiro: 10\n",
            "Digite outro número inteiro: 5\n",
            "==================================================\n",
            "Adição: 10 + 5 = 15\n",
            "Subtração: 10 - 5 = 5\n",
            "Multiplicação: 10 x 5 = 50\n",
            "Divisão: 10 / 5 = 2.0\n"
          ]
        }
      ]
    },
    {
      "cell_type": "code",
      "source": [
        "# Questão 4\n",
        "\n",
        "lista_numeros = []\n",
        "for i in range(5):\n",
        " lista_numeros.append(float((input(f'Digite o número {i+1}: '))))\n",
        "print(f'A média dos valores citados é: {sum(lista_numeros)/5}.')\n"
      ],
      "metadata": {
        "colab": {
          "base_uri": "https://localhost:8080/"
        },
        "id": "jIVPne8D_BmH",
        "outputId": "7d9b3b29-490c-4e52-c5a1-3f54ece7f11b"
      },
      "execution_count": null,
      "outputs": [
        {
          "output_type": "stream",
          "name": "stdout",
          "text": [
            "Digite o número 1: 5\n",
            "Digite o número 2: 2\n",
            "Digite o número 3: 1\n",
            "Digite o número 4: 4\n",
            "Digite o número 5: 13\n",
            "A média dos valores citados é: 5.0.\n"
          ]
        }
      ]
    },
    {
      "cell_type": "code",
      "source": [
        "from sys import ps2\n",
        "# Questão 6\n",
        "\n",
        "num1 = int(input('Digite um número inteiro: '))\n",
        "p1 = int(input('Digite o peso do primeiro número: '))\n",
        "num2 = int(input('Digite outro número inteiro: '))\n",
        "p2 = int(input('Digite o peso do segundo número: '))\n",
        "num3 = int(input('Digite mais um número inteiro: '))\n",
        "p3 = int(input('Digite o peso do terceiro número: '))\n",
        "\n",
        "media_ponderada = (num1*p1 + num2*p2 + num3*p3)/(p1+p2+p3)\n",
        "print(f'A média ponderada considerando os números e pesos citados é: {media_ponderada}.')"
      ],
      "metadata": {
        "colab": {
          "base_uri": "https://localhost:8080/"
        },
        "id": "2Eg-xk7oFFJX",
        "outputId": "2b9778e8-ef2b-4b0d-bb4e-3cfed5ff62ca"
      },
      "execution_count": null,
      "outputs": [
        {
          "output_type": "stream",
          "name": "stdout",
          "text": [
            "Digite um número inteiro: 2\n",
            "Digite o peso do primeiro número: 5\n",
            "Digite outro número inteiro: 3\n",
            "Digite o peso do segundo número: 1\n",
            "Digite mais um número inteiro: 4\n",
            "Digite o peso do terceiro número: 2\n",
            "A média ponderada considerando os números e pesos citados é: 2.625.\n"
          ]
        }
      ]
    }
  ]
}