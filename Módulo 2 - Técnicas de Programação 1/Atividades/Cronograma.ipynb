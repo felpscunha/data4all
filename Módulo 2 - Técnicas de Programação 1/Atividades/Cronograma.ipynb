{
 "cells": [
  {
   "cell_type": "markdown",
   "id": "8940d9e0",
   "metadata": {},
   "source": []
  },
  {
   "cell_type": "markdown",
   "id": "d55cfa9b",
   "metadata": {},
   "source": []
  },
  {
   "cell_type": "markdown",
   "id": "887c31e3",
   "metadata": {},
   "source": []
  },
  {
   "cell_type": "markdown",
   "id": "7b8892c0",
   "metadata": {},
   "source": []
  },
  {
   "attachments": {},
   "cell_type": "markdown",
   "id": "b83063e9",
   "metadata": {},
   "source": [
    "# INICIAMOS 19H10 :D"
   ]
  },
  {
   "cell_type": "markdown",
   "id": "37532285",
   "metadata": {},
   "source": []
  },
  {
   "cell_type": "markdown",
   "id": "9f67a9f2",
   "metadata": {},
   "source": []
  },
  {
   "cell_type": "markdown",
   "id": "71c1b9c2",
   "metadata": {},
   "source": []
  },
  {
   "cell_type": "markdown",
   "id": "dd635ab2",
   "metadata": {},
   "source": []
  },
  {
   "cell_type": "markdown",
   "id": "da86b0e5",
   "metadata": {},
   "source": []
  },
  {
   "attachments": {},
   "cell_type": "markdown",
   "id": "b6e615dc",
   "metadata": {},
   "source": [
    "# Acordos\n",
    "\n",
    "* Início da aula\n",
    "* Intervalo\n",
    "* Dúvidas"
   ]
  },
  {
   "attachments": {},
   "cell_type": "markdown",
   "id": "879ae8ea",
   "metadata": {},
   "source": [
    "# Cronograma\n",
    "  \n",
    "* 01/02: Apresentação e Git\n",
    "* 03/02: Git e Numpy Arrays\n",
    "* 06/02: Numpy matrizes \n",
    "* 08/02: Pandas\n",
    "* 10/02: Pandas\n",
    "* 13/02: Limpeza de Dados\n",
    "* 15/02: Transformação de Dados \n",
    "* 17/02: Apresentação Projeto\n",
    "* 24/02: Avaliação por rubrica"
   ]
  },
  {
   "attachments": {},
   "cell_type": "markdown",
   "id": "01daf131",
   "metadata": {},
   "source": [
    "# Apresentação\n",
    "\n",
    "* Nome\n",
    "* Cidade\n",
    "* Por que se interessou por dados?\n",
    "* Curiosidade"
   ]
  }
 ],
 "metadata": {
  "kernelspec": {
   "display_name": "Python 3.9.12 ('base')",
   "language": "python",
   "name": "python3"
  },
  "language_info": {
   "codemirror_mode": {
    "name": "ipython",
    "version": 3
   },
   "file_extension": ".py",
   "mimetype": "text/x-python",
   "name": "python",
   "nbconvert_exporter": "python",
   "pygments_lexer": "ipython3",
   "version": "3.9.12"
  },
  "vscode": {
   "interpreter": {
    "hash": "7f52069df51f55474cef70a04f6de2c8e83f851022777c4983d9d0bb63ea6184"
   }
  }
 },
 "nbformat": 4,
 "nbformat_minor": 5
}
