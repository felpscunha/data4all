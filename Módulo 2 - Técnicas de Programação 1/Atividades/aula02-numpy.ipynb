{
 "cells": [
  {
   "cell_type": "markdown",
   "id": "396e845d",
   "metadata": {},
   "source": [
    "# Numpy\n",
    "\n",
    "Hoje, vamos começara ver a biblioteca matemática mais importante pro ecossistema \n",
    "científico do Python: O Numpy."
   ]
  },
  {
   "cell_type": "markdown",
   "id": "a5994e92",
   "metadata": {},
   "source": [
    "Vamos relembrar alguns conceitos"
   ]
  },
  {
   "cell_type": "code",
   "execution_count": 1,
   "id": "df7119fb",
   "metadata": {},
   "outputs": [],
   "source": [
    "lista = [\"a\", 2, 2.4, True, [1, 3], {\"a\": 1}]"
   ]
  },
  {
   "cell_type": "code",
   "execution_count": 2,
   "id": "a2b0a0b5",
   "metadata": {},
   "outputs": [],
   "source": [
    "lista.append(\"Olá\")"
   ]
  },
  {
   "cell_type": "code",
   "execution_count": 3,
   "id": "6a9d0ef4",
   "metadata": {},
   "outputs": [
    {
     "data": {
      "text/plain": [
       "['a', 2, 2.4, True, [1, 3], {'a': 1}, 'Olá']"
      ]
     },
     "execution_count": 3,
     "metadata": {},
     "output_type": "execute_result"
    }
   ],
   "source": [
    "lista"
   ]
  },
  {
   "cell_type": "code",
   "execution_count": 4,
   "id": "255aec1a",
   "metadata": {},
   "outputs": [],
   "source": [
    "a = 42.5"
   ]
  },
  {
   "cell_type": "code",
   "execution_count": 5,
   "id": "5fd19229",
   "metadata": {},
   "outputs": [],
   "source": [
    "a = 'aaaaa'"
   ]
  },
  {
   "cell_type": "code",
   "execution_count": 6,
   "id": "fc5445f4",
   "metadata": {},
   "outputs": [
    {
     "data": {
      "text/plain": [
       "'aaaaa'"
      ]
     },
     "execution_count": 6,
     "metadata": {},
     "output_type": "execute_result"
    }
   ],
   "source": [
    "a"
   ]
  },
  {
   "cell_type": "markdown",
   "id": "f7b40eb6",
   "metadata": {},
   "source": [
    "A biblioteca **NumPy** _(Numerical Python)_ proporciona uma forma eficiente de armazenagem e processamento de conjuntos de dados, e é utilizada como base para a construção da biblioteca Pandas, que estudaremos a seguir.\n",
    "\n",
    "O diferencial do Numpy é sua velocidade e eficiência, o que faz com que ela seja amplamente utilizada para computação científica e analise de dados. \n",
    "\n",
    "A velocidade e eficiência é possível graças à estrutura chamada **numpy array**, que é um forma eficiente de guardar e manipular matrizes, que serve como base para as tabelas que iremos utilizar."
   ]
  },
  {
   "cell_type": "code",
   "execution_count": 1,
   "id": "9c2e96a9",
   "metadata": {},
   "outputs": [],
   "source": [
    "# A gente importa o numpy sempre chamando ele de \"np\"\n",
    "import numpy as np"
   ]
  },
  {
   "cell_type": "code",
   "execution_count": 8,
   "id": "e70ebe21",
   "metadata": {},
   "outputs": [
    {
     "name": "stdout",
     "output_type": "stream",
     "text": [
      "[[1, 2, 3]]\n",
      "<class 'list'>\n"
     ]
    }
   ],
   "source": [
    "# Vamos fazer uma comparação com uma lista de Python\n",
    "py_array = [[1,   2,  3]]\n",
    "\n",
    "print(py_array)\n",
    "print(type(py_array))"
   ]
  },
  {
   "cell_type": "code",
   "execution_count": 9,
   "id": "e8d181e7",
   "metadata": {},
   "outputs": [
    {
     "name": "stdout",
     "output_type": "stream",
     "text": [
      "<class 'list'>\n"
     ]
    }
   ],
   "source": [
    "# Uma lista com 2 dimensões é uma lista de listas\n",
    "print(type(py_array[0]))"
   ]
  },
  {
   "cell_type": "code",
   "execution_count": 12,
   "id": "7ab9fbe9",
   "metadata": {},
   "outputs": [
    {
     "name": "stdout",
     "output_type": "stream",
     "text": [
      "[[1 2 3]]\n",
      "<class 'numpy.ndarray'>\n",
      "int32\n"
     ]
    }
   ],
   "source": [
    "# Nota como o tipo da variável muda para \"ndarray\"\n",
    "np_array = np.array(py_array)\n",
    "\n",
    "print(np_array)\n",
    "print(type(np_array))\n",
    "print(np_array.dtype)"
   ]
  },
  {
   "cell_type": "code",
   "execution_count": 11,
   "id": "3908c9a0",
   "metadata": {},
   "outputs": [
    {
     "name": "stdout",
     "output_type": "stream",
     "text": [
      "[['a' '2' '3']]\n",
      "<class 'numpy.ndarray'>\n",
      "<U11\n"
     ]
    }
   ],
   "source": [
    "py_array_string = [['a', 2,  3]]\n",
    "np_array_string = np.array(py_array_string)\n",
    "\n",
    "print(np_array_string)\n",
    "print(type(np_array_string))\n",
    "print(np_array_string.dtype) "
   ]
  },
  {
   "cell_type": "code",
   "execution_count": 13,
   "id": "5f3a07bf",
   "metadata": {},
   "outputs": [
    {
     "name": "stdout",
     "output_type": "stream",
     "text": [
      "<class 'numpy.ndarray'>\n"
     ]
    }
   ],
   "source": [
    "# Mas no  numpy, um ndarray continua sendo formado de ndarrays.\n",
    "print(type(np_array[0]))"
   ]
  },
  {
   "cell_type": "code",
   "execution_count": 14,
   "id": "ad7087b8",
   "metadata": {},
   "outputs": [
    {
     "name": "stdout",
     "output_type": "stream",
     "text": [
      "(1, 3)\n",
      "2\n",
      "int32\n"
     ]
    }
   ],
   "source": [
    "# 3 atributos básicos pra um ndarray\n",
    "print(np_array.shape)   # O formato dele\n",
    "print(np_array.ndim)    # Quantas dimensões ele tem\n",
    "print(np_array.dtype)   # O \"dtype\", que é o tipo dos elementos (número, letra, ...) dele"
   ]
  },
  {
   "cell_type": "code",
   "execution_count": 15,
   "id": "61e3d7b5",
   "metadata": {},
   "outputs": [
    {
     "name": "stdout",
     "output_type": "stream",
     "text": [
      "<class 'numpy.ndarray'>\n",
      "int32\n"
     ]
    }
   ],
   "source": [
    "x = np.array([1, 2, 3]) # Um vetor também é um ndarray\n",
    "print(type(x))\n",
    "print(x.dtype)"
   ]
  },
  {
   "cell_type": "code",
   "execution_count": 16,
   "id": "984f58cd",
   "metadata": {},
   "outputs": [],
   "source": [
    "# O dtype de um array do numpy pode ser controlado na hora que a gente cria.\n",
    "py_array = [1, 2, 3]\n",
    "\n",
    "array_int = np.array(py_array, dtype=np.float64)"
   ]
  },
  {
   "cell_type": "code",
   "execution_count": 17,
   "id": "23d3f5a4",
   "metadata": {},
   "outputs": [
    {
     "name": "stdout",
     "output_type": "stream",
     "text": [
      "[1. 2. 3.]\n",
      "float64\n"
     ]
    }
   ],
   "source": [
    "print(array_int)\n",
    "print(array_int.dtype)"
   ]
  },
  {
   "cell_type": "code",
   "execution_count": 18,
   "id": "26597647",
   "metadata": {},
   "outputs": [
    {
     "name": "stdout",
     "output_type": "stream",
     "text": [
      "[1. 2. 3.]\n"
     ]
    }
   ],
   "source": [
    "# Mas quando a gente não define, ele infere a partir dos nossos dados.\n",
    "py_array_2 = [1.0,   2,  3.0]\n",
    "\n",
    "array_float = np.array(py_array_2)\n",
    "\n",
    "print(array_float)\n",
    "print(array_float.dtype)"
   ]
  },
  {
   "cell_type": "code",
   "execution_count": 19,
   "id": "25019902",
   "metadata": {},
   "outputs": [
    {
     "name": "stdout",
     "output_type": "stream",
     "text": [
      "3.0\n"
     ]
    }
   ],
   "source": [
    "# Para selecionar um elemento de uma tabela no Python e no Numpy, tem uma ligeira diferença.\n",
    "print((array_float[2])) # Python: Pega a primeira linha. Dela, pega o primeiro elemento."
   ]
  },
  {
   "cell_type": "markdown",
   "id": "ea6b13b7",
   "metadata": {},
   "source": [
    "**Revisando**"
   ]
  },
  {
   "cell_type": "code",
   "execution_count": 20,
   "id": "08c1bea8",
   "metadata": {},
   "outputs": [
    {
     "name": "stdout",
     "output_type": "stream",
     "text": [
      "1\n",
      "4\n",
      "9\n",
      "7\n"
     ]
    }
   ],
   "source": [
    "# No Python, existe o conceito de \"indexing\", que é pegar elementos pelo seu índice (a sua posição) \n",
    "lista = [1, 2, 3, 4, 5, 6, 7, 8, 9]\n",
    "print(lista[0])\n",
    "print(lista[3])\n",
    "print(lista[-1]) # Aqui a gente também pode indexar negativamente. Aí o Python conta de trás pra frente.\n",
    "print(lista[-3]) # -3 vai ser o terceiro elemento, de trás pra frente\n",
    "\n",
    "# OBS: Lembre-se que as \"posições\" no Python sempre começam a contar do zero!!!"
   ]
  },
  {
   "cell_type": "code",
   "execution_count": 21,
   "id": "79573a18",
   "metadata": {},
   "outputs": [
    {
     "name": "stdout",
     "output_type": "stream",
     "text": [
      "True\n"
     ]
    }
   ],
   "source": [
    "print(lista[0] == lista[-9]) # Nota que o primeiro elemento é o -9, pois é o nono de trás pra frente."
   ]
  },
  {
   "cell_type": "code",
   "execution_count": 22,
   "id": "25ad1f32",
   "metadata": {},
   "outputs": [
    {
     "name": "stdout",
     "output_type": "stream",
     "text": [
      "[1, 2, 3, 4, 5, 6, 7, 8, 9]\n",
      "[3]\n",
      "[1, 2, 3, 4, 5, 6]\n"
     ]
    }
   ],
   "source": [
    "# Também existe uma forma de pegar um subconjunto da lista.\n",
    "# A gente chama isso de \"slicing\". Nota que o último elemento não entra!\n",
    "lista = [1, 2, 3, 4, 5, 6, 7, 8, 9]\n",
    "print(lista[:])\n",
    "print(lista[2:3])\n",
    "print(lista[:-3]) # A gente pode usar nossa indexação negativa aqui."
   ]
  },
  {
   "cell_type": "code",
   "execution_count": 23,
   "id": "a1e06838",
   "metadata": {},
   "outputs": [
    {
     "name": "stdout",
     "output_type": "stream",
     "text": [
      "[3, 4, 5, 6, 7, 8, 9]\n",
      "[3]\n",
      "[3, 4, 5, 6]\n"
     ]
    }
   ],
   "source": [
    "# Podemos definir um início também pro slicing.\n",
    "# Quando não colocamos nada, ele assume que o início é 0.\n",
    "# No caso do fim, se não colocamos nada, ele assume que o fim é o último elemento.\n",
    "print(lista[2:])\n",
    "print(lista[2:3])\n",
    "print(lista[2:-3]) # A gente pode usar nossa indexação negativa aqui."
   ]
  },
  {
   "cell_type": "code",
   "execution_count": 24,
   "id": "8d08c2f9",
   "metadata": {
    "scrolled": true
   },
   "outputs": [
    {
     "name": "stdout",
     "output_type": "stream",
     "text": [
      "[1, 3, 5, 7, 9]\n",
      "[9, 8, 7, 6, 5, 4, 3, 2, 1]\n",
      "[]\n"
     ]
    }
   ],
   "source": [
    "# O poder do slicing é que a gente pode definir diferentes tamanhos de passo.\n",
    "lista = [1, 2, 3, 4, 5, 6, 7, 8, 9]\n",
    "print(lista[0:9:2])\n",
    "print(lista[::-1]) # Agora ele anda de trás pra frente!\n",
    "print(lista[1:5:-1]) # Se eu for subtraindo 1, é impossível ir de 1 até 5. Logo, gera uma lista vazia."
   ]
  },
  {
   "cell_type": "markdown",
   "id": "4ed4c99b",
   "metadata": {},
   "source": [
    "Também podemos aplicar o conceito do slicing no numpy"
   ]
  },
  {
   "cell_type": "code",
   "execution_count": 25,
   "id": "c6851172",
   "metadata": {},
   "outputs": [
    {
     "name": "stdout",
     "output_type": "stream",
     "text": [
      "[1. 2. 3.]\n",
      "3.0\n",
      "[1.]\n",
      "[3. 1.]\n"
     ]
    }
   ],
   "source": [
    "print(array_int)\n",
    "print(array_int[2]) # Pegando o terceiro elemento\n",
    "print(array_int[:1])\n",
    "print(array_int[-1:-5:-2]) # Invertendo o array"
   ]
  },
  {
   "cell_type": "markdown",
   "id": "e864132c",
   "metadata": {},
   "source": [
    "**Funções numpy**  \n",
    "O numpy também tem diversas funções para facilitar criação de arrays."
   ]
  },
  {
   "cell_type": "code",
   "execution_count": 26,
   "id": "cb47ae67",
   "metadata": {},
   "outputs": [
    {
     "name": "stdout",
     "output_type": "stream",
     "text": [
      "[0. 0. 0. 0. 0. 0. 0. 0. 0. 0.]\n",
      "\n",
      "[1. 1. 1. 1. 1.]\n",
      "\n",
      "[[1. 0. 0. 0.]\n",
      " [0. 1. 0. 0.]\n",
      " [0. 0. 1. 0.]\n",
      " [0. 0. 0. 1.]]\n",
      "\n",
      "[[1. 0. 0.]\n",
      " [0. 1. 0.]\n",
      " [0. 0. 1.]\n",
      " [0. 0. 0.]]\n",
      "\n"
     ]
    }
   ],
   "source": [
    "print(np.zeros(10), end='\\n\\n') # O \"end\" muda o que o Python encaixa no fim do que ele mostra pra gente.\n",
    "print(np.ones(5), end='\\n\\n') # \\n é pular linha, e é o default. \\n\\n pula 2 linhas.\n",
    "# Alguns spoilers\n",
    "print(np.identity(4), end='\\n\\n')\n",
    "print(np.eye(4, 3), end='\\n\\n')"
   ]
  },
  {
   "cell_type": "code",
   "execution_count": 27,
   "id": "55a44241",
   "metadata": {},
   "outputs": [
    {
     "data": {
      "text/plain": [
       "[2, 4, 6, 8]"
      ]
     },
     "execution_count": 27,
     "metadata": {},
     "output_type": "execute_result"
    }
   ],
   "source": [
    "# Relembrando a função range\n",
    "list(range(2, 10, 2))"
   ]
  },
  {
   "cell_type": "code",
   "execution_count": 28,
   "id": "577f8ac5",
   "metadata": {},
   "outputs": [
    {
     "name": "stdout",
     "output_type": "stream",
     "text": [
      "[10 12 14 16 18 20 22 24 26 28]\n",
      "\n",
      "[10.5 12.5 14.5 16.5 18.5 20.5 22.5 24.5 26.5 28.5]\n",
      "\n",
      "[10.         12.22222222 14.44444444 16.66666667 18.88888889 21.11111111\n",
      " 23.33333333 25.55555556 27.77777778 30.        ]\n"
     ]
    }
   ],
   "source": [
    "# Também podemos fazer listas de números.\n",
    "print(np.arange(10, 30, 2)) # Lista de números inteiros pulando de 2 em 2. Mas até aqui, seria igual a Python.\n",
    "print('')\n",
    "print(np.arange(10.5, 30.5, 2))  # Lista de números de ponto flutuant, pulando de 2 em 2.\n",
    "print('')\n",
    "print(np.linspace(10, 30, 10)) # Lista de 10 números, igualmente espaçados entre 10 e 30."
   ]
  },
  {
   "cell_type": "markdown",
   "id": "f4de84d1",
   "metadata": {},
   "source": [
    "# Operações Básicas"
   ]
  },
  {
   "cell_type": "code",
   "execution_count": 37,
   "id": "35472610",
   "metadata": {},
   "outputs": [
    {
     "name": "stdout",
     "output_type": "stream",
     "text": [
      "[0 1 2 3 4 5 6 7 8 9]\n",
      "[ 0  2  4  6  8 10 12 14 16 18]\n"
     ]
    }
   ],
   "source": [
    "# Se a força do numpy é ter tudo operando como vetores, \n",
    "# então ele tem que ter operações de vetores.\n",
    "vec1 = np.arange(0, 10, 1)\n",
    "vec2 = np.arange(0, 20, 2)\n",
    "vec3 = np.arange(0, 300, 100)\n",
    "\n",
    "print(vec1)\n",
    "print(vec2)\n",
    "# print(vec3)"
   ]
  },
  {
   "cell_type": "code",
   "execution_count": 41,
   "id": "bf86da54",
   "metadata": {},
   "outputs": [
    {
     "name": "stdout",
     "output_type": "stream",
     "text": [
      "[ 0  3  6  9 12 15 18 21 24 27]\n"
     ]
    }
   ],
   "source": [
    "# Soma por elemento\n",
    "print(vec1 + vec2)"
   ]
  },
  {
   "cell_type": "code",
   "execution_count": 39,
   "id": "cf606dab",
   "metadata": {},
   "outputs": [
    {
     "name": "stdout",
     "output_type": "stream",
     "text": [
      "[  0   2   8  18  32  50  72  98 128 162]\n"
     ]
    }
   ],
   "source": [
    "# Multiplicação elemento por elemento\n",
    "print(vec1 * vec2)"
   ]
  },
  {
   "cell_type": "code",
   "execution_count": 42,
   "id": "97971086",
   "metadata": {},
   "outputs": [
    {
     "name": "stdout",
     "output_type": "stream",
     "text": [
      "570\n",
      "570\n",
      "570\n"
     ]
    }
   ],
   "source": [
    "# produto de matrizes (neste caso, produto escalar)\n",
    "# Isso é multiplicar elemento por elemento, e depois somar\n",
    "print(vec1 @ vec2)\n",
    "print((vec1 * vec2).sum()) # Todo ndarray tem um método \"sum\" pra somar seus elementos\n",
    "\n",
    "# produto de matrizes (neste caso, produto escalar)\n",
    "# Outra forma de escrever a mesma coisa\n",
    "print(vec1.dot(vec2))"
   ]
  },
  {
   "cell_type": "markdown",
   "id": "a830d605",
   "metadata": {},
   "source": [
    "## Bora praticar!"
   ]
  },
  {
   "cell_type": "markdown",
   "id": "493edbd4",
   "metadata": {},
   "source": [
    "Fonte: https://github.com/rougier/numpy-100/blob/master/100_Numpy_exercises.ipynb\n"
   ]
  },
  {
   "cell_type": "markdown",
   "id": "decc3719",
   "metadata": {},
   "source": [
    "1) Inverta um vetor (o primeiro elemento vira o último). Para testar crie um vetor a partir da seguinte lista [0, 5, 1, 9, 9, 87]"
   ]
  },
  {
   "cell_type": "code",
   "execution_count": 43,
   "id": "334ec634",
   "metadata": {},
   "outputs": [
    {
     "name": "stdout",
     "output_type": "stream",
     "text": [
      "[87  9  9  1  5  0]\n"
     ]
    }
   ],
   "source": [
    "lista = [0, 5, 1, 9, 9, 87]\n",
    "vetor = np.array(lista)\n",
    "vetor = vetor[::-1]\n",
    "print(vetor)"
   ]
  },
  {
   "cell_type": "code",
   "execution_count": 44,
   "id": "9faccf51",
   "metadata": {},
   "outputs": [
    {
     "name": "stdout",
     "output_type": "stream",
     "text": [
      "[ 0  5  1  9  9 87]\n",
      "[87  9  9  1  5  0]\n"
     ]
    }
   ],
   "source": [
    "array = np.array([0,5,1,9,9,87])\n",
    "array_inv = np.flip(array)\n",
    "print(array)\n",
    "print(array_inv)"
   ]
  },
  {
   "cell_type": "markdown",
   "id": "22f43f5a",
   "metadata": {},
   "source": [
    "2) Crie um vetor com valores que vão de 1 até 21 de dois em dois, a partir da função arange"
   ]
  },
  {
   "cell_type": "code",
   "execution_count": 45,
   "id": "d1435bb6",
   "metadata": {},
   "outputs": [
    {
     "name": "stdout",
     "output_type": "stream",
     "text": [
      "[ 1  3  5  7  9 11 13 15 17 19 21]\n"
     ]
    }
   ],
   "source": [
    "vec1 = np.arange(1, 22, 2)\n",
    "print(vec1)"
   ]
  },
  {
   "cell_type": "markdown",
   "id": "a13b9a8f",
   "metadata": {},
   "source": [
    "3) Ache os índices dos elementos não-zero a partir do array [1,2,0,0,4,0]"
   ]
  },
  {
   "cell_type": "code",
   "execution_count": 47,
   "id": "54173573",
   "metadata": {},
   "outputs": [
    {
     "data": {
      "text/plain": [
       "(array([0, 1, 4], dtype=int64),)"
      ]
     },
     "execution_count": 47,
     "metadata": {},
     "output_type": "execute_result"
    }
   ],
   "source": [
    "vetor_3 = np.array([1, 2, 0, 0, 4, 0])\n",
    "np.nonzero(vetor_3)"
   ]
  },
  {
   "cell_type": "code",
   "execution_count": 46,
   "id": "58335fd5",
   "metadata": {},
   "outputs": [
    {
     "name": "stdout",
     "output_type": "stream",
     "text": [
      "Índices: (array([0, 1, 4], dtype=int64),)\n"
     ]
    }
   ],
   "source": [
    "array = np.array([1, 2, 0, 0, 4, 0])\n",
    "non_null = np.where(array != 0)\n",
    "\n",
    "print(f'Índices: {non_null}')"
   ]
  },
  {
   "cell_type": "markdown",
   "id": "a440386d",
   "metadata": {},
   "source": [
    "E se a gente quisesse pegar os elementos diferentes de zero?"
   ]
  },
  {
   "cell_type": "code",
   "execution_count": 50,
   "id": "80276ee0",
   "metadata": {},
   "outputs": [
    {
     "data": {
      "text/plain": [
       "array([1, 2, 4])"
      ]
     },
     "execution_count": 50,
     "metadata": {},
     "output_type": "execute_result"
    }
   ],
   "source": [
    "vetor_3[np.nonzero(vetor_3)]"
   ]
  },
  {
   "cell_type": "code",
   "execution_count": 49,
   "id": "80bec335",
   "metadata": {},
   "outputs": [
    {
     "data": {
      "text/plain": [
       "array([1, 2, 4])"
      ]
     },
     "execution_count": 49,
     "metadata": {},
     "output_type": "execute_result"
    }
   ],
   "source": [
    "vetor_3[vetor_3 != 0]"
   ]
  },
  {
   "cell_type": "code",
   "execution_count": 51,
   "id": "dbf4d979",
   "metadata": {},
   "outputs": [
    {
     "name": "stdout",
     "output_type": "stream",
     "text": [
      "[1, 2, 4]\n"
     ]
    }
   ],
   "source": [
    "vetor_2 = np.array([1,2,0,0,4,0])\n",
    "lista_elementos = []\n",
    "\n",
    "for elemento in vetor_2:\n",
    "    if(elemento != 0):\n",
    "        lista_elementos.append(elemento)\n",
    "    else:\n",
    "        pass\n",
    "\n",
    "print(lista_elementos)"
   ]
  },
  {
   "cell_type": "markdown",
   "id": "c8badc9d",
   "metadata": {},
   "source": [
    "4) Crie uma matriz identidade 3x3"
   ]
  },
  {
   "cell_type": "code",
   "execution_count": 54,
   "id": "bb39a57e",
   "metadata": {},
   "outputs": [
    {
     "name": "stdout",
     "output_type": "stream",
     "text": [
      "[[1. 0. 0.]\n",
      " [0. 1. 0.]\n",
      " [0. 0. 1.]]\n"
     ]
    }
   ],
   "source": [
    "vec1 =np.identity(3)\n",
    "print(vec1)"
   ]
  },
  {
   "cell_type": "code",
   "execution_count": 53,
   "id": "1e84ee0c",
   "metadata": {},
   "outputs": [
    {
     "data": {
      "text/plain": [
       "array([[1., 0., 0.],\n",
       "       [0., 1., 0.],\n",
       "       [0., 0., 1.]])"
      ]
     },
     "execution_count": 53,
     "metadata": {},
     "output_type": "execute_result"
    }
   ],
   "source": [
    "I = np.identity(3)\n",
    "I"
   ]
  },
  {
   "cell_type": "markdown",
   "id": "81c1b69e",
   "metadata": {},
   "source": [
    "5) Crie um array de 10 com valores aleatórios. "
   ]
  },
  {
   "cell_type": "code",
   "execution_count": null,
   "id": "412fcfb6",
   "metadata": {},
   "outputs": [],
   "source": []
  },
  {
   "cell_type": "markdown",
   "id": "bf75c0c6",
   "metadata": {},
   "source": [
    "6) Crie um array 100 com valores aleatórios e ache os valores máximo e mínimo"
   ]
  },
  {
   "cell_type": "code",
   "execution_count": 2,
   "id": "53880205",
   "metadata": {},
   "outputs": [
    {
     "name": "stdout",
     "output_type": "stream",
     "text": [
      "[8055 9616 2010 3327  241 1539 4993 4967 2854 8560 1868 9736 2353 9370\n",
      " 3437 7935 5755 3594 9988 2554 2463 1766 3620 2990 6877 3963 1992 4197\n",
      " 7952 4857 4120 4323 7992 8293 8252 4926 8941 3048 5731 8437 3263 9240\n",
      " 2390 1514 9004 3207 5093 4730 5709 1383 6230 6350 9416 6916 9050 2831\n",
      " 9762 7683 7120 2653 2955 7538 8705 3481 1651 7631 3854 9238 6247 5830\n",
      " 8227 7931 1968 9958 3599 4690 7309 1582 4343 7125 7815 6483 9718 7357\n",
      " 6023 9338 5752 8267 2464  422 7515 3008  913  622 7321 5218 4215 1978\n",
      " 8662 4778]\n",
      "Min: 241, Max: 9988\n"
     ]
    }
   ],
   "source": [
    "saida = np.random.randint(1, 10_000, 100)\n",
    "\n",
    "print(saida)\n",
    "print(f'Min: {np.min(saida)}, Max: {np.max(saida)}')"
   ]
  },
  {
   "cell_type": "code",
   "execution_count": 3,
   "id": "2f976c71",
   "metadata": {},
   "outputs": [
    {
     "name": "stdout",
     "output_type": "stream",
     "text": [
      "[615 432 233 812 508 222 855  28 405 603 315 426   0 416 113 231  53 800\n",
      " 533 514  11 518 135 649 401 841 575 437 529 190 692   5 713 660  40 153\n",
      " 458 683 296 887 929 589 561 978 684 255 951 655 609 178 454 840 533  14\n",
      " 909 599 215 632 131 151 425 497 678 293  11 358 748 842 635 666 907 155\n",
      " 298  47 718 161 471 482 980 964 495 228 436 592 609 220 761 383 582 745\n",
      " 726 848 571 582 556 327  85   1 897 608]\n",
      "980\n",
      "0\n"
     ]
    }
   ],
   "source": [
    "vetor_4 = np.random.randint(0,1000,100)\n",
    "print(vetor_4)\n",
    "print(vetor_4.max())\n",
    "print(vetor_4.min())"
   ]
  },
  {
   "cell_type": "markdown",
   "id": "6d439722",
   "metadata": {},
   "source": [
    "7) Crie um array 2D (bidimensional) com 1 na borda e 0 dentro\n",
    "\n",
    "```\n",
    "[[1 1 1]\n",
    " [1 0 1]\n",
    " [1 1 1]]\n",
    " ```"
   ]
  },
  {
   "cell_type": "code",
   "execution_count": 4,
   "id": "0d0e789a",
   "metadata": {},
   "outputs": [
    {
     "name": "stdout",
     "output_type": "stream",
     "text": [
      "Digite o formato do array: 5\n",
      "[[1. 1. 1. 1. 1.]\n",
      " [1. 0. 0. 0. 1.]\n",
      " [1. 0. 0. 0. 1.]\n",
      " [1. 0. 0. 0. 1.]\n",
      " [1. 1. 1. 1. 1.]]\n"
     ]
    }
   ],
   "source": [
    "dim = int(input('Digite o formato do array: '))\n",
    "zeros = np.ones((dim, dim))\n",
    "zeros[1:-1, 1:-1] = 0\n",
    "print(zeros)"
   ]
  },
  {
   "cell_type": "code",
   "execution_count": 5,
   "id": "1e8cd92c",
   "metadata": {},
   "outputs": [
    {
     "data": {
      "text/plain": [
       "array([[1., 1., 1., 1.],\n",
       "       [1., 0., 0., 1.],\n",
       "       [1., 0., 0., 1.],\n",
       "       [1., 1., 1., 1.]])"
      ]
     },
     "execution_count": 5,
     "metadata": {},
     "output_type": "execute_result"
    }
   ],
   "source": [
    "x = np.zeros((2,2))\n",
    "np.pad(x,1,constant_values = 1)"
   ]
  },
  {
   "cell_type": "code",
   "execution_count": 6,
   "id": "7a4b8d61",
   "metadata": {},
   "outputs": [
    {
     "name": "stdout",
     "output_type": "stream",
     "text": [
      "[[1. 1. 1. 1. 1.]\n",
      " [1. 0. 0. 0. 1.]\n",
      " [1. 0. 0. 0. 1.]\n",
      " [1. 0. 0. 0. 1.]\n",
      " [1. 1. 1. 1. 1.]]\n"
     ]
    }
   ],
   "source": [
    "vetor_5 = np.zeros((3, 3))\n",
    "vetor_6 = np.pad(vetor_5, 1,'constant', constant_values=1)\n",
    "print(vetor_6)"
   ]
  },
  {
   "cell_type": "code",
   "execution_count": 7,
   "id": "58a30cfd",
   "metadata": {},
   "outputs": [
    {
     "name": "stdout",
     "output_type": "stream",
     "text": [
      "[[1 1 1]\n",
      " [1 0 1]\n",
      " [1 1 1]]\n"
     ]
    }
   ],
   "source": [
    "vetor_7=[[1,1,1],[1,0,1],[1,1,1]]\n",
    "vetor_7 = np.array(vetor_7)\n",
    "print(vetor_7)"
   ]
  },
  {
   "cell_type": "markdown",
   "id": "67c7ec53",
   "metadata": {},
   "source": [
    "8) Como adicionar uma borda de 0's ao redor de um array existente?"
   ]
  },
  {
   "cell_type": "markdown",
   "id": "5c9b9ad7",
   "metadata": {},
   "source": [
    "A gente consegue usar uma lógica semelhante à de cima."
   ]
  },
  {
   "cell_type": "code",
   "execution_count": 8,
   "id": "72fe0a00",
   "metadata": {},
   "outputs": [
    {
     "data": {
      "text/plain": [
       "array([[0, 0, 0, 0],\n",
       "       [0, 1, 2, 0],\n",
       "       [0, 3, 4, 0],\n",
       "       [0, 0, 0, 0]])"
      ]
     },
     "execution_count": 8,
     "metadata": {},
     "output_type": "execute_result"
    }
   ],
   "source": [
    "x = np.array([[1,2],[3,4]])\n",
    "np.pad(x, 1, constant_values = 0)"
   ]
  },
  {
   "cell_type": "code",
   "execution_count": 9,
   "id": "957d68f4",
   "metadata": {},
   "outputs": [
    {
     "name": "stdout",
     "output_type": "stream",
     "text": [
      "[[0 0 0 0 0]\n",
      " [0 7 8 9 0]\n",
      " [0 2 3 4 0]\n",
      " [0 6 7 8 0]\n",
      " [0 0 0 0 0]]\n"
     ]
    }
   ],
   "source": [
    "zeros = np.array([[0, 1, 2, 3, 4],\n",
    "         [6, 7, 8, 9, 10],\n",
    "         [1, 2, 3, 4, 5],\n",
    "         [5, 6, 7, 8, 9],\n",
    "         [2, 3, 4, 5, 6]])\n",
    "zeros[::4] = 0\n",
    "zeros[:, ::4] = 0\n",
    "print(zeros)"
   ]
  },
  {
   "cell_type": "markdown",
   "id": "1da76040",
   "metadata": {},
   "source": [
    "9) Crie uma matriz 5x5 com valores 1, 2, 3, 4 logo abaixo da diagonal\n",
    "  \n",
    "Exemplo\n",
    "  \n",
    "```\n",
    "[[0, 0, 0, 0, 0],\n",
    "[1, 0, 0, 0, 0],\n",
    "[0, 2, 0, 0, 0],\n",
    "[0, 0, 3, 0, 0],\n",
    "[0, 0, 0, 4, 0]]\n",
    "```"
   ]
  },
  {
   "cell_type": "code",
   "execution_count": 10,
   "id": "95e65fda",
   "metadata": {},
   "outputs": [
    {
     "data": {
      "text/plain": [
       "array([[0, 0, 0, 0, 0],\n",
       "       [1, 0, 0, 0, 0],\n",
       "       [0, 2, 0, 0, 0],\n",
       "       [0, 0, 3, 0, 0],\n",
       "       [0, 0, 0, 4, 0]])"
      ]
     },
     "execution_count": 10,
     "metadata": {},
     "output_type": "execute_result"
    }
   ],
   "source": [
    "x = [1, 2, 3, 4]\n",
    "np.diag(x, -1)"
   ]
  }
 ],
 "metadata": {
  "kernelspec": {
   "display_name": "Python 3 (ipykernel)",
   "language": "python",
   "name": "python3"
  },
  "language_info": {
   "codemirror_mode": {
    "name": "ipython",
    "version": 3
   },
   "file_extension": ".py",
   "mimetype": "text/x-python",
   "name": "python",
   "nbconvert_exporter": "python",
   "pygments_lexer": "ipython3",
   "version": "3.9.13"
  },
  "vscode": {
   "interpreter": {
    "hash": "7f52069df51f55474cef70a04f6de2c8e83f851022777c4983d9d0bb63ea6184"
   }
  }
 },
 "nbformat": 4,
 "nbformat_minor": 5
}
