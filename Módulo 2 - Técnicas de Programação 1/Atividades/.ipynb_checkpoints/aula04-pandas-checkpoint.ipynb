{
 "cells": [
  {
   "cell_type": "markdown",
   "id": "4f51956c",
   "metadata": {
    "id": "4f51956c"
   },
   "source": [
    "# Pandas"
   ]
  },
  {
   "cell_type": "code",
   "execution_count": 1,
   "id": "57ad54b6",
   "metadata": {
    "id": "57ad54b6"
   },
   "outputs": [],
   "source": [
    "import pandas as pd\n",
    "import numpy as np"
   ]
  },
  {
   "cell_type": "markdown",
   "id": "24b9908c",
   "metadata": {
    "id": "24b9908c"
   },
   "source": [
    "## Series\n",
    "\n",
    "O objeto fundamental do Pandas são as **Series**, uma classe do pandas.\n",
    "\n",
    "As Series são as **colunas das tabelas** (que veremos mais a frente), e por baixo dos panos, os dados ficam armazenados como **numpy arrays**!\n",
    "\n",
    "A diferença é que a série possui um **índice associado**, permitindo o acesso aos conteúdos dessa estrutura por ele, como um dicionário.\n",
    "\n",
    "Além disso, as séries têm métodos específicos além dos que vimos pra arrays, o que será super útil!\n",
    "\n",
    "Podemos criar uma série **a partir de uma lista**, usando a função do pandas `pd.Series()`: "
   ]
  },
  {
   "cell_type": "code",
   "execution_count": 2,
   "id": "a55ad516",
   "metadata": {
    "colab": {
     "base_uri": "https://localhost:8080/"
    },
    "id": "a55ad516",
    "outputId": "43de853d-d967-4cf2-8204-f19c3fc116a7"
   },
   "outputs": [
    {
     "data": {
      "text/plain": [
       "0     4\n",
       "1     6\n",
       "2     3\n",
       "3     7\n",
       "4    25\n",
       "dtype: int64"
      ]
     },
     "execution_count": 2,
     "metadata": {},
     "output_type": "execute_result"
    }
   ],
   "source": [
    "lista = [4, 6, 3, 7, 25]\n",
    "pd.Series(lista)"
   ]
  },
  {
   "cell_type": "markdown",
   "id": "9adf5705",
   "metadata": {
    "id": "9adf5705"
   },
   "source": [
    "Outra forma bem natural de construir séries é apartir de um **dicionário**\n",
    "\n",
    "Neste caso, as **chaves** se tornam as labels de índice!"
   ]
  },
  {
   "cell_type": "code",
   "execution_count": 3,
   "id": "34d26c9a",
   "metadata": {
    "colab": {
     "base_uri": "https://localhost:8080/"
    },
    "id": "34d26c9a",
    "outputId": "476b5c33-8afa-42e3-a41e-278c7004678c"
   },
   "outputs": [
    {
     "data": {
      "text/plain": [
       "a    50\n",
       "b    42\n",
       "dtype: int64"
      ]
     },
     "execution_count": 3,
     "metadata": {},
     "output_type": "execute_result"
    }
   ],
   "source": [
    "dic = {\"a\": 50, \"b\" : 42}\n",
    "pd.Series(dic)"
   ]
  },
  {
   "cell_type": "markdown",
   "id": "900f88e5",
   "metadata": {
    "id": "900f88e5"
   },
   "source": [
    "Trabalhando com índices"
   ]
  },
  {
   "cell_type": "code",
   "execution_count": 4,
   "id": "fd9f782a",
   "metadata": {
    "id": "fd9f782a"
   },
   "outputs": [],
   "source": [
    "indices = [\"a\", \"b\", \"c\", \"d\", \"e\"]\n",
    "serie_pandas = pd.Series(data=lista, index=indices, name=\"coluna1\")"
   ]
  },
  {
   "cell_type": "markdown",
   "id": "549a80cd",
   "metadata": {
    "id": "549a80cd"
   },
   "source": [
    "Podemos realizar o slicing na nossa Pandas Series da mesma forma como fizemos em listas e arrays, mas veja que agora os índices são letras, podemos utilizá-las para realizar o slicing ou a busca."
   ]
  },
  {
   "cell_type": "code",
   "execution_count": 5,
   "id": "331d4128",
   "metadata": {
    "colab": {
     "base_uri": "https://localhost:8080/"
    },
    "id": "331d4128",
    "outputId": "e8293857-9e35-4d40-8990-737d09321fe7"
   },
   "outputs": [
    {
     "name": "stdout",
     "output_type": "stream",
     "text": [
      "4\n",
      "4\n"
     ]
    }
   ],
   "source": [
    "print(serie_pandas['a'])\n",
    "print(serie_pandas[0])"
   ]
  },
  {
   "cell_type": "markdown",
   "id": "fde125cd",
   "metadata": {
    "id": "fde125cd"
   },
   "source": [
    "Da mesma forma como vimos anteriormente, é possível realizar máscaras booleanas dentro da minha série."
   ]
  },
  {
   "cell_type": "code",
   "execution_count": 6,
   "id": "759e080a",
   "metadata": {
    "colab": {
     "base_uri": "https://localhost:8080/"
    },
    "id": "759e080a",
    "outputId": "f5180588-a0a5-46c9-d186-5d70285ff2bb"
   },
   "outputs": [
    {
     "data": {
      "text/plain": [
       "0      9\n",
       "1      6\n",
       "2     10\n",
       "3      7\n",
       "4      9\n",
       "5      5\n",
       "6      9\n",
       "7     10\n",
       "8      7\n",
       "9      6\n",
       "10    10\n",
       "11    10\n",
       "12     5\n",
       "13     8\n",
       "14     7\n",
       "15     4\n",
       "16    10\n",
       "17     8\n",
       "18     4\n",
       "19     7\n",
       "20     3\n",
       "21     8\n",
       "22    11\n",
       "23     3\n",
       "24     5\n",
       "25     9\n",
       "26     6\n",
       "27    11\n",
       "28     5\n",
       "29     7\n",
       "dtype: int32"
      ]
     },
     "execution_count": 6,
     "metadata": {},
     "output_type": "execute_result"
    }
   ],
   "source": [
    "np.random.seed(42)\n",
    "\n",
    "notas = pd.Series(np.random.randint(3, 12, 30))\n",
    "\n",
    "# Máscara booleana simples\n",
    "notas[notas >= 0]"
   ]
  },
  {
   "cell_type": "code",
   "execution_count": 7,
   "id": "ce71e2ff",
   "metadata": {
    "colab": {
     "base_uri": "https://localhost:8080/"
    },
    "id": "ce71e2ff",
    "outputId": "927248de-023b-4bcd-cd7a-dbbdc3d13156"
   },
   "outputs": [
    {
     "data": {
      "text/plain": [
       "0      9\n",
       "1      6\n",
       "2     10\n",
       "3      7\n",
       "4      9\n",
       "5      5\n",
       "6      9\n",
       "7     10\n",
       "8      7\n",
       "9      6\n",
       "10    10\n",
       "11    10\n",
       "12     5\n",
       "13     8\n",
       "14     7\n",
       "15     4\n",
       "16    10\n",
       "17     8\n",
       "18     4\n",
       "19     7\n",
       "20     3\n",
       "21     8\n",
       "23     3\n",
       "24     5\n",
       "25     9\n",
       "26     6\n",
       "28     5\n",
       "29     7\n",
       "dtype: int32"
      ]
     },
     "execution_count": 7,
     "metadata": {},
     "output_type": "execute_result"
    }
   ],
   "source": [
    "# Podemos utiilzar mais de um critério ao mesmo tempo com o E (AND)\n",
    "notas[((notas >= 0) & (notas <= 10))]"
   ]
  },
  {
   "cell_type": "code",
   "execution_count": 8,
   "id": "ed80ce3c",
   "metadata": {
    "colab": {
     "base_uri": "https://localhost:8080/"
    },
    "id": "ed80ce3c",
    "outputId": "544217cc-d5a9-41a0-9f64-f864eca2530b"
   },
   "outputs": [
    {
     "data": {
      "text/plain": [
       "0      9\n",
       "1      6\n",
       "2     10\n",
       "3      7\n",
       "4      9\n",
       "5      5\n",
       "6      9\n",
       "7     10\n",
       "8      7\n",
       "9      6\n",
       "10    10\n",
       "11    10\n",
       "12     5\n",
       "13     8\n",
       "14     7\n",
       "15     4\n",
       "16    10\n",
       "17     8\n",
       "18     4\n",
       "19     7\n",
       "20     3\n",
       "21     8\n",
       "22    11\n",
       "23     3\n",
       "24     5\n",
       "25     9\n",
       "26     6\n",
       "27    11\n",
       "28     5\n",
       "29     7\n",
       "dtype: int32"
      ]
     },
     "execution_count": 8,
     "metadata": {},
     "output_type": "execute_result"
    }
   ],
   "source": [
    "# Podemos utiilzar mais de um critério ao mesmo tempo com o OU (OR)\n",
    "notas[((notas >= 0) | (notas <= 10))]"
   ]
  },
  {
   "cell_type": "code",
   "execution_count": 9,
   "id": "d37820dd",
   "metadata": {
    "colab": {
     "base_uri": "https://localhost:8080/"
    },
    "id": "d37820dd",
    "outputId": "49c83e22-69e7-4e49-d4df-be281bb31d9a"
   },
   "outputs": [
    {
     "data": {
      "text/plain": [
       "22    11\n",
       "27    11\n",
       "dtype: int32"
      ]
     },
     "execution_count": 9,
     "metadata": {},
     "output_type": "execute_result"
    }
   ],
   "source": [
    "# E também fazer o inverso\n",
    "notas[~((notas >= 0) & (notas <= 10))]"
   ]
  },
  {
   "cell_type": "markdown",
   "id": "3c811a48",
   "metadata": {
    "id": "3c811a48"
   },
   "source": [
    "É possivel também ordenar os dados a partir de uma coluna com o **.sort_values()**"
   ]
  },
  {
   "cell_type": "code",
   "execution_count": 13,
   "id": "c312fd90",
   "metadata": {
    "colab": {
     "base_uri": "https://localhost:8080/"
    },
    "id": "c312fd90",
    "outputId": "18c70fb2-98a3-4f48-9f74-5cc2b983ab95"
   },
   "outputs": [
    {
     "data": {
      "text/plain": [
       "27    11\n",
       "22    11\n",
       "16    10\n",
       "2     10\n",
       "7     10\n",
       "10    10\n",
       "11    10\n",
       "0      9\n",
       "4      9\n",
       "25     9\n",
       "6      9\n",
       "21     8\n",
       "13     8\n",
       "17     8\n",
       "19     7\n",
       "29     7\n",
       "14     7\n",
       "8      7\n",
       "3      7\n",
       "1      6\n",
       "9      6\n",
       "26     6\n",
       "12     5\n",
       "24     5\n",
       "5      5\n",
       "28     5\n",
       "18     4\n",
       "15     4\n",
       "20     3\n",
       "23     3\n",
       "dtype: int32"
      ]
     },
     "execution_count": 13,
     "metadata": {},
     "output_type": "execute_result"
    }
   ],
   "source": [
    "notas.sort_values(ascending=False)"
   ]
  },
  {
   "cell_type": "markdown",
   "id": "9a084458",
   "metadata": {
    "id": "9a084458"
   },
   "source": [
    "Para encontrar valores únicos podemos utilizar o atributo **.unique()**"
   ]
  },
  {
   "cell_type": "code",
   "execution_count": 14,
   "id": "f8defffc",
   "metadata": {
    "colab": {
     "base_uri": "https://localhost:8080/"
    },
    "id": "f8defffc",
    "outputId": "f5ee4749-df0f-42f3-baa8-4bf0a742709d"
   },
   "outputs": [
    {
     "data": {
      "text/plain": [
       "array([ 9,  6, 10,  7,  5,  8,  4,  3, 11])"
      ]
     },
     "execution_count": 14,
     "metadata": {},
     "output_type": "execute_result"
    }
   ],
   "source": [
    "notas.unique()"
   ]
  },
  {
   "cell_type": "markdown",
   "id": "a04d3d8a",
   "metadata": {
    "id": "a04d3d8a"
   },
   "source": [
    "Podemos mostrar a frequência absoluta com o atributo **.value_counts()**"
   ]
  },
  {
   "cell_type": "code",
   "execution_count": 15,
   "id": "85beecb9",
   "metadata": {
    "colab": {
     "base_uri": "https://localhost:8080/"
    },
    "id": "85beecb9",
    "outputId": "550d56a8-df99-4702-a8a9-fc3e8aa4d121"
   },
   "outputs": [
    {
     "data": {
      "text/plain": [
       "10    5\n",
       "7     5\n",
       "9     4\n",
       "5     4\n",
       "6     3\n",
       "8     3\n",
       "4     2\n",
       "3     2\n",
       "11    2\n",
       "dtype: int64"
      ]
     },
     "execution_count": 15,
     "metadata": {},
     "output_type": "execute_result"
    }
   ],
   "source": [
    "notas.value_counts()"
   ]
  },
  {
   "cell_type": "code",
   "execution_count": 16,
   "id": "4ebe467d",
   "metadata": {
    "colab": {
     "base_uri": "https://localhost:8080/"
    },
    "id": "4ebe467d",
    "outputId": "f3aaaa9f-b7fa-4690-f7f0-f4081aba73da"
   },
   "outputs": [
    {
     "data": {
      "text/plain": [
       "10    0.166667\n",
       "7     0.166667\n",
       "9     0.133333\n",
       "5     0.133333\n",
       "6     0.100000\n",
       "8     0.100000\n",
       "4     0.066667\n",
       "3     0.066667\n",
       "11    0.066667\n",
       "dtype: float64"
      ]
     },
     "execution_count": 16,
     "metadata": {},
     "output_type": "execute_result"
    }
   ],
   "source": [
    "# frequencia relativa\n",
    "notas.value_counts(normalize=True)"
   ]
  },
  {
   "cell_type": "markdown",
   "id": "44612acf",
   "metadata": {
    "id": "44612acf"
   },
   "source": [
    "### DataFrame\n",
    "\n",
    "Agora que conhecemos as séries, vamos partir pro objeto do Pandas que mais utilizaremos: o **DataFrame**\n",
    "\n",
    "Como veremos a seguir, o DataFrame é uma estrutura que se assemalha a uma **tabela**.\n",
    "\n",
    "Estruturalmente, o DataFrame nada mais é que um **conjunto de Series**, uma para cada coluna (e, claro, com mesmo índice, que irão indexar as linhas).\n",
    "  \n",
    "Veremos depois como **ler um dataframe a partir de um arquivo** (que é provavelmente a forma mais comum)\n",
    "\n",
    "Há muitas formas de construir um DataFrame do zero. Todas elas fazem uso da função **pd.DataFrame()**, como veremos a seguir.\n",
    "\n",
    "Se quisermos especificar os índices de linha, o nome das colunas, e os dados, podemos passá-los separadamente: "
   ]
  },
  {
   "cell_type": "code",
   "execution_count": 17,
   "id": "e5981a41",
   "metadata": {
    "colab": {
     "base_uri": "https://localhost:8080/"
    },
    "id": "e5981a41",
    "outputId": "031819e0-0c68-4739-fafe-8906feefbf6b"
   },
   "outputs": [
    {
     "data": {
      "text/plain": [
       "array([[  2,  79,  -8],\n",
       "       [-86,   6, -29],\n",
       "       [ 88, -80,   2],\n",
       "       [ 21, -26, -13],\n",
       "       [ 16,  -1,   3]])"
      ]
     },
     "execution_count": 17,
     "metadata": {},
     "output_type": "execute_result"
    }
   ],
   "source": [
    "# gerando uma matriz (5, 3) de numeros inteiros aleatórios entre -100 e 100\n",
    "# use a seed 42\n",
    "\n",
    "np.random.seed(42)\n",
    "\n",
    "m = np.random.randint(-100, 100, (5, 3))\n",
    "\n",
    "m"
   ]
  },
  {
   "cell_type": "code",
   "execution_count": 18,
   "id": "1f84a04d",
   "metadata": {
    "colab": {
     "base_uri": "https://localhost:8080/",
     "height": 206
    },
    "id": "1f84a04d",
    "outputId": "dbd9efa0-bb0e-47b8-f62a-e4bf007aacf1"
   },
   "outputs": [
    {
     "data": {
      "text/html": [
       "<div>\n",
       "<style scoped>\n",
       "    .dataframe tbody tr th:only-of-type {\n",
       "        vertical-align: middle;\n",
       "    }\n",
       "\n",
       "    .dataframe tbody tr th {\n",
       "        vertical-align: top;\n",
       "    }\n",
       "\n",
       "    .dataframe thead th {\n",
       "        text-align: right;\n",
       "    }\n",
       "</style>\n",
       "<table border=\"1\" class=\"dataframe\">\n",
       "  <thead>\n",
       "    <tr style=\"text-align: right;\">\n",
       "      <th></th>\n",
       "      <th>0</th>\n",
       "      <th>1</th>\n",
       "      <th>2</th>\n",
       "    </tr>\n",
       "  </thead>\n",
       "  <tbody>\n",
       "    <tr>\n",
       "      <th>0</th>\n",
       "      <td>2</td>\n",
       "      <td>79</td>\n",
       "      <td>-8</td>\n",
       "    </tr>\n",
       "    <tr>\n",
       "      <th>1</th>\n",
       "      <td>-86</td>\n",
       "      <td>6</td>\n",
       "      <td>-29</td>\n",
       "    </tr>\n",
       "    <tr>\n",
       "      <th>2</th>\n",
       "      <td>88</td>\n",
       "      <td>-80</td>\n",
       "      <td>2</td>\n",
       "    </tr>\n",
       "    <tr>\n",
       "      <th>3</th>\n",
       "      <td>21</td>\n",
       "      <td>-26</td>\n",
       "      <td>-13</td>\n",
       "    </tr>\n",
       "    <tr>\n",
       "      <th>4</th>\n",
       "      <td>16</td>\n",
       "      <td>-1</td>\n",
       "      <td>3</td>\n",
       "    </tr>\n",
       "  </tbody>\n",
       "</table>\n",
       "</div>"
      ],
      "text/plain": [
       "    0   1   2\n",
       "0   2  79  -8\n",
       "1 -86   6 -29\n",
       "2  88 -80   2\n",
       "3  21 -26 -13\n",
       "4  16  -1   3"
      ]
     },
     "execution_count": 18,
     "metadata": {},
     "output_type": "execute_result"
    }
   ],
   "source": [
    "pd.DataFrame(m)"
   ]
  },
  {
   "cell_type": "code",
   "execution_count": 19,
   "id": "f7370101",
   "metadata": {
    "colab": {
     "base_uri": "https://localhost:8080/",
     "height": 206
    },
    "id": "f7370101",
    "outputId": "14eba0be-222c-4257-c3da-58c84f44e75b"
   },
   "outputs": [
    {
     "data": {
      "text/html": [
       "<div>\n",
       "<style scoped>\n",
       "    .dataframe tbody tr th:only-of-type {\n",
       "        vertical-align: middle;\n",
       "    }\n",
       "\n",
       "    .dataframe tbody tr th {\n",
       "        vertical-align: top;\n",
       "    }\n",
       "\n",
       "    .dataframe thead th {\n",
       "        text-align: right;\n",
       "    }\n",
       "</style>\n",
       "<table border=\"1\" class=\"dataframe\">\n",
       "  <thead>\n",
       "    <tr style=\"text-align: right;\">\n",
       "      <th></th>\n",
       "      <th>variável 1</th>\n",
       "      <th>variável 2</th>\n",
       "      <th>variável 3</th>\n",
       "    </tr>\n",
       "  </thead>\n",
       "  <tbody>\n",
       "    <tr>\n",
       "      <th>obs1</th>\n",
       "      <td>2</td>\n",
       "      <td>79</td>\n",
       "      <td>-8</td>\n",
       "    </tr>\n",
       "    <tr>\n",
       "      <th>obs2</th>\n",
       "      <td>-86</td>\n",
       "      <td>6</td>\n",
       "      <td>-29</td>\n",
       "    </tr>\n",
       "    <tr>\n",
       "      <th>obs3</th>\n",
       "      <td>88</td>\n",
       "      <td>-80</td>\n",
       "      <td>2</td>\n",
       "    </tr>\n",
       "    <tr>\n",
       "      <th>obs4</th>\n",
       "      <td>21</td>\n",
       "      <td>-26</td>\n",
       "      <td>-13</td>\n",
       "    </tr>\n",
       "    <tr>\n",
       "      <th>obs5</th>\n",
       "      <td>16</td>\n",
       "      <td>-1</td>\n",
       "      <td>3</td>\n",
       "    </tr>\n",
       "  </tbody>\n",
       "</table>\n",
       "</div>"
      ],
      "text/plain": [
       "      variável 1  variável 2  variável 3\n",
       "obs1           2          79          -8\n",
       "obs2         -86           6         -29\n",
       "obs3          88         -80           2\n",
       "obs4          21         -26         -13\n",
       "obs5          16          -1           3"
      ]
     },
     "execution_count": 19,
     "metadata": {},
     "output_type": "execute_result"
    }
   ],
   "source": [
    "df_nome_linhas = pd.DataFrame(m, \n",
    "                              index = [\"obs1\", \"obs2\", \"obs3\", \"obs4\", \"obs5\"], \n",
    "                              columns = [\"variável 1\", 'variável 2', \"variável 3\"])\n",
    "\n",
    "df_nome_linhas"
   ]
  },
  {
   "cell_type": "markdown",
   "id": "f4b33c96",
   "metadata": {
    "id": "f4b33c96"
   },
   "source": [
    "A partir de um arquivo"
   ]
  },
  {
   "cell_type": "code",
   "execution_count": 21,
   "id": "63d89672",
   "metadata": {
    "id": "63d89672"
   },
   "outputs": [],
   "source": [
    "df = pd.read_table('./dados/dados_religiao_income.txt',\n",
    "                   header=0, sep=' ')"
   ]
  },
  {
   "cell_type": "code",
   "execution_count": 22,
   "id": "1bbd1518",
   "metadata": {
    "colab": {
     "base_uri": "https://localhost:8080/",
     "height": 363
    },
    "id": "1bbd1518",
    "outputId": "a6a21af7-2d20-413a-c25a-c467827202ff",
    "scrolled": true
   },
   "outputs": [
    {
     "data": {
      "text/html": [
       "<div>\n",
       "<style scoped>\n",
       "    .dataframe tbody tr th:only-of-type {\n",
       "        vertical-align: middle;\n",
       "    }\n",
       "\n",
       "    .dataframe tbody tr th {\n",
       "        vertical-align: top;\n",
       "    }\n",
       "\n",
       "    .dataframe thead th {\n",
       "        text-align: right;\n",
       "    }\n",
       "</style>\n",
       "<table border=\"1\" class=\"dataframe\">\n",
       "  <thead>\n",
       "    <tr style=\"text-align: right;\">\n",
       "      <th></th>\n",
       "      <th>religion</th>\n",
       "      <th>&lt;$10k</th>\n",
       "      <th>$10-20k</th>\n",
       "      <th>$20-30k</th>\n",
       "      <th>$30-40k</th>\n",
       "      <th>$40-50k</th>\n",
       "      <th>$50-75k</th>\n",
       "    </tr>\n",
       "  </thead>\n",
       "  <tbody>\n",
       "    <tr>\n",
       "      <th>0</th>\n",
       "      <td>Agnostic</td>\n",
       "      <td>27</td>\n",
       "      <td>34</td>\n",
       "      <td>60</td>\n",
       "      <td>81</td>\n",
       "      <td>76</td>\n",
       "      <td>137</td>\n",
       "    </tr>\n",
       "    <tr>\n",
       "      <th>1</th>\n",
       "      <td>Atheist</td>\n",
       "      <td>12</td>\n",
       "      <td>27</td>\n",
       "      <td>37</td>\n",
       "      <td>52</td>\n",
       "      <td>35</td>\n",
       "      <td>70</td>\n",
       "    </tr>\n",
       "    <tr>\n",
       "      <th>2</th>\n",
       "      <td>Buddhist</td>\n",
       "      <td>27</td>\n",
       "      <td>21</td>\n",
       "      <td>30</td>\n",
       "      <td>34</td>\n",
       "      <td>33</td>\n",
       "      <td>58</td>\n",
       "    </tr>\n",
       "    <tr>\n",
       "      <th>3</th>\n",
       "      <td>Catholic</td>\n",
       "      <td>418</td>\n",
       "      <td>617</td>\n",
       "      <td>732</td>\n",
       "      <td>670</td>\n",
       "      <td>638</td>\n",
       "      <td>1116</td>\n",
       "    </tr>\n",
       "    <tr>\n",
       "      <th>4</th>\n",
       "      <td>Don’t know/refused</td>\n",
       "      <td>15</td>\n",
       "      <td>14</td>\n",
       "      <td>15</td>\n",
       "      <td>11</td>\n",
       "      <td>10</td>\n",
       "      <td>35</td>\n",
       "    </tr>\n",
       "    <tr>\n",
       "      <th>5</th>\n",
       "      <td>Evangelical Prot</td>\n",
       "      <td>575</td>\n",
       "      <td>869</td>\n",
       "      <td>1064</td>\n",
       "      <td>982</td>\n",
       "      <td>881</td>\n",
       "      <td>1486</td>\n",
       "    </tr>\n",
       "    <tr>\n",
       "      <th>6</th>\n",
       "      <td>Hindu</td>\n",
       "      <td>1</td>\n",
       "      <td>9</td>\n",
       "      <td>7</td>\n",
       "      <td>9</td>\n",
       "      <td>11</td>\n",
       "      <td>34</td>\n",
       "    </tr>\n",
       "    <tr>\n",
       "      <th>7</th>\n",
       "      <td>Historically Black Prot</td>\n",
       "      <td>228</td>\n",
       "      <td>244</td>\n",
       "      <td>236</td>\n",
       "      <td>238</td>\n",
       "      <td>197</td>\n",
       "      <td>223</td>\n",
       "    </tr>\n",
       "    <tr>\n",
       "      <th>8</th>\n",
       "      <td>Jehovah’s Witness</td>\n",
       "      <td>20</td>\n",
       "      <td>27</td>\n",
       "      <td>24</td>\n",
       "      <td>24</td>\n",
       "      <td>21</td>\n",
       "      <td>30</td>\n",
       "    </tr>\n",
       "    <tr>\n",
       "      <th>9</th>\n",
       "      <td>Jewish</td>\n",
       "      <td>19</td>\n",
       "      <td>19</td>\n",
       "      <td>25</td>\n",
       "      <td>25</td>\n",
       "      <td>30</td>\n",
       "      <td>95</td>\n",
       "    </tr>\n",
       "  </tbody>\n",
       "</table>\n",
       "</div>"
      ],
      "text/plain": [
       "                  religion  <$10k  $10-20k  $20-30k  $30-40k  $40-50k  $50-75k\n",
       "0                 Agnostic     27       34       60       81       76      137\n",
       "1                  Atheist     12       27       37       52       35       70\n",
       "2                 Buddhist     27       21       30       34       33       58\n",
       "3                 Catholic    418      617      732      670      638     1116\n",
       "4       Don’t know/refused     15       14       15       11       10       35\n",
       "5         Evangelical Prot    575      869     1064      982      881     1486\n",
       "6                    Hindu      1        9        7        9       11       34\n",
       "7  Historically Black Prot    228      244      236      238      197      223\n",
       "8        Jehovah’s Witness     20       27       24       24       21       30\n",
       "9                   Jewish     19       19       25       25       30       95"
      ]
     },
     "execution_count": 22,
     "metadata": {},
     "output_type": "execute_result"
    }
   ],
   "source": [
    "df"
   ]
  },
  {
   "cell_type": "markdown",
   "id": "1376b3ff",
   "metadata": {
    "id": "1376b3ff"
   },
   "source": [
    "O potencial do pandas é melhor aproveitado quando usamos o conceito de \"tidy data\" para organizarmos nossos dados.\n",
    "\n",
    "Nos dados acima, eles estão pivoteados por segmentos de rendimento.\n",
    "\n",
    "Vamos então tentar ajustar isso."
   ]
  },
  {
   "cell_type": "markdown",
   "id": "3722dcce",
   "metadata": {
    "id": "3722dcce"
   },
   "source": [
    "Para listarmos as colunas o DataFrame possui um atributo .columns que imprime esta informação em formato de lista."
   ]
  },
  {
   "cell_type": "code",
   "execution_count": 24,
   "id": "6d47a096",
   "metadata": {},
   "outputs": [
    {
     "name": "stdout",
     "output_type": "stream",
     "text": [
      "<class 'pandas.core.frame.DataFrame'>\n",
      "RangeIndex: 10 entries, 0 to 9\n",
      "Data columns (total 7 columns):\n",
      " #   Column    Non-Null Count  Dtype \n",
      "---  ------    --------------  ----- \n",
      " 0   religion  10 non-null     object\n",
      " 1   <$10k     10 non-null     int64 \n",
      " 2   $10-20k   10 non-null     int64 \n",
      " 3   $20-30k   10 non-null     int64 \n",
      " 4   $30-40k   10 non-null     int64 \n",
      " 5   $40-50k   10 non-null     int64 \n",
      " 6   $50-75k   10 non-null     int64 \n",
      "dtypes: int64(6), object(1)\n",
      "memory usage: 688.0+ bytes\n"
     ]
    }
   ],
   "source": [
    "df.info()"
   ]
  },
  {
   "cell_type": "code",
   "execution_count": 25,
   "id": "2b890cd2",
   "metadata": {
    "colab": {
     "base_uri": "https://localhost:8080/"
    },
    "id": "2b890cd2",
    "outputId": "b8593a5d-0c91-497f-e74a-c67d3b8ab4c9"
   },
   "outputs": [
    {
     "data": {
      "text/plain": [
       "Index(['religion', '<$10k', '$10-20k', '$20-30k', '$30-40k', '$40-50k',\n",
       "       '$50-75k'],\n",
       "      dtype='object')"
      ]
     },
     "execution_count": 25,
     "metadata": {},
     "output_type": "execute_result"
    }
   ],
   "source": [
    "df.columns"
   ]
  },
  {
   "cell_type": "code",
   "execution_count": 26,
   "id": "1625d2b9",
   "metadata": {
    "colab": {
     "base_uri": "https://localhost:8080/"
    },
    "id": "1625d2b9",
    "outputId": "bdc68a96-1682-40bd-91b0-922c2195a2d9"
   },
   "outputs": [
    {
     "data": {
      "text/plain": [
       "['<$10k', '$10-20k', '$20-30k', '$30-40k', '$40-50k', '$50-75k']"
      ]
     },
     "execution_count": 26,
     "metadata": {},
     "output_type": "execute_result"
    }
   ],
   "source": [
    "# Veja que podemos trabalhar como listas normalmente\n",
    "value_cols = [col for col in df.columns if col != 'religion']\n",
    "value_cols"
   ]
  },
  {
   "cell_type": "markdown",
   "id": "c4698cb6",
   "metadata": {
    "id": "c4698cb6"
   },
   "source": [
    "## Funções Pandas\n",
    "  \n",
    "### melt  \n",
    "https://pandas.pydata.org/pandas-docs/stable/reference/api/pandas.melt.html"
   ]
  },
  {
   "cell_type": "code",
   "execution_count": 27,
   "id": "7d86e92f",
   "metadata": {
    "colab": {
     "base_uri": "https://localhost:8080/",
     "height": 1000
    },
    "id": "7d86e92f",
    "outputId": "b121d94d-59b0-40ec-eea0-cb0caa2bc8f1"
   },
   "outputs": [
    {
     "data": {
      "text/html": [
       "<div>\n",
       "<style scoped>\n",
       "    .dataframe tbody tr th:only-of-type {\n",
       "        vertical-align: middle;\n",
       "    }\n",
       "\n",
       "    .dataframe tbody tr th {\n",
       "        vertical-align: top;\n",
       "    }\n",
       "\n",
       "    .dataframe thead th {\n",
       "        text-align: right;\n",
       "    }\n",
       "</style>\n",
       "<table border=\"1\" class=\"dataframe\">\n",
       "  <thead>\n",
       "    <tr style=\"text-align: right;\">\n",
       "      <th></th>\n",
       "      <th>religion</th>\n",
       "      <th>income</th>\n",
       "      <th>freq</th>\n",
       "    </tr>\n",
       "  </thead>\n",
       "  <tbody>\n",
       "    <tr>\n",
       "      <th>0</th>\n",
       "      <td>Agnostic</td>\n",
       "      <td>&lt;$10k</td>\n",
       "      <td>27</td>\n",
       "    </tr>\n",
       "    <tr>\n",
       "      <th>1</th>\n",
       "      <td>Atheist</td>\n",
       "      <td>&lt;$10k</td>\n",
       "      <td>12</td>\n",
       "    </tr>\n",
       "    <tr>\n",
       "      <th>2</th>\n",
       "      <td>Buddhist</td>\n",
       "      <td>&lt;$10k</td>\n",
       "      <td>27</td>\n",
       "    </tr>\n",
       "    <tr>\n",
       "      <th>3</th>\n",
       "      <td>Catholic</td>\n",
       "      <td>&lt;$10k</td>\n",
       "      <td>418</td>\n",
       "    </tr>\n",
       "    <tr>\n",
       "      <th>4</th>\n",
       "      <td>Don’t know/refused</td>\n",
       "      <td>&lt;$10k</td>\n",
       "      <td>15</td>\n",
       "    </tr>\n",
       "    <tr>\n",
       "      <th>5</th>\n",
       "      <td>Evangelical Prot</td>\n",
       "      <td>&lt;$10k</td>\n",
       "      <td>575</td>\n",
       "    </tr>\n",
       "    <tr>\n",
       "      <th>6</th>\n",
       "      <td>Hindu</td>\n",
       "      <td>&lt;$10k</td>\n",
       "      <td>1</td>\n",
       "    </tr>\n",
       "    <tr>\n",
       "      <th>7</th>\n",
       "      <td>Historically Black Prot</td>\n",
       "      <td>&lt;$10k</td>\n",
       "      <td>228</td>\n",
       "    </tr>\n",
       "    <tr>\n",
       "      <th>8</th>\n",
       "      <td>Jehovah’s Witness</td>\n",
       "      <td>&lt;$10k</td>\n",
       "      <td>20</td>\n",
       "    </tr>\n",
       "    <tr>\n",
       "      <th>9</th>\n",
       "      <td>Jewish</td>\n",
       "      <td>&lt;$10k</td>\n",
       "      <td>19</td>\n",
       "    </tr>\n",
       "    <tr>\n",
       "      <th>10</th>\n",
       "      <td>Agnostic</td>\n",
       "      <td>$10-20k</td>\n",
       "      <td>34</td>\n",
       "    </tr>\n",
       "    <tr>\n",
       "      <th>11</th>\n",
       "      <td>Atheist</td>\n",
       "      <td>$10-20k</td>\n",
       "      <td>27</td>\n",
       "    </tr>\n",
       "    <tr>\n",
       "      <th>12</th>\n",
       "      <td>Buddhist</td>\n",
       "      <td>$10-20k</td>\n",
       "      <td>21</td>\n",
       "    </tr>\n",
       "    <tr>\n",
       "      <th>13</th>\n",
       "      <td>Catholic</td>\n",
       "      <td>$10-20k</td>\n",
       "      <td>617</td>\n",
       "    </tr>\n",
       "    <tr>\n",
       "      <th>14</th>\n",
       "      <td>Don’t know/refused</td>\n",
       "      <td>$10-20k</td>\n",
       "      <td>14</td>\n",
       "    </tr>\n",
       "    <tr>\n",
       "      <th>15</th>\n",
       "      <td>Evangelical Prot</td>\n",
       "      <td>$10-20k</td>\n",
       "      <td>869</td>\n",
       "    </tr>\n",
       "    <tr>\n",
       "      <th>16</th>\n",
       "      <td>Hindu</td>\n",
       "      <td>$10-20k</td>\n",
       "      <td>9</td>\n",
       "    </tr>\n",
       "    <tr>\n",
       "      <th>17</th>\n",
       "      <td>Historically Black Prot</td>\n",
       "      <td>$10-20k</td>\n",
       "      <td>244</td>\n",
       "    </tr>\n",
       "    <tr>\n",
       "      <th>18</th>\n",
       "      <td>Jehovah’s Witness</td>\n",
       "      <td>$10-20k</td>\n",
       "      <td>27</td>\n",
       "    </tr>\n",
       "    <tr>\n",
       "      <th>19</th>\n",
       "      <td>Jewish</td>\n",
       "      <td>$10-20k</td>\n",
       "      <td>19</td>\n",
       "    </tr>\n",
       "    <tr>\n",
       "      <th>20</th>\n",
       "      <td>Agnostic</td>\n",
       "      <td>$20-30k</td>\n",
       "      <td>60</td>\n",
       "    </tr>\n",
       "    <tr>\n",
       "      <th>21</th>\n",
       "      <td>Atheist</td>\n",
       "      <td>$20-30k</td>\n",
       "      <td>37</td>\n",
       "    </tr>\n",
       "    <tr>\n",
       "      <th>22</th>\n",
       "      <td>Buddhist</td>\n",
       "      <td>$20-30k</td>\n",
       "      <td>30</td>\n",
       "    </tr>\n",
       "    <tr>\n",
       "      <th>23</th>\n",
       "      <td>Catholic</td>\n",
       "      <td>$20-30k</td>\n",
       "      <td>732</td>\n",
       "    </tr>\n",
       "    <tr>\n",
       "      <th>24</th>\n",
       "      <td>Don’t know/refused</td>\n",
       "      <td>$20-30k</td>\n",
       "      <td>15</td>\n",
       "    </tr>\n",
       "    <tr>\n",
       "      <th>25</th>\n",
       "      <td>Evangelical Prot</td>\n",
       "      <td>$20-30k</td>\n",
       "      <td>1064</td>\n",
       "    </tr>\n",
       "    <tr>\n",
       "      <th>26</th>\n",
       "      <td>Hindu</td>\n",
       "      <td>$20-30k</td>\n",
       "      <td>7</td>\n",
       "    </tr>\n",
       "    <tr>\n",
       "      <th>27</th>\n",
       "      <td>Historically Black Prot</td>\n",
       "      <td>$20-30k</td>\n",
       "      <td>236</td>\n",
       "    </tr>\n",
       "    <tr>\n",
       "      <th>28</th>\n",
       "      <td>Jehovah’s Witness</td>\n",
       "      <td>$20-30k</td>\n",
       "      <td>24</td>\n",
       "    </tr>\n",
       "    <tr>\n",
       "      <th>29</th>\n",
       "      <td>Jewish</td>\n",
       "      <td>$20-30k</td>\n",
       "      <td>25</td>\n",
       "    </tr>\n",
       "    <tr>\n",
       "      <th>30</th>\n",
       "      <td>Agnostic</td>\n",
       "      <td>$30-40k</td>\n",
       "      <td>81</td>\n",
       "    </tr>\n",
       "    <tr>\n",
       "      <th>31</th>\n",
       "      <td>Atheist</td>\n",
       "      <td>$30-40k</td>\n",
       "      <td>52</td>\n",
       "    </tr>\n",
       "    <tr>\n",
       "      <th>32</th>\n",
       "      <td>Buddhist</td>\n",
       "      <td>$30-40k</td>\n",
       "      <td>34</td>\n",
       "    </tr>\n",
       "    <tr>\n",
       "      <th>33</th>\n",
       "      <td>Catholic</td>\n",
       "      <td>$30-40k</td>\n",
       "      <td>670</td>\n",
       "    </tr>\n",
       "    <tr>\n",
       "      <th>34</th>\n",
       "      <td>Don’t know/refused</td>\n",
       "      <td>$30-40k</td>\n",
       "      <td>11</td>\n",
       "    </tr>\n",
       "    <tr>\n",
       "      <th>35</th>\n",
       "      <td>Evangelical Prot</td>\n",
       "      <td>$30-40k</td>\n",
       "      <td>982</td>\n",
       "    </tr>\n",
       "    <tr>\n",
       "      <th>36</th>\n",
       "      <td>Hindu</td>\n",
       "      <td>$30-40k</td>\n",
       "      <td>9</td>\n",
       "    </tr>\n",
       "    <tr>\n",
       "      <th>37</th>\n",
       "      <td>Historically Black Prot</td>\n",
       "      <td>$30-40k</td>\n",
       "      <td>238</td>\n",
       "    </tr>\n",
       "    <tr>\n",
       "      <th>38</th>\n",
       "      <td>Jehovah’s Witness</td>\n",
       "      <td>$30-40k</td>\n",
       "      <td>24</td>\n",
       "    </tr>\n",
       "    <tr>\n",
       "      <th>39</th>\n",
       "      <td>Jewish</td>\n",
       "      <td>$30-40k</td>\n",
       "      <td>25</td>\n",
       "    </tr>\n",
       "    <tr>\n",
       "      <th>40</th>\n",
       "      <td>Agnostic</td>\n",
       "      <td>$40-50k</td>\n",
       "      <td>76</td>\n",
       "    </tr>\n",
       "    <tr>\n",
       "      <th>41</th>\n",
       "      <td>Atheist</td>\n",
       "      <td>$40-50k</td>\n",
       "      <td>35</td>\n",
       "    </tr>\n",
       "    <tr>\n",
       "      <th>42</th>\n",
       "      <td>Buddhist</td>\n",
       "      <td>$40-50k</td>\n",
       "      <td>33</td>\n",
       "    </tr>\n",
       "    <tr>\n",
       "      <th>43</th>\n",
       "      <td>Catholic</td>\n",
       "      <td>$40-50k</td>\n",
       "      <td>638</td>\n",
       "    </tr>\n",
       "    <tr>\n",
       "      <th>44</th>\n",
       "      <td>Don’t know/refused</td>\n",
       "      <td>$40-50k</td>\n",
       "      <td>10</td>\n",
       "    </tr>\n",
       "    <tr>\n",
       "      <th>45</th>\n",
       "      <td>Evangelical Prot</td>\n",
       "      <td>$40-50k</td>\n",
       "      <td>881</td>\n",
       "    </tr>\n",
       "    <tr>\n",
       "      <th>46</th>\n",
       "      <td>Hindu</td>\n",
       "      <td>$40-50k</td>\n",
       "      <td>11</td>\n",
       "    </tr>\n",
       "    <tr>\n",
       "      <th>47</th>\n",
       "      <td>Historically Black Prot</td>\n",
       "      <td>$40-50k</td>\n",
       "      <td>197</td>\n",
       "    </tr>\n",
       "    <tr>\n",
       "      <th>48</th>\n",
       "      <td>Jehovah’s Witness</td>\n",
       "      <td>$40-50k</td>\n",
       "      <td>21</td>\n",
       "    </tr>\n",
       "    <tr>\n",
       "      <th>49</th>\n",
       "      <td>Jewish</td>\n",
       "      <td>$40-50k</td>\n",
       "      <td>30</td>\n",
       "    </tr>\n",
       "    <tr>\n",
       "      <th>50</th>\n",
       "      <td>Agnostic</td>\n",
       "      <td>$50-75k</td>\n",
       "      <td>137</td>\n",
       "    </tr>\n",
       "    <tr>\n",
       "      <th>51</th>\n",
       "      <td>Atheist</td>\n",
       "      <td>$50-75k</td>\n",
       "      <td>70</td>\n",
       "    </tr>\n",
       "    <tr>\n",
       "      <th>52</th>\n",
       "      <td>Buddhist</td>\n",
       "      <td>$50-75k</td>\n",
       "      <td>58</td>\n",
       "    </tr>\n",
       "    <tr>\n",
       "      <th>53</th>\n",
       "      <td>Catholic</td>\n",
       "      <td>$50-75k</td>\n",
       "      <td>1116</td>\n",
       "    </tr>\n",
       "    <tr>\n",
       "      <th>54</th>\n",
       "      <td>Don’t know/refused</td>\n",
       "      <td>$50-75k</td>\n",
       "      <td>35</td>\n",
       "    </tr>\n",
       "    <tr>\n",
       "      <th>55</th>\n",
       "      <td>Evangelical Prot</td>\n",
       "      <td>$50-75k</td>\n",
       "      <td>1486</td>\n",
       "    </tr>\n",
       "    <tr>\n",
       "      <th>56</th>\n",
       "      <td>Hindu</td>\n",
       "      <td>$50-75k</td>\n",
       "      <td>34</td>\n",
       "    </tr>\n",
       "    <tr>\n",
       "      <th>57</th>\n",
       "      <td>Historically Black Prot</td>\n",
       "      <td>$50-75k</td>\n",
       "      <td>223</td>\n",
       "    </tr>\n",
       "    <tr>\n",
       "      <th>58</th>\n",
       "      <td>Jehovah’s Witness</td>\n",
       "      <td>$50-75k</td>\n",
       "      <td>30</td>\n",
       "    </tr>\n",
       "    <tr>\n",
       "      <th>59</th>\n",
       "      <td>Jewish</td>\n",
       "      <td>$50-75k</td>\n",
       "      <td>95</td>\n",
       "    </tr>\n",
       "  </tbody>\n",
       "</table>\n",
       "</div>"
      ],
      "text/plain": [
       "                   religion   income  freq\n",
       "0                  Agnostic    <$10k    27\n",
       "1                   Atheist    <$10k    12\n",
       "2                  Buddhist    <$10k    27\n",
       "3                  Catholic    <$10k   418\n",
       "4        Don’t know/refused    <$10k    15\n",
       "5          Evangelical Prot    <$10k   575\n",
       "6                     Hindu    <$10k     1\n",
       "7   Historically Black Prot    <$10k   228\n",
       "8         Jehovah’s Witness    <$10k    20\n",
       "9                    Jewish    <$10k    19\n",
       "10                 Agnostic  $10-20k    34\n",
       "11                  Atheist  $10-20k    27\n",
       "12                 Buddhist  $10-20k    21\n",
       "13                 Catholic  $10-20k   617\n",
       "14       Don’t know/refused  $10-20k    14\n",
       "15         Evangelical Prot  $10-20k   869\n",
       "16                    Hindu  $10-20k     9\n",
       "17  Historically Black Prot  $10-20k   244\n",
       "18        Jehovah’s Witness  $10-20k    27\n",
       "19                   Jewish  $10-20k    19\n",
       "20                 Agnostic  $20-30k    60\n",
       "21                  Atheist  $20-30k    37\n",
       "22                 Buddhist  $20-30k    30\n",
       "23                 Catholic  $20-30k   732\n",
       "24       Don’t know/refused  $20-30k    15\n",
       "25         Evangelical Prot  $20-30k  1064\n",
       "26                    Hindu  $20-30k     7\n",
       "27  Historically Black Prot  $20-30k   236\n",
       "28        Jehovah’s Witness  $20-30k    24\n",
       "29                   Jewish  $20-30k    25\n",
       "30                 Agnostic  $30-40k    81\n",
       "31                  Atheist  $30-40k    52\n",
       "32                 Buddhist  $30-40k    34\n",
       "33                 Catholic  $30-40k   670\n",
       "34       Don’t know/refused  $30-40k    11\n",
       "35         Evangelical Prot  $30-40k   982\n",
       "36                    Hindu  $30-40k     9\n",
       "37  Historically Black Prot  $30-40k   238\n",
       "38        Jehovah’s Witness  $30-40k    24\n",
       "39                   Jewish  $30-40k    25\n",
       "40                 Agnostic  $40-50k    76\n",
       "41                  Atheist  $40-50k    35\n",
       "42                 Buddhist  $40-50k    33\n",
       "43                 Catholic  $40-50k   638\n",
       "44       Don’t know/refused  $40-50k    10\n",
       "45         Evangelical Prot  $40-50k   881\n",
       "46                    Hindu  $40-50k    11\n",
       "47  Historically Black Prot  $40-50k   197\n",
       "48        Jehovah’s Witness  $40-50k    21\n",
       "49                   Jewish  $40-50k    30\n",
       "50                 Agnostic  $50-75k   137\n",
       "51                  Atheist  $50-75k    70\n",
       "52                 Buddhist  $50-75k    58\n",
       "53                 Catholic  $50-75k  1116\n",
       "54       Don’t know/refused  $50-75k    35\n",
       "55         Evangelical Prot  $50-75k  1486\n",
       "56                    Hindu  $50-75k    34\n",
       "57  Historically Black Prot  $50-75k   223\n",
       "58        Jehovah’s Witness  $50-75k    30\n",
       "59                   Jewish  $50-75k    95"
      ]
     },
     "execution_count": 27,
     "metadata": {},
     "output_type": "execute_result"
    }
   ],
   "source": [
    "# Podemos utilizar a função do Pandas .melt para alterar a visão do dataframe\n",
    "new_df = pd.melt(df, id_vars=['religion'], \n",
    "                 value_vars=value_cols,\n",
    "                 var_name='income', \n",
    "                 value_name='freq')\n",
    "\n",
    "new_df"
   ]
  },
  {
   "cell_type": "markdown",
   "id": "e52bc00d",
   "metadata": {
    "id": "e52bc00d"
   },
   "source": [
    "### pivot_table"
   ]
  },
  {
   "cell_type": "code",
   "execution_count": 28,
   "id": "f1295a46",
   "metadata": {
    "colab": {
     "base_uri": "https://localhost:8080/",
     "height": 394
    },
    "id": "f1295a46",
    "outputId": "8cb95648-3595-44e4-b9ff-7c665f479fa9"
   },
   "outputs": [
    {
     "data": {
      "text/html": [
       "<div>\n",
       "<style scoped>\n",
       "    .dataframe tbody tr th:only-of-type {\n",
       "        vertical-align: middle;\n",
       "    }\n",
       "\n",
       "    .dataframe tbody tr th {\n",
       "        vertical-align: top;\n",
       "    }\n",
       "\n",
       "    .dataframe thead th {\n",
       "        text-align: right;\n",
       "    }\n",
       "</style>\n",
       "<table border=\"1\" class=\"dataframe\">\n",
       "  <thead>\n",
       "    <tr style=\"text-align: right;\">\n",
       "      <th>income</th>\n",
       "      <th>$10-20k</th>\n",
       "      <th>$20-30k</th>\n",
       "      <th>$30-40k</th>\n",
       "      <th>$40-50k</th>\n",
       "      <th>$50-75k</th>\n",
       "      <th>&lt;$10k</th>\n",
       "    </tr>\n",
       "    <tr>\n",
       "      <th>religion</th>\n",
       "      <th></th>\n",
       "      <th></th>\n",
       "      <th></th>\n",
       "      <th></th>\n",
       "      <th></th>\n",
       "      <th></th>\n",
       "    </tr>\n",
       "  </thead>\n",
       "  <tbody>\n",
       "    <tr>\n",
       "      <th>Agnostic</th>\n",
       "      <td>34</td>\n",
       "      <td>60</td>\n",
       "      <td>81</td>\n",
       "      <td>76</td>\n",
       "      <td>137</td>\n",
       "      <td>27</td>\n",
       "    </tr>\n",
       "    <tr>\n",
       "      <th>Atheist</th>\n",
       "      <td>27</td>\n",
       "      <td>37</td>\n",
       "      <td>52</td>\n",
       "      <td>35</td>\n",
       "      <td>70</td>\n",
       "      <td>12</td>\n",
       "    </tr>\n",
       "    <tr>\n",
       "      <th>Buddhist</th>\n",
       "      <td>21</td>\n",
       "      <td>30</td>\n",
       "      <td>34</td>\n",
       "      <td>33</td>\n",
       "      <td>58</td>\n",
       "      <td>27</td>\n",
       "    </tr>\n",
       "    <tr>\n",
       "      <th>Catholic</th>\n",
       "      <td>617</td>\n",
       "      <td>732</td>\n",
       "      <td>670</td>\n",
       "      <td>638</td>\n",
       "      <td>1116</td>\n",
       "      <td>418</td>\n",
       "    </tr>\n",
       "    <tr>\n",
       "      <th>Don’t know/refused</th>\n",
       "      <td>14</td>\n",
       "      <td>15</td>\n",
       "      <td>11</td>\n",
       "      <td>10</td>\n",
       "      <td>35</td>\n",
       "      <td>15</td>\n",
       "    </tr>\n",
       "    <tr>\n",
       "      <th>Evangelical Prot</th>\n",
       "      <td>869</td>\n",
       "      <td>1064</td>\n",
       "      <td>982</td>\n",
       "      <td>881</td>\n",
       "      <td>1486</td>\n",
       "      <td>575</td>\n",
       "    </tr>\n",
       "    <tr>\n",
       "      <th>Hindu</th>\n",
       "      <td>9</td>\n",
       "      <td>7</td>\n",
       "      <td>9</td>\n",
       "      <td>11</td>\n",
       "      <td>34</td>\n",
       "      <td>1</td>\n",
       "    </tr>\n",
       "    <tr>\n",
       "      <th>Historically Black Prot</th>\n",
       "      <td>244</td>\n",
       "      <td>236</td>\n",
       "      <td>238</td>\n",
       "      <td>197</td>\n",
       "      <td>223</td>\n",
       "      <td>228</td>\n",
       "    </tr>\n",
       "    <tr>\n",
       "      <th>Jehovah’s Witness</th>\n",
       "      <td>27</td>\n",
       "      <td>24</td>\n",
       "      <td>24</td>\n",
       "      <td>21</td>\n",
       "      <td>30</td>\n",
       "      <td>20</td>\n",
       "    </tr>\n",
       "    <tr>\n",
       "      <th>Jewish</th>\n",
       "      <td>19</td>\n",
       "      <td>25</td>\n",
       "      <td>25</td>\n",
       "      <td>30</td>\n",
       "      <td>95</td>\n",
       "      <td>19</td>\n",
       "    </tr>\n",
       "  </tbody>\n",
       "</table>\n",
       "</div>"
      ],
      "text/plain": [
       "income                   $10-20k  $20-30k  $30-40k  $40-50k  $50-75k  <$10k\n",
       "religion                                                                   \n",
       "Agnostic                      34       60       81       76      137     27\n",
       "Atheist                       27       37       52       35       70     12\n",
       "Buddhist                      21       30       34       33       58     27\n",
       "Catholic                     617      732      670      638     1116    418\n",
       "Don’t know/refused            14       15       11       10       35     15\n",
       "Evangelical Prot             869     1064      982      881     1486    575\n",
       "Hindu                          9        7        9       11       34      1\n",
       "Historically Black Prot      244      236      238      197      223    228\n",
       "Jehovah’s Witness             27       24       24       21       30     20\n",
       "Jewish                        19       25       25       30       95     19"
      ]
     },
     "execution_count": 28,
     "metadata": {},
     "output_type": "execute_result"
    }
   ],
   "source": [
    "# Podemos voltar para o formato anterior, que facilita apresentações para o negócio.\n",
    "# Usamos o método pivot.\n",
    "new_df.pivot(index='religion', columns='income', values='freq')"
   ]
  },
  {
   "cell_type": "code",
   "execution_count": 29,
   "id": "0ff46a1d",
   "metadata": {
    "colab": {
     "base_uri": "https://localhost:8080/",
     "height": 394
    },
    "id": "0ff46a1d",
    "outputId": "0b697644-33ec-4db0-98b2-941900178acb"
   },
   "outputs": [
    {
     "data": {
      "text/html": [
       "<div>\n",
       "<style scoped>\n",
       "    .dataframe tbody tr th:only-of-type {\n",
       "        vertical-align: middle;\n",
       "    }\n",
       "\n",
       "    .dataframe tbody tr th {\n",
       "        vertical-align: top;\n",
       "    }\n",
       "\n",
       "    .dataframe thead th {\n",
       "        text-align: right;\n",
       "    }\n",
       "</style>\n",
       "<table border=\"1\" class=\"dataframe\">\n",
       "  <thead>\n",
       "    <tr style=\"text-align: right;\">\n",
       "      <th>income</th>\n",
       "      <th>$10-20k</th>\n",
       "      <th>$20-30k</th>\n",
       "      <th>$30-40k</th>\n",
       "      <th>$40-50k</th>\n",
       "      <th>$50-75k</th>\n",
       "      <th>&lt;$10k</th>\n",
       "    </tr>\n",
       "    <tr>\n",
       "      <th>religion</th>\n",
       "      <th></th>\n",
       "      <th></th>\n",
       "      <th></th>\n",
       "      <th></th>\n",
       "      <th></th>\n",
       "      <th></th>\n",
       "    </tr>\n",
       "  </thead>\n",
       "  <tbody>\n",
       "    <tr>\n",
       "      <th>Agnostic</th>\n",
       "      <td>34</td>\n",
       "      <td>60</td>\n",
       "      <td>81</td>\n",
       "      <td>76</td>\n",
       "      <td>137</td>\n",
       "      <td>27</td>\n",
       "    </tr>\n",
       "    <tr>\n",
       "      <th>Atheist</th>\n",
       "      <td>27</td>\n",
       "      <td>37</td>\n",
       "      <td>52</td>\n",
       "      <td>35</td>\n",
       "      <td>70</td>\n",
       "      <td>12</td>\n",
       "    </tr>\n",
       "    <tr>\n",
       "      <th>Buddhist</th>\n",
       "      <td>21</td>\n",
       "      <td>30</td>\n",
       "      <td>34</td>\n",
       "      <td>33</td>\n",
       "      <td>58</td>\n",
       "      <td>27</td>\n",
       "    </tr>\n",
       "    <tr>\n",
       "      <th>Catholic</th>\n",
       "      <td>617</td>\n",
       "      <td>732</td>\n",
       "      <td>670</td>\n",
       "      <td>638</td>\n",
       "      <td>1116</td>\n",
       "      <td>418</td>\n",
       "    </tr>\n",
       "    <tr>\n",
       "      <th>Don’t know/refused</th>\n",
       "      <td>14</td>\n",
       "      <td>15</td>\n",
       "      <td>11</td>\n",
       "      <td>10</td>\n",
       "      <td>35</td>\n",
       "      <td>15</td>\n",
       "    </tr>\n",
       "    <tr>\n",
       "      <th>Evangelical Prot</th>\n",
       "      <td>869</td>\n",
       "      <td>1064</td>\n",
       "      <td>982</td>\n",
       "      <td>881</td>\n",
       "      <td>1486</td>\n",
       "      <td>575</td>\n",
       "    </tr>\n",
       "    <tr>\n",
       "      <th>Hindu</th>\n",
       "      <td>9</td>\n",
       "      <td>7</td>\n",
       "      <td>9</td>\n",
       "      <td>11</td>\n",
       "      <td>34</td>\n",
       "      <td>1</td>\n",
       "    </tr>\n",
       "    <tr>\n",
       "      <th>Historically Black Prot</th>\n",
       "      <td>244</td>\n",
       "      <td>236</td>\n",
       "      <td>238</td>\n",
       "      <td>197</td>\n",
       "      <td>223</td>\n",
       "      <td>228</td>\n",
       "    </tr>\n",
       "    <tr>\n",
       "      <th>Jehovah’s Witness</th>\n",
       "      <td>27</td>\n",
       "      <td>24</td>\n",
       "      <td>24</td>\n",
       "      <td>21</td>\n",
       "      <td>30</td>\n",
       "      <td>20</td>\n",
       "    </tr>\n",
       "    <tr>\n",
       "      <th>Jewish</th>\n",
       "      <td>19</td>\n",
       "      <td>25</td>\n",
       "      <td>25</td>\n",
       "      <td>30</td>\n",
       "      <td>95</td>\n",
       "      <td>19</td>\n",
       "    </tr>\n",
       "  </tbody>\n",
       "</table>\n",
       "</div>"
      ],
      "text/plain": [
       "income                   $10-20k  $20-30k  $30-40k  $40-50k  $50-75k  <$10k\n",
       "religion                                                                   \n",
       "Agnostic                      34       60       81       76      137     27\n",
       "Atheist                       27       37       52       35       70     12\n",
       "Buddhist                      21       30       34       33       58     27\n",
       "Catholic                     617      732      670      638     1116    418\n",
       "Don’t know/refused            14       15       11       10       35     15\n",
       "Evangelical Prot             869     1064      982      881     1486    575\n",
       "Hindu                          9        7        9       11       34      1\n",
       "Historically Black Prot      244      236      238      197      223    228\n",
       "Jehovah’s Witness             27       24       24       21       30     20\n",
       "Jewish                        19       25       25       30       95     19"
      ]
     },
     "execution_count": 29,
     "metadata": {},
     "output_type": "execute_result"
    }
   ],
   "source": [
    "new_df.pivot_table(index='religion', columns='income', values='freq', aggfunc='mean')"
   ]
  },
  {
   "cell_type": "markdown",
   "id": "d05140f2",
   "metadata": {
    "id": "d05140f2"
   },
   "source": [
    "### Concat  \n",
    "  \n",
    "É possível realizar a concatenação de dois ou mais dataframes por meio do método \"concat\"."
   ]
  },
  {
   "cell_type": "code",
   "execution_count": 30,
   "id": "4c01f6ca",
   "metadata": {
    "colab": {
     "base_uri": "https://localhost:8080/",
     "height": 143
    },
    "id": "4c01f6ca",
    "outputId": "2ce6e0e0-a66a-4f2f-d78c-e373df1734f1"
   },
   "outputs": [
    {
     "data": {
      "text/html": [
       "<div>\n",
       "<style scoped>\n",
       "    .dataframe tbody tr th:only-of-type {\n",
       "        vertical-align: middle;\n",
       "    }\n",
       "\n",
       "    .dataframe tbody tr th {\n",
       "        vertical-align: top;\n",
       "    }\n",
       "\n",
       "    .dataframe thead th {\n",
       "        text-align: right;\n",
       "    }\n",
       "</style>\n",
       "<table border=\"1\" class=\"dataframe\">\n",
       "  <thead>\n",
       "    <tr style=\"text-align: right;\">\n",
       "      <th></th>\n",
       "      <th>nome</th>\n",
       "      <th>val</th>\n",
       "    </tr>\n",
       "  </thead>\n",
       "  <tbody>\n",
       "    <tr>\n",
       "      <th>0</th>\n",
       "      <td>nós</td>\n",
       "      <td>2</td>\n",
       "    </tr>\n",
       "    <tr>\n",
       "      <th>1</th>\n",
       "      <td>vós</td>\n",
       "      <td>2</td>\n",
       "    </tr>\n",
       "    <tr>\n",
       "      <th>2</th>\n",
       "      <td>eles/elas</td>\n",
       "      <td>2</td>\n",
       "    </tr>\n",
       "  </tbody>\n",
       "</table>\n",
       "</div>"
      ],
      "text/plain": [
       "        nome  val\n",
       "0        nós    2\n",
       "1        vós    2\n",
       "2  eles/elas    2"
      ]
     },
     "execution_count": 30,
     "metadata": {},
     "output_type": "execute_result"
    }
   ],
   "source": [
    "# Criação de DataFrames por meio de dicionários\n",
    "df1 = pd.DataFrame({'nome':['eu', 'tu', 'ele/ela'],\n",
    "                    'val':[1, 1, 1]})\n",
    "\n",
    "# Criação de DataFrames por meio de listas\n",
    "lista_valores = [['nós', 2],\n",
    "                 ['vós', 2],\n",
    "                 ['eles/elas', 2]]\n",
    "df2 = pd.DataFrame(lista_valores, columns=['nome', 'val'])\n",
    "df2"
   ]
  },
  {
   "cell_type": "code",
   "execution_count": 31,
   "id": "e6271650",
   "metadata": {
    "colab": {
     "base_uri": "https://localhost:8080/",
     "height": 237
    },
    "id": "e6271650",
    "outputId": "de611b71-f27c-4e42-f326-4d967d3898d6"
   },
   "outputs": [
    {
     "data": {
      "text/html": [
       "<div>\n",
       "<style scoped>\n",
       "    .dataframe tbody tr th:only-of-type {\n",
       "        vertical-align: middle;\n",
       "    }\n",
       "\n",
       "    .dataframe tbody tr th {\n",
       "        vertical-align: top;\n",
       "    }\n",
       "\n",
       "    .dataframe thead th {\n",
       "        text-align: right;\n",
       "    }\n",
       "</style>\n",
       "<table border=\"1\" class=\"dataframe\">\n",
       "  <thead>\n",
       "    <tr style=\"text-align: right;\">\n",
       "      <th></th>\n",
       "      <th>nome</th>\n",
       "      <th>val</th>\n",
       "    </tr>\n",
       "  </thead>\n",
       "  <tbody>\n",
       "    <tr>\n",
       "      <th>0</th>\n",
       "      <td>eu</td>\n",
       "      <td>1</td>\n",
       "    </tr>\n",
       "    <tr>\n",
       "      <th>1</th>\n",
       "      <td>tu</td>\n",
       "      <td>1</td>\n",
       "    </tr>\n",
       "    <tr>\n",
       "      <th>2</th>\n",
       "      <td>ele/ela</td>\n",
       "      <td>1</td>\n",
       "    </tr>\n",
       "    <tr>\n",
       "      <th>0</th>\n",
       "      <td>nós</td>\n",
       "      <td>2</td>\n",
       "    </tr>\n",
       "    <tr>\n",
       "      <th>1</th>\n",
       "      <td>vós</td>\n",
       "      <td>2</td>\n",
       "    </tr>\n",
       "    <tr>\n",
       "      <th>2</th>\n",
       "      <td>eles/elas</td>\n",
       "      <td>2</td>\n",
       "    </tr>\n",
       "  </tbody>\n",
       "</table>\n",
       "</div>"
      ],
      "text/plain": [
       "        nome  val\n",
       "0         eu    1\n",
       "1         tu    1\n",
       "2    ele/ela    1\n",
       "0        nós    2\n",
       "1        vós    2\n",
       "2  eles/elas    2"
      ]
     },
     "execution_count": 31,
     "metadata": {},
     "output_type": "execute_result"
    }
   ],
   "source": [
    "# Repare que por padrão o pandas já realiza o empilhamento dos dois dataframes, mas os índices estão confusos\n",
    "pd.concat([df1, df2])"
   ]
  },
  {
   "cell_type": "code",
   "execution_count": 32,
   "id": "0c0d36f6",
   "metadata": {
    "id": "0c0d36f6"
   },
   "outputs": [],
   "source": [
    "# Utilizamos o método .copy() para fazermos uma cópia do dataframe\n",
    "new_df2 = df2.copy()\n",
    "\n",
    "# O atributo .index do dataframe chama os índices\n",
    "new_df2.index = [4, 5, 6]"
   ]
  },
  {
   "cell_type": "code",
   "execution_count": 33,
   "id": "487037cc",
   "metadata": {
    "colab": {
     "base_uri": "https://localhost:8080/",
     "height": 143
    },
    "id": "487037cc",
    "outputId": "84daf49a-d1a9-4d88-f371-31341b450a21"
   },
   "outputs": [
    {
     "data": {
      "text/html": [
       "<div>\n",
       "<style scoped>\n",
       "    .dataframe tbody tr th:only-of-type {\n",
       "        vertical-align: middle;\n",
       "    }\n",
       "\n",
       "    .dataframe tbody tr th {\n",
       "        vertical-align: top;\n",
       "    }\n",
       "\n",
       "    .dataframe thead th {\n",
       "        text-align: right;\n",
       "    }\n",
       "</style>\n",
       "<table border=\"1\" class=\"dataframe\">\n",
       "  <thead>\n",
       "    <tr style=\"text-align: right;\">\n",
       "      <th></th>\n",
       "      <th>nome</th>\n",
       "      <th>val</th>\n",
       "    </tr>\n",
       "  </thead>\n",
       "  <tbody>\n",
       "    <tr>\n",
       "      <th>4</th>\n",
       "      <td>nós</td>\n",
       "      <td>2</td>\n",
       "    </tr>\n",
       "    <tr>\n",
       "      <th>5</th>\n",
       "      <td>vós</td>\n",
       "      <td>2</td>\n",
       "    </tr>\n",
       "    <tr>\n",
       "      <th>6</th>\n",
       "      <td>eles/elas</td>\n",
       "      <td>2</td>\n",
       "    </tr>\n",
       "  </tbody>\n",
       "</table>\n",
       "</div>"
      ],
      "text/plain": [
       "        nome  val\n",
       "4        nós    2\n",
       "5        vós    2\n",
       "6  eles/elas    2"
      ]
     },
     "execution_count": 33,
     "metadata": {},
     "output_type": "execute_result"
    }
   ],
   "source": [
    "new_df2"
   ]
  },
  {
   "cell_type": "markdown",
   "id": "6e36495e",
   "metadata": {
    "id": "6e36495e"
   },
   "source": [
    "Caso se queira colocar um do lado do outro, invés de em cima, usamos o parâmetro \"axis\"."
   ]
  },
  {
   "cell_type": "code",
   "execution_count": 34,
   "id": "c9432ff2",
   "metadata": {
    "colab": {
     "base_uri": "https://localhost:8080/",
     "height": 143
    },
    "id": "c9432ff2",
    "outputId": "e29293a4-389d-4fc7-d4c9-9f38484ac717"
   },
   "outputs": [
    {
     "data": {
      "text/html": [
       "<div>\n",
       "<style scoped>\n",
       "    .dataframe tbody tr th:only-of-type {\n",
       "        vertical-align: middle;\n",
       "    }\n",
       "\n",
       "    .dataframe tbody tr th {\n",
       "        vertical-align: top;\n",
       "    }\n",
       "\n",
       "    .dataframe thead th {\n",
       "        text-align: right;\n",
       "    }\n",
       "</style>\n",
       "<table border=\"1\" class=\"dataframe\">\n",
       "  <thead>\n",
       "    <tr style=\"text-align: right;\">\n",
       "      <th></th>\n",
       "      <th>nome</th>\n",
       "      <th>val</th>\n",
       "      <th>nome</th>\n",
       "      <th>val</th>\n",
       "    </tr>\n",
       "  </thead>\n",
       "  <tbody>\n",
       "    <tr>\n",
       "      <th>0</th>\n",
       "      <td>eu</td>\n",
       "      <td>1</td>\n",
       "      <td>nós</td>\n",
       "      <td>2</td>\n",
       "    </tr>\n",
       "    <tr>\n",
       "      <th>1</th>\n",
       "      <td>tu</td>\n",
       "      <td>1</td>\n",
       "      <td>vós</td>\n",
       "      <td>2</td>\n",
       "    </tr>\n",
       "    <tr>\n",
       "      <th>2</th>\n",
       "      <td>ele/ela</td>\n",
       "      <td>1</td>\n",
       "      <td>eles/elas</td>\n",
       "      <td>2</td>\n",
       "    </tr>\n",
       "  </tbody>\n",
       "</table>\n",
       "</div>"
      ],
      "text/plain": [
       "      nome  val       nome  val\n",
       "0       eu    1        nós    2\n",
       "1       tu    1        vós    2\n",
       "2  ele/ela    1  eles/elas    2"
      ]
     },
     "execution_count": 34,
     "metadata": {},
     "output_type": "execute_result"
    }
   ],
   "source": [
    "# Agora ao passarmos o axis=1 ele entende que desejamos realizar uma concatenação \"lateral\" - também conhecido como merge\n",
    "pd.concat([df1, df2], axis=1)"
   ]
  },
  {
   "cell_type": "code",
   "execution_count": 35,
   "id": "dbd65fc8",
   "metadata": {
    "colab": {
     "base_uri": "https://localhost:8080/",
     "height": 237
    },
    "id": "dbd65fc8",
    "outputId": "49183ee3-a24c-4de5-e477-023455f1ab72"
   },
   "outputs": [
    {
     "data": {
      "text/html": [
       "<div>\n",
       "<style scoped>\n",
       "    .dataframe tbody tr th:only-of-type {\n",
       "        vertical-align: middle;\n",
       "    }\n",
       "\n",
       "    .dataframe tbody tr th {\n",
       "        vertical-align: top;\n",
       "    }\n",
       "\n",
       "    .dataframe thead th {\n",
       "        text-align: right;\n",
       "    }\n",
       "</style>\n",
       "<table border=\"1\" class=\"dataframe\">\n",
       "  <thead>\n",
       "    <tr style=\"text-align: right;\">\n",
       "      <th></th>\n",
       "      <th>nome</th>\n",
       "      <th>val</th>\n",
       "      <th>nome</th>\n",
       "      <th>val</th>\n",
       "    </tr>\n",
       "  </thead>\n",
       "  <tbody>\n",
       "    <tr>\n",
       "      <th>0</th>\n",
       "      <td>eu</td>\n",
       "      <td>1.0</td>\n",
       "      <td>NaN</td>\n",
       "      <td>NaN</td>\n",
       "    </tr>\n",
       "    <tr>\n",
       "      <th>1</th>\n",
       "      <td>tu</td>\n",
       "      <td>1.0</td>\n",
       "      <td>NaN</td>\n",
       "      <td>NaN</td>\n",
       "    </tr>\n",
       "    <tr>\n",
       "      <th>2</th>\n",
       "      <td>ele/ela</td>\n",
       "      <td>1.0</td>\n",
       "      <td>NaN</td>\n",
       "      <td>NaN</td>\n",
       "    </tr>\n",
       "    <tr>\n",
       "      <th>4</th>\n",
       "      <td>NaN</td>\n",
       "      <td>NaN</td>\n",
       "      <td>nós</td>\n",
       "      <td>2.0</td>\n",
       "    </tr>\n",
       "    <tr>\n",
       "      <th>5</th>\n",
       "      <td>NaN</td>\n",
       "      <td>NaN</td>\n",
       "      <td>vós</td>\n",
       "      <td>2.0</td>\n",
       "    </tr>\n",
       "    <tr>\n",
       "      <th>6</th>\n",
       "      <td>NaN</td>\n",
       "      <td>NaN</td>\n",
       "      <td>eles/elas</td>\n",
       "      <td>2.0</td>\n",
       "    </tr>\n",
       "  </tbody>\n",
       "</table>\n",
       "</div>"
      ],
      "text/plain": [
       "      nome  val       nome  val\n",
       "0       eu  1.0        NaN  NaN\n",
       "1       tu  1.0        NaN  NaN\n",
       "2  ele/ela  1.0        NaN  NaN\n",
       "4      NaN  NaN        nós  2.0\n",
       "5      NaN  NaN        vós  2.0\n",
       "6      NaN  NaN  eles/elas  2.0"
      ]
     },
     "execution_count": 35,
     "metadata": {},
     "output_type": "execute_result"
    }
   ],
   "source": [
    "pd.concat([df1, new_df2], axis=1)"
   ]
  },
  {
   "cell_type": "markdown",
   "id": "8c438538",
   "metadata": {
    "id": "8c438538"
   },
   "source": [
    "### Rename\n",
    "  \n",
    "O rename é utilizado para renomear labels do dataframe"
   ]
  },
  {
   "cell_type": "code",
   "execution_count": 36,
   "id": "2bbfe391",
   "metadata": {
    "colab": {
     "base_uri": "https://localhost:8080/",
     "height": 143
    },
    "id": "2bbfe391",
    "outputId": "30d752fb-b3b9-4b13-a789-12559fb49cb8"
   },
   "outputs": [
    {
     "data": {
      "text/html": [
       "<div>\n",
       "<style scoped>\n",
       "    .dataframe tbody tr th:only-of-type {\n",
       "        vertical-align: middle;\n",
       "    }\n",
       "\n",
       "    .dataframe tbody tr th {\n",
       "        vertical-align: top;\n",
       "    }\n",
       "\n",
       "    .dataframe thead th {\n",
       "        text-align: right;\n",
       "    }\n",
       "</style>\n",
       "<table border=\"1\" class=\"dataframe\">\n",
       "  <thead>\n",
       "    <tr style=\"text-align: right;\">\n",
       "      <th></th>\n",
       "      <th>nome_alterado</th>\n",
       "      <th>val</th>\n",
       "    </tr>\n",
       "  </thead>\n",
       "  <tbody>\n",
       "    <tr>\n",
       "      <th>0</th>\n",
       "      <td>eu</td>\n",
       "      <td>1</td>\n",
       "    </tr>\n",
       "    <tr>\n",
       "      <th>1</th>\n",
       "      <td>tu</td>\n",
       "      <td>1</td>\n",
       "    </tr>\n",
       "    <tr>\n",
       "      <th>2</th>\n",
       "      <td>ele/ela</td>\n",
       "      <td>1</td>\n",
       "    </tr>\n",
       "  </tbody>\n",
       "</table>\n",
       "</div>"
      ],
      "text/plain": [
       "  nome_alterado  val\n",
       "0            eu    1\n",
       "1            tu    1\n",
       "2       ele/ela    1"
      ]
     },
     "execution_count": 36,
     "metadata": {},
     "output_type": "execute_result"
    }
   ],
   "source": [
    "# Para renomearmos as colunas de um dataframe utilizamos um dicionário tendo como chave o valor antigo e valor o novo\n",
    "df1.rename(columns={'nome': 'nome_alterado'})"
   ]
  },
  {
   "cell_type": "code",
   "execution_count": 37,
   "id": "_QC-4i8kMUF6",
   "metadata": {
    "colab": {
     "base_uri": "https://localhost:8080/",
     "height": 143
    },
    "id": "_QC-4i8kMUF6",
    "outputId": "13a30a53-b4cd-4bbe-b1ae-a7accb588322"
   },
   "outputs": [
    {
     "data": {
      "text/html": [
       "<div>\n",
       "<style scoped>\n",
       "    .dataframe tbody tr th:only-of-type {\n",
       "        vertical-align: middle;\n",
       "    }\n",
       "\n",
       "    .dataframe tbody tr th {\n",
       "        vertical-align: top;\n",
       "    }\n",
       "\n",
       "    .dataframe thead th {\n",
       "        text-align: right;\n",
       "    }\n",
       "</style>\n",
       "<table border=\"1\" class=\"dataframe\">\n",
       "  <thead>\n",
       "    <tr style=\"text-align: right;\">\n",
       "      <th></th>\n",
       "      <th>nome_modificado</th>\n",
       "      <th>valor</th>\n",
       "    </tr>\n",
       "  </thead>\n",
       "  <tbody>\n",
       "    <tr>\n",
       "      <th>0</th>\n",
       "      <td>eu</td>\n",
       "      <td>1</td>\n",
       "    </tr>\n",
       "    <tr>\n",
       "      <th>1</th>\n",
       "      <td>tu</td>\n",
       "      <td>1</td>\n",
       "    </tr>\n",
       "    <tr>\n",
       "      <th>2</th>\n",
       "      <td>ele/ela</td>\n",
       "      <td>1</td>\n",
       "    </tr>\n",
       "  </tbody>\n",
       "</table>\n",
       "</div>"
      ],
      "text/plain": [
       "  nome_modificado  valor\n",
       "0              eu      1\n",
       "1              tu      1\n",
       "2         ele/ela      1"
      ]
     },
     "execution_count": 37,
     "metadata": {},
     "output_type": "execute_result"
    }
   ],
   "source": [
    "df1.columns = ['nome_modificado', 'valor']\n",
    "df1.head()"
   ]
  },
  {
   "cell_type": "markdown",
   "id": "8c30e202",
   "metadata": {
    "id": "8c30e202"
   },
   "source": [
    "## Exploração de dados: Estatísticas"
   ]
  },
  {
   "cell_type": "code",
   "execution_count": 47,
   "id": "62e39ca4",
   "metadata": {
    "id": "62e39ca4"
   },
   "outputs": [],
   "source": [
    "df = pd.read_table('./dados/populacao_brasileira_por_municipio.txt', sep=';', decimal=',')"
   ]
  },
  {
   "cell_type": "markdown",
   "id": "e8bcaff8",
   "metadata": {
    "id": "e8bcaff8"
   },
   "source": [
    "### Head"
   ]
  },
  {
   "cell_type": "code",
   "execution_count": 48,
   "id": "d2c16cfb",
   "metadata": {
    "colab": {
     "base_uri": "https://localhost:8080/",
     "height": 143
    },
    "id": "d2c16cfb",
    "outputId": "91dbe742-e282-419c-ffa3-b8aa46136212"
   },
   "outputs": [
    {
     "data": {
      "text/html": [
       "<div>\n",
       "<style scoped>\n",
       "    .dataframe tbody tr th:only-of-type {\n",
       "        vertical-align: middle;\n",
       "    }\n",
       "\n",
       "    .dataframe tbody tr th {\n",
       "        vertical-align: top;\n",
       "    }\n",
       "\n",
       "    .dataframe thead th {\n",
       "        text-align: right;\n",
       "    }\n",
       "</style>\n",
       "<table border=\"1\" class=\"dataframe\">\n",
       "  <thead>\n",
       "    <tr style=\"text-align: right;\">\n",
       "      <th></th>\n",
       "      <th>UF</th>\n",
       "      <th>COD. UF</th>\n",
       "      <th>COD. MUNIC</th>\n",
       "      <th>NOME DO MUNICÍPIO</th>\n",
       "      <th>POPULAÇÃO ESTIMADA</th>\n",
       "    </tr>\n",
       "  </thead>\n",
       "  <tbody>\n",
       "    <tr>\n",
       "      <th>0</th>\n",
       "      <td>RO</td>\n",
       "      <td>11</td>\n",
       "      <td>15</td>\n",
       "      <td>Alta Floresta D'Oeste</td>\n",
       "      <td>22.516</td>\n",
       "    </tr>\n",
       "    <tr>\n",
       "      <th>1</th>\n",
       "      <td>RO</td>\n",
       "      <td>11</td>\n",
       "      <td>23</td>\n",
       "      <td>Ariquemes</td>\n",
       "      <td>111.148</td>\n",
       "    </tr>\n",
       "    <tr>\n",
       "      <th>2</th>\n",
       "      <td>RO</td>\n",
       "      <td>11</td>\n",
       "      <td>31</td>\n",
       "      <td>Cabixi</td>\n",
       "      <td>5.067</td>\n",
       "    </tr>\n",
       "  </tbody>\n",
       "</table>\n",
       "</div>"
      ],
      "text/plain": [
       "   UF  COD. UF  COD. MUNIC      NOME DO MUNICÍPIO POPULAÇÃO ESTIMADA\n",
       "0  RO       11          15  Alta Floresta D'Oeste             22.516\n",
       "1  RO       11          23              Ariquemes            111.148\n",
       "2  RO       11          31                 Cabixi              5.067"
      ]
     },
     "execution_count": 48,
     "metadata": {},
     "output_type": "execute_result"
    }
   ],
   "source": [
    "# O head é utilizado para observarmos o início de um dataframe\n",
    "df.head(3)"
   ]
  },
  {
   "cell_type": "markdown",
   "id": "05351d5c",
   "metadata": {
    "id": "05351d5c"
   },
   "source": [
    "### Tail"
   ]
  },
  {
   "cell_type": "code",
   "execution_count": 49,
   "id": "82730f0d",
   "metadata": {
    "colab": {
     "base_uri": "https://localhost:8080/",
     "height": 143
    },
    "id": "82730f0d",
    "outputId": "edb746fe-96b3-4a1d-f146-1fd39d7a3254"
   },
   "outputs": [
    {
     "data": {
      "text/html": [
       "<div>\n",
       "<style scoped>\n",
       "    .dataframe tbody tr th:only-of-type {\n",
       "        vertical-align: middle;\n",
       "    }\n",
       "\n",
       "    .dataframe tbody tr th {\n",
       "        vertical-align: top;\n",
       "    }\n",
       "\n",
       "    .dataframe thead th {\n",
       "        text-align: right;\n",
       "    }\n",
       "</style>\n",
       "<table border=\"1\" class=\"dataframe\">\n",
       "  <thead>\n",
       "    <tr style=\"text-align: right;\">\n",
       "      <th></th>\n",
       "      <th>UF</th>\n",
       "      <th>COD. UF</th>\n",
       "      <th>COD. MUNIC</th>\n",
       "      <th>NOME DO MUNICÍPIO</th>\n",
       "      <th>POPULAÇÃO ESTIMADA</th>\n",
       "    </tr>\n",
       "  </thead>\n",
       "  <tbody>\n",
       "    <tr>\n",
       "      <th>5567</th>\n",
       "      <td>GO</td>\n",
       "      <td>52</td>\n",
       "      <td>22203</td>\n",
       "      <td>Vila Boa</td>\n",
       "      <td>6.451</td>\n",
       "    </tr>\n",
       "    <tr>\n",
       "      <th>5568</th>\n",
       "      <td>GO</td>\n",
       "      <td>52</td>\n",
       "      <td>22302</td>\n",
       "      <td>Vila Propício</td>\n",
       "      <td>5.941</td>\n",
       "    </tr>\n",
       "    <tr>\n",
       "      <th>5569</th>\n",
       "      <td>DF</td>\n",
       "      <td>53</td>\n",
       "      <td>108</td>\n",
       "      <td>Brasília</td>\n",
       "      <td>3.094.325</td>\n",
       "    </tr>\n",
       "  </tbody>\n",
       "</table>\n",
       "</div>"
      ],
      "text/plain": [
       "      UF  COD. UF  COD. MUNIC NOME DO MUNICÍPIO POPULAÇÃO ESTIMADA\n",
       "5567  GO       52       22203          Vila Boa              6.451\n",
       "5568  GO       52       22302     Vila Propício              5.941\n",
       "5569  DF       53         108          Brasília          3.094.325"
      ]
     },
     "execution_count": 49,
     "metadata": {},
     "output_type": "execute_result"
    }
   ],
   "source": [
    "# O tail é utilizado para observarmos o final de um dataframe\n",
    "df.tail(3)"
   ]
  },
  {
   "cell_type": "markdown",
   "id": "51572bbf",
   "metadata": {
    "id": "51572bbf"
   },
   "source": [
    "### Describe"
   ]
  },
  {
   "cell_type": "code",
   "execution_count": 50,
   "id": "b44ad19f",
   "metadata": {
    "colab": {
     "base_uri": "https://localhost:8080/",
     "height": 300
    },
    "id": "b44ad19f",
    "outputId": "d2a7ffda-0bf9-4974-bf75-c94ea1c85904"
   },
   "outputs": [
    {
     "data": {
      "text/html": [
       "<div>\n",
       "<style scoped>\n",
       "    .dataframe tbody tr th:only-of-type {\n",
       "        vertical-align: middle;\n",
       "    }\n",
       "\n",
       "    .dataframe tbody tr th {\n",
       "        vertical-align: top;\n",
       "    }\n",
       "\n",
       "    .dataframe thead th {\n",
       "        text-align: right;\n",
       "    }\n",
       "</style>\n",
       "<table border=\"1\" class=\"dataframe\">\n",
       "  <thead>\n",
       "    <tr style=\"text-align: right;\">\n",
       "      <th></th>\n",
       "      <th>COD. UF</th>\n",
       "      <th>COD. MUNIC</th>\n",
       "    </tr>\n",
       "  </thead>\n",
       "  <tbody>\n",
       "    <tr>\n",
       "      <th>count</th>\n",
       "      <td>5570.000000</td>\n",
       "      <td>5570.000000</td>\n",
       "    </tr>\n",
       "    <tr>\n",
       "      <th>mean</th>\n",
       "      <td>32.377738</td>\n",
       "      <td>15816.982585</td>\n",
       "    </tr>\n",
       "    <tr>\n",
       "      <th>std</th>\n",
       "      <td>9.833862</td>\n",
       "      <td>15997.299780</td>\n",
       "    </tr>\n",
       "    <tr>\n",
       "      <th>min</th>\n",
       "      <td>11.000000</td>\n",
       "      <td>13.000000</td>\n",
       "    </tr>\n",
       "    <tr>\n",
       "      <th>25%</th>\n",
       "      <td>25.000000</td>\n",
       "      <td>4507.250000</td>\n",
       "    </tr>\n",
       "    <tr>\n",
       "      <th>50%</th>\n",
       "      <td>31.000000</td>\n",
       "      <td>10400.500000</td>\n",
       "    </tr>\n",
       "    <tr>\n",
       "      <th>75%</th>\n",
       "      <td>41.000000</td>\n",
       "      <td>20853.000000</td>\n",
       "    </tr>\n",
       "    <tr>\n",
       "      <th>max</th>\n",
       "      <td>53.000000</td>\n",
       "      <td>72202.000000</td>\n",
       "    </tr>\n",
       "  </tbody>\n",
       "</table>\n",
       "</div>"
      ],
      "text/plain": [
       "           COD. UF    COD. MUNIC\n",
       "count  5570.000000   5570.000000\n",
       "mean     32.377738  15816.982585\n",
       "std       9.833862  15997.299780\n",
       "min      11.000000     13.000000\n",
       "25%      25.000000   4507.250000\n",
       "50%      31.000000  10400.500000\n",
       "75%      41.000000  20853.000000\n",
       "max      53.000000  72202.000000"
      ]
     },
     "execution_count": 50,
     "metadata": {},
     "output_type": "execute_result"
    }
   ],
   "source": [
    "# Podemos sumarizar algumas estatísticas de várias colunas de uma única vez.\n",
    "df.describe()"
   ]
  },
  {
   "cell_type": "code",
   "execution_count": 69,
   "id": "da734768",
   "metadata": {},
   "outputs": [
    {
     "data": {
      "text/plain": [
       "'16.396'"
      ]
     },
     "execution_count": 69,
     "metadata": {},
     "output_type": "execute_result"
    }
   ],
   "source": [
    "df.loc[74, 'POPULAÇÃO ESTIMADA'].replace(\"'\", \"\")"
   ]
  },
  {
   "cell_type": "code",
   "execution_count": 44,
   "id": "EJGmc6E2N1BS",
   "metadata": {
    "colab": {
     "base_uri": "https://localhost:8080/"
    },
    "id": "EJGmc6E2N1BS",
    "outputId": "b252e2ef-9d83-4e59-db40-328e179d97af"
   },
   "outputs": [
    {
     "data": {
      "text/plain": [
       "pandas.core.frame.DataFrame"
      ]
     },
     "execution_count": 44,
     "metadata": {},
     "output_type": "execute_result"
    }
   ],
   "source": [
    "stats = df.describe()\n",
    "type(stats)"
   ]
  },
  {
   "cell_type": "code",
   "execution_count": 45,
   "id": "psxiEMVvOA5t",
   "metadata": {
    "colab": {
     "base_uri": "https://localhost:8080/"
    },
    "id": "psxiEMVvOA5t",
    "outputId": "32bd5f61-c272-4c81-b49b-2912af680c9b"
   },
   "outputs": [
    {
     "data": {
      "text/plain": [
       "count    2.700000e+01\n",
       "mean     4.558599e+06\n",
       "std      6.443718e+06\n",
       "min      1.742770e+05\n",
       "25%      1.580216e+06\n",
       "50%      2.176006e+06\n",
       "75%      5.095113e+06\n",
       "max      3.176922e+07\n",
       "Name: pop_urbana, dtype: float64"
      ]
     },
     "execution_count": 45,
     "metadata": {},
     "output_type": "execute_result"
    }
   ],
   "source": [
    "stats['pop_urbana']"
   ]
  },
  {
   "cell_type": "code",
   "execution_count": 46,
   "id": "rMtWPCYpRqRl",
   "metadata": {
    "colab": {
     "base_uri": "https://localhost:8080/"
    },
    "id": "rMtWPCYpRqRl",
    "outputId": "7cf4c123-d484-4e1a-c8d0-1709bd892e6f"
   },
   "outputs": [
    {
     "name": "stdout",
     "output_type": "stream",
     "text": [
      "Média: 21000.0\n",
      "Mediana: 10500.0\n"
     ]
    }
   ],
   "source": [
    "salarios = [5000, 3000, 6000, 15000, 4000, 45000, 40000, 50000]\n",
    "\n",
    "import numpy as np\n",
    "\n",
    "print('Média:', np.mean(salarios))\n",
    "print('Mediana:', np.median(salarios))"
   ]
  },
  {
   "cell_type": "markdown",
   "id": "5f46ac7e",
   "metadata": {
    "id": "5f46ac7e"
   },
   "source": [
    "### Outras estatísticas"
   ]
  },
  {
   "cell_type": "code",
   "execution_count": 70,
   "id": "jk8HwVKRSnGn",
   "metadata": {
    "colab": {
     "base_uri": "https://localhost:8080/"
    },
    "id": "jk8HwVKRSnGn",
    "outputId": "19a0d396-4122-479e-e45a-53735b92c55f"
   },
   "outputs": [
    {
     "name": "stderr",
     "output_type": "stream",
     "text": [
      "C:\\Users\\nagamatu\\AppData\\Local\\Temp\\ipykernel_12640\\1113277334.py:2: FutureWarning: Dropping of nuisance columns in DataFrame reductions (with 'numeric_only=None') is deprecated; in a future version this will raise TypeError.  Select only valid columns before calling the reduction.\n",
      "  df.mean()\n"
     ]
    },
    {
     "data": {
      "text/plain": [
       "COD. UF          32.377738\n",
       "COD. MUNIC    15816.982585\n",
       "dtype: float64"
      ]
     },
     "execution_count": 70,
     "metadata": {},
     "output_type": "execute_result"
    }
   ],
   "source": [
    "# calculando uma estatística por vez\n",
    "df.mean()"
   ]
  },
  {
   "cell_type": "code",
   "execution_count": 71,
   "id": "TmJeqRIIS3G0",
   "metadata": {
    "colab": {
     "base_uri": "https://localhost:8080/"
    },
    "id": "TmJeqRIIS3G0",
    "outputId": "2ba98217-88af-4424-f4f6-96816e910fd8"
   },
   "outputs": [
    {
     "name": "stderr",
     "output_type": "stream",
     "text": [
      "C:\\Users\\nagamatu\\AppData\\Local\\Temp\\ipykernel_12640\\530051474.py:1: FutureWarning: Dropping of nuisance columns in DataFrame reductions (with 'numeric_only=None') is deprecated; in a future version this will raise TypeError.  Select only valid columns before calling the reduction.\n",
      "  df.median()\n"
     ]
    },
    {
     "data": {
      "text/plain": [
       "COD. UF          31.0\n",
       "COD. MUNIC    10400.5\n",
       "dtype: float64"
      ]
     },
     "execution_count": 71,
     "metadata": {},
     "output_type": "execute_result"
    }
   ],
   "source": [
    "df.median()"
   ]
  },
  {
   "cell_type": "code",
   "execution_count": 72,
   "id": "MyADP8nSS6mm",
   "metadata": {
    "colab": {
     "base_uri": "https://localhost:8080/",
     "height": 112
    },
    "id": "MyADP8nSS6mm",
    "outputId": "ee6ded62-b960-4a1d-f783-da3c200780dc"
   },
   "outputs": [
    {
     "data": {
      "text/html": [
       "<div>\n",
       "<style scoped>\n",
       "    .dataframe tbody tr th:only-of-type {\n",
       "        vertical-align: middle;\n",
       "    }\n",
       "\n",
       "    .dataframe tbody tr th {\n",
       "        vertical-align: top;\n",
       "    }\n",
       "\n",
       "    .dataframe thead th {\n",
       "        text-align: right;\n",
       "    }\n",
       "</style>\n",
       "<table border=\"1\" class=\"dataframe\">\n",
       "  <thead>\n",
       "    <tr style=\"text-align: right;\">\n",
       "      <th></th>\n",
       "      <th>COD. UF</th>\n",
       "      <th>COD. MUNIC</th>\n",
       "    </tr>\n",
       "  </thead>\n",
       "  <tbody>\n",
       "    <tr>\n",
       "      <th>0.25</th>\n",
       "      <td>25.0</td>\n",
       "      <td>4507.25</td>\n",
       "    </tr>\n",
       "    <tr>\n",
       "      <th>0.75</th>\n",
       "      <td>41.0</td>\n",
       "      <td>20853.00</td>\n",
       "    </tr>\n",
       "  </tbody>\n",
       "</table>\n",
       "</div>"
      ],
      "text/plain": [
       "      COD. UF  COD. MUNIC\n",
       "0.25     25.0     4507.25\n",
       "0.75     41.0    20853.00"
      ]
     },
     "execution_count": 72,
     "metadata": {},
     "output_type": "execute_result"
    }
   ],
   "source": [
    "df.quantile([0.25, 0.75])"
   ]
  },
  {
   "cell_type": "code",
   "execution_count": 73,
   "id": "izufBy8KTbOb",
   "metadata": {
    "colab": {
     "base_uri": "https://localhost:8080/",
     "height": 112
    },
    "id": "izufBy8KTbOb",
    "outputId": "fc895601-86f7-4ff8-acc4-a76b5c1dc649"
   },
   "outputs": [
    {
     "data": {
      "text/html": [
       "<div>\n",
       "<style scoped>\n",
       "    .dataframe tbody tr th:only-of-type {\n",
       "        vertical-align: middle;\n",
       "    }\n",
       "\n",
       "    .dataframe tbody tr th {\n",
       "        vertical-align: top;\n",
       "    }\n",
       "\n",
       "    .dataframe thead th {\n",
       "        text-align: right;\n",
       "    }\n",
       "</style>\n",
       "<table border=\"1\" class=\"dataframe\">\n",
       "  <thead>\n",
       "    <tr style=\"text-align: right;\">\n",
       "      <th></th>\n",
       "      <th>COD. UF</th>\n",
       "      <th>COD. MUNIC</th>\n",
       "    </tr>\n",
       "  </thead>\n",
       "  <tbody>\n",
       "    <tr>\n",
       "      <th>0.01</th>\n",
       "      <td>12.0</td>\n",
       "      <td>142.14</td>\n",
       "    </tr>\n",
       "    <tr>\n",
       "      <th>0.99</th>\n",
       "      <td>52.0</td>\n",
       "      <td>67935.07</td>\n",
       "    </tr>\n",
       "  </tbody>\n",
       "</table>\n",
       "</div>"
      ],
      "text/plain": [
       "      COD. UF  COD. MUNIC\n",
       "0.01     12.0      142.14\n",
       "0.99     52.0    67935.07"
      ]
     },
     "execution_count": 73,
     "metadata": {},
     "output_type": "execute_result"
    }
   ],
   "source": [
    "df.quantile([0.01, 0.99])"
   ]
  },
  {
   "cell_type": "code",
   "execution_count": 74,
   "id": "30P1UMeNUK1l",
   "metadata": {
    "colab": {
     "base_uri": "https://localhost:8080/"
    },
    "id": "30P1UMeNUK1l",
    "outputId": "1e6c1fd5-3f26-4c62-ff33-a87d3a1b0525"
   },
   "outputs": [
    {
     "data": {
      "text/plain": [
       "COD. UF       11\n",
       "COD. MUNIC    13\n",
       "dtype: int64"
      ]
     },
     "execution_count": 74,
     "metadata": {},
     "output_type": "execute_result"
    }
   ],
   "source": [
    "df.min(numeric_only=True)"
   ]
  },
  {
   "cell_type": "code",
   "execution_count": 75,
   "id": "rCjNVtseUW6l",
   "metadata": {
    "colab": {
     "base_uri": "https://localhost:8080/",
     "height": 206
    },
    "id": "rCjNVtseUW6l",
    "outputId": "a287bfde-5ba4-4bbe-b4af-40778ae9b661"
   },
   "outputs": [
    {
     "data": {
      "text/html": [
       "<div>\n",
       "<style scoped>\n",
       "    .dataframe tbody tr th:only-of-type {\n",
       "        vertical-align: middle;\n",
       "    }\n",
       "\n",
       "    .dataframe tbody tr th {\n",
       "        vertical-align: top;\n",
       "    }\n",
       "\n",
       "    .dataframe thead th {\n",
       "        text-align: right;\n",
       "    }\n",
       "</style>\n",
       "<table border=\"1\" class=\"dataframe\">\n",
       "  <thead>\n",
       "    <tr style=\"text-align: right;\">\n",
       "      <th></th>\n",
       "      <th>UF</th>\n",
       "      <th>COD. UF</th>\n",
       "      <th>COD. MUNIC</th>\n",
       "      <th>NOME DO MUNICÍPIO</th>\n",
       "      <th>POPULAÇÃO ESTIMADA</th>\n",
       "    </tr>\n",
       "  </thead>\n",
       "  <tbody>\n",
       "    <tr>\n",
       "      <th>0</th>\n",
       "      <td>RO</td>\n",
       "      <td>11</td>\n",
       "      <td>15</td>\n",
       "      <td>Alta Floresta D'Oeste</td>\n",
       "      <td>22.516</td>\n",
       "    </tr>\n",
       "    <tr>\n",
       "      <th>1</th>\n",
       "      <td>RO</td>\n",
       "      <td>11</td>\n",
       "      <td>23</td>\n",
       "      <td>Ariquemes</td>\n",
       "      <td>111.148</td>\n",
       "    </tr>\n",
       "    <tr>\n",
       "      <th>2</th>\n",
       "      <td>RO</td>\n",
       "      <td>11</td>\n",
       "      <td>31</td>\n",
       "      <td>Cabixi</td>\n",
       "      <td>5.067</td>\n",
       "    </tr>\n",
       "    <tr>\n",
       "      <th>3</th>\n",
       "      <td>RO</td>\n",
       "      <td>11</td>\n",
       "      <td>49</td>\n",
       "      <td>Cacoal</td>\n",
       "      <td>86.416</td>\n",
       "    </tr>\n",
       "    <tr>\n",
       "      <th>4</th>\n",
       "      <td>RO</td>\n",
       "      <td>11</td>\n",
       "      <td>56</td>\n",
       "      <td>Cerejeiras</td>\n",
       "      <td>16.088</td>\n",
       "    </tr>\n",
       "  </tbody>\n",
       "</table>\n",
       "</div>"
      ],
      "text/plain": [
       "   UF  COD. UF  COD. MUNIC      NOME DO MUNICÍPIO POPULAÇÃO ESTIMADA\n",
       "0  RO       11          15  Alta Floresta D'Oeste             22.516\n",
       "1  RO       11          23              Ariquemes            111.148\n",
       "2  RO       11          31                 Cabixi              5.067\n",
       "3  RO       11          49                 Cacoal             86.416\n",
       "4  RO       11          56             Cerejeiras             16.088"
      ]
     },
     "execution_count": 75,
     "metadata": {},
     "output_type": "execute_result"
    }
   ],
   "source": [
    "df.head()"
   ]
  },
  {
   "cell_type": "code",
   "execution_count": 76,
   "id": "mw_lIPP1Ui_8",
   "metadata": {
    "colab": {
     "base_uri": "https://localhost:8080/",
     "height": 237
    },
    "id": "mw_lIPP1Ui_8",
    "outputId": "bf2f0c34-928f-49b7-a4f7-9060a617f944"
   },
   "outputs": [
    {
     "ename": "KeyError",
     "evalue": "'regiao'",
     "output_type": "error",
     "traceback": [
      "\u001b[1;31m---------------------------------------------------------------------------\u001b[0m",
      "\u001b[1;31mKeyError\u001b[0m                                  Traceback (most recent call last)",
      "\u001b[1;32m~\\AppData\\Local\\Temp\\ipykernel_12640\\2587067771.py\u001b[0m in \u001b[0;36m<module>\u001b[1;34m\u001b[0m\n\u001b[0;32m      1\u001b[0m \u001b[1;31m# se quisermos estatísticas separadas por região\u001b[0m\u001b[1;33m\u001b[0m\u001b[1;33m\u001b[0m\u001b[0m\n\u001b[1;32m----> 2\u001b[1;33m \u001b[0mdf\u001b[0m\u001b[1;33m.\u001b[0m\u001b[0mgroupby\u001b[0m\u001b[1;33m(\u001b[0m\u001b[1;34m'regiao'\u001b[0m\u001b[1;33m)\u001b[0m\u001b[1;33m.\u001b[0m\u001b[0mmean\u001b[0m\u001b[1;33m(\u001b[0m\u001b[1;33m)\u001b[0m\u001b[1;33m\u001b[0m\u001b[1;33m\u001b[0m\u001b[0m\n\u001b[0m",
      "\u001b[1;32m~\\Anaconda3\\lib\\site-packages\\pandas\\core\\frame.py\u001b[0m in \u001b[0;36mgroupby\u001b[1;34m(self, by, axis, level, as_index, sort, group_keys, squeeze, observed, dropna)\u001b[0m\n\u001b[0;32m   7719\u001b[0m         \u001b[1;31m# error: Argument \"squeeze\" to \"DataFrameGroupBy\" has incompatible type\u001b[0m\u001b[1;33m\u001b[0m\u001b[1;33m\u001b[0m\u001b[0m\n\u001b[0;32m   7720\u001b[0m         \u001b[1;31m# \"Union[bool, NoDefault]\"; expected \"bool\"\u001b[0m\u001b[1;33m\u001b[0m\u001b[1;33m\u001b[0m\u001b[0m\n\u001b[1;32m-> 7721\u001b[1;33m         return DataFrameGroupBy(\n\u001b[0m\u001b[0;32m   7722\u001b[0m             \u001b[0mobj\u001b[0m\u001b[1;33m=\u001b[0m\u001b[0mself\u001b[0m\u001b[1;33m,\u001b[0m\u001b[1;33m\u001b[0m\u001b[1;33m\u001b[0m\u001b[0m\n\u001b[0;32m   7723\u001b[0m             \u001b[0mkeys\u001b[0m\u001b[1;33m=\u001b[0m\u001b[0mby\u001b[0m\u001b[1;33m,\u001b[0m\u001b[1;33m\u001b[0m\u001b[1;33m\u001b[0m\u001b[0m\n",
      "\u001b[1;32m~\\Anaconda3\\lib\\site-packages\\pandas\\core\\groupby\\groupby.py\u001b[0m in \u001b[0;36m__init__\u001b[1;34m(self, obj, keys, axis, level, grouper, exclusions, selection, as_index, sort, group_keys, squeeze, observed, mutated, dropna)\u001b[0m\n\u001b[0;32m    880\u001b[0m             \u001b[1;32mfrom\u001b[0m \u001b[0mpandas\u001b[0m\u001b[1;33m.\u001b[0m\u001b[0mcore\u001b[0m\u001b[1;33m.\u001b[0m\u001b[0mgroupby\u001b[0m\u001b[1;33m.\u001b[0m\u001b[0mgrouper\u001b[0m \u001b[1;32mimport\u001b[0m \u001b[0mget_grouper\u001b[0m\u001b[1;33m\u001b[0m\u001b[1;33m\u001b[0m\u001b[0m\n\u001b[0;32m    881\u001b[0m \u001b[1;33m\u001b[0m\u001b[0m\n\u001b[1;32m--> 882\u001b[1;33m             grouper, exclusions, obj = get_grouper(\n\u001b[0m\u001b[0;32m    883\u001b[0m                 \u001b[0mobj\u001b[0m\u001b[1;33m,\u001b[0m\u001b[1;33m\u001b[0m\u001b[1;33m\u001b[0m\u001b[0m\n\u001b[0;32m    884\u001b[0m                 \u001b[0mkeys\u001b[0m\u001b[1;33m,\u001b[0m\u001b[1;33m\u001b[0m\u001b[1;33m\u001b[0m\u001b[0m\n",
      "\u001b[1;32m~\\Anaconda3\\lib\\site-packages\\pandas\\core\\groupby\\grouper.py\u001b[0m in \u001b[0;36mget_grouper\u001b[1;34m(obj, key, axis, level, sort, observed, mutated, validate, dropna)\u001b[0m\n\u001b[0;32m    880\u001b[0m                 \u001b[0min_axis\u001b[0m\u001b[1;33m,\u001b[0m \u001b[0mlevel\u001b[0m\u001b[1;33m,\u001b[0m \u001b[0mgpr\u001b[0m \u001b[1;33m=\u001b[0m \u001b[1;32mFalse\u001b[0m\u001b[1;33m,\u001b[0m \u001b[0mgpr\u001b[0m\u001b[1;33m,\u001b[0m \u001b[1;32mNone\u001b[0m\u001b[1;33m\u001b[0m\u001b[1;33m\u001b[0m\u001b[0m\n\u001b[0;32m    881\u001b[0m             \u001b[1;32melse\u001b[0m\u001b[1;33m:\u001b[0m\u001b[1;33m\u001b[0m\u001b[1;33m\u001b[0m\u001b[0m\n\u001b[1;32m--> 882\u001b[1;33m                 \u001b[1;32mraise\u001b[0m \u001b[0mKeyError\u001b[0m\u001b[1;33m(\u001b[0m\u001b[0mgpr\u001b[0m\u001b[1;33m)\u001b[0m\u001b[1;33m\u001b[0m\u001b[1;33m\u001b[0m\u001b[0m\n\u001b[0m\u001b[0;32m    883\u001b[0m         \u001b[1;32melif\u001b[0m \u001b[0misinstance\u001b[0m\u001b[1;33m(\u001b[0m\u001b[0mgpr\u001b[0m\u001b[1;33m,\u001b[0m \u001b[0mGrouper\u001b[0m\u001b[1;33m)\u001b[0m \u001b[1;32mand\u001b[0m \u001b[0mgpr\u001b[0m\u001b[1;33m.\u001b[0m\u001b[0mkey\u001b[0m \u001b[1;32mis\u001b[0m \u001b[1;32mnot\u001b[0m \u001b[1;32mNone\u001b[0m\u001b[1;33m:\u001b[0m\u001b[1;33m\u001b[0m\u001b[1;33m\u001b[0m\u001b[0m\n\u001b[0;32m    884\u001b[0m             \u001b[1;31m# Add key to exclusions\u001b[0m\u001b[1;33m\u001b[0m\u001b[1;33m\u001b[0m\u001b[0m\n",
      "\u001b[1;31mKeyError\u001b[0m: 'regiao'"
     ]
    }
   ],
   "source": [
    "# se quisermos estatísticas separadas por região\n",
    "df.groupby('regiao').mean()"
   ]
  },
  {
   "cell_type": "markdown",
   "id": "9cc2b3b5",
   "metadata": {
    "id": "9cc2b3b5"
   },
   "source": [
    "### Importando novo Dataframe"
   ]
  },
  {
   "cell_type": "code",
   "execution_count": 119,
   "id": "09fa7238",
   "metadata": {},
   "outputs": [],
   "source": [
    "df_muni = pd.read_table('./dados/dados_parciais.txt')"
   ]
  },
  {
   "cell_type": "code",
   "execution_count": 122,
   "id": "7L-JQlU8VIC0",
   "metadata": {
    "id": "7L-JQlU8VIC0"
   },
   "outputs": [],
   "source": [
    "# importando o dataframe de municípios\n",
    "df_muni = pd.read_table('./dados/dados_parciais.txt',\n",
    "                        sep=';', decimal=',')"
   ]
  },
  {
   "cell_type": "code",
   "execution_count": 123,
   "id": "wyubOqaFVqzi",
   "metadata": {
    "colab": {
     "base_uri": "https://localhost:8080/",
     "height": 363
    },
    "id": "wyubOqaFVqzi",
    "outputId": "f6af2cd6-f6a9-4779-fb64-39f3357d3188"
   },
   "outputs": [
    {
     "data": {
      "text/html": [
       "<div>\n",
       "<style scoped>\n",
       "    .dataframe tbody tr th:only-of-type {\n",
       "        vertical-align: middle;\n",
       "    }\n",
       "\n",
       "    .dataframe tbody tr th {\n",
       "        vertical-align: top;\n",
       "    }\n",
       "\n",
       "    .dataframe thead th {\n",
       "        text-align: right;\n",
       "    }\n",
       "</style>\n",
       "<table border=\"1\" class=\"dataframe\">\n",
       "  <thead>\n",
       "    <tr style=\"text-align: right;\">\n",
       "      <th></th>\n",
       "      <th>regiao</th>\n",
       "      <th>uf</th>\n",
       "      <th>superficie</th>\n",
       "      <th>pop_urbana</th>\n",
       "      <th>pop_rural</th>\n",
       "      <th>total</th>\n",
       "    </tr>\n",
       "  </thead>\n",
       "  <tbody>\n",
       "    <tr>\n",
       "      <th>0</th>\n",
       "      <td>Norte</td>\n",
       "      <td>RO</td>\n",
       "      <td>238513</td>\n",
       "      <td>762864.0</td>\n",
       "      <td>468143.0</td>\n",
       "      <td>1231007.0</td>\n",
       "    </tr>\n",
       "    <tr>\n",
       "      <th>1</th>\n",
       "      <td>Norte</td>\n",
       "      <td>AC</td>\n",
       "      <td>153150</td>\n",
       "      <td>315401.0</td>\n",
       "      <td>168322.0</td>\n",
       "      <td>483726.0</td>\n",
       "    </tr>\n",
       "    <tr>\n",
       "      <th>2</th>\n",
       "      <td>Norte</td>\n",
       "      <td>AM</td>\n",
       "      <td>1577820</td>\n",
       "      <td>1766166.0</td>\n",
       "      <td>623113.0</td>\n",
       "      <td>2389279.0</td>\n",
       "    </tr>\n",
       "    <tr>\n",
       "      <th>3</th>\n",
       "      <td>Norte</td>\n",
       "      <td>RR</td>\n",
       "      <td>225116</td>\n",
       "      <td>174277.0</td>\n",
       "      <td>72854.0</td>\n",
       "      <td>247131.0</td>\n",
       "    </tr>\n",
       "    <tr>\n",
       "      <th>4</th>\n",
       "      <td>Norte</td>\n",
       "      <td>PA</td>\n",
       "      <td>1253165</td>\n",
       "      <td>2949017.0</td>\n",
       "      <td>2561832.0</td>\n",
       "      <td>5510849.0</td>\n",
       "    </tr>\n",
       "    <tr>\n",
       "      <th>5</th>\n",
       "      <td>Norte</td>\n",
       "      <td>AP</td>\n",
       "      <td>143454</td>\n",
       "      <td>330590.0</td>\n",
       "      <td>48869.0</td>\n",
       "      <td>379459.0</td>\n",
       "    </tr>\n",
       "    <tr>\n",
       "      <th>6</th>\n",
       "      <td>Norte</td>\n",
       "      <td>TO</td>\n",
       "      <td>278421</td>\n",
       "      <td>741009.0</td>\n",
       "      <td>307633.0</td>\n",
       "      <td>1048642.0</td>\n",
       "    </tr>\n",
       "    <tr>\n",
       "      <th>7</th>\n",
       "      <td>Nordeste</td>\n",
       "      <td>MA</td>\n",
       "      <td>333366</td>\n",
       "      <td>2711557.0</td>\n",
       "      <td>2511008.0</td>\n",
       "      <td>5222565.0</td>\n",
       "    </tr>\n",
       "    <tr>\n",
       "      <th>8</th>\n",
       "      <td>Nordeste</td>\n",
       "      <td>PI</td>\n",
       "      <td>252379</td>\n",
       "      <td>1556115.0</td>\n",
       "      <td>1117061.0</td>\n",
       "      <td>2673176.0</td>\n",
       "    </tr>\n",
       "    <tr>\n",
       "      <th>9</th>\n",
       "      <td>Nordeste</td>\n",
       "      <td>Litígio*</td>\n",
       "      <td>2977</td>\n",
       "      <td>NaN</td>\n",
       "      <td>NaN</td>\n",
       "      <td>NaN</td>\n",
       "    </tr>\n",
       "  </tbody>\n",
       "</table>\n",
       "</div>"
      ],
      "text/plain": [
       "     regiao        uf  superficie  pop_urbana  pop_rural      total\n",
       "0     Norte        RO      238513    762864.0   468143.0  1231007.0\n",
       "1     Norte        AC      153150    315401.0   168322.0   483726.0\n",
       "2     Norte        AM     1577820   1766166.0   623113.0  2389279.0\n",
       "3     Norte        RR      225116    174277.0    72854.0   247131.0\n",
       "4     Norte        PA     1253165   2949017.0  2561832.0  5510849.0\n",
       "5     Norte        AP      143454    330590.0    48869.0   379459.0\n",
       "6     Norte        TO      278421    741009.0   307633.0  1048642.0\n",
       "7  Nordeste        MA      333366   2711557.0  2511008.0  5222565.0\n",
       "8  Nordeste        PI      252379   1556115.0  1117061.0  2673176.0\n",
       "9  Nordeste  Litígio*        2977         NaN        NaN        NaN"
      ]
     },
     "execution_count": 123,
     "metadata": {},
     "output_type": "execute_result"
    }
   ],
   "source": [
    "df_muni.head(10)"
   ]
  },
  {
   "cell_type": "markdown",
   "id": "8e83c773",
   "metadata": {
    "id": "8e83c773"
   },
   "source": [
    "### Colunas\n",
    "  \n",
    "Podemos acessar os dados de uma colunas de três métodos"
   ]
  },
  {
   "cell_type": "code",
   "execution_count": 124,
   "id": "SKJugtfJV1WL",
   "metadata": {
    "colab": {
     "base_uri": "https://localhost:8080/"
    },
    "id": "SKJugtfJV1WL",
    "outputId": "630b0fb7-1123-46a3-be68-a00489064ea1"
   },
   "outputs": [
    {
     "data": {
      "text/plain": [
       "0           RO\n",
       "1           AC\n",
       "2           AM\n",
       "3           RR\n",
       "4           PA\n",
       "5           AP\n",
       "6           TO\n",
       "7           MA\n",
       "8           PI\n",
       "9     Litígio*\n",
       "10          CE\n",
       "11          RN\n",
       "12          PB\n",
       "13        PE**\n",
       "14          AL\n",
       "15          SE\n",
       "16          BA\n",
       "17          MG\n",
       "18          ES\n",
       "19          RJ\n",
       "20          SP\n",
       "21          PR\n",
       "22          SC\n",
       "23          RS\n",
       "24          MS\n",
       "25          MT\n",
       "26          GO\n",
       "27          DF\n",
       "28    Ilhas***\n",
       "Name: uf, dtype: object"
      ]
     },
     "execution_count": 124,
     "metadata": {},
     "output_type": "execute_result"
    }
   ],
   "source": [
    "df_muni.uf"
   ]
  },
  {
   "cell_type": "code",
   "execution_count": 125,
   "id": "um1RZvWRWDeN",
   "metadata": {
    "colab": {
     "base_uri": "https://localhost:8080/"
    },
    "id": "um1RZvWRWDeN",
    "outputId": "2973fdc1-f1bc-468f-c66d-470dc2c35b40"
   },
   "outputs": [
    {
     "data": {
      "text/plain": [
       "pandas.core.series.Series"
      ]
     },
     "execution_count": 125,
     "metadata": {},
     "output_type": "execute_result"
    }
   ],
   "source": [
    "type(df_muni.uf)"
   ]
  },
  {
   "cell_type": "code",
   "execution_count": 126,
   "id": "Cu_Mpbv6WJV8",
   "metadata": {
    "colab": {
     "base_uri": "https://localhost:8080/"
    },
    "id": "Cu_Mpbv6WJV8",
    "outputId": "21e6e9da-6875-45f6-bf39-4b34820837ba"
   },
   "outputs": [
    {
     "data": {
      "text/plain": [
       "0           RO\n",
       "1           AC\n",
       "2           AM\n",
       "3           RR\n",
       "4           PA\n",
       "5           AP\n",
       "6           TO\n",
       "7           MA\n",
       "8           PI\n",
       "9     Litígio*\n",
       "10          CE\n",
       "11          RN\n",
       "12          PB\n",
       "13        PE**\n",
       "14          AL\n",
       "15          SE\n",
       "16          BA\n",
       "17          MG\n",
       "18          ES\n",
       "19          RJ\n",
       "20          SP\n",
       "21          PR\n",
       "22          SC\n",
       "23          RS\n",
       "24          MS\n",
       "25          MT\n",
       "26          GO\n",
       "27          DF\n",
       "28    Ilhas***\n",
       "Name: uf, dtype: object"
      ]
     },
     "execution_count": 126,
     "metadata": {},
     "output_type": "execute_result"
    }
   ],
   "source": [
    "df_muni['uf']"
   ]
  },
  {
   "cell_type": "code",
   "execution_count": 127,
   "id": "_AVKeoVoWPaL",
   "metadata": {
    "colab": {
     "base_uri": "https://localhost:8080/"
    },
    "id": "_AVKeoVoWPaL",
    "outputId": "384f7dd4-eca5-4b3f-a068-b273046a3157"
   },
   "outputs": [
    {
     "data": {
      "text/plain": [
       "pandas.core.series.Series"
      ]
     },
     "execution_count": 127,
     "metadata": {},
     "output_type": "execute_result"
    }
   ],
   "source": [
    "type(df_muni['uf'])"
   ]
  },
  {
   "cell_type": "code",
   "execution_count": 128,
   "id": "-ZkZu9QTWRnz",
   "metadata": {
    "colab": {
     "base_uri": "https://localhost:8080/",
     "height": 959
    },
    "id": "-ZkZu9QTWRnz",
    "outputId": "0811c96b-a4bf-49d7-e8d9-df7f7e63206a"
   },
   "outputs": [
    {
     "data": {
      "text/html": [
       "<div>\n",
       "<style scoped>\n",
       "    .dataframe tbody tr th:only-of-type {\n",
       "        vertical-align: middle;\n",
       "    }\n",
       "\n",
       "    .dataframe tbody tr th {\n",
       "        vertical-align: top;\n",
       "    }\n",
       "\n",
       "    .dataframe thead th {\n",
       "        text-align: right;\n",
       "    }\n",
       "</style>\n",
       "<table border=\"1\" class=\"dataframe\">\n",
       "  <thead>\n",
       "    <tr style=\"text-align: right;\">\n",
       "      <th></th>\n",
       "      <th>uf</th>\n",
       "    </tr>\n",
       "  </thead>\n",
       "  <tbody>\n",
       "    <tr>\n",
       "      <th>0</th>\n",
       "      <td>RO</td>\n",
       "    </tr>\n",
       "    <tr>\n",
       "      <th>1</th>\n",
       "      <td>AC</td>\n",
       "    </tr>\n",
       "    <tr>\n",
       "      <th>2</th>\n",
       "      <td>AM</td>\n",
       "    </tr>\n",
       "    <tr>\n",
       "      <th>3</th>\n",
       "      <td>RR</td>\n",
       "    </tr>\n",
       "    <tr>\n",
       "      <th>4</th>\n",
       "      <td>PA</td>\n",
       "    </tr>\n",
       "    <tr>\n",
       "      <th>5</th>\n",
       "      <td>AP</td>\n",
       "    </tr>\n",
       "    <tr>\n",
       "      <th>6</th>\n",
       "      <td>TO</td>\n",
       "    </tr>\n",
       "    <tr>\n",
       "      <th>7</th>\n",
       "      <td>MA</td>\n",
       "    </tr>\n",
       "    <tr>\n",
       "      <th>8</th>\n",
       "      <td>PI</td>\n",
       "    </tr>\n",
       "    <tr>\n",
       "      <th>9</th>\n",
       "      <td>Litígio*</td>\n",
       "    </tr>\n",
       "    <tr>\n",
       "      <th>10</th>\n",
       "      <td>CE</td>\n",
       "    </tr>\n",
       "    <tr>\n",
       "      <th>11</th>\n",
       "      <td>RN</td>\n",
       "    </tr>\n",
       "    <tr>\n",
       "      <th>12</th>\n",
       "      <td>PB</td>\n",
       "    </tr>\n",
       "    <tr>\n",
       "      <th>13</th>\n",
       "      <td>PE**</td>\n",
       "    </tr>\n",
       "    <tr>\n",
       "      <th>14</th>\n",
       "      <td>AL</td>\n",
       "    </tr>\n",
       "    <tr>\n",
       "      <th>15</th>\n",
       "      <td>SE</td>\n",
       "    </tr>\n",
       "    <tr>\n",
       "      <th>16</th>\n",
       "      <td>BA</td>\n",
       "    </tr>\n",
       "    <tr>\n",
       "      <th>17</th>\n",
       "      <td>MG</td>\n",
       "    </tr>\n",
       "    <tr>\n",
       "      <th>18</th>\n",
       "      <td>ES</td>\n",
       "    </tr>\n",
       "    <tr>\n",
       "      <th>19</th>\n",
       "      <td>RJ</td>\n",
       "    </tr>\n",
       "    <tr>\n",
       "      <th>20</th>\n",
       "      <td>SP</td>\n",
       "    </tr>\n",
       "    <tr>\n",
       "      <th>21</th>\n",
       "      <td>PR</td>\n",
       "    </tr>\n",
       "    <tr>\n",
       "      <th>22</th>\n",
       "      <td>SC</td>\n",
       "    </tr>\n",
       "    <tr>\n",
       "      <th>23</th>\n",
       "      <td>RS</td>\n",
       "    </tr>\n",
       "    <tr>\n",
       "      <th>24</th>\n",
       "      <td>MS</td>\n",
       "    </tr>\n",
       "    <tr>\n",
       "      <th>25</th>\n",
       "      <td>MT</td>\n",
       "    </tr>\n",
       "    <tr>\n",
       "      <th>26</th>\n",
       "      <td>GO</td>\n",
       "    </tr>\n",
       "    <tr>\n",
       "      <th>27</th>\n",
       "      <td>DF</td>\n",
       "    </tr>\n",
       "    <tr>\n",
       "      <th>28</th>\n",
       "      <td>Ilhas***</td>\n",
       "    </tr>\n",
       "  </tbody>\n",
       "</table>\n",
       "</div>"
      ],
      "text/plain": [
       "          uf\n",
       "0         RO\n",
       "1         AC\n",
       "2         AM\n",
       "3         RR\n",
       "4         PA\n",
       "5         AP\n",
       "6         TO\n",
       "7         MA\n",
       "8         PI\n",
       "9   Litígio*\n",
       "10        CE\n",
       "11        RN\n",
       "12        PB\n",
       "13      PE**\n",
       "14        AL\n",
       "15        SE\n",
       "16        BA\n",
       "17        MG\n",
       "18        ES\n",
       "19        RJ\n",
       "20        SP\n",
       "21        PR\n",
       "22        SC\n",
       "23        RS\n",
       "24        MS\n",
       "25        MT\n",
       "26        GO\n",
       "27        DF\n",
       "28  Ilhas***"
      ]
     },
     "execution_count": 128,
     "metadata": {},
     "output_type": "execute_result"
    }
   ],
   "source": [
    "# terceira forma - retorna um dataframe\n",
    "df_muni[['uf']]"
   ]
  },
  {
   "cell_type": "code",
   "execution_count": 129,
   "id": "8T1tXrEHWcWr",
   "metadata": {
    "colab": {
     "base_uri": "https://localhost:8080/"
    },
    "id": "8T1tXrEHWcWr",
    "outputId": "a85729be-f86e-4999-e3bc-36a028ce1cb0"
   },
   "outputs": [
    {
     "data": {
      "text/plain": [
       "pandas.core.frame.DataFrame"
      ]
     },
     "execution_count": 129,
     "metadata": {},
     "output_type": "execute_result"
    }
   ],
   "source": [
    "type(df_muni[['uf']])"
   ]
  },
  {
   "cell_type": "markdown",
   "id": "c33b2cbc",
   "metadata": {
    "id": "c33b2cbc"
   },
   "source": [
    "### Query\n",
    "  \n",
    "O método query permite realizar filtros dentro do nosso dataframe semelhante ao utilizado na linguagem SQL na clausula where"
   ]
  },
  {
   "cell_type": "code",
   "execution_count": 130,
   "id": "BA0l_z1SX5nb",
   "metadata": {
    "colab": {
     "base_uri": "https://localhost:8080/",
     "height": 802
    },
    "id": "BA0l_z1SX5nb",
    "outputId": "be5f5ff7-526a-4795-984d-22e470a23a2d"
   },
   "outputs": [
    {
     "data": {
      "text/html": [
       "<div>\n",
       "<style scoped>\n",
       "    .dataframe tbody tr th:only-of-type {\n",
       "        vertical-align: middle;\n",
       "    }\n",
       "\n",
       "    .dataframe tbody tr th {\n",
       "        vertical-align: top;\n",
       "    }\n",
       "\n",
       "    .dataframe thead th {\n",
       "        text-align: right;\n",
       "    }\n",
       "</style>\n",
       "<table border=\"1\" class=\"dataframe\">\n",
       "  <thead>\n",
       "    <tr style=\"text-align: right;\">\n",
       "      <th></th>\n",
       "      <th>regiao</th>\n",
       "      <th>uf</th>\n",
       "      <th>superficie</th>\n",
       "      <th>pop_urbana</th>\n",
       "      <th>pop_rural</th>\n",
       "      <th>total</th>\n",
       "      <th>razao_urbana_rural</th>\n",
       "      <th>frac_urbana</th>\n",
       "      <th>indicador</th>\n",
       "      <th>regiao_pc</th>\n",
       "      <th>indicador2</th>\n",
       "    </tr>\n",
       "  </thead>\n",
       "  <tbody>\n",
       "    <tr>\n",
       "      <th>0</th>\n",
       "      <td>Norte</td>\n",
       "      <td>RO</td>\n",
       "      <td>238513</td>\n",
       "      <td>762864.0</td>\n",
       "      <td>468143.0</td>\n",
       "      <td>1231007.0</td>\n",
       "      <td>1.629553</td>\n",
       "      <td>0.619707</td>\n",
       "      <td>0</td>\n",
       "      <td>NaN</td>\n",
       "      <td>0.528660</td>\n",
       "    </tr>\n",
       "    <tr>\n",
       "      <th>2</th>\n",
       "      <td>Norte</td>\n",
       "      <td>AM</td>\n",
       "      <td>1577820</td>\n",
       "      <td>1766166.0</td>\n",
       "      <td>623113.0</td>\n",
       "      <td>2389279.0</td>\n",
       "      <td>2.834423</td>\n",
       "      <td>0.739205</td>\n",
       "      <td>1</td>\n",
       "      <td>NaN</td>\n",
       "      <td>0.614438</td>\n",
       "    </tr>\n",
       "    <tr>\n",
       "      <th>4</th>\n",
       "      <td>Norte</td>\n",
       "      <td>PA</td>\n",
       "      <td>1253165</td>\n",
       "      <td>2949017.0</td>\n",
       "      <td>2561832.0</td>\n",
       "      <td>5510849.0</td>\n",
       "      <td>1.151136</td>\n",
       "      <td>0.535129</td>\n",
       "      <td>0</td>\n",
       "      <td>NaN</td>\n",
       "      <td>0.502468</td>\n",
       "    </tr>\n",
       "    <tr>\n",
       "      <th>6</th>\n",
       "      <td>Norte</td>\n",
       "      <td>TO</td>\n",
       "      <td>278421</td>\n",
       "      <td>741009.0</td>\n",
       "      <td>307633.0</td>\n",
       "      <td>1048642.0</td>\n",
       "      <td>2.408744</td>\n",
       "      <td>0.706637</td>\n",
       "      <td>1</td>\n",
       "      <td>NaN</td>\n",
       "      <td>0.585398</td>\n",
       "    </tr>\n",
       "    <tr>\n",
       "      <th>7</th>\n",
       "      <td>Nordeste</td>\n",
       "      <td>MA</td>\n",
       "      <td>333366</td>\n",
       "      <td>2711557.0</td>\n",
       "      <td>2511008.0</td>\n",
       "      <td>5222565.0</td>\n",
       "      <td>1.079868</td>\n",
       "      <td>0.519200</td>\n",
       "      <td>0</td>\n",
       "      <td>NE</td>\n",
       "      <td>0.500737</td>\n",
       "    </tr>\n",
       "    <tr>\n",
       "      <th>8</th>\n",
       "      <td>Nordeste</td>\n",
       "      <td>PI</td>\n",
       "      <td>252379</td>\n",
       "      <td>1556115.0</td>\n",
       "      <td>1117061.0</td>\n",
       "      <td>2673176.0</td>\n",
       "      <td>1.393044</td>\n",
       "      <td>0.582122</td>\n",
       "      <td>0</td>\n",
       "      <td>NE</td>\n",
       "      <td>0.513488</td>\n",
       "    </tr>\n",
       "    <tr>\n",
       "      <th>10</th>\n",
       "      <td>Nordeste</td>\n",
       "      <td>CE</td>\n",
       "      <td>146348</td>\n",
       "      <td>4713311.0</td>\n",
       "      <td>2096483.0</td>\n",
       "      <td>6809794.0</td>\n",
       "      <td>2.248199</td>\n",
       "      <td>0.692137</td>\n",
       "      <td>0</td>\n",
       "      <td>NE</td>\n",
       "      <td>0.573833</td>\n",
       "    </tr>\n",
       "    <tr>\n",
       "      <th>11</th>\n",
       "      <td>Nordeste</td>\n",
       "      <td>RN</td>\n",
       "      <td>53307</td>\n",
       "      <td>1843486.0</td>\n",
       "      <td>715174.0</td>\n",
       "      <td>2558660.0</td>\n",
       "      <td>2.577675</td>\n",
       "      <td>0.720489</td>\n",
       "      <td>1</td>\n",
       "      <td>NE</td>\n",
       "      <td>0.597231</td>\n",
       "    </tr>\n",
       "    <tr>\n",
       "      <th>12</th>\n",
       "      <td>Nordeste</td>\n",
       "      <td>PB</td>\n",
       "      <td>56585</td>\n",
       "      <td>2261986.0</td>\n",
       "      <td>1043630.0</td>\n",
       "      <td>3305616.0</td>\n",
       "      <td>2.167421</td>\n",
       "      <td>0.684286</td>\n",
       "      <td>0</td>\n",
       "      <td>NE</td>\n",
       "      <td>0.567922</td>\n",
       "    </tr>\n",
       "    <tr>\n",
       "      <th>13</th>\n",
       "      <td>Nordeste</td>\n",
       "      <td>PE**</td>\n",
       "      <td>98938</td>\n",
       "      <td>5476915.0</td>\n",
       "      <td>1922216.0</td>\n",
       "      <td>7399131.0</td>\n",
       "      <td>2.849271</td>\n",
       "      <td>0.740211</td>\n",
       "      <td>1</td>\n",
       "      <td>NE</td>\n",
       "      <td>0.615402</td>\n",
       "    </tr>\n",
       "    <tr>\n",
       "      <th>14</th>\n",
       "      <td>Nordeste</td>\n",
       "      <td>AL</td>\n",
       "      <td>27933</td>\n",
       "      <td>1661914.0</td>\n",
       "      <td>971425.0</td>\n",
       "      <td>2633339.0</td>\n",
       "      <td>1.710800</td>\n",
       "      <td>0.631105</td>\n",
       "      <td>0</td>\n",
       "      <td>NE</td>\n",
       "      <td>0.534377</td>\n",
       "    </tr>\n",
       "    <tr>\n",
       "      <th>15</th>\n",
       "      <td>Nordeste</td>\n",
       "      <td>SE</td>\n",
       "      <td>22050</td>\n",
       "      <td>1140569.0</td>\n",
       "      <td>483606.0</td>\n",
       "      <td>1624175.0</td>\n",
       "      <td>2.358467</td>\n",
       "      <td>0.702245</td>\n",
       "      <td>1</td>\n",
       "      <td>NE</td>\n",
       "      <td>0.581806</td>\n",
       "    </tr>\n",
       "    <tr>\n",
       "      <th>16</th>\n",
       "      <td>Nordeste</td>\n",
       "      <td>BA</td>\n",
       "      <td>567295</td>\n",
       "      <td>7826843.0</td>\n",
       "      <td>4714902.0</td>\n",
       "      <td>12541745.0</td>\n",
       "      <td>1.660022</td>\n",
       "      <td>0.624063</td>\n",
       "      <td>0</td>\n",
       "      <td>NE</td>\n",
       "      <td>0.530783</td>\n",
       "    </tr>\n",
       "    <tr>\n",
       "      <th>17</th>\n",
       "      <td>Sudeste</td>\n",
       "      <td>MG</td>\n",
       "      <td>588384</td>\n",
       "      <td>13074245.0</td>\n",
       "      <td>3598852.0</td>\n",
       "      <td>16673097.0</td>\n",
       "      <td>3.632893</td>\n",
       "      <td>0.784152</td>\n",
       "      <td>1</td>\n",
       "      <td>SE</td>\n",
       "      <td>0.661485</td>\n",
       "    </tr>\n",
       "    <tr>\n",
       "      <th>18</th>\n",
       "      <td>Sudeste</td>\n",
       "      <td>ES</td>\n",
       "      <td>46184</td>\n",
       "      <td>2176006.0</td>\n",
       "      <td>626701.0</td>\n",
       "      <td>2802707.0</td>\n",
       "      <td>3.472160</td>\n",
       "      <td>0.776394</td>\n",
       "      <td>1</td>\n",
       "      <td>SE</td>\n",
       "      <td>0.652788</td>\n",
       "    </tr>\n",
       "    <tr>\n",
       "      <th>19</th>\n",
       "      <td>Sudeste</td>\n",
       "      <td>RJ</td>\n",
       "      <td>43910</td>\n",
       "      <td>12806488.0</td>\n",
       "      <td>599891.0</td>\n",
       "      <td>13406379.0</td>\n",
       "      <td>21.348025</td>\n",
       "      <td>0.955253</td>\n",
       "      <td>1</td>\n",
       "      <td>SE</td>\n",
       "      <td>0.914511</td>\n",
       "    </tr>\n",
       "    <tr>\n",
       "      <th>20</th>\n",
       "      <td>Sudeste</td>\n",
       "      <td>SP</td>\n",
       "      <td>248809</td>\n",
       "      <td>31769219.0</td>\n",
       "      <td>2351667.0</td>\n",
       "      <td>34120886.0</td>\n",
       "      <td>13.509234</td>\n",
       "      <td>0.931078</td>\n",
       "      <td>1</td>\n",
       "      <td>SE</td>\n",
       "      <td>0.871657</td>\n",
       "    </tr>\n",
       "    <tr>\n",
       "      <th>21</th>\n",
       "      <td>Sul</td>\n",
       "      <td>PR</td>\n",
       "      <td>199709</td>\n",
       "      <td>7011990.0</td>\n",
       "      <td>1991814.0</td>\n",
       "      <td>9003804.0</td>\n",
       "      <td>3.520404</td>\n",
       "      <td>0.778781</td>\n",
       "      <td>1</td>\n",
       "      <td>S</td>\n",
       "      <td>0.655438</td>\n",
       "    </tr>\n",
       "    <tr>\n",
       "      <th>22</th>\n",
       "      <td>Sul</td>\n",
       "      <td>SC</td>\n",
       "      <td>95443</td>\n",
       "      <td>3565130.0</td>\n",
       "      <td>1310114.0</td>\n",
       "      <td>4875244.0</td>\n",
       "      <td>2.721236</td>\n",
       "      <td>0.731272</td>\n",
       "      <td>1</td>\n",
       "      <td>S</td>\n",
       "      <td>0.606974</td>\n",
       "    </tr>\n",
       "    <tr>\n",
       "      <th>23</th>\n",
       "      <td>Sul</td>\n",
       "      <td>RS</td>\n",
       "      <td>282062</td>\n",
       "      <td>7581230.0</td>\n",
       "      <td>2056452.0</td>\n",
       "      <td>9637682.0</td>\n",
       "      <td>3.686558</td>\n",
       "      <td>0.786624</td>\n",
       "      <td>1</td>\n",
       "      <td>S</td>\n",
       "      <td>0.664306</td>\n",
       "    </tr>\n",
       "    <tr>\n",
       "      <th>24</th>\n",
       "      <td>Centro-Oeste</td>\n",
       "      <td>MS</td>\n",
       "      <td>358159</td>\n",
       "      <td>1604318.0</td>\n",
       "      <td>323516.0</td>\n",
       "      <td>1927834.0</td>\n",
       "      <td>4.959007</td>\n",
       "      <td>0.832187</td>\n",
       "      <td>1</td>\n",
       "      <td>CO</td>\n",
       "      <td>0.720696</td>\n",
       "    </tr>\n",
       "    <tr>\n",
       "      <th>25</th>\n",
       "      <td>Centro-Oeste</td>\n",
       "      <td>MT</td>\n",
       "      <td>906807</td>\n",
       "      <td>1695548.0</td>\n",
       "      <td>540284.0</td>\n",
       "      <td>2235832.0</td>\n",
       "      <td>3.138253</td>\n",
       "      <td>0.758352</td>\n",
       "      <td>1</td>\n",
       "      <td>CO</td>\n",
       "      <td>0.633492</td>\n",
       "    </tr>\n",
       "    <tr>\n",
       "      <th>26</th>\n",
       "      <td>Centro-Oeste</td>\n",
       "      <td>GO</td>\n",
       "      <td>3412895</td>\n",
       "      <td>3873722.0</td>\n",
       "      <td>642146.0</td>\n",
       "      <td>4515868.0</td>\n",
       "      <td>6.032463</td>\n",
       "      <td>0.857802</td>\n",
       "      <td>1</td>\n",
       "      <td>CO</td>\n",
       "      <td>0.756045</td>\n",
       "    </tr>\n",
       "    <tr>\n",
       "      <th>27</th>\n",
       "      <td>Centro-Oeste</td>\n",
       "      <td>DF</td>\n",
       "      <td>5822</td>\n",
       "      <td>1692248.0</td>\n",
       "      <td>129698.0</td>\n",
       "      <td>1821946.0</td>\n",
       "      <td>13.047603</td>\n",
       "      <td>0.928813</td>\n",
       "      <td>1</td>\n",
       "      <td>CO</td>\n",
       "      <td>0.867762</td>\n",
       "    </tr>\n",
       "  </tbody>\n",
       "</table>\n",
       "</div>"
      ],
      "text/plain": [
       "          regiao    uf  superficie  pop_urbana  pop_rural       total  \\\n",
       "0          Norte    RO      238513    762864.0   468143.0   1231007.0   \n",
       "2          Norte    AM     1577820   1766166.0   623113.0   2389279.0   \n",
       "4          Norte    PA     1253165   2949017.0  2561832.0   5510849.0   \n",
       "6          Norte    TO      278421    741009.0   307633.0   1048642.0   \n",
       "7       Nordeste    MA      333366   2711557.0  2511008.0   5222565.0   \n",
       "8       Nordeste    PI      252379   1556115.0  1117061.0   2673176.0   \n",
       "10      Nordeste    CE      146348   4713311.0  2096483.0   6809794.0   \n",
       "11      Nordeste    RN       53307   1843486.0   715174.0   2558660.0   \n",
       "12      Nordeste    PB       56585   2261986.0  1043630.0   3305616.0   \n",
       "13      Nordeste  PE**       98938   5476915.0  1922216.0   7399131.0   \n",
       "14      Nordeste    AL       27933   1661914.0   971425.0   2633339.0   \n",
       "15      Nordeste    SE       22050   1140569.0   483606.0   1624175.0   \n",
       "16      Nordeste    BA      567295   7826843.0  4714902.0  12541745.0   \n",
       "17       Sudeste    MG      588384  13074245.0  3598852.0  16673097.0   \n",
       "18       Sudeste    ES       46184   2176006.0   626701.0   2802707.0   \n",
       "19       Sudeste    RJ       43910  12806488.0   599891.0  13406379.0   \n",
       "20       Sudeste    SP      248809  31769219.0  2351667.0  34120886.0   \n",
       "21           Sul    PR      199709   7011990.0  1991814.0   9003804.0   \n",
       "22           Sul    SC       95443   3565130.0  1310114.0   4875244.0   \n",
       "23           Sul    RS      282062   7581230.0  2056452.0   9637682.0   \n",
       "24  Centro-Oeste    MS      358159   1604318.0   323516.0   1927834.0   \n",
       "25  Centro-Oeste    MT      906807   1695548.0   540284.0   2235832.0   \n",
       "26  Centro-Oeste    GO     3412895   3873722.0   642146.0   4515868.0   \n",
       "27  Centro-Oeste    DF        5822   1692248.0   129698.0   1821946.0   \n",
       "\n",
       "    razao_urbana_rural  frac_urbana  indicador regiao_pc  indicador2  \n",
       "0             1.629553     0.619707          0       NaN    0.528660  \n",
       "2             2.834423     0.739205          1       NaN    0.614438  \n",
       "4             1.151136     0.535129          0       NaN    0.502468  \n",
       "6             2.408744     0.706637          1       NaN    0.585398  \n",
       "7             1.079868     0.519200          0        NE    0.500737  \n",
       "8             1.393044     0.582122          0        NE    0.513488  \n",
       "10            2.248199     0.692137          0        NE    0.573833  \n",
       "11            2.577675     0.720489          1        NE    0.597231  \n",
       "12            2.167421     0.684286          0        NE    0.567922  \n",
       "13            2.849271     0.740211          1        NE    0.615402  \n",
       "14            1.710800     0.631105          0        NE    0.534377  \n",
       "15            2.358467     0.702245          1        NE    0.581806  \n",
       "16            1.660022     0.624063          0        NE    0.530783  \n",
       "17            3.632893     0.784152          1        SE    0.661485  \n",
       "18            3.472160     0.776394          1        SE    0.652788  \n",
       "19           21.348025     0.955253          1        SE    0.914511  \n",
       "20           13.509234     0.931078          1        SE    0.871657  \n",
       "21            3.520404     0.778781          1         S    0.655438  \n",
       "22            2.721236     0.731272          1         S    0.606974  \n",
       "23            3.686558     0.786624          1         S    0.664306  \n",
       "24            4.959007     0.832187          1        CO    0.720696  \n",
       "25            3.138253     0.758352          1        CO    0.633492  \n",
       "26            6.032463     0.857802          1        CO    0.756045  \n",
       "27           13.047603     0.928813          1        CO    0.867762  "
      ]
     },
     "execution_count": 130,
     "metadata": {},
     "output_type": "execute_result"
    }
   ],
   "source": [
    "# quero saber quais cidades tem população urbana > 500000\n",
    "df_muni.query('pop_urbana > 500000')"
   ]
  },
  {
   "cell_type": "code",
   "execution_count": 131,
   "id": "d2bpYmWcYeXi",
   "metadata": {
    "colab": {
     "base_uri": "https://localhost:8080/",
     "height": 802
    },
    "id": "d2bpYmWcYeXi",
    "outputId": "ba7e8679-327d-4d62-9be3-543f85cb1b30"
   },
   "outputs": [
    {
     "data": {
      "text/html": [
       "<div>\n",
       "<style scoped>\n",
       "    .dataframe tbody tr th:only-of-type {\n",
       "        vertical-align: middle;\n",
       "    }\n",
       "\n",
       "    .dataframe tbody tr th {\n",
       "        vertical-align: top;\n",
       "    }\n",
       "\n",
       "    .dataframe thead th {\n",
       "        text-align: right;\n",
       "    }\n",
       "</style>\n",
       "<table border=\"1\" class=\"dataframe\">\n",
       "  <thead>\n",
       "    <tr style=\"text-align: right;\">\n",
       "      <th></th>\n",
       "      <th>regiao</th>\n",
       "      <th>uf</th>\n",
       "      <th>superficie</th>\n",
       "      <th>pop_urbana</th>\n",
       "      <th>pop_rural</th>\n",
       "      <th>total</th>\n",
       "    </tr>\n",
       "  </thead>\n",
       "  <tbody>\n",
       "    <tr>\n",
       "      <th>0</th>\n",
       "      <td>Norte</td>\n",
       "      <td>RO</td>\n",
       "      <td>238513</td>\n",
       "      <td>762864.0</td>\n",
       "      <td>468143.0</td>\n",
       "      <td>1231007.0</td>\n",
       "    </tr>\n",
       "    <tr>\n",
       "      <th>2</th>\n",
       "      <td>Norte</td>\n",
       "      <td>AM</td>\n",
       "      <td>1577820</td>\n",
       "      <td>1766166.0</td>\n",
       "      <td>623113.0</td>\n",
       "      <td>2389279.0</td>\n",
       "    </tr>\n",
       "    <tr>\n",
       "      <th>4</th>\n",
       "      <td>Norte</td>\n",
       "      <td>PA</td>\n",
       "      <td>1253165</td>\n",
       "      <td>2949017.0</td>\n",
       "      <td>2561832.0</td>\n",
       "      <td>5510849.0</td>\n",
       "    </tr>\n",
       "    <tr>\n",
       "      <th>6</th>\n",
       "      <td>Norte</td>\n",
       "      <td>TO</td>\n",
       "      <td>278421</td>\n",
       "      <td>741009.0</td>\n",
       "      <td>307633.0</td>\n",
       "      <td>1048642.0</td>\n",
       "    </tr>\n",
       "    <tr>\n",
       "      <th>7</th>\n",
       "      <td>Nordeste</td>\n",
       "      <td>MA</td>\n",
       "      <td>333366</td>\n",
       "      <td>2711557.0</td>\n",
       "      <td>2511008.0</td>\n",
       "      <td>5222565.0</td>\n",
       "    </tr>\n",
       "    <tr>\n",
       "      <th>8</th>\n",
       "      <td>Nordeste</td>\n",
       "      <td>PI</td>\n",
       "      <td>252379</td>\n",
       "      <td>1556115.0</td>\n",
       "      <td>1117061.0</td>\n",
       "      <td>2673176.0</td>\n",
       "    </tr>\n",
       "    <tr>\n",
       "      <th>10</th>\n",
       "      <td>Nordeste</td>\n",
       "      <td>CE</td>\n",
       "      <td>146348</td>\n",
       "      <td>4713311.0</td>\n",
       "      <td>2096483.0</td>\n",
       "      <td>6809794.0</td>\n",
       "    </tr>\n",
       "    <tr>\n",
       "      <th>11</th>\n",
       "      <td>Nordeste</td>\n",
       "      <td>RN</td>\n",
       "      <td>53307</td>\n",
       "      <td>1843486.0</td>\n",
       "      <td>715174.0</td>\n",
       "      <td>2558660.0</td>\n",
       "    </tr>\n",
       "    <tr>\n",
       "      <th>12</th>\n",
       "      <td>Nordeste</td>\n",
       "      <td>PB</td>\n",
       "      <td>56585</td>\n",
       "      <td>2261986.0</td>\n",
       "      <td>1043630.0</td>\n",
       "      <td>3305616.0</td>\n",
       "    </tr>\n",
       "    <tr>\n",
       "      <th>13</th>\n",
       "      <td>Nordeste</td>\n",
       "      <td>PE**</td>\n",
       "      <td>98938</td>\n",
       "      <td>5476915.0</td>\n",
       "      <td>1922216.0</td>\n",
       "      <td>7399131.0</td>\n",
       "    </tr>\n",
       "    <tr>\n",
       "      <th>14</th>\n",
       "      <td>Nordeste</td>\n",
       "      <td>AL</td>\n",
       "      <td>27933</td>\n",
       "      <td>1661914.0</td>\n",
       "      <td>971425.0</td>\n",
       "      <td>2633339.0</td>\n",
       "    </tr>\n",
       "    <tr>\n",
       "      <th>15</th>\n",
       "      <td>Nordeste</td>\n",
       "      <td>SE</td>\n",
       "      <td>22050</td>\n",
       "      <td>1140569.0</td>\n",
       "      <td>483606.0</td>\n",
       "      <td>1624175.0</td>\n",
       "    </tr>\n",
       "    <tr>\n",
       "      <th>16</th>\n",
       "      <td>Nordeste</td>\n",
       "      <td>BA</td>\n",
       "      <td>567295</td>\n",
       "      <td>7826843.0</td>\n",
       "      <td>4714902.0</td>\n",
       "      <td>12541745.0</td>\n",
       "    </tr>\n",
       "    <tr>\n",
       "      <th>17</th>\n",
       "      <td>Sudeste</td>\n",
       "      <td>MG</td>\n",
       "      <td>588384</td>\n",
       "      <td>13074245.0</td>\n",
       "      <td>3598852.0</td>\n",
       "      <td>16673097.0</td>\n",
       "    </tr>\n",
       "    <tr>\n",
       "      <th>18</th>\n",
       "      <td>Sudeste</td>\n",
       "      <td>ES</td>\n",
       "      <td>46184</td>\n",
       "      <td>2176006.0</td>\n",
       "      <td>626701.0</td>\n",
       "      <td>2802707.0</td>\n",
       "    </tr>\n",
       "    <tr>\n",
       "      <th>19</th>\n",
       "      <td>Sudeste</td>\n",
       "      <td>RJ</td>\n",
       "      <td>43910</td>\n",
       "      <td>12806488.0</td>\n",
       "      <td>599891.0</td>\n",
       "      <td>13406379.0</td>\n",
       "    </tr>\n",
       "    <tr>\n",
       "      <th>20</th>\n",
       "      <td>Sudeste</td>\n",
       "      <td>SP</td>\n",
       "      <td>248809</td>\n",
       "      <td>31769219.0</td>\n",
       "      <td>2351667.0</td>\n",
       "      <td>34120886.0</td>\n",
       "    </tr>\n",
       "    <tr>\n",
       "      <th>21</th>\n",
       "      <td>Sul</td>\n",
       "      <td>PR</td>\n",
       "      <td>199709</td>\n",
       "      <td>7011990.0</td>\n",
       "      <td>1991814.0</td>\n",
       "      <td>9003804.0</td>\n",
       "    </tr>\n",
       "    <tr>\n",
       "      <th>22</th>\n",
       "      <td>Sul</td>\n",
       "      <td>SC</td>\n",
       "      <td>95443</td>\n",
       "      <td>3565130.0</td>\n",
       "      <td>1310114.0</td>\n",
       "      <td>4875244.0</td>\n",
       "    </tr>\n",
       "    <tr>\n",
       "      <th>23</th>\n",
       "      <td>Sul</td>\n",
       "      <td>RS</td>\n",
       "      <td>282062</td>\n",
       "      <td>7581230.0</td>\n",
       "      <td>2056452.0</td>\n",
       "      <td>9637682.0</td>\n",
       "    </tr>\n",
       "    <tr>\n",
       "      <th>24</th>\n",
       "      <td>Centro-Oeste</td>\n",
       "      <td>MS</td>\n",
       "      <td>358159</td>\n",
       "      <td>1604318.0</td>\n",
       "      <td>323516.0</td>\n",
       "      <td>1927834.0</td>\n",
       "    </tr>\n",
       "    <tr>\n",
       "      <th>25</th>\n",
       "      <td>Centro-Oeste</td>\n",
       "      <td>MT</td>\n",
       "      <td>906807</td>\n",
       "      <td>1695548.0</td>\n",
       "      <td>540284.0</td>\n",
       "      <td>2235832.0</td>\n",
       "    </tr>\n",
       "    <tr>\n",
       "      <th>26</th>\n",
       "      <td>Centro-Oeste</td>\n",
       "      <td>GO</td>\n",
       "      <td>3412895</td>\n",
       "      <td>3873722.0</td>\n",
       "      <td>642146.0</td>\n",
       "      <td>4515868.0</td>\n",
       "    </tr>\n",
       "    <tr>\n",
       "      <th>27</th>\n",
       "      <td>Centro-Oeste</td>\n",
       "      <td>DF</td>\n",
       "      <td>5822</td>\n",
       "      <td>1692248.0</td>\n",
       "      <td>129698.0</td>\n",
       "      <td>1821946.0</td>\n",
       "    </tr>\n",
       "  </tbody>\n",
       "</table>\n",
       "</div>"
      ],
      "text/plain": [
       "          regiao    uf  superficie  pop_urbana  pop_rural       total\n",
       "0          Norte    RO      238513    762864.0   468143.0   1231007.0\n",
       "2          Norte    AM     1577820   1766166.0   623113.0   2389279.0\n",
       "4          Norte    PA     1253165   2949017.0  2561832.0   5510849.0\n",
       "6          Norte    TO      278421    741009.0   307633.0   1048642.0\n",
       "7       Nordeste    MA      333366   2711557.0  2511008.0   5222565.0\n",
       "8       Nordeste    PI      252379   1556115.0  1117061.0   2673176.0\n",
       "10      Nordeste    CE      146348   4713311.0  2096483.0   6809794.0\n",
       "11      Nordeste    RN       53307   1843486.0   715174.0   2558660.0\n",
       "12      Nordeste    PB       56585   2261986.0  1043630.0   3305616.0\n",
       "13      Nordeste  PE**       98938   5476915.0  1922216.0   7399131.0\n",
       "14      Nordeste    AL       27933   1661914.0   971425.0   2633339.0\n",
       "15      Nordeste    SE       22050   1140569.0   483606.0   1624175.0\n",
       "16      Nordeste    BA      567295   7826843.0  4714902.0  12541745.0\n",
       "17       Sudeste    MG      588384  13074245.0  3598852.0  16673097.0\n",
       "18       Sudeste    ES       46184   2176006.0   626701.0   2802707.0\n",
       "19       Sudeste    RJ       43910  12806488.0   599891.0  13406379.0\n",
       "20       Sudeste    SP      248809  31769219.0  2351667.0  34120886.0\n",
       "21           Sul    PR      199709   7011990.0  1991814.0   9003804.0\n",
       "22           Sul    SC       95443   3565130.0  1310114.0   4875244.0\n",
       "23           Sul    RS      282062   7581230.0  2056452.0   9637682.0\n",
       "24  Centro-Oeste    MS      358159   1604318.0   323516.0   1927834.0\n",
       "25  Centro-Oeste    MT      906807   1695548.0   540284.0   2235832.0\n",
       "26  Centro-Oeste    GO     3412895   3873722.0   642146.0   4515868.0\n",
       "27  Centro-Oeste    DF        5822   1692248.0   129698.0   1821946.0"
      ]
     },
     "execution_count": 131,
     "metadata": {},
     "output_type": "execute_result"
    }
   ],
   "source": [
    "# podemos usar uma variável\n",
    "limite = 500000\n",
    "df_muni.query(\"`pop_urbana` > @limite\")"
   ]
  },
  {
   "cell_type": "markdown",
   "id": "Ylh4h5RMY6Iq",
   "metadata": {
    "id": "Ylh4h5RMY6Iq"
   },
   "source": [
    "### .loc e .iloc"
   ]
  },
  {
   "cell_type": "code",
   "execution_count": 132,
   "id": "OZOH9gR2ZBTq",
   "metadata": {
    "colab": {
     "base_uri": "https://localhost:8080/"
    },
    "id": "OZOH9gR2ZBTq",
    "outputId": "dd6448fd-8db2-4da1-f4ab-ce617d89a658"
   },
   "outputs": [
    {
     "data": {
      "text/plain": [
       "315401.0"
      ]
     },
     "execution_count": 132,
     "metadata": {},
     "output_type": "execute_result"
    }
   ],
   "source": [
    "# .loc usado para pesquisar índices e colunas explicitamente\n",
    "\n",
    "# quero a população urbana da segunda linha do dataset\n",
    "df_muni.loc[1, 'pop_urbana']"
   ]
  },
  {
   "cell_type": "code",
   "execution_count": 133,
   "id": "Myogr1imZcRp",
   "metadata": {
    "colab": {
     "base_uri": "https://localhost:8080/"
    },
    "id": "Myogr1imZcRp",
    "outputId": "1f1aa56d-7cb4-49d9-b1bc-13d563d76c70"
   },
   "outputs": [
    {
     "data": {
      "text/plain": [
       "regiao           Norte\n",
       "uf                  AC\n",
       "superficie      153150\n",
       "pop_urbana    315401.0\n",
       "pop_rural     168322.0\n",
       "total         483726.0\n",
       "Name: 1, dtype: object"
      ]
     },
     "execution_count": 133,
     "metadata": {},
     "output_type": "execute_result"
    }
   ],
   "source": [
    "# qual estado corresponde à segunda linha do dataset\n",
    "df_muni.loc[1, :]"
   ]
  },
  {
   "cell_type": "code",
   "execution_count": 134,
   "id": "zf3Kv9j5ZnuS",
   "metadata": {
    "colab": {
     "base_uri": "https://localhost:8080/"
    },
    "id": "zf3Kv9j5ZnuS",
    "outputId": "5817c69e-ab97-475e-d9b0-fa91e0cbf373"
   },
   "outputs": [
    {
     "data": {
      "text/plain": [
       "7           MA\n",
       "8           PI\n",
       "9     Litígio*\n",
       "10          CE\n",
       "11          RN\n",
       "12          PB\n",
       "13        PE**\n",
       "14          AL\n",
       "15          SE\n",
       "16          BA\n",
       "Name: uf, dtype: object"
      ]
     },
     "execution_count": 134,
     "metadata": {},
     "output_type": "execute_result"
    }
   ],
   "source": [
    "# posso usar lógicas para filtrar o dataset\n",
    "\n",
    "# quais estados pertencem à região NE?\n",
    "df_muni.loc[df.regiao == 'Nordeste', 'uf']"
   ]
  },
  {
   "cell_type": "code",
   "execution_count": 135,
   "id": "V0alUfbZZ-OL",
   "metadata": {
    "colab": {
     "base_uri": "https://localhost:8080/"
    },
    "id": "V0alUfbZZ-OL",
    "outputId": "e7f89def-24c6-4662-dcd7-c98284d59c5f"
   },
   "outputs": [
    {
     "data": {
      "text/plain": [
       "0           RO\n",
       "1           AC\n",
       "2           AM\n",
       "3           RR\n",
       "4           PA\n",
       "5           AP\n",
       "6           TO\n",
       "7           MA\n",
       "8           PI\n",
       "9     Litígio*\n",
       "10          CE\n",
       "11          RN\n",
       "12          PB\n",
       "13        PE**\n",
       "14          AL\n",
       "15          SE\n",
       "16          BA\n",
       "Name: uf, dtype: object"
      ]
     },
     "execution_count": 135,
     "metadata": {},
     "output_type": "execute_result"
    }
   ],
   "source": [
    "# quais estados pertencem à região NE e N?\n",
    "df_muni.loc[(df.regiao == 'Nordeste') | (df.regiao == 'Norte'), 'uf']"
   ]
  },
  {
   "cell_type": "code",
   "execution_count": 136,
   "id": "vqoK683rajf7",
   "metadata": {
    "colab": {
     "base_uri": "https://localhost:8080/"
    },
    "id": "vqoK683rajf7",
    "outputId": "eda5723c-4e88-4e49-8590-fac1b60996f4"
   },
   "outputs": [
    {
     "data": {
      "text/plain": [
       "1577820"
      ]
     },
     "execution_count": 136,
     "metadata": {},
     "output_type": "execute_result"
    }
   ],
   "source": [
    "# iloc faz a referência aos índices e colunas de forma implícita\n",
    "df_muni.iloc[2, 2]"
   ]
  },
  {
   "cell_type": "code",
   "execution_count": 137,
   "id": "mN3rH8mcbP05",
   "metadata": {
    "colab": {
     "base_uri": "https://localhost:8080/",
     "height": 237
    },
    "id": "mN3rH8mcbP05",
    "outputId": "de2761cf-402e-45e6-ca10-f088f91ccdc6"
   },
   "outputs": [
    {
     "data": {
      "text/html": [
       "<div>\n",
       "<style scoped>\n",
       "    .dataframe tbody tr th:only-of-type {\n",
       "        vertical-align: middle;\n",
       "    }\n",
       "\n",
       "    .dataframe tbody tr th {\n",
       "        vertical-align: top;\n",
       "    }\n",
       "\n",
       "    .dataframe thead th {\n",
       "        text-align: right;\n",
       "    }\n",
       "</style>\n",
       "<table border=\"1\" class=\"dataframe\">\n",
       "  <thead>\n",
       "    <tr style=\"text-align: right;\">\n",
       "      <th></th>\n",
       "      <th>regiao</th>\n",
       "      <th>superficie</th>\n",
       "      <th>pop_urbana</th>\n",
       "      <th>pop_rural</th>\n",
       "      <th>total</th>\n",
       "    </tr>\n",
       "    <tr>\n",
       "      <th>uf</th>\n",
       "      <th></th>\n",
       "      <th></th>\n",
       "      <th></th>\n",
       "      <th></th>\n",
       "      <th></th>\n",
       "    </tr>\n",
       "  </thead>\n",
       "  <tbody>\n",
       "    <tr>\n",
       "      <th>RO</th>\n",
       "      <td>Norte</td>\n",
       "      <td>238513</td>\n",
       "      <td>762864.0</td>\n",
       "      <td>468143.0</td>\n",
       "      <td>1231007.0</td>\n",
       "    </tr>\n",
       "    <tr>\n",
       "      <th>AC</th>\n",
       "      <td>Norte</td>\n",
       "      <td>153150</td>\n",
       "      <td>315401.0</td>\n",
       "      <td>168322.0</td>\n",
       "      <td>483726.0</td>\n",
       "    </tr>\n",
       "    <tr>\n",
       "      <th>AM</th>\n",
       "      <td>Norte</td>\n",
       "      <td>1577820</td>\n",
       "      <td>1766166.0</td>\n",
       "      <td>623113.0</td>\n",
       "      <td>2389279.0</td>\n",
       "    </tr>\n",
       "    <tr>\n",
       "      <th>RR</th>\n",
       "      <td>Norte</td>\n",
       "      <td>225116</td>\n",
       "      <td>174277.0</td>\n",
       "      <td>72854.0</td>\n",
       "      <td>247131.0</td>\n",
       "    </tr>\n",
       "    <tr>\n",
       "      <th>PA</th>\n",
       "      <td>Norte</td>\n",
       "      <td>1253165</td>\n",
       "      <td>2949017.0</td>\n",
       "      <td>2561832.0</td>\n",
       "      <td>5510849.0</td>\n",
       "    </tr>\n",
       "  </tbody>\n",
       "</table>\n",
       "</div>"
      ],
      "text/plain": [
       "   regiao  superficie  pop_urbana  pop_rural      total\n",
       "uf                                                     \n",
       "RO  Norte      238513    762864.0   468143.0  1231007.0\n",
       "AC  Norte      153150    315401.0   168322.0   483726.0\n",
       "AM  Norte     1577820   1766166.0   623113.0  2389279.0\n",
       "RR  Norte      225116    174277.0    72854.0   247131.0\n",
       "PA  Norte     1253165   2949017.0  2561832.0  5510849.0"
      ]
     },
     "execution_count": 137,
     "metadata": {},
     "output_type": "execute_result"
    }
   ],
   "source": [
    "# definir a coluna uf como a coluna de índice\n",
    "df = df_muni.set_index(['uf'])\n",
    "df.head()"
   ]
  },
  {
   "cell_type": "code",
   "execution_count": 138,
   "id": "aFE166lZbZUK",
   "metadata": {
    "colab": {
     "base_uri": "https://localhost:8080/"
    },
    "id": "aFE166lZbZUK",
    "outputId": "35f7af77-3ca3-4b18-8b17-b3f9da3b49a8"
   },
   "outputs": [
    {
     "name": "stdout",
     "output_type": "stream",
     "text": [
      "Valor desejado 168322.0\n",
      "Valor desejado 168322.0\n"
     ]
    }
   ],
   "source": [
    "# desejo obter a população rural do AC\n",
    "\n",
    "# loc (explícito)\n",
    "print('Valor desejado', df.loc['AC', 'pop_rural'])\n",
    "\n",
    "# iloc (implícito)\n",
    "print('Valor desejado', df.iloc[1, 3])"
   ]
  },
  {
   "cell_type": "code",
   "execution_count": 139,
   "id": "Tw6Djxwsb_0p",
   "metadata": {
    "colab": {
     "base_uri": "https://localhost:8080/",
     "height": 112
    },
    "id": "Tw6Djxwsb_0p",
    "outputId": "de7cf4ba-8764-4497-dbce-b239f2a7fab8"
   },
   "outputs": [
    {
     "data": {
      "text/html": [
       "<div>\n",
       "<style scoped>\n",
       "    .dataframe tbody tr th:only-of-type {\n",
       "        vertical-align: middle;\n",
       "    }\n",
       "\n",
       "    .dataframe tbody tr th {\n",
       "        vertical-align: top;\n",
       "    }\n",
       "\n",
       "    .dataframe thead th {\n",
       "        text-align: right;\n",
       "    }\n",
       "</style>\n",
       "<table border=\"1\" class=\"dataframe\">\n",
       "  <thead>\n",
       "    <tr style=\"text-align: right;\">\n",
       "      <th></th>\n",
       "      <th>regiao</th>\n",
       "      <th>superficie</th>\n",
       "      <th>pop_urbana</th>\n",
       "      <th>pop_rural</th>\n",
       "      <th>total</th>\n",
       "    </tr>\n",
       "    <tr>\n",
       "      <th>uf</th>\n",
       "      <th></th>\n",
       "      <th></th>\n",
       "      <th></th>\n",
       "      <th></th>\n",
       "      <th></th>\n",
       "    </tr>\n",
       "  </thead>\n",
       "  <tbody>\n",
       "    <tr>\n",
       "      <th>AC</th>\n",
       "      <td>Norte</td>\n",
       "      <td>153150</td>\n",
       "      <td>315401.0</td>\n",
       "      <td>168322.0</td>\n",
       "      <td>483726.0</td>\n",
       "    </tr>\n",
       "  </tbody>\n",
       "</table>\n",
       "</div>"
      ],
      "text/plain": [
       "   regiao  superficie  pop_urbana  pop_rural     total\n",
       "uf                                                    \n",
       "AC  Norte      153150    315401.0   168322.0  483726.0"
      ]
     },
     "execution_count": 139,
     "metadata": {},
     "output_type": "execute_result"
    }
   ],
   "source": [
    "# queremos as cidades que têm menos de 500000 habitantes (total)\n",
    "df.loc[df.total < 500000, :].head(1)"
   ]
  },
  {
   "cell_type": "markdown",
   "id": "6943b036",
   "metadata": {
    "id": "6943b036"
   },
   "source": [
    "### Operações matemáticas"
   ]
  },
  {
   "cell_type": "code",
   "execution_count": 108,
   "id": "vJBNnEygif7_",
   "metadata": {
    "colab": {
     "base_uri": "https://localhost:8080/",
     "height": 237
    },
    "id": "vJBNnEygif7_",
    "outputId": "92fe1748-df0e-4356-d799-46b012b0a283"
   },
   "outputs": [
    {
     "data": {
      "text/html": [
       "<div>\n",
       "<style scoped>\n",
       "    .dataframe tbody tr th:only-of-type {\n",
       "        vertical-align: middle;\n",
       "    }\n",
       "\n",
       "    .dataframe tbody tr th {\n",
       "        vertical-align: top;\n",
       "    }\n",
       "\n",
       "    .dataframe thead th {\n",
       "        text-align: right;\n",
       "    }\n",
       "</style>\n",
       "<table border=\"1\" class=\"dataframe\">\n",
       "  <thead>\n",
       "    <tr style=\"text-align: right;\">\n",
       "      <th></th>\n",
       "      <th>regiao</th>\n",
       "      <th>uf</th>\n",
       "      <th>superficie</th>\n",
       "      <th>pop_urbana</th>\n",
       "      <th>pop_rural</th>\n",
       "      <th>total</th>\n",
       "      <th>razao_urbana_rural</th>\n",
       "    </tr>\n",
       "  </thead>\n",
       "  <tbody>\n",
       "    <tr>\n",
       "      <th>0</th>\n",
       "      <td>Norte</td>\n",
       "      <td>RO</td>\n",
       "      <td>238513</td>\n",
       "      <td>762864.0</td>\n",
       "      <td>468143.0</td>\n",
       "      <td>1231007.0</td>\n",
       "      <td>1.629553</td>\n",
       "    </tr>\n",
       "    <tr>\n",
       "      <th>1</th>\n",
       "      <td>Norte</td>\n",
       "      <td>AC</td>\n",
       "      <td>153150</td>\n",
       "      <td>315401.0</td>\n",
       "      <td>168322.0</td>\n",
       "      <td>483726.0</td>\n",
       "      <td>1.873795</td>\n",
       "    </tr>\n",
       "    <tr>\n",
       "      <th>2</th>\n",
       "      <td>Norte</td>\n",
       "      <td>AM</td>\n",
       "      <td>1577820</td>\n",
       "      <td>1766166.0</td>\n",
       "      <td>623113.0</td>\n",
       "      <td>2389279.0</td>\n",
       "      <td>2.834423</td>\n",
       "    </tr>\n",
       "    <tr>\n",
       "      <th>3</th>\n",
       "      <td>Norte</td>\n",
       "      <td>RR</td>\n",
       "      <td>225116</td>\n",
       "      <td>174277.0</td>\n",
       "      <td>72854.0</td>\n",
       "      <td>247131.0</td>\n",
       "      <td>2.392140</td>\n",
       "    </tr>\n",
       "    <tr>\n",
       "      <th>4</th>\n",
       "      <td>Norte</td>\n",
       "      <td>PA</td>\n",
       "      <td>1253165</td>\n",
       "      <td>2949017.0</td>\n",
       "      <td>2561832.0</td>\n",
       "      <td>5510849.0</td>\n",
       "      <td>1.151136</td>\n",
       "    </tr>\n",
       "  </tbody>\n",
       "</table>\n",
       "</div>"
      ],
      "text/plain": [
       "  regiao  uf  superficie  pop_urbana  pop_rural      total  razao_urbana_rural\n",
       "0  Norte  RO      238513    762864.0   468143.0  1231007.0            1.629553\n",
       "1  Norte  AC      153150    315401.0   168322.0   483726.0            1.873795\n",
       "2  Norte  AM     1577820   1766166.0   623113.0  2389279.0            2.834423\n",
       "3  Norte  RR      225116    174277.0    72854.0   247131.0            2.392140\n",
       "4  Norte  PA     1253165   2949017.0  2561832.0  5510849.0            1.151136"
      ]
     },
     "execution_count": 108,
     "metadata": {},
     "output_type": "execute_result"
    }
   ],
   "source": [
    "# quero saber a razão entre as população urbana e a população rural\n",
    "df['razao_urbana_rural'] = df['pop_urbana'] / df['pop_rural']\n",
    "df.head()"
   ]
  },
  {
   "cell_type": "code",
   "execution_count": 109,
   "id": "BIkUlBcEkYM3",
   "metadata": {
    "id": "BIkUlBcEkYM3"
   },
   "outputs": [
    {
     "ename": "KeyError",
     "evalue": "'frac_urbana'",
     "output_type": "error",
     "traceback": [
      "\u001b[1;31m---------------------------------------------------------------------------\u001b[0m",
      "\u001b[1;31mKeyError\u001b[0m                                  Traceback (most recent call last)",
      "\u001b[1;32m~\\Anaconda3\\lib\\site-packages\\pandas\\core\\indexes\\base.py\u001b[0m in \u001b[0;36mget_loc\u001b[1;34m(self, key, method, tolerance)\u001b[0m\n\u001b[0;32m   3628\u001b[0m             \u001b[1;32mtry\u001b[0m\u001b[1;33m:\u001b[0m\u001b[1;33m\u001b[0m\u001b[1;33m\u001b[0m\u001b[0m\n\u001b[1;32m-> 3629\u001b[1;33m                 \u001b[1;32mreturn\u001b[0m \u001b[0mself\u001b[0m\u001b[1;33m.\u001b[0m\u001b[0m_engine\u001b[0m\u001b[1;33m.\u001b[0m\u001b[0mget_loc\u001b[0m\u001b[1;33m(\u001b[0m\u001b[0mcasted_key\u001b[0m\u001b[1;33m)\u001b[0m\u001b[1;33m\u001b[0m\u001b[1;33m\u001b[0m\u001b[0m\n\u001b[0m\u001b[0;32m   3630\u001b[0m             \u001b[1;32mexcept\u001b[0m \u001b[0mKeyError\u001b[0m \u001b[1;32mas\u001b[0m \u001b[0merr\u001b[0m\u001b[1;33m:\u001b[0m\u001b[1;33m\u001b[0m\u001b[1;33m\u001b[0m\u001b[0m\n",
      "\u001b[1;32m~\\Anaconda3\\lib\\site-packages\\pandas\\_libs\\index.pyx\u001b[0m in \u001b[0;36mpandas._libs.index.IndexEngine.get_loc\u001b[1;34m()\u001b[0m\n",
      "\u001b[1;32m~\\Anaconda3\\lib\\site-packages\\pandas\\_libs\\index.pyx\u001b[0m in \u001b[0;36mpandas._libs.index.IndexEngine.get_loc\u001b[1;34m()\u001b[0m\n",
      "\u001b[1;32mpandas\\_libs\\hashtable_class_helper.pxi\u001b[0m in \u001b[0;36mpandas._libs.hashtable.PyObjectHashTable.get_item\u001b[1;34m()\u001b[0m\n",
      "\u001b[1;32mpandas\\_libs\\hashtable_class_helper.pxi\u001b[0m in \u001b[0;36mpandas._libs.hashtable.PyObjectHashTable.get_item\u001b[1;34m()\u001b[0m\n",
      "\u001b[1;31mKeyError\u001b[0m: 'frac_urbana'",
      "\nThe above exception was the direct cause of the following exception:\n",
      "\u001b[1;31mKeyError\u001b[0m                                  Traceback (most recent call last)",
      "\u001b[1;32m~\\AppData\\Local\\Temp\\ipykernel_12640\\3741611219.py\u001b[0m in \u001b[0;36m<module>\u001b[1;34m\u001b[0m\n\u001b[0;32m      1\u001b[0m \u001b[1;31m# se eu chamar uma coluna inexiste em modo de leitura\u001b[0m\u001b[1;33m\u001b[0m\u001b[1;33m\u001b[0m\u001b[0m\n\u001b[1;32m----> 2\u001b[1;33m \u001b[0mdf\u001b[0m\u001b[1;33m[\u001b[0m\u001b[1;34m'frac_urbana'\u001b[0m\u001b[1;33m]\u001b[0m\u001b[1;33m\u001b[0m\u001b[1;33m\u001b[0m\u001b[0m\n\u001b[0m",
      "\u001b[1;32m~\\Anaconda3\\lib\\site-packages\\pandas\\core\\frame.py\u001b[0m in \u001b[0;36m__getitem__\u001b[1;34m(self, key)\u001b[0m\n\u001b[0;32m   3503\u001b[0m             \u001b[1;32mif\u001b[0m \u001b[0mself\u001b[0m\u001b[1;33m.\u001b[0m\u001b[0mcolumns\u001b[0m\u001b[1;33m.\u001b[0m\u001b[0mnlevels\u001b[0m \u001b[1;33m>\u001b[0m \u001b[1;36m1\u001b[0m\u001b[1;33m:\u001b[0m\u001b[1;33m\u001b[0m\u001b[1;33m\u001b[0m\u001b[0m\n\u001b[0;32m   3504\u001b[0m                 \u001b[1;32mreturn\u001b[0m \u001b[0mself\u001b[0m\u001b[1;33m.\u001b[0m\u001b[0m_getitem_multilevel\u001b[0m\u001b[1;33m(\u001b[0m\u001b[0mkey\u001b[0m\u001b[1;33m)\u001b[0m\u001b[1;33m\u001b[0m\u001b[1;33m\u001b[0m\u001b[0m\n\u001b[1;32m-> 3505\u001b[1;33m             \u001b[0mindexer\u001b[0m \u001b[1;33m=\u001b[0m \u001b[0mself\u001b[0m\u001b[1;33m.\u001b[0m\u001b[0mcolumns\u001b[0m\u001b[1;33m.\u001b[0m\u001b[0mget_loc\u001b[0m\u001b[1;33m(\u001b[0m\u001b[0mkey\u001b[0m\u001b[1;33m)\u001b[0m\u001b[1;33m\u001b[0m\u001b[1;33m\u001b[0m\u001b[0m\n\u001b[0m\u001b[0;32m   3506\u001b[0m             \u001b[1;32mif\u001b[0m \u001b[0mis_integer\u001b[0m\u001b[1;33m(\u001b[0m\u001b[0mindexer\u001b[0m\u001b[1;33m)\u001b[0m\u001b[1;33m:\u001b[0m\u001b[1;33m\u001b[0m\u001b[1;33m\u001b[0m\u001b[0m\n\u001b[0;32m   3507\u001b[0m                 \u001b[0mindexer\u001b[0m \u001b[1;33m=\u001b[0m \u001b[1;33m[\u001b[0m\u001b[0mindexer\u001b[0m\u001b[1;33m]\u001b[0m\u001b[1;33m\u001b[0m\u001b[1;33m\u001b[0m\u001b[0m\n",
      "\u001b[1;32m~\\Anaconda3\\lib\\site-packages\\pandas\\core\\indexes\\base.py\u001b[0m in \u001b[0;36mget_loc\u001b[1;34m(self, key, method, tolerance)\u001b[0m\n\u001b[0;32m   3629\u001b[0m                 \u001b[1;32mreturn\u001b[0m \u001b[0mself\u001b[0m\u001b[1;33m.\u001b[0m\u001b[0m_engine\u001b[0m\u001b[1;33m.\u001b[0m\u001b[0mget_loc\u001b[0m\u001b[1;33m(\u001b[0m\u001b[0mcasted_key\u001b[0m\u001b[1;33m)\u001b[0m\u001b[1;33m\u001b[0m\u001b[1;33m\u001b[0m\u001b[0m\n\u001b[0;32m   3630\u001b[0m             \u001b[1;32mexcept\u001b[0m \u001b[0mKeyError\u001b[0m \u001b[1;32mas\u001b[0m \u001b[0merr\u001b[0m\u001b[1;33m:\u001b[0m\u001b[1;33m\u001b[0m\u001b[1;33m\u001b[0m\u001b[0m\n\u001b[1;32m-> 3631\u001b[1;33m                 \u001b[1;32mraise\u001b[0m \u001b[0mKeyError\u001b[0m\u001b[1;33m(\u001b[0m\u001b[0mkey\u001b[0m\u001b[1;33m)\u001b[0m \u001b[1;32mfrom\u001b[0m \u001b[0merr\u001b[0m\u001b[1;33m\u001b[0m\u001b[1;33m\u001b[0m\u001b[0m\n\u001b[0m\u001b[0;32m   3632\u001b[0m             \u001b[1;32mexcept\u001b[0m \u001b[0mTypeError\u001b[0m\u001b[1;33m:\u001b[0m\u001b[1;33m\u001b[0m\u001b[1;33m\u001b[0m\u001b[0m\n\u001b[0;32m   3633\u001b[0m                 \u001b[1;31m# If we have a listlike key, _check_indexing_error will raise\u001b[0m\u001b[1;33m\u001b[0m\u001b[1;33m\u001b[0m\u001b[0m\n",
      "\u001b[1;31mKeyError\u001b[0m: 'frac_urbana'"
     ]
    }
   ],
   "source": [
    "# se eu chamar uma coluna inexiste em modo de leitura\n",
    "df['frac_urbana']"
   ]
  },
  {
   "cell_type": "code",
   "execution_count": 110,
   "id": "DP0ZocXEkmU9",
   "metadata": {
    "id": "DP0ZocXEkmU9"
   },
   "outputs": [],
   "source": [
    "# calcular a fração da população urbana sobre a geral\n",
    "df['frac_urbana'] = df['pop_urbana'] / df['total']"
   ]
  },
  {
   "cell_type": "code",
   "execution_count": 111,
   "id": "9Lk7P0-nlEX9",
   "metadata": {
    "id": "9Lk7P0-nlEX9"
   },
   "outputs": [],
   "source": [
    "# iterar por cada linha e atribuir 1 se frac_urbana > 0.7 e 0 caso contrário\n",
    "for uf in df.index:\n",
    "    if df.loc[uf, 'frac_urbana'] > 0.7:\n",
    "        df.loc[uf, 'indicador'] = 1\n",
    "    else:\n",
    "        df.loc[uf, 'indicador'] = 0"
   ]
  },
  {
   "cell_type": "code",
   "execution_count": 112,
   "id": "XByJiHoOl6IN",
   "metadata": {
    "id": "XByJiHoOl6IN"
   },
   "outputs": [],
   "source": [
    "df['indicador'] = df['frac_urbana'].apply(lambda x: 1 if x > 0.7 else 0)"
   ]
  },
  {
   "cell_type": "code",
   "execution_count": 113,
   "id": "L3YZBNx6ljMl",
   "metadata": {
    "colab": {
     "base_uri": "https://localhost:8080/",
     "height": 237
    },
    "id": "L3YZBNx6ljMl",
    "outputId": "1c4498e6-d4b4-45a8-b67b-d392f5d5fb7b"
   },
   "outputs": [
    {
     "data": {
      "text/html": [
       "<div>\n",
       "<style scoped>\n",
       "    .dataframe tbody tr th:only-of-type {\n",
       "        vertical-align: middle;\n",
       "    }\n",
       "\n",
       "    .dataframe tbody tr th {\n",
       "        vertical-align: top;\n",
       "    }\n",
       "\n",
       "    .dataframe thead th {\n",
       "        text-align: right;\n",
       "    }\n",
       "</style>\n",
       "<table border=\"1\" class=\"dataframe\">\n",
       "  <thead>\n",
       "    <tr style=\"text-align: right;\">\n",
       "      <th></th>\n",
       "      <th>regiao</th>\n",
       "      <th>uf</th>\n",
       "      <th>superficie</th>\n",
       "      <th>pop_urbana</th>\n",
       "      <th>pop_rural</th>\n",
       "      <th>total</th>\n",
       "      <th>razao_urbana_rural</th>\n",
       "      <th>frac_urbana</th>\n",
       "      <th>indicador</th>\n",
       "    </tr>\n",
       "  </thead>\n",
       "  <tbody>\n",
       "    <tr>\n",
       "      <th>0</th>\n",
       "      <td>Norte</td>\n",
       "      <td>RO</td>\n",
       "      <td>238513</td>\n",
       "      <td>762864.0</td>\n",
       "      <td>468143.0</td>\n",
       "      <td>1231007.0</td>\n",
       "      <td>1.629553</td>\n",
       "      <td>0.619707</td>\n",
       "      <td>0</td>\n",
       "    </tr>\n",
       "    <tr>\n",
       "      <th>1</th>\n",
       "      <td>Norte</td>\n",
       "      <td>AC</td>\n",
       "      <td>153150</td>\n",
       "      <td>315401.0</td>\n",
       "      <td>168322.0</td>\n",
       "      <td>483726.0</td>\n",
       "      <td>1.873795</td>\n",
       "      <td>0.652024</td>\n",
       "      <td>0</td>\n",
       "    </tr>\n",
       "    <tr>\n",
       "      <th>2</th>\n",
       "      <td>Norte</td>\n",
       "      <td>AM</td>\n",
       "      <td>1577820</td>\n",
       "      <td>1766166.0</td>\n",
       "      <td>623113.0</td>\n",
       "      <td>2389279.0</td>\n",
       "      <td>2.834423</td>\n",
       "      <td>0.739205</td>\n",
       "      <td>1</td>\n",
       "    </tr>\n",
       "    <tr>\n",
       "      <th>3</th>\n",
       "      <td>Norte</td>\n",
       "      <td>RR</td>\n",
       "      <td>225116</td>\n",
       "      <td>174277.0</td>\n",
       "      <td>72854.0</td>\n",
       "      <td>247131.0</td>\n",
       "      <td>2.392140</td>\n",
       "      <td>0.705201</td>\n",
       "      <td>1</td>\n",
       "    </tr>\n",
       "    <tr>\n",
       "      <th>4</th>\n",
       "      <td>Norte</td>\n",
       "      <td>PA</td>\n",
       "      <td>1253165</td>\n",
       "      <td>2949017.0</td>\n",
       "      <td>2561832.0</td>\n",
       "      <td>5510849.0</td>\n",
       "      <td>1.151136</td>\n",
       "      <td>0.535129</td>\n",
       "      <td>0</td>\n",
       "    </tr>\n",
       "  </tbody>\n",
       "</table>\n",
       "</div>"
      ],
      "text/plain": [
       "  regiao  uf  superficie  pop_urbana  pop_rural      total  \\\n",
       "0  Norte  RO      238513    762864.0   468143.0  1231007.0   \n",
       "1  Norte  AC      153150    315401.0   168322.0   483726.0   \n",
       "2  Norte  AM     1577820   1766166.0   623113.0  2389279.0   \n",
       "3  Norte  RR      225116    174277.0    72854.0   247131.0   \n",
       "4  Norte  PA     1253165   2949017.0  2561832.0  5510849.0   \n",
       "\n",
       "   razao_urbana_rural  frac_urbana  indicador  \n",
       "0            1.629553     0.619707          0  \n",
       "1            1.873795     0.652024          0  \n",
       "2            2.834423     0.739205          1  \n",
       "3            2.392140     0.705201          1  \n",
       "4            1.151136     0.535129          0  "
      ]
     },
     "execution_count": 113,
     "metadata": {},
     "output_type": "execute_result"
    }
   ],
   "source": [
    "df.head()"
   ]
  },
  {
   "cell_type": "code",
   "execution_count": 114,
   "id": "4cbkC3Dlm-kl",
   "metadata": {
    "colab": {
     "base_uri": "https://localhost:8080/",
     "height": 301
    },
    "id": "4cbkC3Dlm-kl",
    "outputId": "55abe95e-3e6d-46a9-ea05-59f95068a0a9"
   },
   "outputs": [
    {
     "data": {
      "text/html": [
       "<div>\n",
       "<style scoped>\n",
       "    .dataframe tbody tr th:only-of-type {\n",
       "        vertical-align: middle;\n",
       "    }\n",
       "\n",
       "    .dataframe tbody tr th {\n",
       "        vertical-align: top;\n",
       "    }\n",
       "\n",
       "    .dataframe thead th {\n",
       "        text-align: right;\n",
       "    }\n",
       "</style>\n",
       "<table border=\"1\" class=\"dataframe\">\n",
       "  <thead>\n",
       "    <tr style=\"text-align: right;\">\n",
       "      <th></th>\n",
       "      <th>regiao</th>\n",
       "      <th>uf</th>\n",
       "      <th>superficie</th>\n",
       "      <th>pop_urbana</th>\n",
       "      <th>pop_rural</th>\n",
       "      <th>total</th>\n",
       "      <th>razao_urbana_rural</th>\n",
       "      <th>frac_urbana</th>\n",
       "      <th>indicador</th>\n",
       "      <th>regiao_pc</th>\n",
       "    </tr>\n",
       "  </thead>\n",
       "  <tbody>\n",
       "    <tr>\n",
       "      <th>0</th>\n",
       "      <td>Norte</td>\n",
       "      <td>RO</td>\n",
       "      <td>238513</td>\n",
       "      <td>762864.0</td>\n",
       "      <td>468143.0</td>\n",
       "      <td>1231007.0</td>\n",
       "      <td>1.629553</td>\n",
       "      <td>0.619707</td>\n",
       "      <td>0</td>\n",
       "      <td>NaN</td>\n",
       "    </tr>\n",
       "    <tr>\n",
       "      <th>1</th>\n",
       "      <td>Norte</td>\n",
       "      <td>AC</td>\n",
       "      <td>153150</td>\n",
       "      <td>315401.0</td>\n",
       "      <td>168322.0</td>\n",
       "      <td>483726.0</td>\n",
       "      <td>1.873795</td>\n",
       "      <td>0.652024</td>\n",
       "      <td>0</td>\n",
       "      <td>NaN</td>\n",
       "    </tr>\n",
       "    <tr>\n",
       "      <th>2</th>\n",
       "      <td>Norte</td>\n",
       "      <td>AM</td>\n",
       "      <td>1577820</td>\n",
       "      <td>1766166.0</td>\n",
       "      <td>623113.0</td>\n",
       "      <td>2389279.0</td>\n",
       "      <td>2.834423</td>\n",
       "      <td>0.739205</td>\n",
       "      <td>1</td>\n",
       "      <td>NaN</td>\n",
       "    </tr>\n",
       "    <tr>\n",
       "      <th>3</th>\n",
       "      <td>Norte</td>\n",
       "      <td>RR</td>\n",
       "      <td>225116</td>\n",
       "      <td>174277.0</td>\n",
       "      <td>72854.0</td>\n",
       "      <td>247131.0</td>\n",
       "      <td>2.392140</td>\n",
       "      <td>0.705201</td>\n",
       "      <td>1</td>\n",
       "      <td>NaN</td>\n",
       "    </tr>\n",
       "    <tr>\n",
       "      <th>4</th>\n",
       "      <td>Norte</td>\n",
       "      <td>PA</td>\n",
       "      <td>1253165</td>\n",
       "      <td>2949017.0</td>\n",
       "      <td>2561832.0</td>\n",
       "      <td>5510849.0</td>\n",
       "      <td>1.151136</td>\n",
       "      <td>0.535129</td>\n",
       "      <td>0</td>\n",
       "      <td>NaN</td>\n",
       "    </tr>\n",
       "  </tbody>\n",
       "</table>\n",
       "</div>"
      ],
      "text/plain": [
       "  regiao  uf  superficie  pop_urbana  pop_rural      total  \\\n",
       "0  Norte  RO      238513    762864.0   468143.0  1231007.0   \n",
       "1  Norte  AC      153150    315401.0   168322.0   483726.0   \n",
       "2  Norte  AM     1577820   1766166.0   623113.0  2389279.0   \n",
       "3  Norte  RR      225116    174277.0    72854.0   247131.0   \n",
       "4  Norte  PA     1253165   2949017.0  2561832.0  5510849.0   \n",
       "\n",
       "   razao_urbana_rural  frac_urbana  indicador regiao_pc  \n",
       "0            1.629553     0.619707          0       NaN  \n",
       "1            1.873795     0.652024          0       NaN  \n",
       "2            2.834423     0.739205          1       NaN  \n",
       "3            2.392140     0.705201          1       NaN  \n",
       "4            1.151136     0.535129          0       NaN  "
      ]
     },
     "execution_count": 114,
     "metadata": {},
     "output_type": "execute_result"
    }
   ],
   "source": [
    "ponto_cardeal = {\n",
    "    'Nordeste': 'NE',\n",
    "    'Centro-Oeste': 'CO',\n",
    "    'Sul': 'S',\n",
    "    'Sudeste': 'SE'\n",
    "}\n",
    "\n",
    "# podemos fazer transformações com dicionários\n",
    "df['regiao_pc'] = df['regiao'].map(ponto_cardeal)\n",
    "df.head()"
   ]
  },
  {
   "cell_type": "code",
   "execution_count": 115,
   "id": "eLgVeA9_nkDN",
   "metadata": {
    "id": "eLgVeA9_nkDN"
   },
   "outputs": [],
   "source": [
    "def soma_quadrados(row):\n",
    "    soma = (row['pop_urbana']**2 + row['pop_rural']**2) / (row['total'] ** 2)\n",
    "    return soma"
   ]
  },
  {
   "cell_type": "code",
   "execution_count": 116,
   "id": "Ie7R1GfhoBjF",
   "metadata": {
    "colab": {
     "base_uri": "https://localhost:8080/",
     "height": 301
    },
    "id": "Ie7R1GfhoBjF",
    "outputId": "efd71370-5045-4239-f46a-d02881a45a7b"
   },
   "outputs": [
    {
     "data": {
      "text/html": [
       "<div>\n",
       "<style scoped>\n",
       "    .dataframe tbody tr th:only-of-type {\n",
       "        vertical-align: middle;\n",
       "    }\n",
       "\n",
       "    .dataframe tbody tr th {\n",
       "        vertical-align: top;\n",
       "    }\n",
       "\n",
       "    .dataframe thead th {\n",
       "        text-align: right;\n",
       "    }\n",
       "</style>\n",
       "<table border=\"1\" class=\"dataframe\">\n",
       "  <thead>\n",
       "    <tr style=\"text-align: right;\">\n",
       "      <th></th>\n",
       "      <th>regiao</th>\n",
       "      <th>uf</th>\n",
       "      <th>superficie</th>\n",
       "      <th>pop_urbana</th>\n",
       "      <th>pop_rural</th>\n",
       "      <th>total</th>\n",
       "      <th>razao_urbana_rural</th>\n",
       "      <th>frac_urbana</th>\n",
       "      <th>indicador</th>\n",
       "      <th>regiao_pc</th>\n",
       "      <th>indicador2</th>\n",
       "    </tr>\n",
       "  </thead>\n",
       "  <tbody>\n",
       "    <tr>\n",
       "      <th>0</th>\n",
       "      <td>Norte</td>\n",
       "      <td>RO</td>\n",
       "      <td>238513</td>\n",
       "      <td>762864.0</td>\n",
       "      <td>468143.0</td>\n",
       "      <td>1231007.0</td>\n",
       "      <td>1.629553</td>\n",
       "      <td>0.619707</td>\n",
       "      <td>0</td>\n",
       "      <td>NaN</td>\n",
       "      <td>0.528660</td>\n",
       "    </tr>\n",
       "    <tr>\n",
       "      <th>1</th>\n",
       "      <td>Norte</td>\n",
       "      <td>AC</td>\n",
       "      <td>153150</td>\n",
       "      <td>315401.0</td>\n",
       "      <td>168322.0</td>\n",
       "      <td>483726.0</td>\n",
       "      <td>1.873795</td>\n",
       "      <td>0.652024</td>\n",
       "      <td>0</td>\n",
       "      <td>NaN</td>\n",
       "      <td>0.546218</td>\n",
       "    </tr>\n",
       "    <tr>\n",
       "      <th>2</th>\n",
       "      <td>Norte</td>\n",
       "      <td>AM</td>\n",
       "      <td>1577820</td>\n",
       "      <td>1766166.0</td>\n",
       "      <td>623113.0</td>\n",
       "      <td>2389279.0</td>\n",
       "      <td>2.834423</td>\n",
       "      <td>0.739205</td>\n",
       "      <td>1</td>\n",
       "      <td>NaN</td>\n",
       "      <td>0.614438</td>\n",
       "    </tr>\n",
       "    <tr>\n",
       "      <th>3</th>\n",
       "      <td>Norte</td>\n",
       "      <td>RR</td>\n",
       "      <td>225116</td>\n",
       "      <td>174277.0</td>\n",
       "      <td>72854.0</td>\n",
       "      <td>247131.0</td>\n",
       "      <td>2.392140</td>\n",
       "      <td>0.705201</td>\n",
       "      <td>1</td>\n",
       "      <td>NaN</td>\n",
       "      <td>0.584215</td>\n",
       "    </tr>\n",
       "    <tr>\n",
       "      <th>4</th>\n",
       "      <td>Norte</td>\n",
       "      <td>PA</td>\n",
       "      <td>1253165</td>\n",
       "      <td>2949017.0</td>\n",
       "      <td>2561832.0</td>\n",
       "      <td>5510849.0</td>\n",
       "      <td>1.151136</td>\n",
       "      <td>0.535129</td>\n",
       "      <td>0</td>\n",
       "      <td>NaN</td>\n",
       "      <td>0.502468</td>\n",
       "    </tr>\n",
       "  </tbody>\n",
       "</table>\n",
       "</div>"
      ],
      "text/plain": [
       "  regiao  uf  superficie  pop_urbana  pop_rural      total  \\\n",
       "0  Norte  RO      238513    762864.0   468143.0  1231007.0   \n",
       "1  Norte  AC      153150    315401.0   168322.0   483726.0   \n",
       "2  Norte  AM     1577820   1766166.0   623113.0  2389279.0   \n",
       "3  Norte  RR      225116    174277.0    72854.0   247131.0   \n",
       "4  Norte  PA     1253165   2949017.0  2561832.0  5510849.0   \n",
       "\n",
       "   razao_urbana_rural  frac_urbana  indicador regiao_pc  indicador2  \n",
       "0            1.629553     0.619707          0       NaN    0.528660  \n",
       "1            1.873795     0.652024          0       NaN    0.546218  \n",
       "2            2.834423     0.739205          1       NaN    0.614438  \n",
       "3            2.392140     0.705201          1       NaN    0.584215  \n",
       "4            1.151136     0.535129          0       NaN    0.502468  "
      ]
     },
     "execution_count": 116,
     "metadata": {},
     "output_type": "execute_result"
    }
   ],
   "source": [
    "# usando o apply em múltiplas colunas\n",
    "df['indicador2'] = df.apply(soma_quadrados, axis=1)\n",
    "\n",
    "df.head()"
   ]
  },
  {
   "cell_type": "markdown",
   "id": "83fa77ad",
   "metadata": {
    "id": "83fa77ad"
   },
   "source": [
    "### Merge (join)\n",
    "\n",
    "Outra tarefa muito comum quando estamos trabalhando com bases de dados é o **cruzamento**\n",
    "\n",
    "Para fazer isso, utilizamos o método **.merge()**, cujos modos de cruzamento são:\n",
    "\n",
    "<img src=\"https://community.qlik.com/legacyfs/online/87693_all-joins.png\" width=450>"
   ]
  },
  {
   "cell_type": "code",
   "execution_count": 140,
   "id": "b040ed61",
   "metadata": {},
   "outputs": [],
   "source": [
    "lista_on_left = [1, 2, 3, 4, 5, 6, 7, 8, 9, 10]\n",
    "lista_on_right = [1, 3, 5, 7, 9, 11]"
   ]
  },
  {
   "cell_type": "code",
   "execution_count": 141,
   "id": "0e16ddb7",
   "metadata": {},
   "outputs": [
    {
     "data": {
      "text/html": [
       "<div>\n",
       "<style scoped>\n",
       "    .dataframe tbody tr th:only-of-type {\n",
       "        vertical-align: middle;\n",
       "    }\n",
       "\n",
       "    .dataframe tbody tr th {\n",
       "        vertical-align: top;\n",
       "    }\n",
       "\n",
       "    .dataframe thead th {\n",
       "        text-align: right;\n",
       "    }\n",
       "</style>\n",
       "<table border=\"1\" class=\"dataframe\">\n",
       "  <thead>\n",
       "    <tr style=\"text-align: right;\">\n",
       "      <th></th>\n",
       "      <th>coluna_on</th>\n",
       "      <th>valores_esquerda</th>\n",
       "    </tr>\n",
       "  </thead>\n",
       "  <tbody>\n",
       "    <tr>\n",
       "      <th>0</th>\n",
       "      <td>1</td>\n",
       "      <td>1</td>\n",
       "    </tr>\n",
       "    <tr>\n",
       "      <th>1</th>\n",
       "      <td>2</td>\n",
       "      <td>2</td>\n",
       "    </tr>\n",
       "    <tr>\n",
       "      <th>2</th>\n",
       "      <td>3</td>\n",
       "      <td>3</td>\n",
       "    </tr>\n",
       "    <tr>\n",
       "      <th>3</th>\n",
       "      <td>4</td>\n",
       "      <td>4</td>\n",
       "    </tr>\n",
       "    <tr>\n",
       "      <th>4</th>\n",
       "      <td>5</td>\n",
       "      <td>5</td>\n",
       "    </tr>\n",
       "    <tr>\n",
       "      <th>5</th>\n",
       "      <td>6</td>\n",
       "      <td>6</td>\n",
       "    </tr>\n",
       "    <tr>\n",
       "      <th>6</th>\n",
       "      <td>7</td>\n",
       "      <td>7</td>\n",
       "    </tr>\n",
       "    <tr>\n",
       "      <th>7</th>\n",
       "      <td>8</td>\n",
       "      <td>8</td>\n",
       "    </tr>\n",
       "    <tr>\n",
       "      <th>8</th>\n",
       "      <td>9</td>\n",
       "      <td>9</td>\n",
       "    </tr>\n",
       "    <tr>\n",
       "      <th>9</th>\n",
       "      <td>10</td>\n",
       "      <td>10</td>\n",
       "    </tr>\n",
       "  </tbody>\n",
       "</table>\n",
       "</div>"
      ],
      "text/plain": [
       "   coluna_on  valores_esquerda\n",
       "0          1                 1\n",
       "1          2                 2\n",
       "2          3                 3\n",
       "3          4                 4\n",
       "4          5                 5\n",
       "5          6                 6\n",
       "6          7                 7\n",
       "7          8                 8\n",
       "8          9                 9\n",
       "9         10                10"
      ]
     },
     "execution_count": 141,
     "metadata": {},
     "output_type": "execute_result"
    }
   ],
   "source": [
    "dict_left = {'coluna_on': lista_on_left, 'valores_esquerda': lista_on_left}\n",
    "dict_right = {'coluna_on': lista_on_right, 'valores_direita': lista_on_right}\n",
    "\n",
    "df_left = pd.DataFrame(dict_left)\n",
    "df_left"
   ]
  },
  {
   "cell_type": "code",
   "execution_count": 142,
   "id": "fa161cf8",
   "metadata": {},
   "outputs": [
    {
     "data": {
      "text/html": [
       "<div>\n",
       "<style scoped>\n",
       "    .dataframe tbody tr th:only-of-type {\n",
       "        vertical-align: middle;\n",
       "    }\n",
       "\n",
       "    .dataframe tbody tr th {\n",
       "        vertical-align: top;\n",
       "    }\n",
       "\n",
       "    .dataframe thead th {\n",
       "        text-align: right;\n",
       "    }\n",
       "</style>\n",
       "<table border=\"1\" class=\"dataframe\">\n",
       "  <thead>\n",
       "    <tr style=\"text-align: right;\">\n",
       "      <th></th>\n",
       "      <th>coluna_on</th>\n",
       "      <th>valores_direita</th>\n",
       "    </tr>\n",
       "  </thead>\n",
       "  <tbody>\n",
       "    <tr>\n",
       "      <th>0</th>\n",
       "      <td>1</td>\n",
       "      <td>1</td>\n",
       "    </tr>\n",
       "    <tr>\n",
       "      <th>1</th>\n",
       "      <td>3</td>\n",
       "      <td>3</td>\n",
       "    </tr>\n",
       "    <tr>\n",
       "      <th>2</th>\n",
       "      <td>5</td>\n",
       "      <td>5</td>\n",
       "    </tr>\n",
       "    <tr>\n",
       "      <th>3</th>\n",
       "      <td>7</td>\n",
       "      <td>7</td>\n",
       "    </tr>\n",
       "    <tr>\n",
       "      <th>4</th>\n",
       "      <td>9</td>\n",
       "      <td>9</td>\n",
       "    </tr>\n",
       "    <tr>\n",
       "      <th>5</th>\n",
       "      <td>11</td>\n",
       "      <td>11</td>\n",
       "    </tr>\n",
       "  </tbody>\n",
       "</table>\n",
       "</div>"
      ],
      "text/plain": [
       "   coluna_on  valores_direita\n",
       "0          1                1\n",
       "1          3                3\n",
       "2          5                5\n",
       "3          7                7\n",
       "4          9                9\n",
       "5         11               11"
      ]
     },
     "execution_count": 142,
     "metadata": {},
     "output_type": "execute_result"
    }
   ],
   "source": [
    "df_right = pd.DataFrame(dict_right)\n",
    "df_right"
   ]
  },
  {
   "cell_type": "code",
   "execution_count": 143,
   "id": "3d68d3db",
   "metadata": {},
   "outputs": [
    {
     "data": {
      "text/html": [
       "<div>\n",
       "<style scoped>\n",
       "    .dataframe tbody tr th:only-of-type {\n",
       "        vertical-align: middle;\n",
       "    }\n",
       "\n",
       "    .dataframe tbody tr th {\n",
       "        vertical-align: top;\n",
       "    }\n",
       "\n",
       "    .dataframe thead th {\n",
       "        text-align: right;\n",
       "    }\n",
       "</style>\n",
       "<table border=\"1\" class=\"dataframe\">\n",
       "  <thead>\n",
       "    <tr style=\"text-align: right;\">\n",
       "      <th></th>\n",
       "      <th>coluna_on</th>\n",
       "      <th>valores_esquerda</th>\n",
       "      <th>valores_direita</th>\n",
       "    </tr>\n",
       "  </thead>\n",
       "  <tbody>\n",
       "    <tr>\n",
       "      <th>0</th>\n",
       "      <td>1</td>\n",
       "      <td>1.0</td>\n",
       "      <td>1.0</td>\n",
       "    </tr>\n",
       "    <tr>\n",
       "      <th>1</th>\n",
       "      <td>2</td>\n",
       "      <td>2.0</td>\n",
       "      <td>NaN</td>\n",
       "    </tr>\n",
       "    <tr>\n",
       "      <th>2</th>\n",
       "      <td>3</td>\n",
       "      <td>3.0</td>\n",
       "      <td>3.0</td>\n",
       "    </tr>\n",
       "    <tr>\n",
       "      <th>3</th>\n",
       "      <td>4</td>\n",
       "      <td>4.0</td>\n",
       "      <td>NaN</td>\n",
       "    </tr>\n",
       "    <tr>\n",
       "      <th>4</th>\n",
       "      <td>5</td>\n",
       "      <td>5.0</td>\n",
       "      <td>5.0</td>\n",
       "    </tr>\n",
       "    <tr>\n",
       "      <th>5</th>\n",
       "      <td>6</td>\n",
       "      <td>6.0</td>\n",
       "      <td>NaN</td>\n",
       "    </tr>\n",
       "    <tr>\n",
       "      <th>6</th>\n",
       "      <td>7</td>\n",
       "      <td>7.0</td>\n",
       "      <td>7.0</td>\n",
       "    </tr>\n",
       "    <tr>\n",
       "      <th>7</th>\n",
       "      <td>8</td>\n",
       "      <td>8.0</td>\n",
       "      <td>NaN</td>\n",
       "    </tr>\n",
       "    <tr>\n",
       "      <th>8</th>\n",
       "      <td>9</td>\n",
       "      <td>9.0</td>\n",
       "      <td>9.0</td>\n",
       "    </tr>\n",
       "    <tr>\n",
       "      <th>9</th>\n",
       "      <td>10</td>\n",
       "      <td>10.0</td>\n",
       "      <td>NaN</td>\n",
       "    </tr>\n",
       "    <tr>\n",
       "      <th>10</th>\n",
       "      <td>11</td>\n",
       "      <td>NaN</td>\n",
       "      <td>11.0</td>\n",
       "    </tr>\n",
       "  </tbody>\n",
       "</table>\n",
       "</div>"
      ],
      "text/plain": [
       "    coluna_on  valores_esquerda  valores_direita\n",
       "0           1               1.0              1.0\n",
       "1           2               2.0              NaN\n",
       "2           3               3.0              3.0\n",
       "3           4               4.0              NaN\n",
       "4           5               5.0              5.0\n",
       "5           6               6.0              NaN\n",
       "6           7               7.0              7.0\n",
       "7           8               8.0              NaN\n",
       "8           9               9.0              9.0\n",
       "9          10              10.0              NaN\n",
       "10         11               NaN             11.0"
      ]
     },
     "execution_count": 143,
     "metadata": {},
     "output_type": "execute_result"
    }
   ],
   "source": [
    "df_left.merge(df_right, how='outer')"
   ]
  },
  {
   "cell_type": "code",
   "execution_count": 144,
   "id": "I611G_H1pLxF",
   "metadata": {
    "colab": {
     "base_uri": "https://localhost:8080/",
     "height": 206
    },
    "id": "I611G_H1pLxF",
    "outputId": "672d6ac2-81f5-4aba-b807-d9824bcdaeed"
   },
   "outputs": [
    {
     "data": {
      "text/html": [
       "<div>\n",
       "<style scoped>\n",
       "    .dataframe tbody tr th:only-of-type {\n",
       "        vertical-align: middle;\n",
       "    }\n",
       "\n",
       "    .dataframe tbody tr th {\n",
       "        vertical-align: top;\n",
       "    }\n",
       "\n",
       "    .dataframe thead th {\n",
       "        text-align: right;\n",
       "    }\n",
       "</style>\n",
       "<table border=\"1\" class=\"dataframe\">\n",
       "  <thead>\n",
       "    <tr style=\"text-align: right;\">\n",
       "      <th></th>\n",
       "      <th>regiao</th>\n",
       "      <th>uf</th>\n",
       "      <th>superficie</th>\n",
       "      <th>pop_urbana</th>\n",
       "      <th>pop_rural</th>\n",
       "      <th>total</th>\n",
       "    </tr>\n",
       "  </thead>\n",
       "  <tbody>\n",
       "    <tr>\n",
       "      <th>0</th>\n",
       "      <td>Norte</td>\n",
       "      <td>RO</td>\n",
       "      <td>238513</td>\n",
       "      <td>762864.0</td>\n",
       "      <td>468143.0</td>\n",
       "      <td>1231007.0</td>\n",
       "    </tr>\n",
       "    <tr>\n",
       "      <th>1</th>\n",
       "      <td>Norte</td>\n",
       "      <td>AC</td>\n",
       "      <td>153150</td>\n",
       "      <td>315401.0</td>\n",
       "      <td>168322.0</td>\n",
       "      <td>483726.0</td>\n",
       "    </tr>\n",
       "    <tr>\n",
       "      <th>2</th>\n",
       "      <td>Norte</td>\n",
       "      <td>AM</td>\n",
       "      <td>1577820</td>\n",
       "      <td>1766166.0</td>\n",
       "      <td>623113.0</td>\n",
       "      <td>2389279.0</td>\n",
       "    </tr>\n",
       "    <tr>\n",
       "      <th>3</th>\n",
       "      <td>Norte</td>\n",
       "      <td>RR</td>\n",
       "      <td>225116</td>\n",
       "      <td>174277.0</td>\n",
       "      <td>72854.0</td>\n",
       "      <td>247131.0</td>\n",
       "    </tr>\n",
       "    <tr>\n",
       "      <th>4</th>\n",
       "      <td>Norte</td>\n",
       "      <td>PA</td>\n",
       "      <td>1253165</td>\n",
       "      <td>2949017.0</td>\n",
       "      <td>2561832.0</td>\n",
       "      <td>5510849.0</td>\n",
       "    </tr>\n",
       "  </tbody>\n",
       "</table>\n",
       "</div>"
      ],
      "text/plain": [
       "  regiao  uf  superficie  pop_urbana  pop_rural      total\n",
       "0  Norte  RO      238513    762864.0   468143.0  1231007.0\n",
       "1  Norte  AC      153150    315401.0   168322.0   483726.0\n",
       "2  Norte  AM     1577820   1766166.0   623113.0  2389279.0\n",
       "3  Norte  RR      225116    174277.0    72854.0   247131.0\n",
       "4  Norte  PA     1253165   2949017.0  2561832.0  5510849.0"
      ]
     },
     "execution_count": 144,
     "metadata": {},
     "output_type": "execute_result"
    }
   ],
   "source": [
    "df_muni.head()"
   ]
  },
  {
   "cell_type": "code",
   "execution_count": 145,
   "id": "IR0UhtMapdFD",
   "metadata": {
    "colab": {
     "base_uri": "https://localhost:8080/",
     "height": 301
    },
    "id": "IR0UhtMapdFD",
    "outputId": "55e3b83d-36a0-4f4f-edea-b7e7aa48c6ad"
   },
   "outputs": [
    {
     "data": {
      "text/html": [
       "<div>\n",
       "<style scoped>\n",
       "    .dataframe tbody tr th:only-of-type {\n",
       "        vertical-align: middle;\n",
       "    }\n",
       "\n",
       "    .dataframe tbody tr th {\n",
       "        vertical-align: top;\n",
       "    }\n",
       "\n",
       "    .dataframe thead th {\n",
       "        text-align: right;\n",
       "    }\n",
       "</style>\n",
       "<table border=\"1\" class=\"dataframe\">\n",
       "  <thead>\n",
       "    <tr style=\"text-align: right;\">\n",
       "      <th></th>\n",
       "      <th>regiao</th>\n",
       "      <th>superficie</th>\n",
       "      <th>pop_urbana</th>\n",
       "      <th>pop_rural</th>\n",
       "      <th>total</th>\n",
       "    </tr>\n",
       "    <tr>\n",
       "      <th>uf</th>\n",
       "      <th></th>\n",
       "      <th></th>\n",
       "      <th></th>\n",
       "      <th></th>\n",
       "      <th></th>\n",
       "    </tr>\n",
       "  </thead>\n",
       "  <tbody>\n",
       "    <tr>\n",
       "      <th>RO</th>\n",
       "      <td>Norte</td>\n",
       "      <td>238513</td>\n",
       "      <td>762864.0</td>\n",
       "      <td>468143.0</td>\n",
       "      <td>1231007.0</td>\n",
       "    </tr>\n",
       "    <tr>\n",
       "      <th>AC</th>\n",
       "      <td>Norte</td>\n",
       "      <td>153150</td>\n",
       "      <td>315401.0</td>\n",
       "      <td>168322.0</td>\n",
       "      <td>483726.0</td>\n",
       "    </tr>\n",
       "    <tr>\n",
       "      <th>AM</th>\n",
       "      <td>Norte</td>\n",
       "      <td>1577820</td>\n",
       "      <td>1766166.0</td>\n",
       "      <td>623113.0</td>\n",
       "      <td>2389279.0</td>\n",
       "    </tr>\n",
       "    <tr>\n",
       "      <th>RR</th>\n",
       "      <td>Norte</td>\n",
       "      <td>225116</td>\n",
       "      <td>174277.0</td>\n",
       "      <td>72854.0</td>\n",
       "      <td>247131.0</td>\n",
       "    </tr>\n",
       "    <tr>\n",
       "      <th>PA</th>\n",
       "      <td>Norte</td>\n",
       "      <td>1253165</td>\n",
       "      <td>2949017.0</td>\n",
       "      <td>2561832.0</td>\n",
       "      <td>5510849.0</td>\n",
       "    </tr>\n",
       "  </tbody>\n",
       "</table>\n",
       "</div>"
      ],
      "text/plain": [
       "   regiao  superficie  pop_urbana  pop_rural      total\n",
       "uf                                                     \n",
       "RO  Norte      238513    762864.0   468143.0  1231007.0\n",
       "AC  Norte      153150    315401.0   168322.0   483726.0\n",
       "AM  Norte     1577820   1766166.0   623113.0  2389279.0\n",
       "RR  Norte      225116    174277.0    72854.0   247131.0\n",
       "PA  Norte     1253165   2949017.0  2561832.0  5510849.0"
      ]
     },
     "execution_count": 145,
     "metadata": {},
     "output_type": "execute_result"
    }
   ],
   "source": [
    "df.head()"
   ]
  },
  {
   "cell_type": "code",
   "execution_count": 146,
   "id": "ZpNvL00ephJM",
   "metadata": {
    "colab": {
     "base_uri": "https://localhost:8080/",
     "height": 270
    },
    "id": "ZpNvL00ephJM",
    "outputId": "200e93f5-57ed-4d44-e021-b8f1426ea790"
   },
   "outputs": [
    {
     "data": {
      "text/html": [
       "<div>\n",
       "<style scoped>\n",
       "    .dataframe tbody tr th:only-of-type {\n",
       "        vertical-align: middle;\n",
       "    }\n",
       "\n",
       "    .dataframe tbody tr th {\n",
       "        vertical-align: top;\n",
       "    }\n",
       "\n",
       "    .dataframe thead th {\n",
       "        text-align: right;\n",
       "    }\n",
       "</style>\n",
       "<table border=\"1\" class=\"dataframe\">\n",
       "  <thead>\n",
       "    <tr style=\"text-align: right;\">\n",
       "      <th></th>\n",
       "      <th>uf</th>\n",
       "      <th>regiao</th>\n",
       "      <th>superficie</th>\n",
       "      <th>pop_urbana</th>\n",
       "      <th>pop_rural</th>\n",
       "      <th>total</th>\n",
       "    </tr>\n",
       "  </thead>\n",
       "  <tbody>\n",
       "    <tr>\n",
       "      <th>0</th>\n",
       "      <td>RO</td>\n",
       "      <td>Norte</td>\n",
       "      <td>238513</td>\n",
       "      <td>762864.0</td>\n",
       "      <td>468143.0</td>\n",
       "      <td>1231007.0</td>\n",
       "    </tr>\n",
       "    <tr>\n",
       "      <th>1</th>\n",
       "      <td>AC</td>\n",
       "      <td>Norte</td>\n",
       "      <td>153150</td>\n",
       "      <td>315401.0</td>\n",
       "      <td>168322.0</td>\n",
       "      <td>483726.0</td>\n",
       "    </tr>\n",
       "    <tr>\n",
       "      <th>2</th>\n",
       "      <td>AM</td>\n",
       "      <td>Norte</td>\n",
       "      <td>1577820</td>\n",
       "      <td>1766166.0</td>\n",
       "      <td>623113.0</td>\n",
       "      <td>2389279.0</td>\n",
       "    </tr>\n",
       "    <tr>\n",
       "      <th>3</th>\n",
       "      <td>RR</td>\n",
       "      <td>Norte</td>\n",
       "      <td>225116</td>\n",
       "      <td>174277.0</td>\n",
       "      <td>72854.0</td>\n",
       "      <td>247131.0</td>\n",
       "    </tr>\n",
       "    <tr>\n",
       "      <th>4</th>\n",
       "      <td>PA</td>\n",
       "      <td>Norte</td>\n",
       "      <td>1253165</td>\n",
       "      <td>2949017.0</td>\n",
       "      <td>2561832.0</td>\n",
       "      <td>5510849.0</td>\n",
       "    </tr>\n",
       "  </tbody>\n",
       "</table>\n",
       "</div>"
      ],
      "text/plain": [
       "   uf regiao  superficie  pop_urbana  pop_rural      total\n",
       "0  RO  Norte      238513    762864.0   468143.0  1231007.0\n",
       "1  AC  Norte      153150    315401.0   168322.0   483726.0\n",
       "2  AM  Norte     1577820   1766166.0   623113.0  2389279.0\n",
       "3  RR  Norte      225116    174277.0    72854.0   247131.0\n",
       "4  PA  Norte     1253165   2949017.0  2561832.0  5510849.0"
      ]
     },
     "execution_count": 146,
     "metadata": {},
     "output_type": "execute_result"
    }
   ],
   "source": [
    "# retirar o uf dos índices\n",
    "df = df.reset_index()\n",
    "df.head()"
   ]
  },
  {
   "cell_type": "code",
   "execution_count": 149,
   "id": "VW2JsIqlpoqM",
   "metadata": {
    "colab": {
     "base_uri": "https://localhost:8080/",
     "height": 983
    },
    "id": "VW2JsIqlpoqM",
    "outputId": "66b964cb-695e-4d1f-e552-68479b45ddfe"
   },
   "outputs": [
    {
     "data": {
      "text/html": [
       "<div>\n",
       "<style scoped>\n",
       "    .dataframe tbody tr th:only-of-type {\n",
       "        vertical-align: middle;\n",
       "    }\n",
       "\n",
       "    .dataframe tbody tr th {\n",
       "        vertical-align: top;\n",
       "    }\n",
       "\n",
       "    .dataframe thead th {\n",
       "        text-align: right;\n",
       "    }\n",
       "</style>\n",
       "<table border=\"1\" class=\"dataframe\">\n",
       "  <thead>\n",
       "    <tr style=\"text-align: right;\">\n",
       "      <th></th>\n",
       "      <th>regiao_x</th>\n",
       "      <th>uf</th>\n",
       "      <th>superficie_x</th>\n",
       "      <th>pop_urbana_x</th>\n",
       "      <th>pop_rural_x</th>\n",
       "      <th>total_x</th>\n",
       "      <th>regiao_y</th>\n",
       "      <th>superficie_y</th>\n",
       "      <th>pop_urbana_y</th>\n",
       "      <th>pop_rural_y</th>\n",
       "      <th>total_y</th>\n",
       "    </tr>\n",
       "  </thead>\n",
       "  <tbody>\n",
       "    <tr>\n",
       "      <th>0</th>\n",
       "      <td>Norte</td>\n",
       "      <td>RO</td>\n",
       "      <td>238513</td>\n",
       "      <td>762864.0</td>\n",
       "      <td>468143.0</td>\n",
       "      <td>1231007.0</td>\n",
       "      <td>Norte</td>\n",
       "      <td>238513</td>\n",
       "      <td>762864.0</td>\n",
       "      <td>468143.0</td>\n",
       "      <td>1231007.0</td>\n",
       "    </tr>\n",
       "    <tr>\n",
       "      <th>1</th>\n",
       "      <td>Norte</td>\n",
       "      <td>AC</td>\n",
       "      <td>153150</td>\n",
       "      <td>315401.0</td>\n",
       "      <td>168322.0</td>\n",
       "      <td>483726.0</td>\n",
       "      <td>Norte</td>\n",
       "      <td>153150</td>\n",
       "      <td>315401.0</td>\n",
       "      <td>168322.0</td>\n",
       "      <td>483726.0</td>\n",
       "    </tr>\n",
       "    <tr>\n",
       "      <th>2</th>\n",
       "      <td>Norte</td>\n",
       "      <td>AM</td>\n",
       "      <td>1577820</td>\n",
       "      <td>1766166.0</td>\n",
       "      <td>623113.0</td>\n",
       "      <td>2389279.0</td>\n",
       "      <td>Norte</td>\n",
       "      <td>1577820</td>\n",
       "      <td>1766166.0</td>\n",
       "      <td>623113.0</td>\n",
       "      <td>2389279.0</td>\n",
       "    </tr>\n",
       "    <tr>\n",
       "      <th>3</th>\n",
       "      <td>Norte</td>\n",
       "      <td>RR</td>\n",
       "      <td>225116</td>\n",
       "      <td>174277.0</td>\n",
       "      <td>72854.0</td>\n",
       "      <td>247131.0</td>\n",
       "      <td>Norte</td>\n",
       "      <td>225116</td>\n",
       "      <td>174277.0</td>\n",
       "      <td>72854.0</td>\n",
       "      <td>247131.0</td>\n",
       "    </tr>\n",
       "    <tr>\n",
       "      <th>4</th>\n",
       "      <td>Norte</td>\n",
       "      <td>PA</td>\n",
       "      <td>1253165</td>\n",
       "      <td>2949017.0</td>\n",
       "      <td>2561832.0</td>\n",
       "      <td>5510849.0</td>\n",
       "      <td>Norte</td>\n",
       "      <td>1253165</td>\n",
       "      <td>2949017.0</td>\n",
       "      <td>2561832.0</td>\n",
       "      <td>5510849.0</td>\n",
       "    </tr>\n",
       "    <tr>\n",
       "      <th>5</th>\n",
       "      <td>Norte</td>\n",
       "      <td>AP</td>\n",
       "      <td>143454</td>\n",
       "      <td>330590.0</td>\n",
       "      <td>48869.0</td>\n",
       "      <td>379459.0</td>\n",
       "      <td>Norte</td>\n",
       "      <td>143454</td>\n",
       "      <td>330590.0</td>\n",
       "      <td>48869.0</td>\n",
       "      <td>379459.0</td>\n",
       "    </tr>\n",
       "    <tr>\n",
       "      <th>6</th>\n",
       "      <td>Norte</td>\n",
       "      <td>TO</td>\n",
       "      <td>278421</td>\n",
       "      <td>741009.0</td>\n",
       "      <td>307633.0</td>\n",
       "      <td>1048642.0</td>\n",
       "      <td>Norte</td>\n",
       "      <td>278421</td>\n",
       "      <td>741009.0</td>\n",
       "      <td>307633.0</td>\n",
       "      <td>1048642.0</td>\n",
       "    </tr>\n",
       "    <tr>\n",
       "      <th>7</th>\n",
       "      <td>Nordeste</td>\n",
       "      <td>MA</td>\n",
       "      <td>333366</td>\n",
       "      <td>2711557.0</td>\n",
       "      <td>2511008.0</td>\n",
       "      <td>5222565.0</td>\n",
       "      <td>Nordeste</td>\n",
       "      <td>333366</td>\n",
       "      <td>2711557.0</td>\n",
       "      <td>2511008.0</td>\n",
       "      <td>5222565.0</td>\n",
       "    </tr>\n",
       "    <tr>\n",
       "      <th>8</th>\n",
       "      <td>Nordeste</td>\n",
       "      <td>PI</td>\n",
       "      <td>252379</td>\n",
       "      <td>1556115.0</td>\n",
       "      <td>1117061.0</td>\n",
       "      <td>2673176.0</td>\n",
       "      <td>Nordeste</td>\n",
       "      <td>252379</td>\n",
       "      <td>1556115.0</td>\n",
       "      <td>1117061.0</td>\n",
       "      <td>2673176.0</td>\n",
       "    </tr>\n",
       "    <tr>\n",
       "      <th>9</th>\n",
       "      <td>Nordeste</td>\n",
       "      <td>Litígio*</td>\n",
       "      <td>2977</td>\n",
       "      <td>NaN</td>\n",
       "      <td>NaN</td>\n",
       "      <td>NaN</td>\n",
       "      <td>Nordeste</td>\n",
       "      <td>2977</td>\n",
       "      <td>NaN</td>\n",
       "      <td>NaN</td>\n",
       "      <td>NaN</td>\n",
       "    </tr>\n",
       "    <tr>\n",
       "      <th>10</th>\n",
       "      <td>Nordeste</td>\n",
       "      <td>CE</td>\n",
       "      <td>146348</td>\n",
       "      <td>4713311.0</td>\n",
       "      <td>2096483.0</td>\n",
       "      <td>6809794.0</td>\n",
       "      <td>Nordeste</td>\n",
       "      <td>146348</td>\n",
       "      <td>4713311.0</td>\n",
       "      <td>2096483.0</td>\n",
       "      <td>6809794.0</td>\n",
       "    </tr>\n",
       "    <tr>\n",
       "      <th>11</th>\n",
       "      <td>Nordeste</td>\n",
       "      <td>RN</td>\n",
       "      <td>53307</td>\n",
       "      <td>1843486.0</td>\n",
       "      <td>715174.0</td>\n",
       "      <td>2558660.0</td>\n",
       "      <td>Nordeste</td>\n",
       "      <td>53307</td>\n",
       "      <td>1843486.0</td>\n",
       "      <td>715174.0</td>\n",
       "      <td>2558660.0</td>\n",
       "    </tr>\n",
       "    <tr>\n",
       "      <th>12</th>\n",
       "      <td>Nordeste</td>\n",
       "      <td>PB</td>\n",
       "      <td>56585</td>\n",
       "      <td>2261986.0</td>\n",
       "      <td>1043630.0</td>\n",
       "      <td>3305616.0</td>\n",
       "      <td>Nordeste</td>\n",
       "      <td>56585</td>\n",
       "      <td>2261986.0</td>\n",
       "      <td>1043630.0</td>\n",
       "      <td>3305616.0</td>\n",
       "    </tr>\n",
       "    <tr>\n",
       "      <th>13</th>\n",
       "      <td>Nordeste</td>\n",
       "      <td>PE**</td>\n",
       "      <td>98938</td>\n",
       "      <td>5476915.0</td>\n",
       "      <td>1922216.0</td>\n",
       "      <td>7399131.0</td>\n",
       "      <td>Nordeste</td>\n",
       "      <td>98938</td>\n",
       "      <td>5476915.0</td>\n",
       "      <td>1922216.0</td>\n",
       "      <td>7399131.0</td>\n",
       "    </tr>\n",
       "    <tr>\n",
       "      <th>14</th>\n",
       "      <td>Nordeste</td>\n",
       "      <td>AL</td>\n",
       "      <td>27933</td>\n",
       "      <td>1661914.0</td>\n",
       "      <td>971425.0</td>\n",
       "      <td>2633339.0</td>\n",
       "      <td>Nordeste</td>\n",
       "      <td>27933</td>\n",
       "      <td>1661914.0</td>\n",
       "      <td>971425.0</td>\n",
       "      <td>2633339.0</td>\n",
       "    </tr>\n",
       "    <tr>\n",
       "      <th>15</th>\n",
       "      <td>Nordeste</td>\n",
       "      <td>SE</td>\n",
       "      <td>22050</td>\n",
       "      <td>1140569.0</td>\n",
       "      <td>483606.0</td>\n",
       "      <td>1624175.0</td>\n",
       "      <td>Nordeste</td>\n",
       "      <td>22050</td>\n",
       "      <td>1140569.0</td>\n",
       "      <td>483606.0</td>\n",
       "      <td>1624175.0</td>\n",
       "    </tr>\n",
       "    <tr>\n",
       "      <th>16</th>\n",
       "      <td>Nordeste</td>\n",
       "      <td>BA</td>\n",
       "      <td>567295</td>\n",
       "      <td>7826843.0</td>\n",
       "      <td>4714902.0</td>\n",
       "      <td>12541745.0</td>\n",
       "      <td>Nordeste</td>\n",
       "      <td>567295</td>\n",
       "      <td>7826843.0</td>\n",
       "      <td>4714902.0</td>\n",
       "      <td>12541745.0</td>\n",
       "    </tr>\n",
       "    <tr>\n",
       "      <th>17</th>\n",
       "      <td>Sudeste</td>\n",
       "      <td>MG</td>\n",
       "      <td>588384</td>\n",
       "      <td>13074245.0</td>\n",
       "      <td>3598852.0</td>\n",
       "      <td>16673097.0</td>\n",
       "      <td>Sudeste</td>\n",
       "      <td>588384</td>\n",
       "      <td>13074245.0</td>\n",
       "      <td>3598852.0</td>\n",
       "      <td>16673097.0</td>\n",
       "    </tr>\n",
       "    <tr>\n",
       "      <th>18</th>\n",
       "      <td>Sudeste</td>\n",
       "      <td>ES</td>\n",
       "      <td>46184</td>\n",
       "      <td>2176006.0</td>\n",
       "      <td>626701.0</td>\n",
       "      <td>2802707.0</td>\n",
       "      <td>Sudeste</td>\n",
       "      <td>46184</td>\n",
       "      <td>2176006.0</td>\n",
       "      <td>626701.0</td>\n",
       "      <td>2802707.0</td>\n",
       "    </tr>\n",
       "    <tr>\n",
       "      <th>19</th>\n",
       "      <td>Sudeste</td>\n",
       "      <td>RJ</td>\n",
       "      <td>43910</td>\n",
       "      <td>12806488.0</td>\n",
       "      <td>599891.0</td>\n",
       "      <td>13406379.0</td>\n",
       "      <td>Sudeste</td>\n",
       "      <td>43910</td>\n",
       "      <td>12806488.0</td>\n",
       "      <td>599891.0</td>\n",
       "      <td>13406379.0</td>\n",
       "    </tr>\n",
       "  </tbody>\n",
       "</table>\n",
       "</div>"
      ],
      "text/plain": [
       "    regiao_x        uf  superficie_x  pop_urbana_x  pop_rural_x     total_x  \\\n",
       "0      Norte        RO        238513      762864.0     468143.0   1231007.0   \n",
       "1      Norte        AC        153150      315401.0     168322.0    483726.0   \n",
       "2      Norte        AM       1577820     1766166.0     623113.0   2389279.0   \n",
       "3      Norte        RR        225116      174277.0      72854.0    247131.0   \n",
       "4      Norte        PA       1253165     2949017.0    2561832.0   5510849.0   \n",
       "5      Norte        AP        143454      330590.0      48869.0    379459.0   \n",
       "6      Norte        TO        278421      741009.0     307633.0   1048642.0   \n",
       "7   Nordeste        MA        333366     2711557.0    2511008.0   5222565.0   \n",
       "8   Nordeste        PI        252379     1556115.0    1117061.0   2673176.0   \n",
       "9   Nordeste  Litígio*          2977           NaN          NaN         NaN   \n",
       "10  Nordeste        CE        146348     4713311.0    2096483.0   6809794.0   \n",
       "11  Nordeste        RN         53307     1843486.0     715174.0   2558660.0   \n",
       "12  Nordeste        PB         56585     2261986.0    1043630.0   3305616.0   \n",
       "13  Nordeste      PE**         98938     5476915.0    1922216.0   7399131.0   \n",
       "14  Nordeste        AL         27933     1661914.0     971425.0   2633339.0   \n",
       "15  Nordeste        SE         22050     1140569.0     483606.0   1624175.0   \n",
       "16  Nordeste        BA        567295     7826843.0    4714902.0  12541745.0   \n",
       "17   Sudeste        MG        588384    13074245.0    3598852.0  16673097.0   \n",
       "18   Sudeste        ES         46184     2176006.0     626701.0   2802707.0   \n",
       "19   Sudeste        RJ         43910    12806488.0     599891.0  13406379.0   \n",
       "\n",
       "    regiao_y  superficie_y  pop_urbana_y  pop_rural_y     total_y  \n",
       "0      Norte        238513      762864.0     468143.0   1231007.0  \n",
       "1      Norte        153150      315401.0     168322.0    483726.0  \n",
       "2      Norte       1577820     1766166.0     623113.0   2389279.0  \n",
       "3      Norte        225116      174277.0      72854.0    247131.0  \n",
       "4      Norte       1253165     2949017.0    2561832.0   5510849.0  \n",
       "5      Norte        143454      330590.0      48869.0    379459.0  \n",
       "6      Norte        278421      741009.0     307633.0   1048642.0  \n",
       "7   Nordeste        333366     2711557.0    2511008.0   5222565.0  \n",
       "8   Nordeste        252379     1556115.0    1117061.0   2673176.0  \n",
       "9   Nordeste          2977           NaN          NaN         NaN  \n",
       "10  Nordeste        146348     4713311.0    2096483.0   6809794.0  \n",
       "11  Nordeste         53307     1843486.0     715174.0   2558660.0  \n",
       "12  Nordeste         56585     2261986.0    1043630.0   3305616.0  \n",
       "13  Nordeste         98938     5476915.0    1922216.0   7399131.0  \n",
       "14  Nordeste         27933     1661914.0     971425.0   2633339.0  \n",
       "15  Nordeste         22050     1140569.0     483606.0   1624175.0  \n",
       "16  Nordeste        567295     7826843.0    4714902.0  12541745.0  \n",
       "17   Sudeste        588384    13074245.0    3598852.0  16673097.0  \n",
       "18   Sudeste         46184     2176006.0     626701.0   2802707.0  \n",
       "19   Sudeste         43910    12806488.0     599891.0  13406379.0  "
      ]
     },
     "execution_count": 149,
     "metadata": {},
     "output_type": "execute_result"
    }
   ],
   "source": [
    "df_reg = df_muni.merge(df, left_on=['uf'], right_on=['uf'], how='left')\n",
    "df_reg.head(20)"
   ]
  },
  {
   "cell_type": "code",
   "execution_count": 148,
   "id": "aZkO3zPDqUaz",
   "metadata": {
    "colab": {
     "base_uri": "https://localhost:8080/",
     "height": 269
    },
    "id": "aZkO3zPDqUaz",
    "outputId": "c96c33ec-6c84-4a5a-c2f3-69e4634b7e40"
   },
   "outputs": [
    {
     "ename": "NameError",
     "evalue": "name 'df_reg' is not defined",
     "output_type": "error",
     "traceback": [
      "\u001b[1;31m---------------------------------------------------------------------------\u001b[0m",
      "\u001b[1;31mNameError\u001b[0m                                 Traceback (most recent call last)",
      "\u001b[1;32m~\\AppData\\Local\\Temp\\ipykernel_12640\\428346574.py\u001b[0m in \u001b[0;36m<module>\u001b[1;34m\u001b[0m\n\u001b[0;32m      1\u001b[0m \u001b[1;31m# quero a média e o desvio padrão da população estimada por região\u001b[0m\u001b[1;33m\u001b[0m\u001b[1;33m\u001b[0m\u001b[0m\n\u001b[1;32m----> 2\u001b[1;33m \u001b[0mdf_reg\u001b[0m\u001b[1;33m.\u001b[0m\u001b[0mgroupby\u001b[0m\u001b[1;33m(\u001b[0m\u001b[1;34m'regiao'\u001b[0m\u001b[1;33m)\u001b[0m\u001b[1;33m.\u001b[0m\u001b[0magg\u001b[0m\u001b[1;33m(\u001b[0m\u001b[1;33m{\u001b[0m\u001b[1;34m'POPULAÇÃO ESTIMADA'\u001b[0m\u001b[1;33m:\u001b[0m \u001b[1;33m[\u001b[0m\u001b[1;34m'mean'\u001b[0m\u001b[1;33m,\u001b[0m \u001b[1;34m'std'\u001b[0m\u001b[1;33m,\u001b[0m \u001b[1;34m'median'\u001b[0m\u001b[1;33m]\u001b[0m\u001b[1;33m}\u001b[0m\u001b[1;33m)\u001b[0m\u001b[1;33m\u001b[0m\u001b[1;33m\u001b[0m\u001b[0m\n\u001b[0m",
      "\u001b[1;31mNameError\u001b[0m: name 'df_reg' is not defined"
     ]
    }
   ],
   "source": [
    "# quero a média e o desvio padrão da população estimada por região\n",
    "df_reg.groupby('regiao').agg({'POPULAÇÃO ESTIMADA': ['mean', 'std', 'median']})"
   ]
  },
  {
   "cell_type": "markdown",
   "id": "deee974e",
   "metadata": {
    "id": "deee974e"
   },
   "source": [
    "**Bora praticar!**\n",
    "  \n",
    "1) Utilizando o DataFrame importado anteriormente (alunos3.csv) calcule a média das provas em uma nova coluna chamada (Media_provas)"
   ]
  },
  {
   "cell_type": "code",
   "execution_count": 2,
   "id": "9d8c1fd7",
   "metadata": {},
   "outputs": [],
   "source": [
    "import pandas as pd\n",
    "import numpy as np"
   ]
  },
  {
   "cell_type": "code",
   "execution_count": 17,
   "id": "4a9bbe8e",
   "metadata": {},
   "outputs": [],
   "source": [
    "df_notas = pd.read_csv(\"./dados/alunos3.csv\", sep=';', decimal=',')"
   ]
  },
  {
   "cell_type": "code",
   "execution_count": 18,
   "id": "4cf2afbb",
   "metadata": {},
   "outputs": [
    {
     "data": {
      "text/html": [
       "<div>\n",
       "<style scoped>\n",
       "    .dataframe tbody tr th:only-of-type {\n",
       "        vertical-align: middle;\n",
       "    }\n",
       "\n",
       "    .dataframe tbody tr th {\n",
       "        vertical-align: top;\n",
       "    }\n",
       "\n",
       "    .dataframe thead th {\n",
       "        text-align: right;\n",
       "    }\n",
       "</style>\n",
       "<table border=\"1\" class=\"dataframe\">\n",
       "  <thead>\n",
       "    <tr style=\"text-align: right;\">\n",
       "      <th></th>\n",
       "      <th>RA</th>\n",
       "      <th>Nome</th>\n",
       "      <th>Frequencia</th>\n",
       "      <th>Prova_1</th>\n",
       "      <th>Prova_2</th>\n",
       "      <th>Prova_3</th>\n",
       "      <th>Prova_4</th>\n",
       "    </tr>\n",
       "  </thead>\n",
       "  <tbody>\n",
       "    <tr>\n",
       "      <th>0</th>\n",
       "      <td>110201</td>\n",
       "      <td>Antonio Carlos</td>\n",
       "      <td>20</td>\n",
       "      <td>6.5</td>\n",
       "      <td>8.5</td>\n",
       "      <td>7.0</td>\n",
       "      <td>6</td>\n",
       "    </tr>\n",
       "    <tr>\n",
       "      <th>1</th>\n",
       "      <td>110212</td>\n",
       "      <td>Ana Beatriz</td>\n",
       "      <td>20</td>\n",
       "      <td>7.0</td>\n",
       "      <td>7.0</td>\n",
       "      <td>7.0</td>\n",
       "      <td>8</td>\n",
       "    </tr>\n",
       "    <tr>\n",
       "      <th>2</th>\n",
       "      <td>110218</td>\n",
       "      <td>Carlos Vernes</td>\n",
       "      <td>17</td>\n",
       "      <td>7.0</td>\n",
       "      <td>7.0</td>\n",
       "      <td>7.0</td>\n",
       "      <td>7</td>\n",
       "    </tr>\n",
       "    <tr>\n",
       "      <th>3</th>\n",
       "      <td>110307</td>\n",
       "      <td>Francisco Cunha</td>\n",
       "      <td>20</td>\n",
       "      <td>9.0</td>\n",
       "      <td>8.5</td>\n",
       "      <td>8.5</td>\n",
       "      <td>10</td>\n",
       "    </tr>\n",
       "    <tr>\n",
       "      <th>4</th>\n",
       "      <td>110275</td>\n",
       "      <td>Sandra Rosa</td>\n",
       "      <td>15</td>\n",
       "      <td>6.5</td>\n",
       "      <td>7.5</td>\n",
       "      <td>7.0</td>\n",
       "      <td>7</td>\n",
       "    </tr>\n",
       "  </tbody>\n",
       "</table>\n",
       "</div>"
      ],
      "text/plain": [
       "       RA             Nome  Frequencia  Prova_1  Prova_2  Prova_3  Prova_4\n",
       "0  110201   Antonio Carlos          20      6.5      8.5      7.0        6\n",
       "1  110212      Ana Beatriz          20      7.0      7.0      7.0        8\n",
       "2  110218    Carlos Vernes          17      7.0      7.0      7.0        7\n",
       "3  110307  Francisco Cunha          20      9.0      8.5      8.5       10\n",
       "4  110275      Sandra Rosa          15      6.5      7.5      7.0        7"
      ]
     },
     "execution_count": 18,
     "metadata": {},
     "output_type": "execute_result"
    }
   ],
   "source": [
    "df_notas.head()"
   ]
  },
  {
   "cell_type": "code",
   "execution_count": 19,
   "id": "13bc6148",
   "metadata": {},
   "outputs": [
    {
     "name": "stdout",
     "output_type": "stream",
     "text": [
      "<class 'pandas.core.frame.DataFrame'>\n",
      "RangeIndex: 10 entries, 0 to 9\n",
      "Data columns (total 7 columns):\n",
      " #   Column      Non-Null Count  Dtype  \n",
      "---  ------      --------------  -----  \n",
      " 0   RA          10 non-null     int64  \n",
      " 1   Nome        10 non-null     object \n",
      " 2   Frequencia  10 non-null     int64  \n",
      " 3   Prova_1     10 non-null     float64\n",
      " 4   Prova_2     10 non-null     float64\n",
      " 5   Prova_3     10 non-null     float64\n",
      " 6   Prova_4     10 non-null     int64  \n",
      "dtypes: float64(3), int64(3), object(1)\n",
      "memory usage: 688.0+ bytes\n"
     ]
    }
   ],
   "source": [
    "df_notas.info()"
   ]
  },
  {
   "cell_type": "code",
   "execution_count": 24,
   "id": "a5319cb9",
   "metadata": {},
   "outputs": [
    {
     "data": {
      "text/plain": [
       "0     7.000\n",
       "1     7.250\n",
       "2     7.000\n",
       "3     9.000\n",
       "4     7.000\n",
       "5     7.500\n",
       "6     5.875\n",
       "7    10.000\n",
       "8     8.625\n",
       "9     8.000\n",
       "dtype: float64"
      ]
     },
     "execution_count": 24,
     "metadata": {},
     "output_type": "execute_result"
    }
   ],
   "source": [
    "df_notas.loc[ : , 'Prova_1':'Prova_4'].mean(axis=1)"
   ]
  },
  {
   "cell_type": "code",
   "execution_count": 27,
   "id": "289a99c0",
   "metadata": {},
   "outputs": [
    {
     "data": {
      "text/html": [
       "<div>\n",
       "<style scoped>\n",
       "    .dataframe tbody tr th:only-of-type {\n",
       "        vertical-align: middle;\n",
       "    }\n",
       "\n",
       "    .dataframe tbody tr th {\n",
       "        vertical-align: top;\n",
       "    }\n",
       "\n",
       "    .dataframe thead th {\n",
       "        text-align: right;\n",
       "    }\n",
       "</style>\n",
       "<table border=\"1\" class=\"dataframe\">\n",
       "  <thead>\n",
       "    <tr style=\"text-align: right;\">\n",
       "      <th></th>\n",
       "      <th>RA</th>\n",
       "      <th>Nome</th>\n",
       "      <th>Frequencia</th>\n",
       "      <th>Prova_1</th>\n",
       "      <th>Prova_2</th>\n",
       "      <th>Prova_3</th>\n",
       "      <th>Prova_4</th>\n",
       "      <th>Media_provas</th>\n",
       "    </tr>\n",
       "  </thead>\n",
       "  <tbody>\n",
       "    <tr>\n",
       "      <th>0</th>\n",
       "      <td>110201</td>\n",
       "      <td>Antonio Carlos</td>\n",
       "      <td>20</td>\n",
       "      <td>6.5</td>\n",
       "      <td>8.5</td>\n",
       "      <td>7.0</td>\n",
       "      <td>6</td>\n",
       "      <td>7.000</td>\n",
       "    </tr>\n",
       "    <tr>\n",
       "      <th>1</th>\n",
       "      <td>110212</td>\n",
       "      <td>Ana Beatriz</td>\n",
       "      <td>20</td>\n",
       "      <td>7.0</td>\n",
       "      <td>7.0</td>\n",
       "      <td>7.0</td>\n",
       "      <td>8</td>\n",
       "      <td>7.250</td>\n",
       "    </tr>\n",
       "    <tr>\n",
       "      <th>2</th>\n",
       "      <td>110218</td>\n",
       "      <td>Carlos Vernes</td>\n",
       "      <td>17</td>\n",
       "      <td>7.0</td>\n",
       "      <td>7.0</td>\n",
       "      <td>7.0</td>\n",
       "      <td>7</td>\n",
       "      <td>7.000</td>\n",
       "    </tr>\n",
       "    <tr>\n",
       "      <th>3</th>\n",
       "      <td>110307</td>\n",
       "      <td>Francisco Cunha</td>\n",
       "      <td>20</td>\n",
       "      <td>9.0</td>\n",
       "      <td>8.5</td>\n",
       "      <td>8.5</td>\n",
       "      <td>10</td>\n",
       "      <td>9.000</td>\n",
       "    </tr>\n",
       "    <tr>\n",
       "      <th>4</th>\n",
       "      <td>110275</td>\n",
       "      <td>Sandra Rosa</td>\n",
       "      <td>15</td>\n",
       "      <td>6.5</td>\n",
       "      <td>7.5</td>\n",
       "      <td>7.0</td>\n",
       "      <td>7</td>\n",
       "      <td>7.000</td>\n",
       "    </tr>\n",
       "    <tr>\n",
       "      <th>5</th>\n",
       "      <td>110281</td>\n",
       "      <td>Juliana Arruda</td>\n",
       "      <td>18</td>\n",
       "      <td>7.5</td>\n",
       "      <td>7.0</td>\n",
       "      <td>7.5</td>\n",
       "      <td>8</td>\n",
       "      <td>7.500</td>\n",
       "    </tr>\n",
       "    <tr>\n",
       "      <th>6</th>\n",
       "      <td>110301</td>\n",
       "      <td>Joao Galo</td>\n",
       "      <td>20</td>\n",
       "      <td>5.0</td>\n",
       "      <td>6.5</td>\n",
       "      <td>7.0</td>\n",
       "      <td>5</td>\n",
       "      <td>5.875</td>\n",
       "    </tr>\n",
       "    <tr>\n",
       "      <th>7</th>\n",
       "      <td>110263</td>\n",
       "      <td>José Valente</td>\n",
       "      <td>20</td>\n",
       "      <td>10.0</td>\n",
       "      <td>10.0</td>\n",
       "      <td>10.0</td>\n",
       "      <td>10</td>\n",
       "      <td>10.000</td>\n",
       "    </tr>\n",
       "    <tr>\n",
       "      <th>8</th>\n",
       "      <td>110271</td>\n",
       "      <td>Maria Ferreira</td>\n",
       "      <td>19</td>\n",
       "      <td>9.5</td>\n",
       "      <td>8.0</td>\n",
       "      <td>7.0</td>\n",
       "      <td>10</td>\n",
       "      <td>8.625</td>\n",
       "    </tr>\n",
       "    <tr>\n",
       "      <th>9</th>\n",
       "      <td>110236</td>\n",
       "      <td>Adriana Tavares</td>\n",
       "      <td>20</td>\n",
       "      <td>8.0</td>\n",
       "      <td>8.0</td>\n",
       "      <td>8.0</td>\n",
       "      <td>8</td>\n",
       "      <td>8.000</td>\n",
       "    </tr>\n",
       "  </tbody>\n",
       "</table>\n",
       "</div>"
      ],
      "text/plain": [
       "       RA             Nome  Frequencia  Prova_1  Prova_2  Prova_3  Prova_4  \\\n",
       "0  110201   Antonio Carlos          20      6.5      8.5      7.0        6   \n",
       "1  110212      Ana Beatriz          20      7.0      7.0      7.0        8   \n",
       "2  110218    Carlos Vernes          17      7.0      7.0      7.0        7   \n",
       "3  110307  Francisco Cunha          20      9.0      8.5      8.5       10   \n",
       "4  110275      Sandra Rosa          15      6.5      7.5      7.0        7   \n",
       "5  110281   Juliana Arruda          18      7.5      7.0      7.5        8   \n",
       "6  110301        Joao Galo          20      5.0      6.5      7.0        5   \n",
       "7  110263     José Valente          20     10.0     10.0     10.0       10   \n",
       "8  110271   Maria Ferreira          19      9.5      8.0      7.0       10   \n",
       "9  110236  Adriana Tavares          20      8.0      8.0      8.0        8   \n",
       "\n",
       "   Media_provas  \n",
       "0         7.000  \n",
       "1         7.250  \n",
       "2         7.000  \n",
       "3         9.000  \n",
       "4         7.000  \n",
       "5         7.500  \n",
       "6         5.875  \n",
       "7        10.000  \n",
       "8         8.625  \n",
       "9         8.000  "
      ]
     },
     "execution_count": 27,
     "metadata": {},
     "output_type": "execute_result"
    }
   ],
   "source": [
    "# Bruno\n",
    "df_notas = pd.read_csv('./dados/alunos3.csv',\n",
    "                       sep = ';',\n",
    "                       decimal= ',')\n",
    "\n",
    "df_notas['Media_provas'] = df_notas.loc[ : , 'Prova_1':'Prova_4'].mean(axis = 1)\n",
    "df_notas"
   ]
  },
  {
   "cell_type": "code",
   "execution_count": null,
   "id": "2828049b",
   "metadata": {
    "id": "2828049b"
   },
   "outputs": [],
   "source": [
    "# Kleiton\n",
    "df_notas['media'] = df_notas.loc[:,'Prova_1':].mean(axis=1)"
   ]
  },
  {
   "cell_type": "code",
   "execution_count": null,
   "id": "b0c60e33",
   "metadata": {},
   "outputs": [],
   "source": [
    "# Matheus Miranda\n",
    "\n",
    "df_1 = pd.read_csv(\"./dados/alunos3.csv\", sep=';', decimal=',')\n",
    "df_1['Media_provas'] = df_1.loc[:, 'Prova_1':'Prova_4'].mean(axis=1)"
   ]
  },
  {
   "cell_type": "code",
   "execution_count": 29,
   "id": "05452c23",
   "metadata": {},
   "outputs": [
    {
     "data": {
      "text/html": [
       "<div>\n",
       "<style scoped>\n",
       "    .dataframe tbody tr th:only-of-type {\n",
       "        vertical-align: middle;\n",
       "    }\n",
       "\n",
       "    .dataframe tbody tr th {\n",
       "        vertical-align: top;\n",
       "    }\n",
       "\n",
       "    .dataframe thead th {\n",
       "        text-align: right;\n",
       "    }\n",
       "</style>\n",
       "<table border=\"1\" class=\"dataframe\">\n",
       "  <thead>\n",
       "    <tr style=\"text-align: right;\">\n",
       "      <th></th>\n",
       "      <th>RA</th>\n",
       "      <th>Nome</th>\n",
       "      <th>Frequencia</th>\n",
       "      <th>Prova_1</th>\n",
       "      <th>Prova_2</th>\n",
       "      <th>Prova_3</th>\n",
       "      <th>Prova_4</th>\n",
       "      <th>Media_provas</th>\n",
       "    </tr>\n",
       "  </thead>\n",
       "  <tbody>\n",
       "    <tr>\n",
       "      <th>0</th>\n",
       "      <td>110201</td>\n",
       "      <td>Antonio Carlos</td>\n",
       "      <td>20</td>\n",
       "      <td>6.5</td>\n",
       "      <td>8.5</td>\n",
       "      <td>7.0</td>\n",
       "      <td>6</td>\n",
       "      <td>7.000</td>\n",
       "    </tr>\n",
       "    <tr>\n",
       "      <th>1</th>\n",
       "      <td>110212</td>\n",
       "      <td>Ana Beatriz</td>\n",
       "      <td>20</td>\n",
       "      <td>7.0</td>\n",
       "      <td>7.0</td>\n",
       "      <td>7.0</td>\n",
       "      <td>8</td>\n",
       "      <td>7.250</td>\n",
       "    </tr>\n",
       "    <tr>\n",
       "      <th>2</th>\n",
       "      <td>110218</td>\n",
       "      <td>Carlos Vernes</td>\n",
       "      <td>17</td>\n",
       "      <td>7.0</td>\n",
       "      <td>7.0</td>\n",
       "      <td>7.0</td>\n",
       "      <td>7</td>\n",
       "      <td>7.000</td>\n",
       "    </tr>\n",
       "    <tr>\n",
       "      <th>3</th>\n",
       "      <td>110307</td>\n",
       "      <td>Francisco Cunha</td>\n",
       "      <td>20</td>\n",
       "      <td>9.0</td>\n",
       "      <td>8.5</td>\n",
       "      <td>8.5</td>\n",
       "      <td>10</td>\n",
       "      <td>9.000</td>\n",
       "    </tr>\n",
       "    <tr>\n",
       "      <th>4</th>\n",
       "      <td>110275</td>\n",
       "      <td>Sandra Rosa</td>\n",
       "      <td>15</td>\n",
       "      <td>6.5</td>\n",
       "      <td>7.5</td>\n",
       "      <td>7.0</td>\n",
       "      <td>7</td>\n",
       "      <td>7.000</td>\n",
       "    </tr>\n",
       "    <tr>\n",
       "      <th>5</th>\n",
       "      <td>110281</td>\n",
       "      <td>Juliana Arruda</td>\n",
       "      <td>18</td>\n",
       "      <td>7.5</td>\n",
       "      <td>7.0</td>\n",
       "      <td>7.5</td>\n",
       "      <td>8</td>\n",
       "      <td>7.500</td>\n",
       "    </tr>\n",
       "    <tr>\n",
       "      <th>6</th>\n",
       "      <td>110301</td>\n",
       "      <td>Joao Galo</td>\n",
       "      <td>20</td>\n",
       "      <td>5.0</td>\n",
       "      <td>6.5</td>\n",
       "      <td>7.0</td>\n",
       "      <td>5</td>\n",
       "      <td>5.875</td>\n",
       "    </tr>\n",
       "    <tr>\n",
       "      <th>7</th>\n",
       "      <td>110263</td>\n",
       "      <td>José Valente</td>\n",
       "      <td>20</td>\n",
       "      <td>10.0</td>\n",
       "      <td>10.0</td>\n",
       "      <td>10.0</td>\n",
       "      <td>10</td>\n",
       "      <td>10.000</td>\n",
       "    </tr>\n",
       "    <tr>\n",
       "      <th>8</th>\n",
       "      <td>110271</td>\n",
       "      <td>Maria Ferreira</td>\n",
       "      <td>19</td>\n",
       "      <td>9.5</td>\n",
       "      <td>8.0</td>\n",
       "      <td>7.0</td>\n",
       "      <td>10</td>\n",
       "      <td>8.625</td>\n",
       "    </tr>\n",
       "    <tr>\n",
       "      <th>9</th>\n",
       "      <td>110236</td>\n",
       "      <td>Adriana Tavares</td>\n",
       "      <td>20</td>\n",
       "      <td>8.0</td>\n",
       "      <td>8.0</td>\n",
       "      <td>8.0</td>\n",
       "      <td>8</td>\n",
       "      <td>8.000</td>\n",
       "    </tr>\n",
       "  </tbody>\n",
       "</table>\n",
       "</div>"
      ],
      "text/plain": [
       "       RA             Nome  Frequencia  Prova_1  Prova_2  Prova_3  Prova_4  \\\n",
       "0  110201   Antonio Carlos          20      6.5      8.5      7.0        6   \n",
       "1  110212      Ana Beatriz          20      7.0      7.0      7.0        8   \n",
       "2  110218    Carlos Vernes          17      7.0      7.0      7.0        7   \n",
       "3  110307  Francisco Cunha          20      9.0      8.5      8.5       10   \n",
       "4  110275      Sandra Rosa          15      6.5      7.5      7.0        7   \n",
       "5  110281   Juliana Arruda          18      7.5      7.0      7.5        8   \n",
       "6  110301        Joao Galo          20      5.0      6.5      7.0        5   \n",
       "7  110263     José Valente          20     10.0     10.0     10.0       10   \n",
       "8  110271   Maria Ferreira          19      9.5      8.0      7.0       10   \n",
       "9  110236  Adriana Tavares          20      8.0      8.0      8.0        8   \n",
       "\n",
       "   Media_provas  \n",
       "0         7.000  \n",
       "1         7.250  \n",
       "2         7.000  \n",
       "3         9.000  \n",
       "4         7.000  \n",
       "5         7.500  \n",
       "6         5.875  \n",
       "7        10.000  \n",
       "8         8.625  \n",
       "9         8.000  "
      ]
     },
     "execution_count": 29,
     "metadata": {},
     "output_type": "execute_result"
    }
   ],
   "source": [
    "df_alunos = pd.read_csv(\"./dados/alunos3.csv\", sep=';', decimal=',')\n",
    "\n",
    "df_alunos['Media_provas'] = (df_alunos['Prova_1'] + df_alunos['Prova_2'] + df_alunos['Prova_3'] + df_alunos['Prova_4'])/4\n",
    "df_alunos"
   ]
  },
  {
   "cell_type": "code",
   "execution_count": 30,
   "id": "76a71088",
   "metadata": {},
   "outputs": [
    {
     "data": {
      "text/plain": [
       "Index(['RA', 'Nome', 'Frequencia', 'Prova_1', 'Prova_2', 'Prova_3', 'Prova_4',\n",
       "       'Media_provas'],\n",
       "      dtype='object')"
      ]
     },
     "execution_count": 30,
     "metadata": {},
     "output_type": "execute_result"
    }
   ],
   "source": [
    "df_alunos.columns"
   ]
  },
  {
   "cell_type": "code",
   "execution_count": 32,
   "id": "540aba77",
   "metadata": {},
   "outputs": [
    {
     "data": {
      "text/html": [
       "<div>\n",
       "<style scoped>\n",
       "    .dataframe tbody tr th:only-of-type {\n",
       "        vertical-align: middle;\n",
       "    }\n",
       "\n",
       "    .dataframe tbody tr th {\n",
       "        vertical-align: top;\n",
       "    }\n",
       "\n",
       "    .dataframe thead th {\n",
       "        text-align: right;\n",
       "    }\n",
       "</style>\n",
       "<table border=\"1\" class=\"dataframe\">\n",
       "  <thead>\n",
       "    <tr style=\"text-align: right;\">\n",
       "      <th></th>\n",
       "      <th>Nome</th>\n",
       "      <th>RA</th>\n",
       "      <th>Frequencia</th>\n",
       "      <th>Prova_1</th>\n",
       "      <th>Prova_2</th>\n",
       "      <th>Prova_3</th>\n",
       "      <th>Prova_4</th>\n",
       "      <th>Media_provas</th>\n",
       "    </tr>\n",
       "  </thead>\n",
       "  <tbody>\n",
       "    <tr>\n",
       "      <th>0</th>\n",
       "      <td>Antonio Carlos</td>\n",
       "      <td>110201</td>\n",
       "      <td>20</td>\n",
       "      <td>6.5</td>\n",
       "      <td>8.5</td>\n",
       "      <td>7.0</td>\n",
       "      <td>6</td>\n",
       "      <td>7.000</td>\n",
       "    </tr>\n",
       "    <tr>\n",
       "      <th>1</th>\n",
       "      <td>Ana Beatriz</td>\n",
       "      <td>110212</td>\n",
       "      <td>20</td>\n",
       "      <td>7.0</td>\n",
       "      <td>7.0</td>\n",
       "      <td>7.0</td>\n",
       "      <td>8</td>\n",
       "      <td>7.250</td>\n",
       "    </tr>\n",
       "    <tr>\n",
       "      <th>2</th>\n",
       "      <td>Carlos Vernes</td>\n",
       "      <td>110218</td>\n",
       "      <td>17</td>\n",
       "      <td>7.0</td>\n",
       "      <td>7.0</td>\n",
       "      <td>7.0</td>\n",
       "      <td>7</td>\n",
       "      <td>7.000</td>\n",
       "    </tr>\n",
       "    <tr>\n",
       "      <th>3</th>\n",
       "      <td>Francisco Cunha</td>\n",
       "      <td>110307</td>\n",
       "      <td>20</td>\n",
       "      <td>9.0</td>\n",
       "      <td>8.5</td>\n",
       "      <td>8.5</td>\n",
       "      <td>10</td>\n",
       "      <td>9.000</td>\n",
       "    </tr>\n",
       "    <tr>\n",
       "      <th>4</th>\n",
       "      <td>Sandra Rosa</td>\n",
       "      <td>110275</td>\n",
       "      <td>15</td>\n",
       "      <td>6.5</td>\n",
       "      <td>7.5</td>\n",
       "      <td>7.0</td>\n",
       "      <td>7</td>\n",
       "      <td>7.000</td>\n",
       "    </tr>\n",
       "    <tr>\n",
       "      <th>5</th>\n",
       "      <td>Juliana Arruda</td>\n",
       "      <td>110281</td>\n",
       "      <td>18</td>\n",
       "      <td>7.5</td>\n",
       "      <td>7.0</td>\n",
       "      <td>7.5</td>\n",
       "      <td>8</td>\n",
       "      <td>7.500</td>\n",
       "    </tr>\n",
       "    <tr>\n",
       "      <th>6</th>\n",
       "      <td>Joao Galo</td>\n",
       "      <td>110301</td>\n",
       "      <td>20</td>\n",
       "      <td>5.0</td>\n",
       "      <td>6.5</td>\n",
       "      <td>7.0</td>\n",
       "      <td>5</td>\n",
       "      <td>5.875</td>\n",
       "    </tr>\n",
       "    <tr>\n",
       "      <th>7</th>\n",
       "      <td>José Valente</td>\n",
       "      <td>110263</td>\n",
       "      <td>20</td>\n",
       "      <td>10.0</td>\n",
       "      <td>10.0</td>\n",
       "      <td>10.0</td>\n",
       "      <td>10</td>\n",
       "      <td>10.000</td>\n",
       "    </tr>\n",
       "    <tr>\n",
       "      <th>8</th>\n",
       "      <td>Maria Ferreira</td>\n",
       "      <td>110271</td>\n",
       "      <td>19</td>\n",
       "      <td>9.5</td>\n",
       "      <td>8.0</td>\n",
       "      <td>7.0</td>\n",
       "      <td>10</td>\n",
       "      <td>8.625</td>\n",
       "    </tr>\n",
       "    <tr>\n",
       "      <th>9</th>\n",
       "      <td>Adriana Tavares</td>\n",
       "      <td>110236</td>\n",
       "      <td>20</td>\n",
       "      <td>8.0</td>\n",
       "      <td>8.0</td>\n",
       "      <td>8.0</td>\n",
       "      <td>8</td>\n",
       "      <td>8.000</td>\n",
       "    </tr>\n",
       "  </tbody>\n",
       "</table>\n",
       "</div>"
      ],
      "text/plain": [
       "              Nome      RA  Frequencia  Prova_1  Prova_2  Prova_3  Prova_4  \\\n",
       "0   Antonio Carlos  110201          20      6.5      8.5      7.0        6   \n",
       "1      Ana Beatriz  110212          20      7.0      7.0      7.0        8   \n",
       "2    Carlos Vernes  110218          17      7.0      7.0      7.0        7   \n",
       "3  Francisco Cunha  110307          20      9.0      8.5      8.5       10   \n",
       "4      Sandra Rosa  110275          15      6.5      7.5      7.0        7   \n",
       "5   Juliana Arruda  110281          18      7.5      7.0      7.5        8   \n",
       "6        Joao Galo  110301          20      5.0      6.5      7.0        5   \n",
       "7     José Valente  110263          20     10.0     10.0     10.0       10   \n",
       "8   Maria Ferreira  110271          19      9.5      8.0      7.0       10   \n",
       "9  Adriana Tavares  110236          20      8.0      8.0      8.0        8   \n",
       "\n",
       "   Media_provas  \n",
       "0         7.000  \n",
       "1         7.250  \n",
       "2         7.000  \n",
       "3         9.000  \n",
       "4         7.000  \n",
       "5         7.500  \n",
       "6         5.875  \n",
       "7        10.000  \n",
       "8         8.625  \n",
       "9         8.000  "
      ]
     },
     "execution_count": 32,
     "metadata": {},
     "output_type": "execute_result"
    }
   ],
   "source": [
    "lista_colunas = ['Nome', 'RA', 'Frequencia', 'Prova_1', 'Prova_2', 'Prova_3', 'Prova_4',\n",
    "       'Media_provas']\n",
    "\n",
    "df_alunos_2 = df_alunos[lista_colunas]\n",
    "df_alunos_2"
   ]
  },
  {
   "cell_type": "markdown",
   "id": "317131ae",
   "metadata": {
    "id": "317131ae"
   },
   "source": [
    "2) Quem foram os alunos que obtiveram a maior e a menor média"
   ]
  },
  {
   "cell_type": "code",
   "execution_count": 33,
   "id": "d3134f72",
   "metadata": {},
   "outputs": [
    {
     "data": {
      "text/html": [
       "<div>\n",
       "<style scoped>\n",
       "    .dataframe tbody tr th:only-of-type {\n",
       "        vertical-align: middle;\n",
       "    }\n",
       "\n",
       "    .dataframe tbody tr th {\n",
       "        vertical-align: top;\n",
       "    }\n",
       "\n",
       "    .dataframe thead th {\n",
       "        text-align: right;\n",
       "    }\n",
       "</style>\n",
       "<table border=\"1\" class=\"dataframe\">\n",
       "  <thead>\n",
       "    <tr style=\"text-align: right;\">\n",
       "      <th></th>\n",
       "      <th>RA</th>\n",
       "      <th>Nome</th>\n",
       "      <th>Frequencia</th>\n",
       "      <th>Prova_1</th>\n",
       "      <th>Prova_2</th>\n",
       "      <th>Prova_3</th>\n",
       "      <th>Prova_4</th>\n",
       "      <th>Media_provas</th>\n",
       "    </tr>\n",
       "  </thead>\n",
       "  <tbody>\n",
       "    <tr>\n",
       "      <th>6</th>\n",
       "      <td>110301</td>\n",
       "      <td>Joao Galo</td>\n",
       "      <td>20</td>\n",
       "      <td>5.0</td>\n",
       "      <td>6.5</td>\n",
       "      <td>7.0</td>\n",
       "      <td>5</td>\n",
       "      <td>5.875</td>\n",
       "    </tr>\n",
       "    <tr>\n",
       "      <th>7</th>\n",
       "      <td>110263</td>\n",
       "      <td>José Valente</td>\n",
       "      <td>20</td>\n",
       "      <td>10.0</td>\n",
       "      <td>10.0</td>\n",
       "      <td>10.0</td>\n",
       "      <td>10</td>\n",
       "      <td>10.000</td>\n",
       "    </tr>\n",
       "  </tbody>\n",
       "</table>\n",
       "</div>"
      ],
      "text/plain": [
       "       RA          Nome  Frequencia  Prova_1  Prova_2  Prova_3  Prova_4  \\\n",
       "6  110301     Joao Galo          20      5.0      6.5      7.0        5   \n",
       "7  110263  José Valente          20     10.0     10.0     10.0       10   \n",
       "\n",
       "   Media_provas  \n",
       "6         5.875  \n",
       "7        10.000  "
      ]
     },
     "execution_count": 33,
     "metadata": {},
     "output_type": "execute_result"
    }
   ],
   "source": [
    "# Matheus Brandão\n",
    "df_notas.query('Media_provas == @df_notas.Media_provas.max() | Media_provas == @df_notas.Media_provas.min()')"
   ]
  },
  {
   "cell_type": "code",
   "execution_count": 35,
   "id": "25ee28f3",
   "metadata": {
    "id": "25ee28f3"
   },
   "outputs": [
    {
     "data": {
      "text/plain": [
       "6       Joao Galo\n",
       "7    José Valente\n",
       "Name: Nome, dtype: object"
      ]
     },
     "execution_count": 35,
     "metadata": {},
     "output_type": "execute_result"
    }
   ],
   "source": [
    "# Kleiton\n",
    "df_notas.loc[(df_notas['Media_provas'] == df_notas['Media_provas'].max()) | (df_notas['Media_provas'] == df_notas['Media_provas'].min()),'Nome']"
   ]
  },
  {
   "cell_type": "code",
   "execution_count": 37,
   "id": "45bbcc48",
   "metadata": {},
   "outputs": [
    {
     "name": "stdout",
     "output_type": "stream",
     "text": [
      "RA                    110263\n",
      "Nome            José Valente\n",
      "Frequencia                20\n",
      "Prova_1                 10.0\n",
      "Prova_2                 10.0\n",
      "Prova_3                 10.0\n",
      "Prova_4                   10\n",
      "Media_provas            10.0\n",
      "Name: 7, dtype: object\n",
      "RA                 110301\n",
      "Nome            Joao Galo\n",
      "Frequencia             20\n",
      "Prova_1               5.0\n",
      "Prova_2               6.5\n",
      "Prova_3               7.0\n",
      "Prova_4                 5\n",
      "Media_provas        5.875\n",
      "Name: 6, dtype: object\n"
     ]
    }
   ],
   "source": [
    "maior_media = df_alunos.loc[df_alunos['Media_provas'].idxmax()]\n",
    "print(maior_media)\n",
    "menor_media = df_alunos.loc[df_alunos['Media_provas'].idxmin()]\n",
    "print(menor_media)"
   ]
  },
  {
   "cell_type": "markdown",
   "id": "9078986d",
   "metadata": {
    "id": "9078986d"
   },
   "source": [
    "3) Agora una este dataframe com o cadastro_alunos.xlsx"
   ]
  },
  {
   "cell_type": "code",
   "execution_count": 38,
   "id": "2ccc441b",
   "metadata": {},
   "outputs": [
    {
     "data": {
      "text/html": [
       "<div>\n",
       "<style scoped>\n",
       "    .dataframe tbody tr th:only-of-type {\n",
       "        vertical-align: middle;\n",
       "    }\n",
       "\n",
       "    .dataframe tbody tr th {\n",
       "        vertical-align: top;\n",
       "    }\n",
       "\n",
       "    .dataframe thead th {\n",
       "        text-align: right;\n",
       "    }\n",
       "</style>\n",
       "<table border=\"1\" class=\"dataframe\">\n",
       "  <thead>\n",
       "    <tr style=\"text-align: right;\">\n",
       "      <th></th>\n",
       "      <th>RA</th>\n",
       "      <th>Cidade</th>\n",
       "      <th>Sexo</th>\n",
       "      <th>Idade</th>\n",
       "    </tr>\n",
       "  </thead>\n",
       "  <tbody>\n",
       "    <tr>\n",
       "      <th>0</th>\n",
       "      <td>110201</td>\n",
       "      <td>São Paulo</td>\n",
       "      <td>Masculino</td>\n",
       "      <td>15</td>\n",
       "    </tr>\n",
       "    <tr>\n",
       "      <th>1</th>\n",
       "      <td>110212</td>\n",
       "      <td>Rio de Janeiro</td>\n",
       "      <td>Feminino</td>\n",
       "      <td>20</td>\n",
       "    </tr>\n",
       "    <tr>\n",
       "      <th>2</th>\n",
       "      <td>110218</td>\n",
       "      <td>Rio de Janeiro</td>\n",
       "      <td>Masculino</td>\n",
       "      <td>18</td>\n",
       "    </tr>\n",
       "    <tr>\n",
       "      <th>3</th>\n",
       "      <td>110307</td>\n",
       "      <td>Belo Horizonte</td>\n",
       "      <td>Masculino</td>\n",
       "      <td>39</td>\n",
       "    </tr>\n",
       "    <tr>\n",
       "      <th>4</th>\n",
       "      <td>110275</td>\n",
       "      <td>Belo Horizonte</td>\n",
       "      <td>Feminino</td>\n",
       "      <td>22</td>\n",
       "    </tr>\n",
       "  </tbody>\n",
       "</table>\n",
       "</div>"
      ],
      "text/plain": [
       "       RA          Cidade       Sexo  Idade\n",
       "0  110201       São Paulo  Masculino     15\n",
       "1  110212  Rio de Janeiro   Feminino     20\n",
       "2  110218  Rio de Janeiro  Masculino     18\n",
       "3  110307  Belo Horizonte  Masculino     39\n",
       "4  110275  Belo Horizonte   Feminino     22"
      ]
     },
     "execution_count": 38,
     "metadata": {},
     "output_type": "execute_result"
    }
   ],
   "source": [
    "df_cadastro = pd.read_excel('./dados/cadastro_alunos.xlsx')\n",
    "df_cadastro.head()"
   ]
  },
  {
   "cell_type": "code",
   "execution_count": 41,
   "id": "9636699c",
   "metadata": {
    "id": "9636699c"
   },
   "outputs": [
    {
     "data": {
      "text/html": [
       "<div>\n",
       "<style scoped>\n",
       "    .dataframe tbody tr th:only-of-type {\n",
       "        vertical-align: middle;\n",
       "    }\n",
       "\n",
       "    .dataframe tbody tr th {\n",
       "        vertical-align: top;\n",
       "    }\n",
       "\n",
       "    .dataframe thead th {\n",
       "        text-align: right;\n",
       "    }\n",
       "</style>\n",
       "<table border=\"1\" class=\"dataframe\">\n",
       "  <thead>\n",
       "    <tr style=\"text-align: right;\">\n",
       "      <th></th>\n",
       "      <th>RA</th>\n",
       "      <th>Nome</th>\n",
       "      <th>Frequencia</th>\n",
       "      <th>Prova_1</th>\n",
       "      <th>Prova_2</th>\n",
       "      <th>Prova_3</th>\n",
       "      <th>Prova_4</th>\n",
       "      <th>Media_provas</th>\n",
       "      <th>Cidade</th>\n",
       "      <th>Sexo</th>\n",
       "      <th>Idade</th>\n",
       "    </tr>\n",
       "  </thead>\n",
       "  <tbody>\n",
       "    <tr>\n",
       "      <th>0</th>\n",
       "      <td>110201</td>\n",
       "      <td>Antonio Carlos</td>\n",
       "      <td>20</td>\n",
       "      <td>6.5</td>\n",
       "      <td>8.5</td>\n",
       "      <td>7.0</td>\n",
       "      <td>6</td>\n",
       "      <td>7.000</td>\n",
       "      <td>São Paulo</td>\n",
       "      <td>Masculino</td>\n",
       "      <td>15</td>\n",
       "    </tr>\n",
       "    <tr>\n",
       "      <th>1</th>\n",
       "      <td>110212</td>\n",
       "      <td>Ana Beatriz</td>\n",
       "      <td>20</td>\n",
       "      <td>7.0</td>\n",
       "      <td>7.0</td>\n",
       "      <td>7.0</td>\n",
       "      <td>8</td>\n",
       "      <td>7.250</td>\n",
       "      <td>Rio de Janeiro</td>\n",
       "      <td>Feminino</td>\n",
       "      <td>20</td>\n",
       "    </tr>\n",
       "    <tr>\n",
       "      <th>2</th>\n",
       "      <td>110218</td>\n",
       "      <td>Carlos Vernes</td>\n",
       "      <td>17</td>\n",
       "      <td>7.0</td>\n",
       "      <td>7.0</td>\n",
       "      <td>7.0</td>\n",
       "      <td>7</td>\n",
       "      <td>7.000</td>\n",
       "      <td>Rio de Janeiro</td>\n",
       "      <td>Masculino</td>\n",
       "      <td>18</td>\n",
       "    </tr>\n",
       "    <tr>\n",
       "      <th>3</th>\n",
       "      <td>110307</td>\n",
       "      <td>Francisco Cunha</td>\n",
       "      <td>20</td>\n",
       "      <td>9.0</td>\n",
       "      <td>8.5</td>\n",
       "      <td>8.5</td>\n",
       "      <td>10</td>\n",
       "      <td>9.000</td>\n",
       "      <td>Belo Horizonte</td>\n",
       "      <td>Masculino</td>\n",
       "      <td>39</td>\n",
       "    </tr>\n",
       "    <tr>\n",
       "      <th>4</th>\n",
       "      <td>110275</td>\n",
       "      <td>Sandra Rosa</td>\n",
       "      <td>15</td>\n",
       "      <td>6.5</td>\n",
       "      <td>7.5</td>\n",
       "      <td>7.0</td>\n",
       "      <td>7</td>\n",
       "      <td>7.000</td>\n",
       "      <td>Belo Horizonte</td>\n",
       "      <td>Feminino</td>\n",
       "      <td>22</td>\n",
       "    </tr>\n",
       "    <tr>\n",
       "      <th>5</th>\n",
       "      <td>110281</td>\n",
       "      <td>Juliana Arruda</td>\n",
       "      <td>18</td>\n",
       "      <td>7.5</td>\n",
       "      <td>7.0</td>\n",
       "      <td>7.5</td>\n",
       "      <td>8</td>\n",
       "      <td>7.500</td>\n",
       "      <td>Rio de Janeiro</td>\n",
       "      <td>Feminino</td>\n",
       "      <td>17</td>\n",
       "    </tr>\n",
       "    <tr>\n",
       "      <th>6</th>\n",
       "      <td>110301</td>\n",
       "      <td>Joao Galo</td>\n",
       "      <td>20</td>\n",
       "      <td>5.0</td>\n",
       "      <td>6.5</td>\n",
       "      <td>7.0</td>\n",
       "      <td>5</td>\n",
       "      <td>5.875</td>\n",
       "      <td>Belo Horizonte</td>\n",
       "      <td>Masculino</td>\n",
       "      <td>26</td>\n",
       "    </tr>\n",
       "    <tr>\n",
       "      <th>7</th>\n",
       "      <td>110263</td>\n",
       "      <td>José Valente</td>\n",
       "      <td>20</td>\n",
       "      <td>10.0</td>\n",
       "      <td>10.0</td>\n",
       "      <td>10.0</td>\n",
       "      <td>10</td>\n",
       "      <td>10.000</td>\n",
       "      <td>Belo Horizonte</td>\n",
       "      <td>Masculino</td>\n",
       "      <td>31</td>\n",
       "    </tr>\n",
       "    <tr>\n",
       "      <th>8</th>\n",
       "      <td>110271</td>\n",
       "      <td>Maria Ferreira</td>\n",
       "      <td>19</td>\n",
       "      <td>9.5</td>\n",
       "      <td>8.0</td>\n",
       "      <td>7.0</td>\n",
       "      <td>10</td>\n",
       "      <td>8.625</td>\n",
       "      <td>São Paulo</td>\n",
       "      <td>Feminino</td>\n",
       "      <td>29</td>\n",
       "    </tr>\n",
       "    <tr>\n",
       "      <th>9</th>\n",
       "      <td>110236</td>\n",
       "      <td>Adriana Tavares</td>\n",
       "      <td>20</td>\n",
       "      <td>8.0</td>\n",
       "      <td>8.0</td>\n",
       "      <td>8.0</td>\n",
       "      <td>8</td>\n",
       "      <td>8.000</td>\n",
       "      <td>São Paulo</td>\n",
       "      <td>Feminino</td>\n",
       "      <td>16</td>\n",
       "    </tr>\n",
       "  </tbody>\n",
       "</table>\n",
       "</div>"
      ],
      "text/plain": [
       "       RA             Nome  Frequencia  Prova_1  Prova_2  Prova_3  Prova_4  \\\n",
       "0  110201   Antonio Carlos          20      6.5      8.5      7.0        6   \n",
       "1  110212      Ana Beatriz          20      7.0      7.0      7.0        8   \n",
       "2  110218    Carlos Vernes          17      7.0      7.0      7.0        7   \n",
       "3  110307  Francisco Cunha          20      9.0      8.5      8.5       10   \n",
       "4  110275      Sandra Rosa          15      6.5      7.5      7.0        7   \n",
       "5  110281   Juliana Arruda          18      7.5      7.0      7.5        8   \n",
       "6  110301        Joao Galo          20      5.0      6.5      7.0        5   \n",
       "7  110263     José Valente          20     10.0     10.0     10.0       10   \n",
       "8  110271   Maria Ferreira          19      9.5      8.0      7.0       10   \n",
       "9  110236  Adriana Tavares          20      8.0      8.0      8.0        8   \n",
       "\n",
       "   Media_provas          Cidade       Sexo  Idade  \n",
       "0         7.000       São Paulo  Masculino     15  \n",
       "1         7.250  Rio de Janeiro   Feminino     20  \n",
       "2         7.000  Rio de Janeiro  Masculino     18  \n",
       "3         9.000  Belo Horizonte  Masculino     39  \n",
       "4         7.000  Belo Horizonte   Feminino     22  \n",
       "5         7.500  Rio de Janeiro   Feminino     17  \n",
       "6         5.875  Belo Horizonte  Masculino     26  \n",
       "7        10.000  Belo Horizonte  Masculino     31  \n",
       "8         8.625       São Paulo   Feminino     29  \n",
       "9         8.000       São Paulo   Feminino     16  "
      ]
     },
     "execution_count": 41,
     "metadata": {},
     "output_type": "execute_result"
    }
   ],
   "source": [
    "df_combinacao = pd.merge(df_alunos, df_cadastro, on='RA')\n",
    "df_combinacao"
   ]
  },
  {
   "cell_type": "markdown",
   "id": "a26fb340",
   "metadata": {
    "id": "a26fb340"
   },
   "source": [
    "4) Qual a média entre as Media_provas dentro do público feminino? e masculino?"
   ]
  },
  {
   "cell_type": "code",
   "execution_count": null,
   "id": "9f265ac6",
   "metadata": {},
   "outputs": [],
   "source": []
  },
  {
   "cell_type": "code",
   "execution_count": 43,
   "id": "6c9bd524",
   "metadata": {
    "id": "6c9bd524"
   },
   "outputs": [
    {
     "data": {
      "text/html": [
       "<div>\n",
       "<style scoped>\n",
       "    .dataframe tbody tr th:only-of-type {\n",
       "        vertical-align: middle;\n",
       "    }\n",
       "\n",
       "    .dataframe tbody tr th {\n",
       "        vertical-align: top;\n",
       "    }\n",
       "\n",
       "    .dataframe thead th {\n",
       "        text-align: right;\n",
       "    }\n",
       "</style>\n",
       "<table border=\"1\" class=\"dataframe\">\n",
       "  <thead>\n",
       "    <tr style=\"text-align: right;\">\n",
       "      <th></th>\n",
       "      <th>Media_provas</th>\n",
       "    </tr>\n",
       "    <tr>\n",
       "      <th>Sexo</th>\n",
       "      <th></th>\n",
       "    </tr>\n",
       "  </thead>\n",
       "  <tbody>\n",
       "    <tr>\n",
       "      <th>Feminino</th>\n",
       "      <td>7.675</td>\n",
       "    </tr>\n",
       "    <tr>\n",
       "      <th>Masculino</th>\n",
       "      <td>7.775</td>\n",
       "    </tr>\n",
       "  </tbody>\n",
       "</table>\n",
       "</div>"
      ],
      "text/plain": [
       "           Media_provas\n",
       "Sexo                   \n",
       "Feminino          7.675\n",
       "Masculino         7.775"
      ]
     },
     "execution_count": 43,
     "metadata": {},
     "output_type": "execute_result"
    }
   ],
   "source": [
    "# Kleiton\n",
    "df_combinacao[['Sexo','Media_provas']].groupby('Sexo').mean()"
   ]
  },
  {
   "cell_type": "code",
   "execution_count": 44,
   "id": "3575cb3a",
   "metadata": {},
   "outputs": [
    {
     "data": {
      "text/plain": [
       "Sexo\n",
       "Feminino     7.675\n",
       "Masculino    7.775\n",
       "Name: Media_provas, dtype: float64"
      ]
     },
     "execution_count": 44,
     "metadata": {},
     "output_type": "execute_result"
    }
   ],
   "source": [
    "#Bruno\n",
    "df_combinacao.groupby(['Sexo'])['Media_provas'].mean()"
   ]
  },
  {
   "cell_type": "code",
   "execution_count": 71,
   "id": "09a269ca",
   "metadata": {},
   "outputs": [
    {
     "name": "stdout",
     "output_type": "stream",
     "text": [
      "A média de notas do público feminino é 7.675 e do masculino é 7.775\n"
     ]
    }
   ],
   "source": [
    "medias_pub_fem = df_combinacao.loc[df_combinacao.Sexo == 'Feminino', 'Media_provas'].mean()\n",
    "medias_pub_mas = df_combinacao.loc[df_combinacao.Sexo == 'Masculino', 'Media_provas'].mean()\n",
    "\n",
    "print(f\"A média de notas do público feminino é {medias_pub_fem} e do masculino é {medias_pub_mas}\")"
   ]
  },
  {
   "cell_type": "code",
   "execution_count": 53,
   "id": "c4dc297b",
   "metadata": {},
   "outputs": [
    {
     "data": {
      "text/html": [
       "<div>\n",
       "<style scoped>\n",
       "    .dataframe tbody tr th:only-of-type {\n",
       "        vertical-align: middle;\n",
       "    }\n",
       "\n",
       "    .dataframe tbody tr th {\n",
       "        vertical-align: top;\n",
       "    }\n",
       "\n",
       "    .dataframe thead th {\n",
       "        text-align: right;\n",
       "    }\n",
       "</style>\n",
       "<table border=\"1\" class=\"dataframe\">\n",
       "  <thead>\n",
       "    <tr style=\"text-align: right;\">\n",
       "      <th></th>\n",
       "      <th>Prova_1</th>\n",
       "      <th>Prova_2</th>\n",
       "      <th>Prova_3</th>\n",
       "      <th>Prova_4</th>\n",
       "      <th>Media_provas</th>\n",
       "      <th>Idade</th>\n",
       "    </tr>\n",
       "    <tr>\n",
       "      <th>Sexo</th>\n",
       "      <th></th>\n",
       "      <th></th>\n",
       "      <th></th>\n",
       "      <th></th>\n",
       "      <th></th>\n",
       "      <th></th>\n",
       "    </tr>\n",
       "  </thead>\n",
       "  <tbody>\n",
       "    <tr>\n",
       "      <th>Feminino</th>\n",
       "      <td>7.7</td>\n",
       "      <td>7.5</td>\n",
       "      <td>7.3</td>\n",
       "      <td>8.2</td>\n",
       "      <td>7.675</td>\n",
       "      <td>20.8</td>\n",
       "    </tr>\n",
       "    <tr>\n",
       "      <th>Masculino</th>\n",
       "      <td>7.5</td>\n",
       "      <td>8.1</td>\n",
       "      <td>7.9</td>\n",
       "      <td>7.6</td>\n",
       "      <td>7.775</td>\n",
       "      <td>25.8</td>\n",
       "    </tr>\n",
       "  </tbody>\n",
       "</table>\n",
       "</div>"
      ],
      "text/plain": [
       "           Prova_1  Prova_2  Prova_3  Prova_4  Media_provas  Idade\n",
       "Sexo                                                              \n",
       "Feminino       7.7      7.5      7.3      8.2         7.675   20.8\n",
       "Masculino      7.5      8.1      7.9      7.6         7.775   25.8"
      ]
     },
     "execution_count": 53,
     "metadata": {},
     "output_type": "execute_result"
    }
   ],
   "source": [
    "df_combinacao.loc[:,\"Prova_1\":].groupby(\"Sexo\").mean()"
   ]
  },
  {
   "cell_type": "code",
   "execution_count": 67,
   "id": "3a9bf092",
   "metadata": {},
   "outputs": [
    {
     "data": {
      "text/plain": [
       "7.775"
      ]
     },
     "execution_count": 67,
     "metadata": {},
     "output_type": "execute_result"
    }
   ],
   "source": [
    "df_combinacao[df_combinacao['Sexo'] == 'Masculino']['Media_provas'].mean()"
   ]
  },
  {
   "cell_type": "code",
   "execution_count": 69,
   "id": "881db336",
   "metadata": {},
   "outputs": [
    {
     "name": "stdout",
     "output_type": "stream",
     "text": [
      "Masculino: 7.775\n",
      "Feminino: 7.675\n"
     ]
    }
   ],
   "source": [
    "print(f\"Masculino: {df_combinacao[df_combinacao['Sexo'] == 'Masculino']['Media_provas'].mean()}\")\n",
    "print(f\"Feminino: {df_combinacao[df_combinacao['Sexo'] == 'Feminino']['Media_provas'].mean()}\")"
   ]
  },
  {
   "cell_type": "markdown",
   "id": "e93d6402",
   "metadata": {
    "id": "e93d6402"
   },
   "source": [
    "5) Qual a média de idade das pessoas que obtiveram Media_provas maior ou igual a 7?"
   ]
  },
  {
   "cell_type": "code",
   "execution_count": 72,
   "id": "b90d4494",
   "metadata": {
    "id": "b90d4494"
   },
   "outputs": [
    {
     "data": {
      "text/plain": [
       "23.0"
      ]
     },
     "execution_count": 72,
     "metadata": {},
     "output_type": "execute_result"
    }
   ],
   "source": [
    "#Kleiton\n",
    "df_combinacao[df_combinacao['Media_provas']>=7]['Idade'].mean()"
   ]
  },
  {
   "cell_type": "code",
   "execution_count": 73,
   "id": "a785b8fb",
   "metadata": {},
   "outputs": [
    {
     "name": "stdout",
     "output_type": "stream",
     "text": [
      "A média de idade das pessoas que obtiveram médias maior ou igual a 7 foi de 23.0\n"
     ]
    }
   ],
   "source": [
    "print_questao_5 = df_combinacao.loc[df_combinacao.Media_provas >= 7.0 , :]['Idade'].mean()\n",
    "\n",
    "print(f'A média de idade das pessoas que obtiveram médias maior ou igual a 7 foi de {print_questao_5}')"
   ]
  },
  {
   "cell_type": "markdown",
   "id": "e4779b34",
   "metadata": {
    "id": "e4779b34"
   },
   "source": [
    "6) Faça um código para verificar a ordem das médias de Media_provas entre as cidades, mostrando o valor para cada uma bem como ordenando de forma decrescente? "
   ]
  },
  {
   "cell_type": "code",
   "execution_count": 74,
   "id": "35fb9a25",
   "metadata": {},
   "outputs": [
    {
     "data": {
      "text/plain": [
       "Cidade\n",
       "Belo Horizonte    7.96875\n",
       "São Paulo         7.87500\n",
       "Rio de Janeiro    7.25000\n",
       "Name: Media_provas, dtype: float64"
      ]
     },
     "execution_count": 74,
     "metadata": {},
     "output_type": "execute_result"
    }
   ],
   "source": [
    "df_combinacao.groupby(['Cidade'])['Media_provas'].mean().sort_values(ascending = False)"
   ]
  },
  {
   "cell_type": "code",
   "execution_count": 77,
   "id": "d814aae5",
   "metadata": {},
   "outputs": [
    {
     "data": {
      "text/plain": [
       "Cidade\n",
       "Belo Horizonte    7.96875\n",
       "São Paulo         7.87500\n",
       "Rio de Janeiro    7.25000\n",
       "Name: Media_provas, dtype: float64"
      ]
     },
     "execution_count": 77,
     "metadata": {},
     "output_type": "execute_result"
    }
   ],
   "source": [
    "df_medias_desc = df_combinacao.groupby(by=['Cidade']).mean()\n",
    "\n",
    "df_medias_desc['Media_provas'].sort_values(ascending=False)"
   ]
  }
 ],
 "metadata": {
  "colab": {
   "provenance": []
  },
  "kernelspec": {
   "display_name": "Python 3 (ipykernel)",
   "language": "python",
   "name": "python3"
  },
  "language_info": {
   "codemirror_mode": {
    "name": "ipython",
    "version": 3
   },
   "file_extension": ".py",
   "mimetype": "text/x-python",
   "name": "python",
   "nbconvert_exporter": "python",
   "pygments_lexer": "ipython3",
   "version": "3.9.13"
  },
  "vscode": {
   "interpreter": {
    "hash": "6b93bc143cf2aa4a53884dec4d65996ee4069beae8d4d0185b09d3e6e44a43f0"
   }
  }
 },
 "nbformat": 4,
 "nbformat_minor": 5
}
