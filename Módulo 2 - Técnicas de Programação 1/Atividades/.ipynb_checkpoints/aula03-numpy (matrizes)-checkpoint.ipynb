{
 "cells": [
  {
   "cell_type": "markdown",
   "id": "396e845d",
   "metadata": {},
   "source": [
    "# Numpy"
   ]
  },
  {
   "cell_type": "markdown",
   "id": "f7b40eb6",
   "metadata": {},
   "source": [
    "**Relembrando**  \n",
    "  \n",
    "A biblioteca **NumPy** _(Numerical Python)_ proporciona uma forma eficiente de armazenagem e processamento de conjuntos de dados, e é utilizada como base para a construção da biblioteca Pandas, que estudaremos a seguir.\n",
    "\n",
    "O diferencial do Numpy é sua velocidade e eficiência, o que faz com que ela seja amplamente utilizada para computação científica e analise de dados. \n",
    "\n",
    "A velocidade e eficiência é possível graças à estrutura chamada **numpy array**, que é um forma eficiente de guardar e manipular matrizes, que serve como base para as tabelas que iremos utilizar."
   ]
  },
  {
   "cell_type": "code",
   "execution_count": 1,
   "id": "9c2e96a9",
   "metadata": {},
   "outputs": [],
   "source": [
    "# A gente importa o numpy sempre chamando ele de \"np\"\n",
    "import numpy as np"
   ]
  },
  {
   "cell_type": "code",
   "execution_count": 2,
   "id": "7ab9fbe9",
   "metadata": {},
   "outputs": [
    {
     "name": "stdout",
     "output_type": "stream",
     "text": [
      "[1 2 3]\n",
      "<class 'numpy.ndarray'>\n"
     ]
    }
   ],
   "source": [
    "py_array = [1,  2,  3]\n",
    "\n",
    "np_array = np.array(py_array)\n",
    "\n",
    "print(np_array)\n",
    "print(type(np_array))"
   ]
  },
  {
   "cell_type": "code",
   "execution_count": 3,
   "id": "5f3a07bf",
   "metadata": {},
   "outputs": [
    {
     "name": "stdout",
     "output_type": "stream",
     "text": [
      "<class 'numpy.int32'>\n"
     ]
    }
   ],
   "source": [
    "print(type(np_array[0]))"
   ]
  },
  {
   "cell_type": "code",
   "execution_count": 4,
   "id": "7b65c4bc",
   "metadata": {},
   "outputs": [
    {
     "name": "stdout",
     "output_type": "stream",
     "text": [
      "[[ 1  2  3]\n",
      " [ 4  5  6]\n",
      " [ 7  8  9]\n",
      " [10 11 12]]\n",
      "<class 'numpy.ndarray'>\n"
     ]
    }
   ],
   "source": [
    "# Vamos fazer uma comparação com um vetor do numpy\n",
    "py_matriz = [[1,   2,  3],\n",
    "            [4,   5,  6],\n",
    "            [7,   8,  9],\n",
    "            [10, 11, 12]]\n",
    "\n",
    "np_matriz = np.array(py_matriz)\n",
    "\n",
    "print(np_matriz)\n",
    "print(type(np_matriz))"
   ]
  },
  {
   "cell_type": "code",
   "execution_count": 5,
   "id": "4ec6934a",
   "metadata": {},
   "outputs": [
    {
     "data": {
      "text/plain": [
       "array([1, 2, 3])"
      ]
     },
     "execution_count": 5,
     "metadata": {},
     "output_type": "execute_result"
    }
   ],
   "source": [
    "np_matriz[0]"
   ]
  },
  {
   "cell_type": "code",
   "execution_count": 6,
   "id": "7cbb8c76",
   "metadata": {},
   "outputs": [
    {
     "name": "stdout",
     "output_type": "stream",
     "text": [
      "<class 'numpy.ndarray'>\n"
     ]
    }
   ],
   "source": [
    "print(type(np_matriz[0]))"
   ]
  },
  {
   "cell_type": "code",
   "execution_count": 7,
   "id": "70a6c74c",
   "metadata": {},
   "outputs": [
    {
     "name": "stdout",
     "output_type": "stream",
     "text": [
      "<class 'numpy.int32'>\n"
     ]
    }
   ],
   "source": [
    "print(type(np_matriz[0][0]))"
   ]
  },
  {
   "cell_type": "code",
   "execution_count": 8,
   "id": "ad7087b8",
   "metadata": {},
   "outputs": [
    {
     "name": "stdout",
     "output_type": "stream",
     "text": [
      "(4, 3)\n",
      "2\n",
      "int32\n"
     ]
    }
   ],
   "source": [
    "# 3 atributos básicos pra um ndarray\n",
    "print(np_matriz.shape)   # O formato dele\n",
    "print(np_matriz.ndim)    # Quantas dimensões ele tem\n",
    "print(np_matriz.dtype)   # O \"dtype\", que é o tipo dos elementos (número, letra, ...) dele"
   ]
  },
  {
   "cell_type": "code",
   "execution_count": 9,
   "id": "61e3d7b5",
   "metadata": {},
   "outputs": [
    {
     "name": "stdout",
     "output_type": "stream",
     "text": [
      "<class 'numpy.ndarray'>\n",
      "int32\n"
     ]
    }
   ],
   "source": [
    "x = np.array([1, 2, 3]) # Um vetor também é um ndarray\n",
    "print(type(x))\n",
    "print(x.dtype)"
   ]
  },
  {
   "cell_type": "code",
   "execution_count": 10,
   "id": "30797cb3",
   "metadata": {},
   "outputs": [],
   "source": [
    "# O dtype de um array do numpy pode ser controlado na hora que a gente cria.\n",
    "py_matriz = [[1,   2,  3],\n",
    "            [4,   5,  6],\n",
    "            [7,   8,  9],\n",
    "            [10, 11, 12]]\n",
    "\n",
    "matriz = np.array(py_matriz, dtype=np.float64)"
   ]
  },
  {
   "cell_type": "code",
   "execution_count": 11,
   "id": "bc3a2f7f",
   "metadata": {},
   "outputs": [
    {
     "name": "stdout",
     "output_type": "stream",
     "text": [
      "[[ 1.  2.  3.]\n",
      " [ 4.  5.  6.]\n",
      " [ 7.  8.  9.]\n",
      " [10. 11. 12.]]\n",
      "float64\n"
     ]
    }
   ],
   "source": [
    "print(matriz)\n",
    "print(matriz.dtype)"
   ]
  },
  {
   "cell_type": "code",
   "execution_count": 12,
   "id": "99c0d86d",
   "metadata": {},
   "outputs": [
    {
     "name": "stdout",
     "output_type": "stream",
     "text": [
      "1.0\n",
      "1.0\n"
     ]
    }
   ],
   "source": [
    "# Para selecionar um elemento de uma tabela no Python e no Numpy, tem uma ligeira diferença.\n",
    "print((matriz[0][0])) # Python: Pega a primeira linha. Dela, pega o primeiro elemento.\n",
    "print((matriz[0, 0]))  # Numpy: Pega o elemento da linha 0, coluna 0."
   ]
  },
  {
   "cell_type": "markdown",
   "id": "6bda33f8",
   "metadata": {},
   "source": [
    "Slicing com matriz"
   ]
  },
  {
   "cell_type": "code",
   "execution_count": 21,
   "id": "4ac5db69",
   "metadata": {},
   "outputs": [
    {
     "data": {
      "text/plain": [
       "[1, 2, 3, 4, 5, 6, 7, 8]"
      ]
     },
     "execution_count": 21,
     "metadata": {},
     "output_type": "execute_result"
    }
   ],
   "source": [
    "x = [1, 2, 3, 4, 5, 6, 7, 8] # Um vetor também é um ndarray\n",
    "x"
   ]
  },
  {
   "cell_type": "code",
   "execution_count": 23,
   "id": "317f03ae",
   "metadata": {},
   "outputs": [
    {
     "data": {
      "text/plain": [
       "[1, 3, 5, 7]"
      ]
     },
     "execution_count": 23,
     "metadata": {},
     "output_type": "execute_result"
    }
   ],
   "source": [
    "x[0:9:2]"
   ]
  },
  {
   "cell_type": "code",
   "execution_count": 13,
   "id": "8f9e2122",
   "metadata": {},
   "outputs": [
    {
     "name": "stdout",
     "output_type": "stream",
     "text": [
      "[[ 1.  2.  3.]\n",
      " [ 4.  5.  6.]\n",
      " [ 7.  8.  9.]\n",
      " [10. 11. 12.]]\n"
     ]
    }
   ],
   "source": [
    "# Slicing funciona no numpy!\n",
    "print(matriz)"
   ]
  },
  {
   "cell_type": "code",
   "execution_count": 25,
   "id": "55e0f2d6",
   "metadata": {},
   "outputs": [
    {
     "name": "stdout",
     "output_type": "stream",
     "text": [
      "[[ 2.  3.]\n",
      " [ 5.  6.]\n",
      " [ 8.  9.]\n",
      " [11. 12.]]\n",
      "------\n",
      "[4. 5. 6.]\n",
      "------\n",
      "[6. 5. 4.]\n"
     ]
    }
   ],
   "source": [
    "print(matriz[:,1:]) \n",
    "print('------')\n",
    "print(matriz[1,:]) \n",
    "print('------')\n",
    "print(matriz[1,::-1]) "
   ]
  },
  {
   "cell_type": "markdown",
   "id": "e864132c",
   "metadata": {},
   "source": [
    "**Funções numpy**  \n",
    "O numpy também tem diversas funções para facilitar criação de matrizes."
   ]
  },
  {
   "cell_type": "code",
   "execution_count": 26,
   "id": "cb47ae67",
   "metadata": {},
   "outputs": [
    {
     "name": "stdout",
     "output_type": "stream",
     "text": [
      "[[0. 0. 0.]\n",
      " [0. 0. 0.]\n",
      " [0. 0. 0.]\n",
      " [0. 0. 0.]\n",
      " [0. 0. 0.]\n",
      " [0. 0. 0.]\n",
      " [0. 0. 0.]\n",
      " [0. 0. 0.]\n",
      " [0. 0. 0.]\n",
      " [0. 0. 0.]]\n",
      "\n",
      "[[1. 1.]\n",
      " [1. 1.]\n",
      " [1. 1.]\n",
      " [1. 1.]\n",
      " [1. 1.]]\n",
      "\n",
      "[[1. 0. 0. 0.]\n",
      " [0. 1. 0. 0.]\n",
      " [0. 0. 1. 0.]\n",
      " [0. 0. 0. 1.]]\n",
      "\n",
      "[[1. 0. 0.]\n",
      " [0. 1. 0.]\n",
      " [0. 0. 1.]\n",
      " [0. 0. 0.]]\n",
      "\n"
     ]
    }
   ],
   "source": [
    "print(np.zeros((10, 3)), end='\\n\\n') # O \"end\" muda o que o Python encaixa no fim do que ele mostra pra gente.\n",
    "print(np.ones((5,2)), end='\\n\\n') # \\n é pular linha, e é o default. \\n\\n pula 2 linhas.\n",
    "print(np.identity(4), end='\\n\\n')\n",
    "print(np.eye(4, 3), end='\\n\\n')"
   ]
  },
  {
   "cell_type": "markdown",
   "id": "af8b483d",
   "metadata": {},
   "source": [
    "# Manipulações de matrizes"
   ]
  },
  {
   "cell_type": "code",
   "execution_count": 27,
   "id": "103153e3",
   "metadata": {},
   "outputs": [
    {
     "data": {
      "text/plain": [
       "array([[ 1.,  2.,  3.],\n",
       "       [ 4.,  5.,  6.],\n",
       "       [ 7.,  8.,  9.],\n",
       "       [10., 11., 12.]])"
      ]
     },
     "execution_count": 27,
     "metadata": {},
     "output_type": "execute_result"
    }
   ],
   "source": [
    "matriz"
   ]
  },
  {
   "cell_type": "code",
   "execution_count": 28,
   "id": "5ead4367",
   "metadata": {},
   "outputs": [
    {
     "data": {
      "text/plain": [
       "array([[ 1.,  4.,  7., 10.],\n",
       "       [ 2.,  5.,  8., 11.],\n",
       "       [ 3.,  6.,  9., 12.]])"
      ]
     },
     "execution_count": 28,
     "metadata": {},
     "output_type": "execute_result"
    }
   ],
   "source": [
    "# Transposição de matrizes\n",
    "matriz.T"
   ]
  },
  {
   "cell_type": "code",
   "execution_count": 29,
   "id": "87df6a49",
   "metadata": {},
   "outputs": [
    {
     "data": {
      "text/plain": [
       "array([[ 1.,  4.,  7., 10.],\n",
       "       [ 2.,  5.,  8., 11.],\n",
       "       [ 3.,  6.,  9., 12.]])"
      ]
     },
     "execution_count": 29,
     "metadata": {},
     "output_type": "execute_result"
    }
   ],
   "source": [
    "array_transposto = np.transpose(matriz)\n",
    "array_transposto"
   ]
  },
  {
   "cell_type": "code",
   "execution_count": 30,
   "id": "b7bc6bc8",
   "metadata": {},
   "outputs": [
    {
     "data": {
      "text/plain": [
       "array([[ 1.,  4.,  7., 10.],\n",
       "       [ 2.,  5.,  8., 11.],\n",
       "       [ 3.,  6.,  9., 12.]])"
      ]
     },
     "execution_count": 30,
     "metadata": {},
     "output_type": "execute_result"
    }
   ],
   "source": [
    "matriz.transpose()"
   ]
  },
  {
   "cell_type": "code",
   "execution_count": 31,
   "id": "e347d8b8",
   "metadata": {},
   "outputs": [
    {
     "data": {
      "text/plain": [
       "(9,)"
      ]
     },
     "execution_count": 31,
     "metadata": {},
     "output_type": "execute_result"
    }
   ],
   "source": [
    "x = np.array([0.1, 0.4, 1.0, 0.2, 0.7, 1.2, 1.1, 1.0, 0.9])\n",
    "x.shape"
   ]
  },
  {
   "cell_type": "code",
   "execution_count": 32,
   "id": "5c298535",
   "metadata": {},
   "outputs": [
    {
     "data": {
      "text/plain": [
       "array([[0.1, 0.4, 1. ],\n",
       "       [0.2, 0.7, 1.2],\n",
       "       [1.1, 1. , 0.9]])"
      ]
     },
     "execution_count": 32,
     "metadata": {},
     "output_type": "execute_result"
    }
   ],
   "source": [
    "# Redimensionamento\n",
    "x.reshape(3, 3)"
   ]
  },
  {
   "cell_type": "code",
   "execution_count": 33,
   "id": "9e51e72f",
   "metadata": {},
   "outputs": [
    {
     "data": {
      "text/plain": [
       "(12,)"
      ]
     },
     "execution_count": 33,
     "metadata": {},
     "output_type": "execute_result"
    }
   ],
   "source": [
    "y = np.array([0.1, 0.4, 1.0, 0.2, 0.7, 1.2, 1.1, 1.0, 0.9, 2.0, 1.5, 1.6])\n",
    "y.shape"
   ]
  },
  {
   "cell_type": "code",
   "execution_count": 34,
   "id": "01201e9a",
   "metadata": {
    "scrolled": true
   },
   "outputs": [
    {
     "ename": "ValueError",
     "evalue": "cannot reshape array of size 12 into shape (3,3)",
     "output_type": "error",
     "traceback": [
      "\u001b[1;31m---------------------------------------------------------------------------\u001b[0m",
      "\u001b[1;31mValueError\u001b[0m                                Traceback (most recent call last)",
      "\u001b[1;32m~\\AppData\\Local\\Temp\\ipykernel_8332\\682338335.py\u001b[0m in \u001b[0;36m<module>\u001b[1;34m\u001b[0m\n\u001b[0;32m      1\u001b[0m \u001b[1;31m# Vejam o que acontece se as dimensões não são condizentes\u001b[0m\u001b[1;33m\u001b[0m\u001b[1;33m\u001b[0m\u001b[0m\n\u001b[1;32m----> 2\u001b[1;33m \u001b[0my\u001b[0m\u001b[1;33m.\u001b[0m\u001b[0mreshape\u001b[0m\u001b[1;33m(\u001b[0m\u001b[1;36m3\u001b[0m\u001b[1;33m,\u001b[0m \u001b[1;36m3\u001b[0m\u001b[1;33m)\u001b[0m\u001b[1;33m\u001b[0m\u001b[1;33m\u001b[0m\u001b[0m\n\u001b[0m",
      "\u001b[1;31mValueError\u001b[0m: cannot reshape array of size 12 into shape (3,3)"
     ]
    }
   ],
   "source": [
    "# Vejam o que acontece se as dimensões não são condizentes\n",
    "y.reshape(3, 3)"
   ]
  },
  {
   "cell_type": "code",
   "execution_count": 41,
   "id": "b64b9ce4",
   "metadata": {},
   "outputs": [
    {
     "data": {
      "text/plain": [
       "array([[1, 2, 3, 4, 5, 6, 7, 8, 9]])"
      ]
     },
     "execution_count": 41,
     "metadata": {},
     "output_type": "execute_result"
    }
   ],
   "source": [
    "# E se eu quiser retornar para um vetor\n",
    "x = np.array([[1, 2, 3],\n",
    "              [4, 5, 6],\n",
    "              [7, 8, 9]])\n",
    "\n",
    "x.reshape(1, 9)"
   ]
  },
  {
   "cell_type": "code",
   "execution_count": 42,
   "id": "69d11867",
   "metadata": {
    "scrolled": true
   },
   "outputs": [
    {
     "data": {
      "text/plain": [
       "array([1, 2, 3, 4, 5, 6, 7, 8, 9])"
      ]
     },
     "execution_count": 42,
     "metadata": {},
     "output_type": "execute_result"
    }
   ],
   "source": [
    "# Também é possível utilizar o flatten\n",
    "x.flatten()"
   ]
  },
  {
   "cell_type": "code",
   "execution_count": 43,
   "id": "cdef1519",
   "metadata": {},
   "outputs": [
    {
     "data": {
      "text/plain": [
       "array([[1, 2, 3],\n",
       "       [4, 5, 6],\n",
       "       [7, 8, 9]])"
      ]
     },
     "execution_count": 43,
     "metadata": {},
     "output_type": "execute_result"
    }
   ],
   "source": [
    "x"
   ]
  },
  {
   "cell_type": "code",
   "execution_count": 44,
   "id": "0bf692ae",
   "metadata": {},
   "outputs": [],
   "source": [
    "# Também podemos combinar arrays diferentes.\n",
    "# Imagina que temos duas features, altura e peso de pessoas físicas.\n",
    "x1 = np.array([[1.67, 89.],\n",
    "               [1.79, 85.],\n",
    "               [1.69, 65.],\n",
    "               [1.54, 57.],\n",
    "               [1.50, 45.]])\n",
    "\n",
    "# Porém, nós queremos testar agora adicionar uma terceira feature, se a pessoa é homem ou mulher.\n",
    "# 1 é mulher, 0 é homem\n",
    "x2 = np.array([1, 0, 1, 0, 1])\n",
    "\n",
    "# Como podemos fazer?"
   ]
  },
  {
   "cell_type": "code",
   "execution_count": 47,
   "id": "17d37fd6",
   "metadata": {},
   "outputs": [
    {
     "data": {
      "text/plain": [
       "array([1, 0, 1, 0, 1])"
      ]
     },
     "execution_count": 47,
     "metadata": {},
     "output_type": "execute_result"
    }
   ],
   "source": [
    "x2"
   ]
  },
  {
   "cell_type": "code",
   "execution_count": 46,
   "id": "33109aaa",
   "metadata": {},
   "outputs": [
    {
     "data": {
      "text/plain": [
       "array([[1],\n",
       "       [0],\n",
       "       [1],\n",
       "       [0],\n",
       "       [1]])"
      ]
     },
     "execution_count": 46,
     "metadata": {},
     "output_type": "execute_result"
    }
   ],
   "source": [
    "x2.reshape(-1, 1)"
   ]
  },
  {
   "cell_type": "code",
   "execution_count": 50,
   "id": "71f46c3f",
   "metadata": {},
   "outputs": [
    {
     "data": {
      "text/plain": [
       "array([[ 1.67, 89.  ,  1.  ],\n",
       "       [ 1.79, 85.  ,  0.  ],\n",
       "       [ 1.69, 65.  ,  1.  ],\n",
       "       [ 1.54, 57.  ,  0.  ],\n",
       "       [ 1.5 , 45.  ,  1.  ]])"
      ]
     },
     "execution_count": 50,
     "metadata": {},
     "output_type": "execute_result"
    }
   ],
   "source": [
    "#Podemos utilizar o concatenate\n",
    "np.concatenate((x1, x2.reshape(-1, 1)), axis=1) # O valor -1 no reshape significa que não sabemos quantas linhas teremos, o próprio numpy irá definir"
   ]
  },
  {
   "cell_type": "code",
   "execution_count": 56,
   "id": "f8679c60",
   "metadata": {},
   "outputs": [
    {
     "data": {
      "text/plain": [
       "array([[ 1.67, 89.  ,  1.  ],\n",
       "       [ 1.79, 85.  ,  0.  ],\n",
       "       [ 1.69, 65.  ,  1.  ],\n",
       "       [ 1.54, 57.  ,  0.  ],\n",
       "       [ 1.5 , 45.  ,  1.  ]])"
      ]
     },
     "execution_count": 56,
     "metadata": {},
     "output_type": "execute_result"
    }
   ],
   "source": [
    "np.append(x1, x2.reshape(-1, 1), axis=1) "
   ]
  },
  {
   "cell_type": "code",
   "execution_count": 57,
   "id": "b44bef12",
   "metadata": {},
   "outputs": [
    {
     "data": {
      "text/plain": [
       "array([[ 1.67,  1.  , 89.  ],\n",
       "       [ 1.79,  0.  , 85.  ],\n",
       "       [ 1.69,  1.  , 65.  ],\n",
       "       [ 1.54,  0.  , 57.  ],\n",
       "       [ 1.5 ,  1.  , 45.  ]])"
      ]
     },
     "execution_count": 57,
     "metadata": {},
     "output_type": "execute_result"
    }
   ],
   "source": [
    "np.insert(x1, 1, x2, axis=1)"
   ]
  },
  {
   "cell_type": "code",
   "execution_count": 58,
   "id": "f427bf99",
   "metadata": {},
   "outputs": [
    {
     "data": {
      "text/plain": [
       "array([[ 1.67,  1.79,  1.69,  1.54,  1.5 ],\n",
       "       [89.  , 85.  , 65.  , 57.  , 45.  ],\n",
       "       [ 1.  ,  0.  ,  1.  ,  0.  ,  1.  ]])"
      ]
     },
     "execution_count": 58,
     "metadata": {},
     "output_type": "execute_result"
    }
   ],
   "source": [
    "np.vstack([x1.T, x2])"
   ]
  },
  {
   "cell_type": "code",
   "execution_count": 59,
   "id": "6abcbb1c",
   "metadata": {},
   "outputs": [
    {
     "data": {
      "text/plain": [
       "array([[ 1.67, 89.  ,  1.  ],\n",
       "       [ 1.79, 85.  ,  0.  ],\n",
       "       [ 1.69, 65.  ,  1.  ],\n",
       "       [ 1.54, 57.  ,  0.  ],\n",
       "       [ 1.5 , 45.  ,  1.  ]])"
      ]
     },
     "execution_count": 59,
     "metadata": {},
     "output_type": "execute_result"
    }
   ],
   "source": [
    "np.vstack([x1.T, x2]).T"
   ]
  },
  {
   "cell_type": "code",
   "execution_count": 60,
   "id": "429fec63",
   "metadata": {},
   "outputs": [
    {
     "data": {
      "text/plain": [
       "array([[ 1.67, 89.  ,  1.  ],\n",
       "       [ 1.79, 85.  ,  0.  ],\n",
       "       [ 1.69, 65.  ,  1.  ],\n",
       "       [ 1.54, 57.  ,  0.  ],\n",
       "       [ 1.5 , 45.  ,  1.  ]])"
      ]
     },
     "execution_count": 60,
     "metadata": {},
     "output_type": "execute_result"
    }
   ],
   "source": [
    "np.hstack([x1, x2.reshape(-1, 1)])"
   ]
  },
  {
   "cell_type": "code",
   "execution_count": 61,
   "id": "19ae7488",
   "metadata": {},
   "outputs": [
    {
     "data": {
      "text/plain": [
       "array([[ 1.67, 89.  ,  1.  ],\n",
       "       [ 1.79, 85.  ,  0.  ],\n",
       "       [ 1.69, 65.  ,  1.  ],\n",
       "       [ 1.54, 57.  ,  0.  ],\n",
       "       [ 1.5 , 45.  ,  1.  ]])"
      ]
     },
     "execution_count": 61,
     "metadata": {},
     "output_type": "execute_result"
    }
   ],
   "source": [
    "np.column_stack([x1, x2])"
   ]
  },
  {
   "cell_type": "code",
   "execution_count": 62,
   "id": "42ac946c",
   "metadata": {},
   "outputs": [],
   "source": [
    "# Agora temos a tabela de dados abaixo.\n",
    "table = np.array([[1.67, 89., 1],\n",
    "                  [1.79, 85., 0],\n",
    "                  [1.69, 65., 1],\n",
    "                  [1.54, 57., 0],\n",
    "                  [1.50, 45., 1]])\n",
    "\n",
    "# Mas tinhamos esquecido de outras 3 pessoas!\n",
    "new_table = np.array([[1.78, 91, 0],\n",
    "                      [1.72, 67, 1],\n",
    "                      [1.77, 76, 1]])"
   ]
  },
  {
   "cell_type": "code",
   "execution_count": 63,
   "id": "582baf26",
   "metadata": {},
   "outputs": [
    {
     "data": {
      "text/plain": [
       "array([[ 1.67, 89.  ,  1.  ],\n",
       "       [ 1.79, 85.  ,  0.  ],\n",
       "       [ 1.69, 65.  ,  1.  ],\n",
       "       [ 1.54, 57.  ,  0.  ],\n",
       "       [ 1.5 , 45.  ,  1.  ],\n",
       "       [ 1.78, 91.  ,  0.  ],\n",
       "       [ 1.72, 67.  ,  1.  ],\n",
       "       [ 1.77, 76.  ,  1.  ]])"
      ]
     },
     "execution_count": 63,
     "metadata": {},
     "output_type": "execute_result"
    }
   ],
   "source": [
    "# Como podemos juntar as tabelas?\n",
    "np.vstack([table, new_table])"
   ]
  },
  {
   "cell_type": "code",
   "execution_count": 64,
   "id": "2aa445e6",
   "metadata": {},
   "outputs": [
    {
     "data": {
      "text/plain": [
       "array([[ 1.67, 89.  ,  1.  ],\n",
       "       [ 1.79, 85.  ,  0.  ],\n",
       "       [ 1.69, 65.  ,  1.  ],\n",
       "       [ 1.54, 57.  ,  0.  ],\n",
       "       [ 1.5 , 45.  ,  1.  ],\n",
       "       [ 1.78, 91.  ,  0.  ],\n",
       "       [ 1.72, 67.  ,  1.  ],\n",
       "       [ 1.77, 76.  ,  1.  ]])"
      ]
     },
     "execution_count": 64,
     "metadata": {},
     "output_type": "execute_result"
    }
   ],
   "source": [
    "np.append(table, new_table, axis=0)"
   ]
  },
  {
   "cell_type": "code",
   "execution_count": 67,
   "id": "1ff93db0",
   "metadata": {},
   "outputs": [
    {
     "data": {
      "text/plain": [
       "array([ 1.67, 89.  ,  1.  ,  1.79, 85.  ,  0.  ,  1.69, 65.  ,  1.  ,\n",
       "        1.54, 57.  ,  0.  ,  1.5 , 45.  ,  1.  ,  1.78, 91.  ,  0.  ,\n",
       "        1.72, 67.  ,  1.  ,  1.77, 76.  ,  1.  ])"
      ]
     },
     "execution_count": 67,
     "metadata": {},
     "output_type": "execute_result"
    }
   ],
   "source": [
    "np.append(table, new_table)"
   ]
  },
  {
   "cell_type": "code",
   "execution_count": 68,
   "id": "00cf5e1e",
   "metadata": {},
   "outputs": [
    {
     "data": {
      "text/plain": [
       "array([[ 1.67, 89.  ,  1.  ],\n",
       "       [ 1.79, 85.  ,  0.  ],\n",
       "       [ 1.69, 65.  ,  1.  ],\n",
       "       [ 1.54, 57.  ,  0.  ],\n",
       "       [ 1.5 , 45.  ,  1.  ],\n",
       "       [ 1.78, 91.  ,  0.  ],\n",
       "       [ 1.72, 67.  ,  1.  ],\n",
       "       [ 1.77, 76.  ,  1.  ]])"
      ]
     },
     "execution_count": 68,
     "metadata": {},
     "output_type": "execute_result"
    }
   ],
   "source": [
    "np.append(table, new_table).reshape(-1, 3)"
   ]
  },
  {
   "cell_type": "markdown",
   "id": "5e63879e",
   "metadata": {},
   "source": [
    "# Operações Básicas"
   ]
  },
  {
   "cell_type": "code",
   "execution_count": 69,
   "id": "cb4f94c0",
   "metadata": {},
   "outputs": [
    {
     "name": "stdout",
     "output_type": "stream",
     "text": [
      "[0 1 2 3 4 5 6 7 8 9]\n",
      "[ 0  2  4  6  8 10 12 14 16 18]\n"
     ]
    }
   ],
   "source": [
    "vec1 = np.arange(0, 10, 1)\n",
    "print(vec1)\n",
    "print(vec1 * 2)"
   ]
  },
  {
   "cell_type": "code",
   "execution_count": 70,
   "id": "92aa6dfc",
   "metadata": {},
   "outputs": [
    {
     "data": {
      "text/plain": [
       "array([[ 1.,  2.,  3.],\n",
       "       [ 4.,  5.,  6.],\n",
       "       [ 7.,  8.,  9.],\n",
       "       [10., 11., 12.]])"
      ]
     },
     "execution_count": 70,
     "metadata": {},
     "output_type": "execute_result"
    }
   ],
   "source": [
    "matriz"
   ]
  },
  {
   "cell_type": "code",
   "execution_count": 71,
   "id": "dd788bdd",
   "metadata": {},
   "outputs": [
    {
     "data": {
      "text/plain": [
       "array([[ 2.,  4.,  6.],\n",
       "       [ 8., 10., 12.],\n",
       "       [14., 16., 18.],\n",
       "       [20., 22., 24.]])"
      ]
     },
     "execution_count": 71,
     "metadata": {},
     "output_type": "execute_result"
    }
   ],
   "source": [
    "#Podemos multiplicar por um escalar\n",
    "matriz_dobro = 2 * matriz\n",
    "matriz_dobro"
   ]
  },
  {
   "cell_type": "code",
   "execution_count": 72,
   "id": "a7002dda",
   "metadata": {},
   "outputs": [
    {
     "name": "stdout",
     "output_type": "stream",
     "text": [
      "[[ 3.  6.  9.]\n",
      " [12. 15. 18.]\n",
      " [21. 24. 27.]\n",
      " [30. 33. 36.]]\n"
     ]
    }
   ],
   "source": [
    "# Podemos somar duas matrizes\n",
    "print(matriz + matriz_dobro)"
   ]
  },
  {
   "cell_type": "code",
   "execution_count": 73,
   "id": "cf606dab",
   "metadata": {},
   "outputs": [
    {
     "name": "stdout",
     "output_type": "stream",
     "text": [
      "[[  2.   8.  18.]\n",
      " [ 32.  50.  72.]\n",
      " [ 98. 128. 162.]\n",
      " [200. 242. 288.]]\n"
     ]
    }
   ],
   "source": [
    "# Multiplicação elemento por elemento\n",
    "print(matriz * matriz_dobro)"
   ]
  },
  {
   "attachments": {},
   "cell_type": "markdown",
   "id": "ecea7d1f",
   "metadata": {},
   "source": [
    "![](./images/mult_matriz.jpeg)"
   ]
  },
  {
   "cell_type": "code",
   "execution_count": null,
   "id": "b936f1bf",
   "metadata": {},
   "outputs": [],
   "source": []
  },
  {
   "cell_type": "code",
   "execution_count": 74,
   "id": "4fedf1b6",
   "metadata": {
    "scrolled": true
   },
   "outputs": [
    {
     "name": "stdout",
     "output_type": "stream",
     "text": [
      "(4, 3)\n",
      "(4, 3)\n"
     ]
    }
   ],
   "source": [
    "print(matriz.shape)\n",
    "print(matriz_dobro.shape)"
   ]
  },
  {
   "cell_type": "code",
   "execution_count": 75,
   "id": "97971086",
   "metadata": {},
   "outputs": [
    {
     "name": "stdout",
     "output_type": "stream",
     "text": [
      "[[ 28.  64. 100. 136.]\n",
      " [ 64. 154. 244. 334.]\n",
      " [100. 244. 388. 532.]\n",
      " [136. 334. 532. 730.]]\n",
      "----------------------------\n",
      "[[ 28.  64. 100. 136.]\n",
      " [ 64. 154. 244. 334.]\n",
      " [100. 244. 388. 532.]\n",
      " [136. 334. 532. 730.]]\n"
     ]
    }
   ],
   "source": [
    "# Produto matricial\n",
    "print(matriz @ matriz_dobro.T)\n",
    "\n",
    "print('----------------------------')\n",
    "# Outra forma de escrever a mesma coisa\n",
    "print(matriz.dot(matriz_dobro.T))"
   ]
  },
  {
   "cell_type": "markdown",
   "id": "9384d618",
   "metadata": {},
   "source": [
    "**Bora praticar!**  \n",
    "  \n",
    "Transforme o csv **dados_artificiais**, que está na pasta **dados**, para um numpy array (matriz)"
   ]
  },
  {
   "cell_type": "code",
   "execution_count": 77,
   "id": "4b3dd763",
   "metadata": {},
   "outputs": [
    {
     "data": {
      "text/plain": [
       "array([[ 1.78881069, 65.64810194,  0.        ],\n",
       "       [ 1.56678443, 76.64276798,  0.        ],\n",
       "       [ 2.09219306, 55.46818533,  1.        ],\n",
       "       [ 1.78247092, 67.28199736,  1.        ],\n",
       "       [ 1.73576698, 69.28900763,  0.        ],\n",
       "       [ 1.68697465, 56.84005114,  0.        ],\n",
       "       [ 1.79710463, 65.20897328,  1.        ],\n",
       "       [ 1.18734906, 48.16476395,  0.        ],\n",
       "       [ 1.59589144, 45.41064814,  1.        ],\n",
       "       [ 1.39628178, 67.93011334,  0.        ],\n",
       "       [ 1.60614817, 67.7196041 ,  0.        ],\n",
       "       [ 1.70758997, 45.60933262,  0.        ],\n",
       "       [ 1.73551312, 64.84545151,  0.        ],\n",
       "       [ 1.67205518, 39.7059515 ,  1.        ],\n",
       "       [ 1.72337707, 50.05888021,  1.        ],\n",
       "       [ 1.68457427, 56.54508738,  1.        ],\n",
       "       [ 1.73325893, 37.51218759,  0.        ],\n",
       "       [ 1.75789966, 57.36242239,  0.        ],\n",
       "       [ 1.9133377 , 69.30724639,  1.        ],\n",
       "       [ 1.45604834, 69.34233711,  0.        ]])"
      ]
     },
     "execution_count": 77,
     "metadata": {},
     "output_type": "execute_result"
    }
   ],
   "source": [
    "lista_artificial = \n",
    "[[1.788810693, 65.64810194, 0],\n",
    "[1.566784434, 76.64276798, 0],\n",
    "[2.092193055, 55.46818533, 1],\n",
    "[1.782470917, 67.28199736, 1],\n",
    "[1.735766977, 69.28900763, 0],\n",
    "[1.686974648, 56.84005114, 0],\n",
    "[1.797104633, 65.20897328, 1],\n",
    "[1.187349055, 48.16476395, 0],\n",
    "[1.595891436, 45.41064814, 1],\n",
    "[1.396281776, 67.93011334, 0],\n",
    "[1.606148165, 67.71960410, 0],\n",
    "[1.707589967, 45.60933262, 0],\n",
    "[1.735513116, 64.84545151, 0],\n",
    "[1.672055182, 39.70595150, 1],\n",
    "[1.723377069, 50.05888021, 1],\n",
    "[1.684574272, 56.54508738, 1],\n",
    "[1.733258930, 37.51218759, 0],\n",
    "[1.757899659, 57.36242239, 0],\n",
    "[1.913337705, 69.30724639, 1],\n",
    "[1.456048343, 69.34233711, 0]]\n",
    "\n",
    "matriz_imc = np.array(lista_artificial)\n",
    "matriz_imc"
   ]
  },
  {
   "cell_type": "markdown",
   "id": "5743e18c",
   "metadata": {},
   "source": [
    "Agora utilize esta matriz para calcular o IMC, utilizando a equação\n",
    "\n",
    "```\n",
    "IMC = peso / altura**2\n",
    "```\n",
    "e insira na nova tabela"
   ]
  },
  {
   "cell_type": "code",
   "execution_count": 86,
   "id": "105026ec",
   "metadata": {},
   "outputs": [
    {
     "name": "stdout",
     "output_type": "stream",
     "text": [
      "[[ 1.78881069 65.64810194  0.         20.51603397]\n",
      " [ 1.56678443 76.64276798  0.         31.22142238]\n",
      " [ 2.09219306 55.46818533  1.         12.67186232]\n",
      " [ 1.78247092 67.28199736  1.         21.17648966]\n",
      " [ 1.73576698 69.28900763  0.         22.9975461 ]\n",
      " [ 1.68697465 56.84005114  0.         19.97272618]\n",
      " [ 1.79710463 65.20897328  1.         20.19113045]\n",
      " [ 1.18734906 48.16476395  0.         34.16430689]\n",
      " [ 1.59589144 45.41064814  1.         17.82998641]\n",
      " [ 1.39628178 67.93011334  0.         34.84305286]\n",
      " [ 1.60614817 67.7196041   0.         26.25083963]\n",
      " [ 1.70758997 45.60933262  0.         15.6417928 ]\n",
      " [ 1.73551312 64.84545151  0.         21.52899308]\n",
      " [ 1.67205518 39.7059515   1.         14.20215982]\n",
      " [ 1.72337707 50.05888021  1.         16.85467996]\n",
      " [ 1.68457427 56.54508738  1.         19.92574428]\n",
      " [ 1.73325893 37.51218759  0.         12.48663735]\n",
      " [ 1.75789966 57.36242239  0.         18.56262193]\n",
      " [ 1.9133377  69.30724639  1.         18.93195156]\n",
      " [ 1.45604834 69.34233711  0.         32.70746506]]\n"
     ]
    }
   ],
   "source": [
    "altura = matriz_imc[:,0].astype(float)\n",
    "peso = matriz_imc[:,1].astype(float)\n",
    "sexo = matriz_imc[:,2].astype(float)\n",
    "\n",
    "IMC = peso/np.power(altura, 2)\n",
    "# IMC = np.insert(IMC.astype(str), 0, 'IMC')\n",
    "\n",
    "new_table = np.column_stack([matriz_imc, IMC])\n",
    "\n",
    "print(new_table)"
   ]
  },
  {
   "cell_type": "code",
   "execution_count": 87,
   "id": "47b8f4f2",
   "metadata": {},
   "outputs": [
    {
     "data": {
      "text/plain": [
       "array([20.51603397, 31.22142238, 12.67186232, 21.17648966, 22.9975461 ,\n",
       "       19.97272618, 20.19113045, 34.16430689, 17.82998641, 34.84305286,\n",
       "       26.25083963, 15.6417928 , 21.52899308, 14.20215982, 16.85467996,\n",
       "       19.92574428, 12.48663735, 18.56262193, 18.93195156, 32.70746506])"
      ]
     },
     "execution_count": 87,
     "metadata": {},
     "output_type": "execute_result"
    }
   ],
   "source": [
    "nova_tabela = matriz_imc[:, 1]/(matriz_imc[:, 0]**2)\n",
    "nova_tabela"
   ]
  },
  {
   "cell_type": "code",
   "execution_count": 88,
   "id": "54d6742f",
   "metadata": {},
   "outputs": [
    {
     "name": "stdout",
     "output_type": "stream",
     "text": [
      "[[ 1.78881069 65.64810194  0.         20.51603397]\n",
      " [ 1.56678443 76.64276798  0.         31.22142238]\n",
      " [ 2.09219306 55.46818533  1.         12.67186232]\n",
      " [ 1.78247092 67.28199736  1.         21.17648966]\n",
      " [ 1.73576698 69.28900763  0.         22.9975461 ]\n",
      " [ 1.68697465 56.84005114  0.         19.97272618]\n",
      " [ 1.79710463 65.20897328  1.         20.19113045]\n",
      " [ 1.18734906 48.16476395  0.         34.16430689]\n",
      " [ 1.59589144 45.41064814  1.         17.82998641]\n",
      " [ 1.39628178 67.93011334  0.         34.84305286]\n",
      " [ 1.60614817 67.7196041   0.         26.25083963]\n",
      " [ 1.70758997 45.60933262  0.         15.6417928 ]\n",
      " [ 1.73551312 64.84545151  0.         21.52899308]\n",
      " [ 1.67205518 39.7059515   1.         14.20215982]\n",
      " [ 1.72337707 50.05888021  1.         16.85467996]\n",
      " [ 1.68457427 56.54508738  1.         19.92574428]\n",
      " [ 1.73325893 37.51218759  0.         12.48663735]\n",
      " [ 1.75789966 57.36242239  0.         18.56262193]\n",
      " [ 1.9133377  69.30724639  1.         18.93195156]\n",
      " [ 1.45604834 69.34233711  0.         32.70746506]]\n"
     ]
    }
   ],
   "source": [
    "imc = matriz_imc[:,1]/(matriz_imc[:,0]**2)\n",
    "imc = np.concatenate((matriz_imc, imc.reshape(-1,1)), axis=1)\n",
    "print(imc)"
   ]
  },
  {
   "cell_type": "code",
   "execution_count": 90,
   "id": "b0f1cb43",
   "metadata": {},
   "outputs": [
    {
     "data": {
      "text/plain": [
       "array([[ 1.78881069, 65.64810194,  0.        , 20.51603397],\n",
       "       [ 1.56678443, 76.64276798,  0.        , 31.22142238],\n",
       "       [ 2.09219306, 55.46818533,  1.        , 12.67186232],\n",
       "       [ 1.78247092, 67.28199736,  1.        , 21.17648966],\n",
       "       [ 1.73576698, 69.28900763,  0.        , 22.9975461 ],\n",
       "       [ 1.68697465, 56.84005114,  0.        , 19.97272618],\n",
       "       [ 1.79710463, 65.20897328,  1.        , 20.19113045],\n",
       "       [ 1.18734906, 48.16476395,  0.        , 34.16430689],\n",
       "       [ 1.59589144, 45.41064814,  1.        , 17.82998641],\n",
       "       [ 1.39628178, 67.93011334,  0.        , 34.84305286],\n",
       "       [ 1.60614817, 67.7196041 ,  0.        , 26.25083963],\n",
       "       [ 1.70758997, 45.60933262,  0.        , 15.6417928 ],\n",
       "       [ 1.73551312, 64.84545151,  0.        , 21.52899308],\n",
       "       [ 1.67205518, 39.7059515 ,  1.        , 14.20215982],\n",
       "       [ 1.72337707, 50.05888021,  1.        , 16.85467996],\n",
       "       [ 1.68457427, 56.54508738,  1.        , 19.92574428],\n",
       "       [ 1.73325893, 37.51218759,  0.        , 12.48663735],\n",
       "       [ 1.75789966, 57.36242239,  0.        , 18.56262193],\n",
       "       [ 1.9133377 , 69.30724639,  1.        , 18.93195156],\n",
       "       [ 1.45604834, 69.34233711,  0.        , 32.70746506]])"
      ]
     },
     "execution_count": 90,
     "metadata": {},
     "output_type": "execute_result"
    }
   ],
   "source": [
    "imc = len(matriz_imc)*[0]\n",
    "for i in range(len(matriz_imc)):\n",
    "    imc[i] = matriz_imc[i,1]/(matriz_imc[i,0]**2)\n",
    "\n",
    "imc_dados = np.array(imc)\n",
    "np.column_stack((matriz_imc,imc_dados))"
   ]
  },
  {
   "cell_type": "code",
   "execution_count": 94,
   "id": "a9625720",
   "metadata": {},
   "outputs": [
    {
     "data": {
      "text/plain": [
       "array([[ 1.78881069, 65.64810194,  0.        , 20.51603397],\n",
       "       [ 1.56678443, 76.64276798,  0.        , 31.22142238],\n",
       "       [ 2.09219306, 55.46818533,  1.        , 12.67186232],\n",
       "       [ 1.78247092, 67.28199736,  1.        , 21.17648966],\n",
       "       [ 1.73576698, 69.28900763,  0.        , 22.9975461 ],\n",
       "       [ 1.68697465, 56.84005114,  0.        , 19.97272618],\n",
       "       [ 1.79710463, 65.20897328,  1.        , 20.19113045],\n",
       "       [ 1.18734906, 48.16476395,  0.        , 34.16430689],\n",
       "       [ 1.59589144, 45.41064814,  1.        , 17.82998641],\n",
       "       [ 1.39628178, 67.93011334,  0.        , 34.84305286],\n",
       "       [ 1.60614817, 67.7196041 ,  0.        , 26.25083963],\n",
       "       [ 1.70758997, 45.60933262,  0.        , 15.6417928 ],\n",
       "       [ 1.73551312, 64.84545151,  0.        , 21.52899308],\n",
       "       [ 1.67205518, 39.7059515 ,  1.        , 14.20215982],\n",
       "       [ 1.72337707, 50.05888021,  1.        , 16.85467996],\n",
       "       [ 1.68457427, 56.54508738,  1.        , 19.92574428],\n",
       "       [ 1.73325893, 37.51218759,  0.        , 12.48663735],\n",
       "       [ 1.75789966, 57.36242239,  0.        , 18.56262193],\n",
       "       [ 1.9133377 , 69.30724639,  1.        , 18.93195156],\n",
       "       [ 1.45604834, 69.34233711,  0.        , 32.70746506]])"
      ]
     },
     "execution_count": 94,
     "metadata": {},
     "output_type": "execute_result"
    }
   ],
   "source": [
    "# np_array = np.array(array)\n",
    "# print(type(np_array))\n",
    "imc = matriz_imc[:,1:3:20] / (matriz_imc[:,0:1:20] **2)\n",
    "imc.reshape(-1,1)\n",
    "np_array = np.concatenate((matriz_imc , imc.reshape(-1,1)), axis= 1)\n",
    "np_array"
   ]
  },
  {
   "cell_type": "markdown",
   "id": "e113561c",
   "metadata": {},
   "source": [
    "| IMC             | Categoria           |   |\n",
    "|-----------------|---------------------|---|\n",
    "| abaixo de 16,00 | Baixo peso Grau III |   |\n",
    "| 16,00 a 16,99   | Baixo peso Grau II  |   |\n",
    "| 17,00 a 18.49   | Baixo peso Grau I   |   |\n",
    "| 18,50 a 24,99   | Peso ideal          |   |\n",
    "| 25,00 a 29,99   | Sobrepeso           |   |\n",
    "| 30,00 a 34,99   | Obesidade Grau I    |   |\n",
    "| 35,00 a 39,99   | Obesidade Grau II   |   |\n",
    "| 40,0 e acima    | Obesidade Grau III  |   |\n",
    "\n",
    "Agora utilize a tabela acima para indicar a qual categoria cada valor de IMC se enquadra. Insira novamente na tabela."
   ]
  },
  {
   "cell_type": "code",
   "execution_count": 96,
   "id": "3547278d",
   "metadata": {},
   "outputs": [
    {
     "name": "stdout",
     "output_type": "stream",
     "text": [
      "[['1.788810693' '65.64810194' '0.0' '20.51603396583262' 'Peso Ideal']\n",
      " ['1.566784434' '76.64276798' '0.0' '31.221422379708287'\n",
      "  'Obesidade Grau I']\n",
      " ['2.092193055' '55.46818533' '1.0' '12.671862320992751'\n",
      "  'Baixo peso Grau III']\n",
      " ['1.782470917' '67.28199736' '1.0' '21.176489656761625' 'Peso Ideal']\n",
      " ['1.735766977' '69.28900763' '0.0' '22.997546096415384' 'Peso Ideal']\n",
      " ['1.686974648' '56.84005114' '0.0' '19.972726177686557' 'Peso Ideal']\n",
      " ['1.797104633' '65.20897328' '1.0' '20.191130448388307' 'Peso Ideal']\n",
      " ['1.187349055' '48.16476395' '0.0' '34.1643068868657' 'Obesidade Grau I']\n",
      " ['1.595891436' '45.41064814' '1.0' '17.82998641150157'\n",
      "  'Baixo peso Grau I']\n",
      " ['1.396281776' '67.93011334' '0.0' '34.843052856738055'\n",
      "  'Obesidade Grau I']\n",
      " ['1.606148165' '67.7196041' '0.0' '26.250839625439873' 'Sobrepeso']\n",
      " ['1.707589967' '45.60933262' '0.0' '15.64179279721665'\n",
      "  'Baixo peso Grau III']\n",
      " ['1.735513116' '64.84545151' '0.0' '21.528993081895386' 'Peso Ideal']\n",
      " ['1.672055182' '39.7059515' '1.0' '14.202159817759687'\n",
      "  'Baixo peso Grau III']\n",
      " ['1.723377069' '50.05888021' '1.0' '16.854679960126635'\n",
      "  'Baixo peso Grau II']\n",
      " ['1.684574272' '56.54508738' '1.0' '19.925744279104176' 'Peso Ideal']\n",
      " ['1.73325893' '37.51218759' '0.0' '12.486637350889131'\n",
      "  'Baixo peso Grau III']\n",
      " ['1.757899659' '57.36242239' '0.0' '18.562621928147266' 'Peso Ideal']\n",
      " ['1.913337705' '69.30724639' '1.0' '18.931951556663638' 'Peso Ideal']\n",
      " ['1.456048343' '69.34233711' '0.0' '32.70746505846673'\n",
      "  'Obesidade Grau I']]\n"
     ]
    }
   ],
   "source": [
    "cat = []\n",
    "for i in np_array:\n",
    "    if i[3] <16:\n",
    "        cat.append('Baixo peso Grau III')\n",
    "    elif i[3] <17:\n",
    "        cat.append('Baixo peso Grau II')\n",
    "    elif i[3] <18.5:\n",
    "        cat.append('Baixo peso Grau I')\n",
    "    elif i[3] <25:\n",
    "        cat.append('Peso Ideal')\n",
    "    elif i[3] <30:\n",
    "        cat.append('Sobrepeso')\n",
    "    elif i[3] <35:\n",
    "        cat.append('Obesidade Grau I')\n",
    "    elif i[3] <40:\n",
    "        cat.append('Obesidade Grau II')\n",
    "    else :\n",
    "        cat.append('Obesidade Grau III')\n",
    "cat = np.array(cat)\n",
    "\n",
    "tab = np.append(np_array, cat.reshape(-1, 1), axis=1)\n",
    "print(tab)"
   ]
  },
  {
   "cell_type": "code",
   "execution_count": 97,
   "id": "e0e79c93",
   "metadata": {},
   "outputs": [
    {
     "data": {
      "text/plain": [
       "array([['1.788810693', '65.64810194', '0.0', '20.51603396583262',\n",
       "        'Peso ideal'],\n",
       "       ['1.566784434', '76.64276798', '0.0', '31.221422379708287',\n",
       "        'Obesidade Grau I'],\n",
       "       ['2.092193055', '55.46818533', '1.0', '12.671862320992751',\n",
       "        'Baixo peso Grau III'],\n",
       "       ['1.782470917', '67.28199736', '1.0', '21.176489656761625',\n",
       "        'Peso ideal'],\n",
       "       ['1.735766977', '69.28900763', '0.0', '22.997546096415384',\n",
       "        'Peso ideal'],\n",
       "       ['1.686974648', '56.84005114', '0.0', '19.972726177686557',\n",
       "        'Peso ideal'],\n",
       "       ['1.797104633', '65.20897328', '1.0', '20.191130448388307',\n",
       "        'Peso ideal'],\n",
       "       ['1.187349055', '48.16476395', '0.0', '34.1643068868657',\n",
       "        'Obesidade Grau I'],\n",
       "       ['1.595891436', '45.41064814', '1.0', '17.82998641150157',\n",
       "        'Baixo peso Grau I'],\n",
       "       ['1.396281776', '67.93011334', '0.0', '34.843052856738055',\n",
       "        'Obesidade Grau I'],\n",
       "       ['1.606148165', '67.7196041', '0.0', '26.250839625439873',\n",
       "        'Sobrepeso'],\n",
       "       ['1.707589967', '45.60933262', '0.0', '15.64179279721665',\n",
       "        'Baixo peso Grau III'],\n",
       "       ['1.735513116', '64.84545151', '0.0', '21.528993081895386',\n",
       "        'Peso ideal'],\n",
       "       ['1.672055182', '39.7059515', '1.0', '14.202159817759687',\n",
       "        'Baixo peso Grau III'],\n",
       "       ['1.723377069', '50.05888021', '1.0', '16.854679960126635',\n",
       "        'Baixo peso Grau II'],\n",
       "       ['1.684574272', '56.54508738', '1.0', '19.925744279104176',\n",
       "        'Peso ideal'],\n",
       "       ['1.73325893', '37.51218759', '0.0', '12.486637350889131',\n",
       "        'Baixo peso Grau III'],\n",
       "       ['1.757899659', '57.36242239', '0.0', '18.562621928147266',\n",
       "        'Peso ideal'],\n",
       "       ['1.913337705', '69.30724639', '1.0', '18.931951556663638',\n",
       "        'Peso ideal'],\n",
       "       ['1.456048343', '69.34233711', '0.0', '32.70746505846673',\n",
       "        'Obesidade Grau I']], dtype='<U32')"
      ]
     },
     "execution_count": 97,
     "metadata": {},
     "output_type": "execute_result"
    }
   ],
   "source": [
    "def imc_calculate(imc: int) -> np.array:\n",
    "    if imc < 16:\n",
    "        return np.array(\"Baixo peso Grau III\", dtype='<U32')\n",
    "    elif 16 <= imc < 17:\n",
    "        return np.array(\"Baixo peso Grau II\", dtype='<U32')\n",
    "    elif 17 <= imc < 18.5:\n",
    "        return np.array(\"Baixo peso Grau I\", dtype='<U32')\n",
    "    elif 18.5 <= imc < 24.5:\n",
    "        return np.array(\"Peso ideal\", dtype='<U32')\n",
    "    elif 24.5 <= imc < 30:\n",
    "        return np.array(\"Sobrepeso\", dtype='<U32')\n",
    "    elif 30 <= imc < 35:\n",
    "        return np.array(\"Obesidade Grau I\", dtype='<U32')\n",
    "    elif 35 <= imc < 40:\n",
    "        return np.array(\"Obesidade Grau II\", dtype='<U32')\n",
    "    elif imc >= 40:\n",
    "        return np.array(\"Obesidade Grau III\", dtype='<U32')\n",
    "\n",
    "nova_tabela = matriz_imc[:, 1]/np.power(matriz_imc[:, 0], 2)\n",
    "nova_tabela = np.column_stack([matriz_imc, nova_tabela])\n",
    "\n",
    "categorias = np.apply_along_axis(imc_calculate, 1, nova_tabela[:, -1].reshape(-1, 1))\n",
    "nova_tabela = np.column_stack([nova_tabela, categorias])\n",
    "del categorias\n",
    "nova_tabela"
   ]
  },
  {
   "cell_type": "markdown",
   "id": "a098d472",
   "metadata": {},
   "source": [
    "### Tipos de dados"
   ]
  },
  {
   "cell_type": "markdown",
   "id": "df4dff6f",
   "metadata": {},
   "source": [
    "Primeiro vamos falar do infinito (e além).\n",
    "\n",
    "Quando fazemos operações de ponto flutuante no computador, existe um padrão técnico (definido pela IEEE, o Instituto de Engenheiros Eletro-eletrônicos) que define algumas coisas que uma biblioteca tem que ter.\n",
    "\n",
    "Especificamente, aqui vamos falar de duas coisas:\n",
    "- Not a Number (NAN)\n",
    "- Infinito"
   ]
  },
  {
   "cell_type": "code",
   "execution_count": 98,
   "id": "9b952e58",
   "metadata": {},
   "outputs": [
    {
     "ename": "ZeroDivisionError",
     "evalue": "division by zero",
     "output_type": "error",
     "traceback": [
      "\u001b[1;31m---------------------------------------------------------------------------\u001b[0m",
      "\u001b[1;31mZeroDivisionError\u001b[0m                         Traceback (most recent call last)",
      "\u001b[1;32m~\\AppData\\Local\\Temp\\ipykernel_8332\\4062434237.py\u001b[0m in \u001b[0;36m<module>\u001b[1;34m\u001b[0m\n\u001b[0;32m      1\u001b[0m \u001b[1;31m# Not a Number é o resultado de operações inválidas.\u001b[0m\u001b[1;33m\u001b[0m\u001b[1;33m\u001b[0m\u001b[0m\n\u001b[0;32m      2\u001b[0m \u001b[1;31m# Embora ele exista no Python, operações inválidas tendem a levantar um erro.\u001b[0m\u001b[1;33m\u001b[0m\u001b[1;33m\u001b[0m\u001b[0m\n\u001b[1;32m----> 3\u001b[1;33m \u001b[1;36m0\u001b[0m\u001b[1;33m/\u001b[0m\u001b[1;36m0\u001b[0m\u001b[1;33m\u001b[0m\u001b[1;33m\u001b[0m\u001b[0m\n\u001b[0m",
      "\u001b[1;31mZeroDivisionError\u001b[0m: division by zero"
     ]
    }
   ],
   "source": [
    "# Not a Number é o resultado de operações inválidas.\n",
    "# Embora ele exista no Python, operações inválidas tendem a levantar um erro.\n",
    "0/0"
   ]
  },
  {
   "cell_type": "code",
   "execution_count": 99,
   "id": "7cd1a71f",
   "metadata": {},
   "outputs": [
    {
     "data": {
      "text/plain": [
       "nan"
      ]
     },
     "execution_count": 99,
     "metadata": {},
     "output_type": "execute_result"
    }
   ],
   "source": [
    "# Para usá-lo no python, temos que converter string para float.\n",
    "float('NaN')"
   ]
  },
  {
   "cell_type": "code",
   "execution_count": 100,
   "id": "2ed080c8",
   "metadata": {},
   "outputs": [
    {
     "name": "stdout",
     "output_type": "stream",
     "text": [
      "nan\n",
      "<class 'float'>\n"
     ]
    }
   ],
   "source": [
    "# No numpy, temos o objeto nan.\n",
    "print(np.nan)\n",
    "print(type(np.nan))"
   ]
  },
  {
   "cell_type": "code",
   "execution_count": 101,
   "id": "2e9e1480",
   "metadata": {},
   "outputs": [
    {
     "name": "stdout",
     "output_type": "stream",
     "text": [
      "[0.5 0.  0.5 nan]\n"
     ]
    },
    {
     "name": "stderr",
     "output_type": "stream",
     "text": [
      "C:\\Users\\nagamatu\\AppData\\Local\\Temp\\ipykernel_8332\\1780719695.py:5: RuntimeWarning: invalid value encountered in true_divide\n",
      "  print(x1 / x2)\n"
     ]
    }
   ],
   "source": [
    "# Já no numpy, operações inválidas retornam NaN mesmo.\n",
    "x1 = np.array([1, 0, 1, 0])\n",
    "x2 = np.array([2, 1, 2, 0])\n",
    "\n",
    "print(x1 / x2)"
   ]
  },
  {
   "cell_type": "code",
   "execution_count": 102,
   "id": "14ff5b7f",
   "metadata": {},
   "outputs": [
    {
     "ename": "ZeroDivisionError",
     "evalue": "division by zero",
     "output_type": "error",
     "traceback": [
      "\u001b[1;31m---------------------------------------------------------------------------\u001b[0m",
      "\u001b[1;31mZeroDivisionError\u001b[0m                         Traceback (most recent call last)",
      "\u001b[1;32m~\\AppData\\Local\\Temp\\ipykernel_8332\\3186045688.py\u001b[0m in \u001b[0;36m<module>\u001b[1;34m\u001b[0m\n\u001b[0;32m      1\u001b[0m \u001b[1;31m# \"Infinito\", no padrão, pode ser pensado como um número que é maior que qualquer outro número.\u001b[0m\u001b[1;33m\u001b[0m\u001b[1;33m\u001b[0m\u001b[0m\n\u001b[0;32m      2\u001b[0m \u001b[1;31m# No caso de \"-infinito\", temos um número que é menor que qualquer outro número.\u001b[0m\u001b[1;33m\u001b[0m\u001b[1;33m\u001b[0m\u001b[0m\n\u001b[1;32m----> 3\u001b[1;33m \u001b[1;36m1\u001b[0m\u001b[1;33m/\u001b[0m\u001b[1;36m0\u001b[0m\u001b[1;33m\u001b[0m\u001b[1;33m\u001b[0m\u001b[0m\n\u001b[0m",
      "\u001b[1;31mZeroDivisionError\u001b[0m: division by zero"
     ]
    }
   ],
   "source": [
    "# \"Infinito\", no padrão, pode ser pensado como um número que é maior que qualquer outro número.\n",
    "# No caso de \"-infinito\", temos um número que é menor que qualquer outro número.\n",
    "1/0"
   ]
  },
  {
   "cell_type": "code",
   "execution_count": 103,
   "id": "5fada44a",
   "metadata": {},
   "outputs": [
    {
     "name": "stdout",
     "output_type": "stream",
     "text": [
      "inf\n",
      "True\n",
      "True\n"
     ]
    }
   ],
   "source": [
    "print(float('inf'))\n",
    "print(float('inf') > 293818943824723984.928)\n",
    "print(-float('inf') < -293818943824723984.928)"
   ]
  },
  {
   "cell_type": "code",
   "execution_count": 104,
   "id": "5d5c065e",
   "metadata": {},
   "outputs": [
    {
     "name": "stdout",
     "output_type": "stream",
     "text": [
      "inf\n",
      "True\n",
      "True\n",
      "<class 'float'>\n"
     ]
    }
   ],
   "source": [
    "# No Numpy, não seria diferente.\n",
    "print(np.inf)\n",
    "print(np.inf > 293818943824723984.928)\n",
    "print(-np.inf < -293818943824723984.928)\n",
    "print(type(np.inf))"
   ]
  },
  {
   "cell_type": "code",
   "execution_count": 105,
   "id": "2d1714ff",
   "metadata": {
    "scrolled": true
   },
   "outputs": [
    {
     "name": "stdout",
     "output_type": "stream",
     "text": [
      "[ 2. inf  2. nan]\n"
     ]
    },
    {
     "name": "stderr",
     "output_type": "stream",
     "text": [
      "C:\\Users\\nagamatu\\AppData\\Local\\Temp\\ipykernel_8332\\1085014809.py:5: RuntimeWarning: divide by zero encountered in true_divide\n",
      "  print(x2 / x1)\n",
      "C:\\Users\\nagamatu\\AppData\\Local\\Temp\\ipykernel_8332\\1085014809.py:5: RuntimeWarning: invalid value encountered in true_divide\n",
      "  print(x2 / x1)\n"
     ]
    }
   ],
   "source": [
    "# No numpy, algumas operações podem gerar infinitos.\n",
    "x1 = np.array([1, 0, 1, 0])\n",
    "x2 = np.array([2, 1, 2, 0])\n",
    "\n",
    "print(x2 / x1)"
   ]
  },
  {
   "cell_type": "markdown",
   "id": "2fa8e736",
   "metadata": {},
   "source": [
    "Notou que tanto infinito quanto NaN são do tipo \"float\"? Não são float64, nem float32, nem anda assim.\n",
    "\n",
    "Isso é devido à hierarquia de dtypes do numpy.\n",
    "\n",
    "![hierarchy](https://numpy.org/doc/stable/_images/dtype-hierarchy.png)"
   ]
  }
 ],
 "metadata": {
  "kernelspec": {
   "display_name": "Python 3 (ipykernel)",
   "language": "python",
   "name": "python3"
  },
  "language_info": {
   "codemirror_mode": {
    "name": "ipython",
    "version": 3
   },
   "file_extension": ".py",
   "mimetype": "text/x-python",
   "name": "python",
   "nbconvert_exporter": "python",
   "pygments_lexer": "ipython3",
   "version": "3.9.13"
  },
  "vscode": {
   "interpreter": {
    "hash": "7f52069df51f55474cef70a04f6de2c8e83f851022777c4983d9d0bb63ea6184"
   }
  }
 },
 "nbformat": 4,
 "nbformat_minor": 5
}
