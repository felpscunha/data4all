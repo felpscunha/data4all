{
 "cells": [
  {
   "cell_type": "markdown",
   "id": "615f2026",
   "metadata": {
    "id": "615f2026"
   },
   "source": [
    "# Exercícios - Estatística"
   ]
  },
  {
   "cell_type": "markdown",
   "id": "b3fd867e",
   "metadata": {
    "id": "b3fd867e"
   },
   "source": [
    "### Questão 1"
   ]
  },
  {
   "cell_type": "markdown",
   "id": "1a47d0ed",
   "metadata": {
    "id": "1a47d0ed"
   },
   "source": [
    "Uma relação bem importante entre uma população e uma amostra, é que uma amostra pode ser significativa daquela população (ou seja, podemos inferir que a média e variância da amostra será bem próximo do valor real da população), isto quando essa amostra for grande o suficiente para isso. Vamos fazer algumas simulações utilizando o _Python_ para testar esses conceitos, resolvendo os itens a seguir:\n",
    "\n",
    "__A)__ Crie uma lista com número aleatórios entre 20 e 50 e que essa lista contenha 1 milhão de elementos;\n",
    "\n",
    "__B)__ Calcule a média e a variância para essa lista;\n",
    "\n",
    "__C)__ Faça amostra aleatórias de diversos tamanhos (10, 100, 1.000 e 10.000 elementos) e calcule as mesmas métricas que o item anterior, para avaliar o conceito proposto no enunciado"
   ]
  },
  {
   "cell_type": "code",
   "execution_count": 1,
   "id": "512b7e98",
   "metadata": {},
   "outputs": [],
   "source": [
    "import numpy as np \n",
    "import pandas as pd"
   ]
  },
  {
   "cell_type": "code",
   "execution_count": 2,
   "id": "0e93f872",
   "metadata": {
    "id": "0e93f872"
   },
   "outputs": [
    {
     "data": {
      "text/plain": [
       "[45, 25, 20, 29, 25]"
      ]
     },
     "execution_count": 2,
     "metadata": {},
     "output_type": "execute_result"
    }
   ],
   "source": [
    "# A)\n",
    "np.random.seed(51)\n",
    "A = list(np.random.randint(20, 50, 1000000))\n",
    "A[:5]"
   ]
  },
  {
   "cell_type": "code",
   "execution_count": 5,
   "id": "321cd882",
   "metadata": {},
   "outputs": [
    {
     "name": "stdout",
     "output_type": "stream",
     "text": [
      "A média da lista é: 34.51.\n",
      "A variância da lista é: 74.82.\n"
     ]
    }
   ],
   "source": [
    "# B)\n",
    "print(f'A média da lista é: {np.round(np.mean(A), 2)}.')\n",
    "print(f'A variância da lista é: {np.round(np.var(A), 2)}.')"
   ]
  },
  {
   "cell_type": "code",
   "execution_count": 6,
   "id": "2774861a",
   "metadata": {},
   "outputs": [
    {
     "name": "stdout",
     "output_type": "stream",
     "text": [
      "Amostra com 10 elementos\n",
      "Média:      29.6\n",
      "Variância:  90.84\n",
      "=================================\n",
      "Amostra com 100 elementos\n",
      "Média:      35.4\n",
      "Variância:  89.8\n",
      "=================================\n",
      "Amostra com 1000 elementos\n",
      "Média:      34.38\n",
      "Variância:  79.29\n",
      "=================================\n",
      "Amostra com 10000 elementos\n",
      "Média:      34.56\n",
      "Variância:  73.6\n",
      "=================================\n"
     ]
    }
   ],
   "source": [
    "# C)\n",
    "\n",
    "# Import da biblioteca random para os samples\n",
    "import random\n",
    "\n",
    "# Cria uma lista com os diversos tamanhos de amostras\n",
    "n_amostras = [10, 100, 1000, 10000]\n",
    "\n",
    "# Loop para fazer a amostra aleatória e calcular as métricas\n",
    "for n in n_amostras:\n",
    "    amostra = list(random.sample(A, n))\n",
    "    print(f'Amostra com {n} elementos')\n",
    "    print('Média:     ', np.round(np.mean(amostra),2))\n",
    "    print('Variância: ', np.round(np.var(amostra),2))\n",
    "    print('=================================')"
   ]
  },
  {
   "cell_type": "markdown",
   "id": "3502aea3",
   "metadata": {
    "id": "3502aea3"
   },
   "source": [
    "### Questão 2"
   ]
  },
  {
   "cell_type": "markdown",
   "id": "97416ea6",
   "metadata": {
    "id": "97416ea6"
   },
   "source": [
    "Neste exercício vamos demonstrar a importância de uma amostragem estratificada quando temos grupos significantes dentro da população. Faça os seguintes itens:\n",
    "\n",
    "__A)__ Crie 3 listas de números aleatórios sendo elas:\n",
    "    - uma lista com números aleatórios entre 40 e 50 contendo 10.000 elementos;\n",
    "    - uma lista com números aleatórios entre 10 e 20 contendo 6.000 elementos;\n",
    "    - uma lista com números aleatórios entre 80 e 90 contendo 4.000 elementos.\n",
    "    \n",
    "__B)__ Calcule a média e a variância para cada uma das 3 listas;\n",
    "\n",
    "__C)__ Calcule a média e a variância para a população, onde a população seja as 3 listas juntas;\n",
    "\n",
    "__Dica.:__ Neste caso, temos que trabalhar com média e variância ponderada!\n",
    "\n",
    "__D)__ Una as 3 listas em uma só e retire uma amostra de 1% da lista resultante. Calcule a média e a variância para esta amostra;\n",
    "\n",
    "__E)__ Por fim, faça uma amostra estratificada da seguinte forma: faça uma amostra aleatória de 1% de cada uma das 3 listas e em seguida calcule a média e a variância para a amostra estratificada (será necessário utilizar a média e variância ponderada!).\n",
    "\n",
    "__F)__ Compare o resultado das métricas para a amostra e a amostra estratificada com o valor das métricas da população."
   ]
  },
  {
   "cell_type": "code",
   "execution_count": 9,
   "id": "1c9c311d",
   "metadata": {},
   "outputs": [
    {
     "name": "stdout",
     "output_type": "stream",
     "text": [
      "A média da lista 1, 2 e 3 são, respectivamente: (44.47, 14.48, 84.5).\n",
      "A variância da lista 1 é: (8.24, 8.18, 8.28).\n",
      "A média da população é: 35.47.\n",
      "A variância da população é: 24.69.\n"
     ]
    }
   ],
   "source": [
    "np.random.seed(51)\n",
    "# A)\n",
    "\n",
    "lista1 = list(np.random.randint(40, 50, 10000))\n",
    "lista2 = list(np.random.randint(10, 20, 6000))\n",
    "lista3 = list(np.random.randint(80, 90, 4000))\n",
    "\n",
    "# B)\n",
    "\n",
    "print(f'A média da lista 1, 2 e 3 são, respectivamente: {np.round(np.mean(lista1), 2), np.round(np.mean(lista2), 2), np.round(np.mean(lista3), 2)}.')\n",
    "print(f'A variância da lista 1 é: {np.round(np.var(lista1), 2), np.round(np.var(lista2), 2), np.round(np.var(lista3), 2)}.')\n",
    "\n",
    "# C) \n",
    "\n",
    "populacao = lista1 + lista2 + lista3\n",
    "\n",
    "# pesos\n",
    "p1 = len(lista1)/len(populacao)\n",
    "p2 = len(lista2)/len(populacao)\n",
    "p3 = len(lista3)/len(populacao)\n",
    "\n",
    "# média ponderada\n",
    "\n",
    "media_populacao = p1*np.mean(lista1) + p2*np.mean(lista2) + p3*np.mean(lista1)\n",
    "var_populacao = np.var(lista1) + np.var(lista2) + np.var(lista3)\n",
    "\n",
    "print(f'A média da população é: {np.round(media_populacao, 2)}.')\n",
    "print(f'A variância da população é: {np.round(var_populacao, 2)}.')"
   ]
  },
  {
   "cell_type": "code",
   "execution_count": 10,
   "id": "8e5f8bc9",
   "metadata": {},
   "outputs": [
    {
     "data": {
      "text/plain": [
       "20000"
      ]
     },
     "execution_count": 10,
     "metadata": {},
     "output_type": "execute_result"
    }
   ],
   "source": [
    "# D)\n",
    "\n",
    "len(populacao)"
   ]
  },
  {
   "cell_type": "code",
   "execution_count": 11,
   "id": "213a2dc6",
   "metadata": {},
   "outputs": [
    {
     "name": "stdout",
     "output_type": "stream",
     "text": [
      "A média da população é: 43.94.\n",
      "A variância da população é: 577.51.\n"
     ]
    }
   ],
   "source": [
    "amostra_pop = list(random.sample(populacao, 200))\n",
    "\n",
    "print(f'A média da população é: {np.round(np.mean(amostra_pop), 2)}.')\n",
    "print(f'A variância da população é: {np.round(np.var(amostra_pop), 2)}.')"
   ]
  },
  {
   "cell_type": "code",
   "execution_count": 12,
   "id": "a8292c34",
   "metadata": {},
   "outputs": [
    {
     "name": "stdout",
     "output_type": "stream",
     "text": [
      "Amostra 1 com 100 elementos\n",
      "Média:      44.3\n",
      "Variância:  8.63\n",
      "=================================\n",
      "Amostra 2 com 60 elementos\n",
      "Média:      14.63\n",
      "Variância:  6.4\n",
      "=================================\n",
      "Amostra 3 com 40 elementos\n",
      "Média:      83.8\n",
      "Variância:  8.61\n",
      "=================================\n"
     ]
    }
   ],
   "source": [
    "# E)\n",
    "\n",
    "# Amostra 1\n",
    "# Define a amostra de uma população\n",
    "amostra1 = list(random.sample(lista1, 100))\n",
    "\n",
    "# Metricas amostra 1\n",
    "mean_amostra1 = np.round(np.mean(amostra1),2)\n",
    "var_amostra1 = np.round(np.var(amostra1),2)\n",
    "\n",
    "# Print das metricas da amostra\n",
    "print('Amostra 1 com {} elementos'.format(100))\n",
    "print('Média:     ', mean_amostra1)\n",
    "print('Variância: ', var_amostra1)\n",
    "print('=================================')\n",
    "\n",
    "# Amostra 2\n",
    "# Define a amostra de uma população\n",
    "amostra2 = list(random.sample(lista2, 60))\n",
    "\n",
    "# Metricas amostra 1\n",
    "mean_amostra2 = np.round(np.mean(amostra2),2)\n",
    "var_amostra2 = np.round(np.var(amostra2),2)\n",
    "\n",
    "# Print das metricas da amostra\n",
    "print('Amostra 2 com {} elementos'.format(60))\n",
    "print('Média:     ', mean_amostra2)\n",
    "print('Variância: ', var_amostra2)\n",
    "print('=================================')\n",
    "\n",
    "# Amostra3\n",
    "# Define a amostra de uma população\n",
    "amostra3 = list(random.sample(lista3, 40))\n",
    "\n",
    "# Metricas amostra 1\n",
    "mean_amostra3 = np.round(np.mean(amostra3),2)\n",
    "var_amostra3 = np.round(np.var(amostra3),2)\n",
    "\n",
    "# Print das metricas da amostra\n",
    "print('Amostra 3 com {} elementos'.format(40))\n",
    "print('Média:     ', mean_amostra3)\n",
    "print('Variância: ', var_amostra3)\n",
    "print('=================================')"
   ]
  },
  {
   "cell_type": "code",
   "execution_count": 13,
   "id": "bcbabc55",
   "metadata": {},
   "outputs": [
    {
     "name": "stdout",
     "output_type": "stream",
     "text": [
      "Métricas da Amostra total: \n",
      "Amostra com 200 elementos\n",
      "Média Ponderada:      43.299\n",
      "Variância Ponderada:  23.64\n"
     ]
    }
   ],
   "source": [
    "# F)\n",
    "\n",
    "# Média Ponderada das listas\n",
    "mean_amostra_N = p1*mean_amostra1 + p2*mean_amostra2 + p3*mean_amostra3\n",
    "\n",
    "# Variância Ponderada das listas\n",
    "var_amostra_N = var_amostra1 + var_amostra2 + var_amostra3\n",
    "\n",
    "# Print das métricas da população\n",
    "print('Métricas da Amostra total: ')\n",
    "print('Amostra com {} elementos'.format(200))\n",
    "print('Média Ponderada:     ', mean_amostra_N)\n",
    "print('Variância Ponderada: ', var_amostra_N)\n",
    "\n",
    "# Percebe-se que a amostragem estratificada foi melhor do que a amostragem simples! Visto que há diferenças entre os grupos estudados"
   ]
  },
  {
   "cell_type": "markdown",
   "id": "2e3a7b3a",
   "metadata": {
    "id": "2e3a7b3a"
   },
   "source": [
    "### Questão 3"
   ]
  },
  {
   "cell_type": "markdown",
   "id": "8d8b9db9",
   "metadata": {
    "id": "8d8b9db9"
   },
   "source": [
    " Uma máquina de sorvete está regulada de modo a servir uma média de 120g por casquinha. Se a quantidade servida por casquinha seguir uma distribuição normal com desvio padrão de 18g, determine a porcentagem de casquinhas que conterão mais de 150g de sorvete."
   ]
  },
  {
   "cell_type": "code",
   "execution_count": 17,
   "id": "ac16247d",
   "metadata": {},
   "outputs": [],
   "source": [
    "import scipy.stats as st\n",
    "import numpy as np"
   ]
  },
  {
   "cell_type": "code",
   "execution_count": 19,
   "id": "3b3ff14e",
   "metadata": {
    "id": "3b3ff14e"
   },
   "outputs": [
    {
     "name": "stdout",
     "output_type": "stream",
     "text": [
      "A probabilidade de ter mais que 150g é igual a: 4.78 %\n"
     ]
    }
   ],
   "source": [
    "media = 120\n",
    "desvio = 18\n",
    "X = 150\n",
    "\n",
    "Z = (X - media) / desvio\n",
    "\n",
    "print('A probabilidade de ter mais que 150g é igual a:', np.round((1 - st.norm.cdf(Z))*100, 2),'%')"
   ]
  },
  {
   "cell_type": "markdown",
   "id": "18951732",
   "metadata": {
    "id": "18951732"
   },
   "source": [
    "### Questão 4"
   ]
  },
  {
   "cell_type": "markdown",
   "id": "91d33a4a",
   "metadata": {
    "id": "91d33a4a"
   },
   "source": [
    "O peso médio de 500 estudantes do sexo masculino de uma determinada universidade é 71 Kg e o desvio padrão é 5,3 Kg. Admitindo que os pesos são normalmente distribuídos, determine a porcentagem de estudantes que pesam entre 65 e 72,5 kg"
   ]
  },
  {
   "cell_type": "code",
   "execution_count": 22,
   "id": "9dcf53ee",
   "metadata": {
    "id": "9dcf53ee"
   },
   "outputs": [
    {
     "name": "stdout",
     "output_type": "stream",
     "text": [
      "A probabilidade de ter mais que 62.5 kg e menos 72.5 kg é igual a: 48.26 %\n"
     ]
    }
   ],
   "source": [
    "n = 500\n",
    "media = 71 \n",
    "desvio = 5.3\n",
    "\n",
    "x1 = 65\n",
    "x2 = 72.5\n",
    "\n",
    "z1 = (x1 - media) / desvio\n",
    "z2 = (x2 - media) / desvio\n",
    "\n",
    "print('A probabilidade de ter mais que 62.5 kg e menos 72.5 kg é igual a:', np.round((st.norm.cdf(z2))*100 - st.norm.cdf(z1)*100, 2),'%')"
   ]
  },
  {
   "cell_type": "markdown",
   "id": "49a54c36",
   "metadata": {
    "id": "49a54c36"
   },
   "source": [
    "### Questão 5"
   ]
  },
  {
   "cell_type": "markdown",
   "id": "ad7af421",
   "metadata": {
    "id": "ad7af421"
   },
   "source": [
    "Uma fábrica anuncia que o índice de cafeína em um refrigerante de uma dada marca é igual a 20 mg por lata. Um laboratório realiza 20 análises do índice obtendo: 22, 19, 21, 22, 20, 18, 27, 20, 21, 19, 20, 22, 17, 20, 21,18, 25, 16, 20, 21. Sabe-se que o índice de cafeína do refrigerante dessa marca se distribui normalmente com variância 4 mg$^2$. Pode-se aceitar a afirmação do fabricante, ao nível de 5%?"
   ]
  },
  {
   "cell_type": "code",
   "execution_count": 21,
   "id": "64365b64",
   "metadata": {},
   "outputs": [
    {
     "name": "stdout",
     "output_type": "stream",
     "text": [
      "Xc= 38.25543670620876   Xobs =  34.4\n",
      "Aceitamos H0\n"
     ]
    }
   ],
   "source": [
    "# h0 = 20 \n",
    "# h1 > 20\n",
    "\n",
    "h0 = 35\n",
    "desvio = 2\n",
    "n = len([[37, 34, 36, 37, 35, 32, 30, 35, 34, 36, 39, 38, 34, 35, 31, 30, 33, 35, 36, 31]])\n",
    "media = np.mean([37, 34, 36, 37, 35, 32, 30, 35, 34, 36, 39, 38, 34, 35, 31, 30, 33, 35, 36, 31])\n",
    "alfa = 95\n",
    "z = 1.96\n",
    "\n",
    "Xm = [] # distribuição da média amostral\n",
    "\n",
    "# loop para gerar diversas amostras para o nosso teste\n",
    "for s in range(1, 1000):\n",
    "    x = np.random.normal(h0, desvio, n) # sorteia uma amostra de tamanho n\n",
    "    Xm.append(np.mean(x))\n",
    "\n",
    "# Valor Crítico\n",
    "xc = np.percentile(Xm, alfa)\n",
    "print('Xc=', xc, '  Xobs = ', media)\n",
    "\n",
    "# Verifica se acieta ou rejeita H0\n",
    "if(media < xc):\n",
    "    print(\"Aceitamos H0\")\n",
    "else:\n",
    "    print(\"Rejeitamos H0\")"
   ]
  },
  {
   "cell_type": "code",
   "execution_count": 13,
   "id": "9d259619",
   "metadata": {},
   "outputs": [],
   "source": [
    "import pandas as pd\n",
    "import numpy as np\n",
    "from scipy.stats import norm\n",
    "from scipy.stats import t"
   ]
  },
  {
   "cell_type": "code",
   "execution_count": 5,
   "id": "3d937cc8",
   "metadata": {},
   "outputs": [
    {
     "data": {
      "text/plain": [
       "0.015789473684210527"
      ]
     },
     "execution_count": 5,
     "metadata": {},
     "output_type": "execute_result"
    }
   ],
   "source": [
    "\n",
    "(2/20)*(3/19)"
   ]
  },
  {
   "cell_type": "code",
   "execution_count": 9,
   "id": "dc730e11",
   "metadata": {},
   "outputs": [
    {
     "name": "stdout",
     "output_type": "stream",
     "text": [
      "0.5787316722836195\n",
      "0.42153427145388245\n",
      "0.42153427145388245\n"
     ]
    }
   ],
   "source": [
    "from scipy.stats import binom\n",
    "\n",
    "n = 30\n",
    "p = 0.4\n",
    "k = [0, 1, 2, 3, 4, 5, 6, 7, 8, 9, 10, 11, 12]\n",
    "\n",
    "#Calculando cada parcela\n",
    "print(binom.pmf(0,  n, p) + binom.pmf(1,  n, p) + binom.pmf(2,  n, p)+ binom.pmf(3,  n, p) + binom.pmf(3,  n, p) + binom.pmf(4,  n, p) + binom.pmf(5,  n, p)+ binom.pmf(6,  n, p) + binom.pmf(7,  n, p) + binom.pmf(8,  n, p) + binom.pmf(9,  n, p)+ binom.pmf(10,  n, p) + binom.pmf(11,  n, p)+ binom.pmf(12,  n, p) )\n",
    "\n",
    "#Utilizando a função cdf (acumulado do menor até um certo valor)\n",
    "print(1 - binom.cdf(12, n, p)) #usando o complementar\n",
    "\n",
    "#Utilizando a função sf\n",
    "print(binom.sf(12, n, p))"
   ]
  },
  {
   "cell_type": "code",
   "execution_count": 10,
   "id": "57bf2ab3",
   "metadata": {},
   "outputs": [],
   "source": [
    "gravida = 0.6\n",
    "n_gravida = 1 - gravida\n",
    "TP = 0.96\n",
    "FN = 0.04\n",
    "FP = 0.01\n",
    "TN = 0.99\n",
    "\n",
    "Q1 = gravida*TP / (gravida*TP + n_gravida*FP)"
   ]
  },
  {
   "cell_type": "code",
   "execution_count": 11,
   "id": "5413f732",
   "metadata": {},
   "outputs": [
    {
     "data": {
      "text/plain": [
       "0.993103448275862"
      ]
     },
     "execution_count": 11,
     "metadata": {},
     "output_type": "execute_result"
    }
   ],
   "source": [
    "Q1"
   ]
  },
  {
   "cell_type": "code",
   "execution_count": 15,
   "id": "1e2ee2ce",
   "metadata": {},
   "outputs": [
    {
     "data": {
      "text/plain": [
       "0.10564977366685535"
      ]
     },
     "execution_count": 15,
     "metadata": {},
     "output_type": "execute_result"
    }
   ],
   "source": [
    "Z = 10 / 8\n",
    "1 - norm.cdf(Z)"
   ]
  },
  {
   "cell_type": "code",
   "execution_count": 18,
   "id": "46ed53bb",
   "metadata": {},
   "outputs": [
    {
     "name": "stdout",
     "output_type": "stream",
     "text": [
      "A probabilidade de ter mais que 62.5 kg e menos 72.5 kg é igual a: 91.04 %\n"
     ]
    }
   ],
   "source": [
    "media = 7 \n",
    "desvio = 2\n",
    "\n",
    "x1 = 4\n",
    "x2 = 11\n",
    "\n",
    "z1 = (x1 - media) / desvio\n",
    "z2 = (x2 - media) / desvio\n",
    "\n",
    "print('A probabilidade de ter mais que 62.5 kg e menos 72.5 kg é igual a:', np.round((st.norm.cdf(z2))*100 - st.norm.cdf(z1)*100, 2),'%')"
   ]
  },
  {
   "cell_type": "code",
   "execution_count": 20,
   "id": "bcfbcf18",
   "metadata": {},
   "outputs": [
    {
     "data": {
      "text/plain": [
       "0.06131324019524039"
      ]
     },
     "execution_count": 20,
     "metadata": {},
     "output_type": "execute_result"
    }
   ],
   "source": [
    "n = 1440\n",
    "from scipy.stats import poisson\n",
    "\n",
    "poisson.pmf(3,1)"
   ]
  },
  {
   "cell_type": "code",
   "execution_count": null,
   "id": "320d4da2",
   "metadata": {},
   "outputs": [],
   "source": []
  }
 ],
 "metadata": {
  "colab": {
   "name": "L3 - Estatística II.ipynb",
   "provenance": []
  },
  "kernelspec": {
   "display_name": "Python 3",
   "language": "python",
   "name": "python3"
  },
  "language_info": {
   "codemirror_mode": {
    "name": "ipython",
    "version": 3
   },
   "file_extension": ".py",
   "mimetype": "text/x-python",
   "name": "python",
   "nbconvert_exporter": "python",
   "pygments_lexer": "ipython3",
   "version": "3.10.5"
  },
  "varInspector": {
   "cols": {
    "lenName": 16,
    "lenType": 16,
    "lenVar": 40
   },
   "kernels_config": {
    "python": {
     "delete_cmd_postfix": "",
     "delete_cmd_prefix": "del ",
     "library": "var_list.py",
     "varRefreshCmd": "print(var_dic_list())"
    },
    "r": {
     "delete_cmd_postfix": ") ",
     "delete_cmd_prefix": "rm(",
     "library": "var_list.r",
     "varRefreshCmd": "cat(var_dic_list()) "
    }
   },
   "types_to_exclude": [
    "module",
    "function",
    "builtin_function_or_method",
    "instance",
    "_Feature"
   ],
   "window_display": false
  },
  "vscode": {
   "interpreter": {
    "hash": "83b617c66aa9ed92efeb8629453f4b5eb61ab11a86f5ad7ba589d02897e9d812"
   }
  }
 },
 "nbformat": 4,
 "nbformat_minor": 5
}
