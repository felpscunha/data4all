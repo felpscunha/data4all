{
 "cells": [
  {
   "cell_type": "markdown",
   "id": "ab3dfefb",
   "metadata": {},
   "source": [
    "# Exercícios - Probabilidade"
   ]
  },
  {
   "cell_type": "markdown",
   "id": "65123c45",
   "metadata": {},
   "source": [
    "### Questão 1"
   ]
  },
  {
   "cell_type": "markdown",
   "id": "f36953b8",
   "metadata": {},
   "source": [
    "Um teste para COVID-19 possui uma taxa de 5% de falso positivo e 1% de falso negativo, ou seja, em 5% dos não-infectados acusa como infectados, e em 1% dos infectados acusa como não infectados. Sabendo que atualmente 1% da população está infectada, calcule a probabilidade de um paciente cujo teste apontou positivo estar realmente infectado."
   ]
  },
  {
   "cell_type": "code",
   "execution_count": 3,
   "id": "0f8a1054",
   "metadata": {},
   "outputs": [
    {
     "data": {
      "text/plain": [
       "0.16666666666666669"
      ]
     },
     "execution_count": 3,
     "metadata": {},
     "output_type": "execute_result"
    }
   ],
   "source": [
    "FP = 0.05\n",
    "FN = 0.01\n",
    "TP = 1 - FN\n",
    "TN = 1 - FP\n",
    "INFECTADOS = 0.01\n",
    "NAO_INFECTADOS = 1 - 0.01\n",
    "\n",
    "Q1 = TP*INFECTADOS / (TP*INFECTADOS + FP*NAO_INFECTADOS)\n",
    "Q1"
   ]
  },
  {
   "cell_type": "markdown",
   "id": "e1e8b03b",
   "metadata": {},
   "source": [
    "### Questão 2"
   ]
  },
  {
   "cell_type": "markdown",
   "id": "9b42655a",
   "metadata": {},
   "source": [
    "A probabilidade de dado honesto é conhecido e igual a $1/6$, mas quando vamos testar isso com um dado físico, não necessariamente vai cair uma vez cada face do dado (se eu lançar ele 6 vezes). A ideia é que conforme fazermos vários testes a tendência é que a probabilidade de cada face irá convergir pro valor esperado. \n",
    "\n",
    "Vamos testar este conceito utilizando da programação seguintes os itens abaixo:]\n",
    "\n",
    "__A)__ Desenvolva uma função que receba um valor n, onde n é a quantidade de elementos e o objetivo da função é retorna uma _Series_ com n elementos sendo esses elementos números variando de 1 e 6;\n",
    "\n",
    "__B)__ Teste a função para n igual a 10, 100, 1.000, 10.000 e 100.000 casos e para cada um deles calcule a proporção de vezes que aparece cada número;\n",
    "\n",
    "__DIca.:__ utilize a função do _Pandas_ `.value_counts`\n",
    "\n",
    "__C)__ O que podermos dizer sobre a afirmação do enunciado, a tendência é que as probabilidades irâo convergir para $1/6$?"
   ]
  },
  {
   "cell_type": "code",
   "execution_count": 18,
   "id": "200494e5",
   "metadata": {},
   "outputs": [],
   "source": [
    "import numpy as np \n",
    "import pandas as pd \n",
    "def dados(n):\n",
    "    return pd.Series(np.random.randint(1, 7, size=n))"
   ]
  },
  {
   "cell_type": "code",
   "execution_count": 21,
   "id": "77d96d39",
   "metadata": {},
   "outputs": [
    {
     "data": {
      "text/plain": [
       "4    0.3\n",
       "6    0.2\n",
       "1    0.2\n",
       "2    0.2\n",
       "3    0.1\n",
       "dtype: float64"
      ]
     },
     "execution_count": 21,
     "metadata": {},
     "output_type": "execute_result"
    }
   ],
   "source": [
    "dados(10).value_counts(normalize=True, ascending=False)"
   ]
  },
  {
   "cell_type": "code",
   "execution_count": 22,
   "id": "afc30cfa",
   "metadata": {},
   "outputs": [
    {
     "data": {
      "text/plain": [
       "4    0.20\n",
       "2    0.18\n",
       "5    0.17\n",
       "3    0.17\n",
       "6    0.15\n",
       "1    0.13\n",
       "dtype: float64"
      ]
     },
     "execution_count": 22,
     "metadata": {},
     "output_type": "execute_result"
    }
   ],
   "source": [
    "dados(100).value_counts(normalize=True, ascending=False)"
   ]
  },
  {
   "cell_type": "code",
   "execution_count": 23,
   "id": "34c392da",
   "metadata": {},
   "outputs": [
    {
     "data": {
      "text/plain": [
       "2    0.196\n",
       "5    0.173\n",
       "1    0.164\n",
       "6    0.164\n",
       "4    0.153\n",
       "3    0.150\n",
       "dtype: float64"
      ]
     },
     "execution_count": 23,
     "metadata": {},
     "output_type": "execute_result"
    }
   ],
   "source": [
    "dados(1000).value_counts(normalize=True, ascending=False)"
   ]
  },
  {
   "cell_type": "code",
   "execution_count": 24,
   "id": "19f7de2d",
   "metadata": {},
   "outputs": [
    {
     "data": {
      "text/plain": [
       "2    0.1711\n",
       "5    0.1675\n",
       "3    0.1674\n",
       "6    0.1655\n",
       "1    0.1652\n",
       "4    0.1633\n",
       "dtype: float64"
      ]
     },
     "execution_count": 24,
     "metadata": {},
     "output_type": "execute_result"
    }
   ],
   "source": [
    "dados(10000).value_counts(normalize=True, ascending=False)"
   ]
  },
  {
   "cell_type": "code",
   "execution_count": 25,
   "id": "d43746bc",
   "metadata": {},
   "outputs": [
    {
     "data": {
      "text/plain": [
       "6    0.16811\n",
       "5    0.16775\n",
       "3    0.16766\n",
       "4    0.16642\n",
       "2    0.16513\n",
       "1    0.16493\n",
       "dtype: float64"
      ]
     },
     "execution_count": 25,
     "metadata": {},
     "output_type": "execute_result"
    }
   ],
   "source": [
    "dados(100000).value_counts(normalize=True, ascending=False)"
   ]
  },
  {
   "cell_type": "code",
   "execution_count": 27,
   "id": "4d55e2da",
   "metadata": {},
   "outputs": [],
   "source": [
    "# C) Verdadeiro"
   ]
  },
  {
   "cell_type": "markdown",
   "id": "8ed593e2",
   "metadata": {},
   "source": [
    "### Questão 3"
   ]
  },
  {
   "cell_type": "markdown",
   "id": "f9102e3c",
   "metadata": {},
   "source": [
    "Na casa de Luiza e Rafael tem um pote de balas de diferentes cores. Certo dia a mamãe deles contou quantas balas tinha de cada uma das cores:\n",
    "\n",
    "- 14 balas azuis;\n",
    "- 22 balas vermelhas;\n",
    "- 17 balas amarelas.\n",
    "\n",
    "A mamãe deles deixou que cada um pegasse 3 balas começando pela Luiza e depois o Rafael. Dado isso resolva os item abaixo:\n",
    "\n",
    "__A)__ Qual a probabilidade da Luiza pegar uma bala de cada cor e o Rafael pegar 2 azuis e uma vermelha, dado que é um evento sem reposição?\n",
    "\n",
    "__B)__ Luiza decidiu ficar só com a bala amarela e devolveu as demais para o pote antes que o Rafael pegasse suas balas. Como que ficaria a probabilidade para o Rafael agora?"
   ]
  },
  {
   "cell_type": "code",
   "execution_count": 5,
   "id": "8567d548",
   "metadata": {},
   "outputs": [
    {
     "data": {
      "text/plain": [
       "0.003113207547169811"
      ]
     },
     "execution_count": 5,
     "metadata": {},
     "output_type": "execute_result"
    }
   ],
   "source": [
    "A = (14/53)*(22/52)*(17/51) * 3*((13/50)*(12/49)*(21/48))\n",
    "A"
   ]
  },
  {
   "cell_type": "code",
   "execution_count": 8,
   "id": "2fd5e591",
   "metadata": {},
   "outputs": [
    {
     "data": {
      "text/plain": [
       "0.09058823529411764"
      ]
     },
     "execution_count": 8,
     "metadata": {},
     "output_type": "execute_result"
    }
   ],
   "source": [
    "B = 3*((14/52)*(13/51)*(22/50))\n",
    "B"
   ]
  },
  {
   "cell_type": "code",
   "execution_count": 6,
   "id": "96c47548",
   "metadata": {},
   "outputs": [
    {
     "data": {
      "text/plain": [
       "0.03019607843137255"
      ]
     },
     "execution_count": 6,
     "metadata": {},
     "output_type": "execute_result"
    }
   ],
   "source": [
    "4004 / 132600"
   ]
  },
  {
   "cell_type": "markdown",
   "id": "efcd759a",
   "metadata": {},
   "source": [
    "### Questão 4"
   ]
  },
  {
   "cell_type": "markdown",
   "id": "8180ee4e",
   "metadata": {},
   "source": [
    "Um programa de computador gera uma pontuação aleatória para cada usuário, sendo que:\n",
    "\n",
    "- Em 1/2 dos casos, gera 0.5;\n",
    "- Em 1/4 dos casos, gera 0.25;\n",
    "- Em 1/8 dos casos, gera 0.125.\n",
    "\n",
    "E essa lógica segue assim por diante. Resolva os itens a seguir:\n",
    "\n",
    "__A)__ Calcule o __valor esperado__ utilizando apenas os 3 primeiros casos;\n",
    "\n",
    "__B)__ Faça um _loop_ para calcular o __valor esperado__ para 100 casos e avalie se só com os 3 primeiros casos temos uma boa aproximação ou não."
   ]
  },
  {
   "cell_type": "code",
   "execution_count": 11,
   "id": "4cb7b4f7",
   "metadata": {},
   "outputs": [
    {
     "data": {
      "text/plain": [
       "0.328125"
      ]
     },
     "execution_count": 11,
     "metadata": {},
     "output_type": "execute_result"
    }
   ],
   "source": [
    "# A) \n",
    "\n",
    "A = (1/2*0.5) + (1/4*0.25) + (1/8*0.125)\n",
    "A"
   ]
  },
  {
   "cell_type": "code",
   "execution_count": 10,
   "id": "f1f8bbe4",
   "metadata": {},
   "outputs": [
    {
     "name": "stdout",
     "output_type": "stream",
     "text": [
      "0.3333333333333333\n",
      "0.984375\n"
     ]
    }
   ],
   "source": [
    "# B)\n",
    "valor_esperado = 0\n",
    "\n",
    "for i in range(1,101):\n",
    "    valor_esperado += (1/(2**i))**(2)\n",
    "\n",
    "print(valor_esperado)\n",
    "\n",
    "#Comparando\n",
    "print(0.328125/valor_esperado)"
   ]
  },
  {
   "attachments": {},
   "cell_type": "markdown",
   "id": "967064df",
   "metadata": {},
   "source": [
    "- Os resultados tiveram uma aproximação muito boa!"
   ]
  },
  {
   "cell_type": "markdown",
   "id": "57a9dba0",
   "metadata": {},
   "source": [
    "### Questão 5"
   ]
  },
  {
   "cell_type": "markdown",
   "id": "03ce87d4",
   "metadata": {},
   "source": [
    "Em um programa de auditório, havia 3 portas (A, B, C), dentro da qual uma continha um prêmio. O participante escolheu a porta A e antes de abrir a porta o apresentador abriu a porta C, na qual não havia nada. O participante aumentará a probabilidade de acertar a porta caso mude a escolha dele da porta A para a B?"
   ]
  },
  {
   "attachments": {},
   "cell_type": "markdown",
   "id": "3765169d",
   "metadata": {},
   "source": [
    "A probabilidade do prêmio estar em uma das portas é:\n",
    "\n",
    "$$ P(A) = P(B) = P(C) = 1/3 $$\n",
    "\n",
    "Vamos, utilizar o Teorema de Bayes para resolver esse problema:\n",
    "<br><br>\n",
    "\n",
    "$$ P(premio = A | abriu = C) = \\frac{P(abriu = C | premio = A)P(A) }{P(abriu = C | premio = A)P(A) + P(abriu = C | premio = B)P(B) + P(abriu = C | premio = C)P(C) }    $$\n",
    "<br><br>\n",
    "\n",
    "Vamos ver o que são cada uma das probabilidades condicionais, dado que eu escolhi a porta A e a primeira porta aberta foi a C:\n",
    "\n",
    "- A probabilidade do prêmio agora está na porta A será $1/2$, pois o prêmio ou vai estar na porta A ou B. Dessa forma:\n",
    "<br><br>\n",
    "$$ P(abriu = C | premio = A) = 1/2 $$\n",
    "<br>\n",
    "\n",
    "- Agora imagine que o prêmio não possa estar na porta A, ou seja sobrou apenas a porta B e C. Dado que ele abriu a porta C, a probabilidade do prêmio estar na porta B é 1, pois o apresentador não vai abrir a porta do prêmio de primeira e ele também não vai abrir a porta que você escolheu. Portanto:\n",
    "<br><br>\n",
    "$$ P(abriu = C | premio = B) = 1 $$\n",
    "<br>\n",
    "\n",
    "- Por fim, a porta C não tem probabilidade nenhuma de conter o prêmio pois já foi aberta. Assim temos que:\n",
    "<br><br>\n",
    "$$ P(abriu = C | premio = C) = 0 $$\n",
    "<br><br>\n",
    "Agora basta aplicar as probabilidades calculadas acima na dedução do Teorema de Bayes para o exercício das portas:\n",
    "<br><br>\n",
    "$$ P(premio = A | abriu = C) = \\frac{(1/2)(1/3)}{(1/2)(1/3) + (1)(1/3) + (0)(1/3)} = 1/3    $$\n",
    "<br><br>\n",
    "\n",
    "O que acontece então se trocarmos de para a porta B?:\n",
    "<br><br>\n",
    "$$ P(premio = B | abriu = C) = 1 - P(premio = A | abriu = C) = 1 - 1/3 = 2/3    $$\n",
    "\n",
    "A probabilidade de acertarmos a porta se trocar será $2/3$, ou seja dobramos a probabilidade de acertar!\n",
    "    "
   ]
  },
  {
   "cell_type": "markdown",
   "id": "40146fb0",
   "metadata": {},
   "source": []
  }
 ],
 "metadata": {
  "kernelspec": {
   "display_name": "Python 3",
   "language": "python",
   "name": "python3"
  },
  "language_info": {
   "codemirror_mode": {
    "name": "ipython",
    "version": 3
   },
   "file_extension": ".py",
   "mimetype": "text/x-python",
   "name": "python",
   "nbconvert_exporter": "python",
   "pygments_lexer": "ipython3",
   "version": "3.10.5"
  },
  "varInspector": {
   "cols": {
    "lenName": 16,
    "lenType": 16,
    "lenVar": 40
   },
   "kernels_config": {
    "python": {
     "delete_cmd_postfix": "",
     "delete_cmd_prefix": "del ",
     "library": "var_list.py",
     "varRefreshCmd": "print(var_dic_list())"
    },
    "r": {
     "delete_cmd_postfix": ") ",
     "delete_cmd_prefix": "rm(",
     "library": "var_list.r",
     "varRefreshCmd": "cat(var_dic_list()) "
    }
   },
   "types_to_exclude": [
    "module",
    "function",
    "builtin_function_or_method",
    "instance",
    "_Feature"
   ],
   "window_display": false
  },
  "vscode": {
   "interpreter": {
    "hash": "83b617c66aa9ed92efeb8629453f4b5eb61ab11a86f5ad7ba589d02897e9d812"
   }
  }
 },
 "nbformat": 4,
 "nbformat_minor": 5
}
