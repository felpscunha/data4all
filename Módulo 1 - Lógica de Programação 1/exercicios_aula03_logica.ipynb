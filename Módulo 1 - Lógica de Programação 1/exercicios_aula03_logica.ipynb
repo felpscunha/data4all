{
  "nbformat": 4,
  "nbformat_minor": 0,
  "metadata": {
    "colab": {
      "provenance": []
    },
    "kernelspec": {
      "name": "python3",
      "display_name": "Python 3"
    },
    "language_info": {
      "name": "python"
    }
  },
  "cells": [
    {
      "cell_type": "markdown",
      "source": [
        "# Atividades da Aula 03 - Lógica de Programação \n",
        "- Estruturas de repetição while e for"
      ],
      "metadata": {
        "id": "8emkQ1gssmdQ"
      }
    },
    {
      "cell_type": "code",
      "execution_count": null,
      "metadata": {
        "ExecuteTime": {
          "end_time": "2023-01-16T23:24:43.323680Z",
          "start_time": "2023-01-16T23:24:43.285767Z"
        },
        "id": "70fafbe0"
      },
      "outputs": [],
      "source": [
        "# Exercicios\n",
        "# Ex1. Criar uma calculadora que leia 2 números e calcule as operacoes (+, -, *, /). É necessário ler qual\n",
        "# operação o usuário deseja efetuar, e se não for uma opção válida, ele deve ter a possibilidade\n",
        "# de escrever de novo uma opção válida 3 vezes(contando a primeira).\n",
        "\n",
        "# Ex2. Contar o numero de vogais de uma palavra lida pelo input(). Ex: apple => 2\n",
        "\n",
        "# Ex3. Crie um programa leia um número do input() e printe todos os números pares de 1 até o número fornecido."
      ]
    },
    {
      "cell_type": "code",
      "source": [
        "# Questão 1\n",
        "# Criar uma calculadora que leia 2 números e calcule as operacoes (+, -, *, /). É necessário ler qual\n",
        "# operação o usuário deseja efetuar, e se não for uma opção válida, ele deve ter a possibilidade\n",
        "# de escrever de novo uma opção válida 3 vezes(contando a primeira).\n",
        "\n",
        "count = 0\n",
        "print('Calculadora')\n",
        "print('')\n",
        "while True:\n",
        "  operacao = input('Qual operação você deseja fazer? (Digite: soma, subtracao, multiplicacao ou divisao): ').lower()\n",
        "  if operacao == 'soma' or operacao == 'subtracao' or operacao == 'multiplicacao' or operacao == 'divisao':\n",
        "    print('')\n",
        "    num1 = float(input('Digite o primeiro número: '))\n",
        "    num2 = float(input('Digite o segundo número: '))\n",
        "    if operacao == 'soma': \n",
        "      print('')\n",
        "      print(f'Soma: {num1} + {num2} = {(num1 + num2):.2f}')\n",
        "      break\n",
        "    elif operacao == 'subtracao':\n",
        "      print('')\n",
        "      print(f'Subtração: {num1} - {num2} = {(num1 - num2):.2f}')\n",
        "      print('')\n",
        "      break\n",
        "    elif operacao == 'multiplicacao':\n",
        "      print(f'Multiplicação: {num1} x {num2} = {(num1 * num2):.2f}')\n",
        "      print('')\n",
        "      break\n",
        "    elif operacao == 'divisao':\n",
        "      print(f'Divisão: {num1} / {num2} = {(num1 / num2):.2f}')\n",
        "      print('')\n",
        "      break\n",
        "  else:\n",
        "    print('Digite novamente!')\n",
        "    print('')\n",
        "    count += 1\n",
        "    if count == 3:\n",
        "      break"
      ],
      "metadata": {
        "colab": {
          "base_uri": "https://localhost:8080/"
        },
        "id": "YvKt5AVqk6HB",
        "outputId": "ad346404-acc8-4d72-8b20-da17ef8494ad"
      },
      "execution_count": null,
      "outputs": [
        {
          "output_type": "stream",
          "name": "stdout",
          "text": [
            "Calculadora\n",
            "\n",
            "Qual operação você deseja fazer? (Digite: soma, subtracao, multiplicacao ou divisao): divisao\n",
            "\n",
            "Digite o primeiro número: 30\n",
            "Digite o segundo número: 15.2\n",
            "Divisão: 30.0 / 15.2 = 1.97\n",
            "\n"
          ]
        }
      ]
    },
    {
      "cell_type": "code",
      "source": [
        "# Questão 2\n",
        "# Contar o numero de vogais de uma palavra lida pelo input(). Ex: apple => 2\n",
        "\n",
        "palavra = input('Digite uma palavra: ').lower()\n",
        "\n",
        "num_vogais = 0\n",
        "for char in palavra:\n",
        "  if char in 'aeiou':\n",
        "    num_vogais += 1\n",
        "print(f'Número de total de vogais na palavra \"{palavra}\": {num_vogais} vogais!')\n",
        "\n"
      ],
      "metadata": {
        "id": "H0eFeNNMnYjN",
        "colab": {
          "base_uri": "https://localhost:8080/"
        },
        "outputId": "f080d73a-683a-48ff-a491-bae63071aba6"
      },
      "execution_count": null,
      "outputs": [
        {
          "output_type": "stream",
          "name": "stdout",
          "text": [
            "Digite uma palavra: nem, fudendo, papai\n",
            "Número de total de vogais na palavra \"nem, fudendo, papai\": 7 vogais!\n"
          ]
        }
      ]
    },
    {
      "cell_type": "code",
      "source": [
        "# Questão 3\n",
        "# Crie um programa leia um número do input() e printe todos os números pares de 1 até o número fornecido.\n",
        "\n",
        "num = int(input('Digite um número inteiro: '))\n",
        "for i in range(1, num):\n",
        "  if i % 2 == 0:\n",
        "    print(i, end=' ')\n",
        "print(num)"
      ],
      "metadata": {
        "colab": {
          "base_uri": "https://localhost:8080/"
        },
        "id": "PS6qJV_9w83p",
        "outputId": "18a0b0a9-3f12-4a15-e65f-95d80e235182"
      },
      "execution_count": null,
      "outputs": [
        {
          "output_type": "stream",
          "name": "stdout",
          "text": [
            "Digite um número inteiro: 10\n",
            "2 4 6 8 10\n"
          ]
        }
      ]
    }
  ]
}