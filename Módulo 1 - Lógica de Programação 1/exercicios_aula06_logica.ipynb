{
  "nbformat": 4,
  "nbformat_minor": 0,
  "metadata": {
    "colab": {
      "provenance": []
    },
    "kernelspec": {
      "name": "python3",
      "display_name": "Python 3"
    },
    "language_info": {
      "name": "python"
    }
  },
  "cells": [
    {
      "cell_type": "markdown",
      "source": [
        "# Exercícios Aula 06 - Lógica de Programação \n",
        "- Funções"
      ],
      "metadata": {
        "id": "mjhougKFw-W7"
      }
    },
    {
      "cell_type": "code",
      "execution_count": null,
      "metadata": {
        "id": "a3e11b90"
      },
      "outputs": [],
      "source": [
        "# Exercicios\n",
        "# Criar uma funcao \"fatorial\" que receber um número inteiro como parâmetro e ter 1 como default. Deve retornar\n",
        "# o fatorial desse numero. Ex: fatorial(5)  ==>  120\n",
        "\n",
        "# Criar uma função \"calculadora\" que receba 3 parâmetros: 2 números a serem calculados e 1 operação (ex: \"+\").\n",
        "# A função deve retornar o valor calculado\n",
        "\n",
        "# Criar uma função \"matrix\" que tem como único parâmetro uma string de números\n",
        "# separados por \" \" (ex: \"1 2 3 4 5 6 7 8 9\").\n",
        "# Essa função deve retornar uma matrix(lista de lista)\n",
        "# ex: matrix(\"1 2 3 4 5 6 7 8 9\")   ==>   [[1, 2, 3], [4, 5, 6], [7, 8, 9]]"
      ]
    },
    {
      "cell_type": "code",
      "source": [
        "# Questão 1\n",
        "\n",
        "def fatorial(n):\n",
        "    if n == 1 or n == 1:\n",
        "        return 1\n",
        "    else:\n",
        "        return n * fatorial(n-1)\n",
        "fatorial(5)"
      ],
      "metadata": {
        "colab": {
          "base_uri": "https://localhost:8080/"
        },
        "id": "llBQwHuS6N5Y",
        "outputId": "14cbf573-1794-474c-b43c-56092dabd2ce"
      },
      "execution_count": null,
      "outputs": [
        {
          "output_type": "execute_result",
          "data": {
            "text/plain": [
              "120"
            ]
          },
          "metadata": {},
          "execution_count": 6
        }
      ]
    },
    {
      "cell_type": "code",
      "source": [
        "# Questão 2\n",
        "\n",
        "def calculadora(x, y, op):\n",
        "  if op == '+':\n",
        "    print(f'{x} + {y} = {x+y}')\n",
        "  elif op == '-':\n",
        "    print(f'{x} - {y} = {x-y}')\n",
        "  elif op == '*':\n",
        "    print(f'{x} x {y} = {x*y}')\n",
        "  elif op == '/':\n",
        "    print(f'{x} / {y} = {(x/y):.2f}')\n",
        "  else:\n",
        "    print('Operação incorreta. Tente novamente.')\n",
        "calculadora(5, 3, \"/\")\n"
      ],
      "metadata": {
        "colab": {
          "base_uri": "https://localhost:8080/"
        },
        "id": "9UvuD8qu8JRn",
        "outputId": "b6088844-c963-4ce0-a087-5b5244271463"
      },
      "execution_count": null,
      "outputs": [
        {
          "output_type": "stream",
          "name": "stdout",
          "text": [
            "5 / 3 = 1.67\n"
          ]
        }
      ]
    },
    {
      "cell_type": "code",
      "source": [
        "# Questão 3\n",
        "\n",
        "def matrix(string):\n",
        "  string_1 = string.split(' ')\n",
        "  dimensao_1 = len(string_1)\n",
        "\n",
        "  NxN = int((len(string_1))**(1/2))\n",
        "\n",
        "  resultado = []\n",
        "  for i in range(0, len(string_1), NxN):\n",
        "    temporario = list(string_1[i:i+NxN])\n",
        "    resultado.append(temporario)\n",
        "  print(resultado)\n",
        "\n",
        "matrix('1 2 3 4 5 6')\n"
      ],
      "metadata": {
        "colab": {
          "base_uri": "https://localhost:8080/"
        },
        "id": "8yohfnRk9Y3D",
        "outputId": "54b6f425-6169-44e7-ec87-e14af85b8090"
      },
      "execution_count": null,
      "outputs": [
        {
          "output_type": "stream",
          "name": "stdout",
          "text": [
            "[['1', '2'], ['3', '4'], ['5', '6']]\n"
          ]
        }
      ]
    }
  ]
}